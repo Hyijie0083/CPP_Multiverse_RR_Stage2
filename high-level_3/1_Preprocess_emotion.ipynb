{
 "cells": [
  {
   "cell_type": "code",
   "execution_count": 7,
   "id": "a3567e5e",
   "metadata": {},
   "outputs": [],
   "source": [
    "import sys\n",
    "import os\n",
    "import re\n",
    "import numpy as np\n",
    "import pandas as pd\n",
    "\n",
    "import mne\n",
    "from mne_bids import write_raw_bids, BIDSPath\n"
   ]
  },
  {
   "cell_type": "code",
   "execution_count": 8,
   "id": "41a536ca",
   "metadata": {},
   "outputs": [],
   "source": [
    "# set different path to load and save data\n",
    "ds_root='/Volumes/hyijie_psy/CPP/data_high-level_3/speeded'\n",
    "tgt_dir='..'\n",
    "\n",
    "dir_preprocess_behavior=os.path.join(tgt_dir,'data','preprocessData','emotion','behavior')\n",
    "if not os.path.exists(dir_preprocess_behavior):\n",
    "    os.makedirs(dir_preprocess_behavior)\n",
    "\n",
    "dir_preprocess_eeg=os.path.join(tgt_dir,'data','preprocessData','emotion','eeg')\n",
    "if not os.path.exists(dir_preprocess_eeg):\n",
    "    os.makedirs(dir_preprocess_eeg)"
   ]
  },
  {
   "cell_type": "code",
   "execution_count": null,
   "id": "ae9ff425",
   "metadata": {},
   "outputs": [
    {
     "name": "stderr",
     "output_type": "stream",
     "text": [
      "/var/folders/xc/16fqwx1n1gbfb77yd1bdg8mh0000gn/T/ipykernel_13251/3761815757.py:9: RuntimeWarning:   Could not parse meas date from the header. Setting to None.\n",
      "  raw = mne.io.read_raw_cnt(os.path.join(ds_root, 'Rawdata', sub_eeg+'.cnt'))\n",
      "/var/folders/xc/16fqwx1n1gbfb77yd1bdg8mh0000gn/T/ipykernel_13251/3761815757.py:13: RuntimeWarning: The unit for channel(s) A1 has changed from V to NA.\n",
      "  raw.set_channel_types({'HEOG': 'eog',\n"
     ]
    },
    {
     "name": "stdout",
     "output_type": "stream",
     "text": [
      "Filtering raw data in 1 contiguous segment\n",
      "Setting up band-pass filter from 1 - 30 Hz\n",
      "\n",
      "FIR filter parameters\n",
      "---------------------\n",
      "Designing a one-pass, zero-phase, non-causal bandpass filter:\n",
      "- Windowed time-domain design (firwin) method\n",
      "- Hamming window with 0.0194 passband ripple and 53 dB stopband attenuation\n",
      "- Lower passband edge: 1.00\n",
      "- Lower transition bandwidth: 1.00 Hz (-6 dB cutoff frequency: 0.50 Hz)\n",
      "- Upper passband edge: 30.00 Hz\n",
      "- Upper transition bandwidth: 7.50 Hz (-6 dB cutoff frequency: 33.75 Hz)\n",
      "- Filter length: 1651 samples (3.302 s)\n",
      "\n",
      "EEG channel type selected for re-referencing\n",
      "Applying average reference.\n",
      "Applying a custom ('EEG',) reference.\n",
      "Fitting ICA to data using 30 channels (please be patient, this may take a while)\n"
     ]
    },
    {
     "name": "stderr",
     "output_type": "stream",
     "text": [
      "[Parallel(n_jobs=1)]: Done  17 tasks      | elapsed:    0.1s\n",
      "[Parallel(n_jobs=1)]: Done  30 out of  30 | elapsed:    0.2s finished\n"
     ]
    },
    {
     "name": "stdout",
     "output_type": "stream",
     "text": [
      "Selecting by number: 30 components\n",
      "Fitting ICA took 6.1s.\n",
      "Using EOG channels: HEOG, VEOG\n",
      "... filtering ICA sources\n",
      "Setting up band-pass filter from 1 - 10 Hz\n",
      "\n",
      "FIR filter parameters\n",
      "---------------------\n",
      "Designing a two-pass forward and reverse, zero-phase, non-causal bandpass filter:\n",
      "- Windowed frequency-domain design (firwin2) method\n",
      "- Hann window\n",
      "- Lower passband edge: 1.00\n",
      "- Lower transition bandwidth: 0.50 Hz (-12 dB cutoff frequency: 0.75 Hz)\n",
      "- Upper passband edge: 10.00 Hz\n",
      "- Upper transition bandwidth: 0.50 Hz (-12 dB cutoff frequency: 10.25 Hz)\n",
      "- Filter length: 5000 samples (10.000 s)\n",
      "\n"
     ]
    },
    {
     "name": "stderr",
     "output_type": "stream",
     "text": [
      "/Users/hyijie/Desktop/桌面文件夹/Lab/CPP_Multiverse_stage2/.venv/lib/python3.13/site-packages/scipy/linalg/_basic.py:1622: RuntimeWarning: divide by zero encountered in matmul\n",
      "  B = (u @ vh[:rank]).conj().T\n",
      "/Users/hyijie/Desktop/桌面文件夹/Lab/CPP_Multiverse_stage2/.venv/lib/python3.13/site-packages/scipy/linalg/_basic.py:1622: RuntimeWarning: overflow encountered in matmul\n",
      "  B = (u @ vh[:rank]).conj().T\n",
      "/Users/hyijie/Desktop/桌面文件夹/Lab/CPP_Multiverse_stage2/.venv/lib/python3.13/site-packages/scipy/linalg/_basic.py:1622: RuntimeWarning: invalid value encountered in matmul\n",
      "  B = (u @ vh[:rank]).conj().T\n",
      "/var/folders/xc/16fqwx1n1gbfb77yd1bdg8mh0000gn/T/ipykernel_13251/3761815757.py:24: RuntimeWarning: Using n_components=30 (resulting in n_components_=30) may lead to an unstable mixing matrix estimation because the ratio between the largest (12) and smallest (1.8e-29) variances is too large (> 1e6); consider setting n_components=0.999999 or an integer <= 26\n",
      "  ica.fit(raw)\n",
      "/Users/hyijie/Desktop/桌面文件夹/Lab/CPP_Multiverse_stage2/.venv/lib/python3.13/site-packages/mne/utils/linalg.py:243: RuntimeWarning: divide by zero encountered in matmul\n",
      "  return (u @ vh[:rank]).conj().T\n",
      "/Users/hyijie/Desktop/桌面文件夹/Lab/CPP_Multiverse_stage2/.venv/lib/python3.13/site-packages/mne/utils/linalg.py:243: RuntimeWarning: overflow encountered in matmul\n",
      "  return (u @ vh[:rank]).conj().T\n",
      "/Users/hyijie/Desktop/桌面文件夹/Lab/CPP_Multiverse_stage2/.venv/lib/python3.13/site-packages/mne/utils/linalg.py:243: RuntimeWarning: invalid value encountered in matmul\n",
      "  return (u @ vh[:rank]).conj().T\n"
     ]
    },
    {
     "name": "stdout",
     "output_type": "stream",
     "text": [
      "... filtering target\n",
      "Setting up band-pass filter from 1 - 10 Hz\n",
      "\n",
      "FIR filter parameters\n",
      "---------------------\n",
      "Designing a two-pass forward and reverse, zero-phase, non-causal bandpass filter:\n",
      "- Windowed frequency-domain design (firwin2) method\n",
      "- Hann window\n",
      "- Lower passband edge: 1.00\n",
      "- Lower transition bandwidth: 0.50 Hz (-12 dB cutoff frequency: 0.75 Hz)\n",
      "- Upper passband edge: 10.00 Hz\n",
      "- Upper transition bandwidth: 0.50 Hz (-12 dB cutoff frequency: 10.25 Hz)\n",
      "- Filter length: 5000 samples (10.000 s)\n",
      "\n"
     ]
    },
    {
     "name": "stderr",
     "output_type": "stream",
     "text": [
      "[Parallel(n_jobs=1)]: Done  17 tasks      | elapsed:    0.1s\n",
      "[Parallel(n_jobs=1)]: Done  30 out of  30 | elapsed:    0.2s finished\n",
      "[Parallel(n_jobs=1)]: Done   1 out of   1 | elapsed:    0.0s finished\n"
     ]
    },
    {
     "name": "stdout",
     "output_type": "stream",
     "text": [
      "... filtering ICA sources\n",
      "Setting up band-pass filter from 1 - 10 Hz\n",
      "\n",
      "FIR filter parameters\n",
      "---------------------\n",
      "Designing a two-pass forward and reverse, zero-phase, non-causal bandpass filter:\n",
      "- Windowed frequency-domain design (firwin2) method\n",
      "- Hann window\n",
      "- Lower passband edge: 1.00\n",
      "- Lower transition bandwidth: 0.50 Hz (-12 dB cutoff frequency: 0.75 Hz)\n",
      "- Upper passband edge: 10.00 Hz\n",
      "- Upper transition bandwidth: 0.50 Hz (-12 dB cutoff frequency: 10.25 Hz)\n",
      "- Filter length: 5000 samples (10.000 s)\n",
      "\n",
      "... filtering target\n",
      "Setting up band-pass filter from 1 - 10 Hz\n",
      "\n",
      "FIR filter parameters\n",
      "---------------------\n",
      "Designing a two-pass forward and reverse, zero-phase, non-causal bandpass filter:\n",
      "- Windowed frequency-domain design (firwin2) method\n",
      "- Hann window\n",
      "- Lower passband edge: 1.00\n",
      "- Lower transition bandwidth: 0.50 Hz (-12 dB cutoff frequency: 0.75 Hz)\n",
      "- Upper passband edge: 10.00 Hz\n",
      "- Upper transition bandwidth: 0.50 Hz (-12 dB cutoff frequency: 10.25 Hz)\n",
      "- Filter length: 5000 samples (10.000 s)\n",
      "\n"
     ]
    },
    {
     "name": "stderr",
     "output_type": "stream",
     "text": [
      "[Parallel(n_jobs=1)]: Done  17 tasks      | elapsed:    0.1s\n",
      "[Parallel(n_jobs=1)]: Done  30 out of  30 | elapsed:    0.2s finished\n",
      "[Parallel(n_jobs=1)]: Done   1 out of   1 | elapsed:    0.0s finished\n"
     ]
    },
    {
     "name": "stdout",
     "output_type": "stream",
     "text": [
      "Applying ICA to Raw instance\n",
      "    Transforming to ICA space (30 components)\n",
      "    Zeroing out 1 ICA component\n",
      "    Projecting back using 30 PCA components\n",
      "Used Annotations descriptions: [np.str_('101'), np.str_('102'), np.str_('11'), np.str_('111'), np.str_('112'), np.str_('12'), np.str_('121'), np.str_('122'), np.str_('123'), np.str_('13'), np.str_('14'), np.str_('15'), np.str_('16'), np.str_('17'), np.str_('21'), np.str_('22'), np.str_('23'), np.str_('24'), np.str_('25'), np.str_('26'), np.str_('27')]\n",
      "Writing '../data/preprocessData/emotion/eeg/participants.tsv'...\n",
      "Writing '../data/preprocessData/emotion/eeg/participants.json'...\n",
      "Writing '../data/preprocessData/emotion/eeg/sub-1/eeg/sub-1_space-CapTrak_electrodes.tsv'...\n",
      "Writing '../data/preprocessData/emotion/eeg/sub-1/eeg/sub-1_space-CapTrak_coordsystem.json'...\n",
      "Used Annotations descriptions: [np.str_('101'), np.str_('102'), np.str_('11'), np.str_('111'), np.str_('112'), np.str_('12'), np.str_('121'), np.str_('122'), np.str_('123'), np.str_('13'), np.str_('14'), np.str_('15'), np.str_('16'), np.str_('17'), np.str_('21'), np.str_('22'), np.str_('23'), np.str_('24'), np.str_('25'), np.str_('26'), np.str_('27')]\n",
      "Writing '../data/preprocessData/emotion/eeg/sub-1/eeg/sub-1_task-emotion_events.tsv'...\n",
      "Writing '../data/preprocessData/emotion/eeg/sub-1/eeg/sub-1_task-emotion_events.json'...\n",
      "Writing '../data/preprocessData/emotion/eeg/dataset_description.json'...\n",
      "Writing '../data/preprocessData/emotion/eeg/sub-1/eeg/sub-1_task-emotion_eeg.json'...\n",
      "Writing '../data/preprocessData/emotion/eeg/sub-1/eeg/sub-1_task-emotion_channels.tsv'...\n",
      "Copying data files to sub-1_task-emotion_eeg.vhdr\n"
     ]
    },
    {
     "name": "stderr",
     "output_type": "stream",
     "text": [
      "/Users/hyijie/Desktop/桌面文件夹/Lab/CPP_Multiverse_stage2/.venv/lib/python3.13/site-packages/mne/preprocessing/ica.py:2401: RuntimeWarning: divide by zero encountered in matmul\n",
      "  mixing = pca_components.T @ mixing\n",
      "/Users/hyijie/Desktop/桌面文件夹/Lab/CPP_Multiverse_stage2/.venv/lib/python3.13/site-packages/mne/preprocessing/ica.py:2401: RuntimeWarning: overflow encountered in matmul\n",
      "  mixing = pca_components.T @ mixing\n",
      "/Users/hyijie/Desktop/桌面文件夹/Lab/CPP_Multiverse_stage2/.venv/lib/python3.13/site-packages/mne/preprocessing/ica.py:2401: RuntimeWarning: invalid value encountered in matmul\n",
      "  mixing = pca_components.T @ mixing\n",
      "/var/folders/xc/16fqwx1n1gbfb77yd1bdg8mh0000gn/T/ipykernel_13251/3761815757.py:41: RuntimeWarning: Converting data files to BrainVision format\n",
      "  write_raw_bids(\n",
      "/var/folders/xc/16fqwx1n1gbfb77yd1bdg8mh0000gn/T/ipykernel_13251/3761815757.py:41: RuntimeWarning: Encountered data in \"int\" format. Converting to float32.\n",
      "  write_raw_bids(\n",
      "/Users/hyijie/Desktop/桌面文件夹/Lab/CPP_Multiverse_stage2/.venv/lib/python3.13/site-packages/pybv/io.py:682: UserWarning: Encountered unsupported non-voltage units: n/a\n",
      "Note that the BrainVision format specification supports only µV.\n",
      "  warn(msg)\n"
     ]
    },
    {
     "name": "stdout",
     "output_type": "stream",
     "text": [
      "Writing '../data/preprocessData/emotion/eeg/sub-1/sub-1_scans.tsv'...\n",
      "Wrote ../data/preprocessData/emotion/eeg/sub-1/sub-1_scans.tsv entry with eeg/sub-1_task-emotion_eeg.vhdr.\n",
      "Skipping subject Emotion_sub1: test4trial count (278) is less than behavior rows (280)\n"
     ]
    },
    {
     "name": "stderr",
     "output_type": "stream",
     "text": [
      "/var/folders/xc/16fqwx1n1gbfb77yd1bdg8mh0000gn/T/ipykernel_13251/3761815757.py:9: RuntimeWarning:   Could not parse meas date from the header. Setting to None.\n",
      "  raw = mne.io.read_raw_cnt(os.path.join(ds_root, 'Rawdata', sub_eeg+'.cnt'))\n",
      "/var/folders/xc/16fqwx1n1gbfb77yd1bdg8mh0000gn/T/ipykernel_13251/3761815757.py:13: RuntimeWarning: The unit for channel(s) A1 has changed from V to NA.\n",
      "  raw.set_channel_types({'HEOG': 'eog',\n"
     ]
    },
    {
     "name": "stdout",
     "output_type": "stream",
     "text": [
      "Filtering raw data in 1 contiguous segment\n",
      "Setting up band-pass filter from 1 - 30 Hz\n",
      "\n",
      "FIR filter parameters\n",
      "---------------------\n",
      "Designing a one-pass, zero-phase, non-causal bandpass filter:\n",
      "- Windowed time-domain design (firwin) method\n",
      "- Hamming window with 0.0194 passband ripple and 53 dB stopband attenuation\n",
      "- Lower passband edge: 1.00\n",
      "- Lower transition bandwidth: 1.00 Hz (-6 dB cutoff frequency: 0.50 Hz)\n",
      "- Upper passband edge: 30.00 Hz\n",
      "- Upper transition bandwidth: 7.50 Hz (-6 dB cutoff frequency: 33.75 Hz)\n",
      "- Filter length: 1651 samples (3.302 s)\n",
      "\n",
      "EEG channel type selected for re-referencing\n",
      "Applying average reference.\n",
      "Applying a custom ('EEG',) reference.\n",
      "Fitting ICA to data using 30 channels (please be patient, this may take a while)\n"
     ]
    },
    {
     "name": "stderr",
     "output_type": "stream",
     "text": [
      "[Parallel(n_jobs=1)]: Done  17 tasks      | elapsed:    0.2s\n",
      "[Parallel(n_jobs=1)]: Done  30 out of  30 | elapsed:    0.2s finished\n"
     ]
    },
    {
     "name": "stdout",
     "output_type": "stream",
     "text": [
      "Selecting by number: 30 components\n",
      "Fitting ICA took 4.9s.\n",
      "Using EOG channels: HEOG, VEOG\n",
      "... filtering ICA sources\n",
      "Setting up band-pass filter from 1 - 10 Hz\n",
      "\n",
      "FIR filter parameters\n",
      "---------------------\n",
      "Designing a two-pass forward and reverse, zero-phase, non-causal bandpass filter:\n",
      "- Windowed frequency-domain design (firwin2) method\n",
      "- Hann window\n",
      "- Lower passband edge: 1.00\n",
      "- Lower transition bandwidth: 0.50 Hz (-12 dB cutoff frequency: 0.75 Hz)\n",
      "- Upper passband edge: 10.00 Hz\n",
      "- Upper transition bandwidth: 0.50 Hz (-12 dB cutoff frequency: 10.25 Hz)\n",
      "- Filter length: 5000 samples (10.000 s)\n",
      "\n"
     ]
    },
    {
     "name": "stderr",
     "output_type": "stream",
     "text": [
      "/Users/hyijie/Desktop/桌面文件夹/Lab/CPP_Multiverse_stage2/.venv/lib/python3.13/site-packages/scipy/linalg/_basic.py:1622: RuntimeWarning: divide by zero encountered in matmul\n",
      "  B = (u @ vh[:rank]).conj().T\n",
      "/Users/hyijie/Desktop/桌面文件夹/Lab/CPP_Multiverse_stage2/.venv/lib/python3.13/site-packages/scipy/linalg/_basic.py:1622: RuntimeWarning: overflow encountered in matmul\n",
      "  B = (u @ vh[:rank]).conj().T\n",
      "/Users/hyijie/Desktop/桌面文件夹/Lab/CPP_Multiverse_stage2/.venv/lib/python3.13/site-packages/scipy/linalg/_basic.py:1622: RuntimeWarning: invalid value encountered in matmul\n",
      "  B = (u @ vh[:rank]).conj().T\n",
      "/var/folders/xc/16fqwx1n1gbfb77yd1bdg8mh0000gn/T/ipykernel_13251/3761815757.py:24: RuntimeWarning: Using n_components=30 (resulting in n_components_=30) may lead to an unstable mixing matrix estimation because the ratio between the largest (20) and smallest (1.8e-30) variances is too large (> 1e6); consider setting n_components=0.999999 or an integer <= 22\n",
      "  ica.fit(raw)\n",
      "/Users/hyijie/Desktop/桌面文件夹/Lab/CPP_Multiverse_stage2/.venv/lib/python3.13/site-packages/mne/utils/linalg.py:243: RuntimeWarning: divide by zero encountered in matmul\n",
      "  return (u @ vh[:rank]).conj().T\n",
      "/Users/hyijie/Desktop/桌面文件夹/Lab/CPP_Multiverse_stage2/.venv/lib/python3.13/site-packages/mne/utils/linalg.py:243: RuntimeWarning: overflow encountered in matmul\n",
      "  return (u @ vh[:rank]).conj().T\n",
      "/Users/hyijie/Desktop/桌面文件夹/Lab/CPP_Multiverse_stage2/.venv/lib/python3.13/site-packages/mne/utils/linalg.py:243: RuntimeWarning: invalid value encountered in matmul\n",
      "  return (u @ vh[:rank]).conj().T\n"
     ]
    },
    {
     "name": "stdout",
     "output_type": "stream",
     "text": [
      "... filtering target\n",
      "Setting up band-pass filter from 1 - 10 Hz\n",
      "\n",
      "FIR filter parameters\n",
      "---------------------\n",
      "Designing a two-pass forward and reverse, zero-phase, non-causal bandpass filter:\n",
      "- Windowed frequency-domain design (firwin2) method\n",
      "- Hann window\n",
      "- Lower passband edge: 1.00\n",
      "- Lower transition bandwidth: 0.50 Hz (-12 dB cutoff frequency: 0.75 Hz)\n",
      "- Upper passband edge: 10.00 Hz\n",
      "- Upper transition bandwidth: 0.50 Hz (-12 dB cutoff frequency: 10.25 Hz)\n",
      "- Filter length: 5000 samples (10.000 s)\n",
      "\n"
     ]
    },
    {
     "name": "stderr",
     "output_type": "stream",
     "text": [
      "[Parallel(n_jobs=1)]: Done  17 tasks      | elapsed:    0.1s\n",
      "[Parallel(n_jobs=1)]: Done  30 out of  30 | elapsed:    0.2s finished\n",
      "[Parallel(n_jobs=1)]: Done   1 out of   1 | elapsed:    0.0s finished\n"
     ]
    },
    {
     "name": "stdout",
     "output_type": "stream",
     "text": [
      "... filtering ICA sources\n",
      "Setting up band-pass filter from 1 - 10 Hz\n",
      "\n",
      "FIR filter parameters\n",
      "---------------------\n",
      "Designing a two-pass forward and reverse, zero-phase, non-causal bandpass filter:\n",
      "- Windowed frequency-domain design (firwin2) method\n",
      "- Hann window\n",
      "- Lower passband edge: 1.00\n",
      "- Lower transition bandwidth: 0.50 Hz (-12 dB cutoff frequency: 0.75 Hz)\n",
      "- Upper passband edge: 10.00 Hz\n",
      "- Upper transition bandwidth: 0.50 Hz (-12 dB cutoff frequency: 10.25 Hz)\n",
      "- Filter length: 5000 samples (10.000 s)\n",
      "\n",
      "... filtering target\n",
      "Setting up band-pass filter from 1 - 10 Hz\n",
      "\n",
      "FIR filter parameters\n",
      "---------------------\n",
      "Designing a two-pass forward and reverse, zero-phase, non-causal bandpass filter:\n",
      "- Windowed frequency-domain design (firwin2) method\n",
      "- Hann window\n",
      "- Lower passband edge: 1.00\n",
      "- Lower transition bandwidth: 0.50 Hz (-12 dB cutoff frequency: 0.75 Hz)\n",
      "- Upper passband edge: 10.00 Hz\n",
      "- Upper transition bandwidth: 0.50 Hz (-12 dB cutoff frequency: 10.25 Hz)\n",
      "- Filter length: 5000 samples (10.000 s)\n",
      "\n"
     ]
    },
    {
     "name": "stderr",
     "output_type": "stream",
     "text": [
      "[Parallel(n_jobs=1)]: Done  17 tasks      | elapsed:    0.1s\n",
      "[Parallel(n_jobs=1)]: Done  30 out of  30 | elapsed:    0.2s finished\n",
      "[Parallel(n_jobs=1)]: Done   1 out of   1 | elapsed:    0.0s finished\n"
     ]
    },
    {
     "name": "stdout",
     "output_type": "stream",
     "text": [
      "Applying ICA to Raw instance\n",
      "    Transforming to ICA space (30 components)\n",
      "    Zeroing out 5 ICA components\n",
      "    Projecting back using 30 PCA components\n",
      "Used Annotations descriptions: [np.str_('101'), np.str_('102'), np.str_('103'), np.str_('11'), np.str_('111'), np.str_('112'), np.str_('12'), np.str_('121'), np.str_('122'), np.str_('123'), np.str_('124'), np.str_('13'), np.str_('14'), np.str_('15'), np.str_('16'), np.str_('17'), np.str_('21'), np.str_('22'), np.str_('23'), np.str_('24'), np.str_('25'), np.str_('26'), np.str_('27')]\n",
      "Writing '../data/preprocessData/emotion/eeg/participants.tsv'...\n",
      "Writing '../data/preprocessData/emotion/eeg/participants.json'...\n",
      "Writing '../data/preprocessData/emotion/eeg/sub-2/eeg/sub-2_space-CapTrak_electrodes.tsv'...\n",
      "Writing '../data/preprocessData/emotion/eeg/sub-2/eeg/sub-2_space-CapTrak_coordsystem.json'...\n",
      "Used Annotations descriptions: [np.str_('101'), np.str_('102'), np.str_('103'), np.str_('11'), np.str_('111'), np.str_('112'), np.str_('12'), np.str_('121'), np.str_('122'), np.str_('123'), np.str_('124'), np.str_('13'), np.str_('14'), np.str_('15'), np.str_('16'), np.str_('17'), np.str_('21'), np.str_('22'), np.str_('23'), np.str_('24'), np.str_('25'), np.str_('26'), np.str_('27')]\n",
      "Writing '../data/preprocessData/emotion/eeg/sub-2/eeg/sub-2_task-emotion_events.tsv'...\n",
      "Writing '../data/preprocessData/emotion/eeg/sub-2/eeg/sub-2_task-emotion_events.json'...\n",
      "Writing '../data/preprocessData/emotion/eeg/dataset_description.json'...\n",
      "Writing '../data/preprocessData/emotion/eeg/sub-2/eeg/sub-2_task-emotion_eeg.json'...\n",
      "Writing '../data/preprocessData/emotion/eeg/sub-2/eeg/sub-2_task-emotion_channels.tsv'...\n",
      "Copying data files to sub-2_task-emotion_eeg.vhdr\n"
     ]
    },
    {
     "name": "stderr",
     "output_type": "stream",
     "text": [
      "/Users/hyijie/Desktop/桌面文件夹/Lab/CPP_Multiverse_stage2/.venv/lib/python3.13/site-packages/mne/preprocessing/ica.py:2401: RuntimeWarning: divide by zero encountered in matmul\n",
      "  mixing = pca_components.T @ mixing\n",
      "/Users/hyijie/Desktop/桌面文件夹/Lab/CPP_Multiverse_stage2/.venv/lib/python3.13/site-packages/mne/preprocessing/ica.py:2401: RuntimeWarning: overflow encountered in matmul\n",
      "  mixing = pca_components.T @ mixing\n",
      "/Users/hyijie/Desktop/桌面文件夹/Lab/CPP_Multiverse_stage2/.venv/lib/python3.13/site-packages/mne/preprocessing/ica.py:2401: RuntimeWarning: invalid value encountered in matmul\n",
      "  mixing = pca_components.T @ mixing\n",
      "/var/folders/xc/16fqwx1n1gbfb77yd1bdg8mh0000gn/T/ipykernel_13251/3761815757.py:41: RuntimeWarning: Converting data files to BrainVision format\n",
      "  write_raw_bids(\n",
      "/var/folders/xc/16fqwx1n1gbfb77yd1bdg8mh0000gn/T/ipykernel_13251/3761815757.py:41: RuntimeWarning: Encountered data in \"int\" format. Converting to float32.\n",
      "  write_raw_bids(\n",
      "/Users/hyijie/Desktop/桌面文件夹/Lab/CPP_Multiverse_stage2/.venv/lib/python3.13/site-packages/pybv/io.py:682: UserWarning: Encountered unsupported non-voltage units: n/a\n",
      "Note that the BrainVision format specification supports only µV.\n",
      "  warn(msg)\n"
     ]
    },
    {
     "name": "stdout",
     "output_type": "stream",
     "text": [
      "Writing '../data/preprocessData/emotion/eeg/sub-2/sub-2_scans.tsv'...\n",
      "Wrote ../data/preprocessData/emotion/eeg/sub-2/sub-2_scans.tsv entry with eeg/sub-2_task-emotion_eeg.vhdr.\n"
     ]
    },
    {
     "name": "stderr",
     "output_type": "stream",
     "text": [
      "/var/folders/xc/16fqwx1n1gbfb77yd1bdg8mh0000gn/T/ipykernel_13251/3761815757.py:9: RuntimeWarning:   Could not parse meas date from the header. Setting to None.\n",
      "  raw = mne.io.read_raw_cnt(os.path.join(ds_root, 'Rawdata', sub_eeg+'.cnt'))\n",
      "/var/folders/xc/16fqwx1n1gbfb77yd1bdg8mh0000gn/T/ipykernel_13251/3761815757.py:13: RuntimeWarning: The unit for channel(s) A1 has changed from V to NA.\n",
      "  raw.set_channel_types({'HEOG': 'eog',\n"
     ]
    },
    {
     "name": "stdout",
     "output_type": "stream",
     "text": [
      "Filtering raw data in 1 contiguous segment\n",
      "Setting up band-pass filter from 1 - 30 Hz\n",
      "\n",
      "FIR filter parameters\n",
      "---------------------\n",
      "Designing a one-pass, zero-phase, non-causal bandpass filter:\n",
      "- Windowed time-domain design (firwin) method\n",
      "- Hamming window with 0.0194 passband ripple and 53 dB stopband attenuation\n",
      "- Lower passband edge: 1.00\n",
      "- Lower transition bandwidth: 1.00 Hz (-6 dB cutoff frequency: 0.50 Hz)\n",
      "- Upper passband edge: 30.00 Hz\n",
      "- Upper transition bandwidth: 7.50 Hz (-6 dB cutoff frequency: 33.75 Hz)\n",
      "- Filter length: 1651 samples (3.302 s)\n",
      "\n",
      "EEG channel type selected for re-referencing\n",
      "Applying average reference.\n",
      "Applying a custom ('EEG',) reference.\n",
      "Fitting ICA to data using 30 channels (please be patient, this may take a while)\n"
     ]
    },
    {
     "name": "stderr",
     "output_type": "stream",
     "text": [
      "[Parallel(n_jobs=1)]: Done  17 tasks      | elapsed:    0.1s\n",
      "[Parallel(n_jobs=1)]: Done  30 out of  30 | elapsed:    0.2s finished\n"
     ]
    },
    {
     "name": "stdout",
     "output_type": "stream",
     "text": [
      "Selecting by number: 30 components\n",
      "Fitting ICA took 3.6s.\n",
      "Using EOG channels: HEOG, VEOG\n",
      "... filtering ICA sources\n",
      "Setting up band-pass filter from 1 - 10 Hz\n",
      "\n",
      "FIR filter parameters\n",
      "---------------------\n",
      "Designing a two-pass forward and reverse, zero-phase, non-causal bandpass filter:\n",
      "- Windowed frequency-domain design (firwin2) method\n",
      "- Hann window\n",
      "- Lower passband edge: 1.00\n",
      "- Lower transition bandwidth: 0.50 Hz (-12 dB cutoff frequency: 0.75 Hz)\n",
      "- Upper passband edge: 10.00 Hz\n",
      "- Upper transition bandwidth: 0.50 Hz (-12 dB cutoff frequency: 10.25 Hz)\n",
      "- Filter length: 5000 samples (10.000 s)\n",
      "\n"
     ]
    },
    {
     "name": "stderr",
     "output_type": "stream",
     "text": [
      "/Users/hyijie/Desktop/桌面文件夹/Lab/CPP_Multiverse_stage2/.venv/lib/python3.13/site-packages/scipy/linalg/_basic.py:1622: RuntimeWarning: divide by zero encountered in matmul\n",
      "  B = (u @ vh[:rank]).conj().T\n",
      "/Users/hyijie/Desktop/桌面文件夹/Lab/CPP_Multiverse_stage2/.venv/lib/python3.13/site-packages/scipy/linalg/_basic.py:1622: RuntimeWarning: overflow encountered in matmul\n",
      "  B = (u @ vh[:rank]).conj().T\n",
      "/Users/hyijie/Desktop/桌面文件夹/Lab/CPP_Multiverse_stage2/.venv/lib/python3.13/site-packages/scipy/linalg/_basic.py:1622: RuntimeWarning: invalid value encountered in matmul\n",
      "  B = (u @ vh[:rank]).conj().T\n",
      "/var/folders/xc/16fqwx1n1gbfb77yd1bdg8mh0000gn/T/ipykernel_13251/3761815757.py:24: RuntimeWarning: Using n_components=30 (resulting in n_components_=30) may lead to an unstable mixing matrix estimation because the ratio between the largest (20) and smallest (2e-29) variances is too large (> 1e6); consider setting n_components=0.999999 or an integer <= 29\n",
      "  ica.fit(raw)\n",
      "/Users/hyijie/Desktop/桌面文件夹/Lab/CPP_Multiverse_stage2/.venv/lib/python3.13/site-packages/mne/utils/linalg.py:243: RuntimeWarning: divide by zero encountered in matmul\n",
      "  return (u @ vh[:rank]).conj().T\n",
      "/Users/hyijie/Desktop/桌面文件夹/Lab/CPP_Multiverse_stage2/.venv/lib/python3.13/site-packages/mne/utils/linalg.py:243: RuntimeWarning: overflow encountered in matmul\n",
      "  return (u @ vh[:rank]).conj().T\n",
      "/Users/hyijie/Desktop/桌面文件夹/Lab/CPP_Multiverse_stage2/.venv/lib/python3.13/site-packages/mne/utils/linalg.py:243: RuntimeWarning: invalid value encountered in matmul\n",
      "  return (u @ vh[:rank]).conj().T\n"
     ]
    },
    {
     "name": "stdout",
     "output_type": "stream",
     "text": [
      "... filtering target\n",
      "Setting up band-pass filter from 1 - 10 Hz\n",
      "\n",
      "FIR filter parameters\n",
      "---------------------\n",
      "Designing a two-pass forward and reverse, zero-phase, non-causal bandpass filter:\n",
      "- Windowed frequency-domain design (firwin2) method\n",
      "- Hann window\n",
      "- Lower passband edge: 1.00\n",
      "- Lower transition bandwidth: 0.50 Hz (-12 dB cutoff frequency: 0.75 Hz)\n",
      "- Upper passband edge: 10.00 Hz\n",
      "- Upper transition bandwidth: 0.50 Hz (-12 dB cutoff frequency: 10.25 Hz)\n",
      "- Filter length: 5000 samples (10.000 s)\n",
      "\n"
     ]
    },
    {
     "name": "stderr",
     "output_type": "stream",
     "text": [
      "[Parallel(n_jobs=1)]: Done  17 tasks      | elapsed:    0.2s\n",
      "[Parallel(n_jobs=1)]: Done  30 out of  30 | elapsed:    0.3s finished\n",
      "[Parallel(n_jobs=1)]: Done   1 out of   1 | elapsed:    0.0s finished\n"
     ]
    },
    {
     "name": "stdout",
     "output_type": "stream",
     "text": [
      "... filtering ICA sources\n",
      "Setting up band-pass filter from 1 - 10 Hz\n",
      "\n",
      "FIR filter parameters\n",
      "---------------------\n",
      "Designing a two-pass forward and reverse, zero-phase, non-causal bandpass filter:\n",
      "- Windowed frequency-domain design (firwin2) method\n",
      "- Hann window\n",
      "- Lower passband edge: 1.00\n",
      "- Lower transition bandwidth: 0.50 Hz (-12 dB cutoff frequency: 0.75 Hz)\n",
      "- Upper passband edge: 10.00 Hz\n",
      "- Upper transition bandwidth: 0.50 Hz (-12 dB cutoff frequency: 10.25 Hz)\n",
      "- Filter length: 5000 samples (10.000 s)\n",
      "\n",
      "... filtering target\n",
      "Setting up band-pass filter from 1 - 10 Hz\n",
      "\n",
      "FIR filter parameters\n",
      "---------------------\n",
      "Designing a two-pass forward and reverse, zero-phase, non-causal bandpass filter:\n",
      "- Windowed frequency-domain design (firwin2) method\n",
      "- Hann window\n",
      "- Lower passband edge: 1.00\n",
      "- Lower transition bandwidth: 0.50 Hz (-12 dB cutoff frequency: 0.75 Hz)\n",
      "- Upper passband edge: 10.00 Hz\n",
      "- Upper transition bandwidth: 0.50 Hz (-12 dB cutoff frequency: 10.25 Hz)\n",
      "- Filter length: 5000 samples (10.000 s)\n",
      "\n"
     ]
    },
    {
     "name": "stderr",
     "output_type": "stream",
     "text": [
      "[Parallel(n_jobs=1)]: Done  17 tasks      | elapsed:    0.1s\n",
      "[Parallel(n_jobs=1)]: Done  30 out of  30 | elapsed:    0.2s finished\n",
      "[Parallel(n_jobs=1)]: Done   1 out of   1 | elapsed:    0.0s finished\n"
     ]
    },
    {
     "name": "stdout",
     "output_type": "stream",
     "text": [
      "Applying ICA to Raw instance\n",
      "    Transforming to ICA space (30 components)\n",
      "    Zeroing out 4 ICA components\n",
      "    Projecting back using 30 PCA components\n",
      "Used Annotations descriptions: [np.str_('101'), np.str_('102'), np.str_('103'), np.str_('11'), np.str_('111'), np.str_('112'), np.str_('12'), np.str_('121'), np.str_('122'), np.str_('123'), np.str_('124'), np.str_('13'), np.str_('14'), np.str_('15'), np.str_('16'), np.str_('17'), np.str_('21'), np.str_('22'), np.str_('23'), np.str_('24'), np.str_('25'), np.str_('26'), np.str_('27')]\n",
      "Writing '../data/preprocessData/emotion/eeg/participants.tsv'...\n",
      "Writing '../data/preprocessData/emotion/eeg/participants.json'...\n",
      "Writing '../data/preprocessData/emotion/eeg/sub-3/eeg/sub-3_space-CapTrak_electrodes.tsv'...\n",
      "Writing '../data/preprocessData/emotion/eeg/sub-3/eeg/sub-3_space-CapTrak_coordsystem.json'...\n",
      "Used Annotations descriptions: [np.str_('101'), np.str_('102'), np.str_('103'), np.str_('11'), np.str_('111'), np.str_('112'), np.str_('12'), np.str_('121'), np.str_('122'), np.str_('123'), np.str_('124'), np.str_('13'), np.str_('14'), np.str_('15'), np.str_('16'), np.str_('17'), np.str_('21'), np.str_('22'), np.str_('23'), np.str_('24'), np.str_('25'), np.str_('26'), np.str_('27')]\n",
      "Writing '../data/preprocessData/emotion/eeg/sub-3/eeg/sub-3_task-emotion_events.tsv'...\n",
      "Writing '../data/preprocessData/emotion/eeg/sub-3/eeg/sub-3_task-emotion_events.json'...\n",
      "Writing '../data/preprocessData/emotion/eeg/dataset_description.json'...\n",
      "Writing '../data/preprocessData/emotion/eeg/sub-3/eeg/sub-3_task-emotion_eeg.json'...\n",
      "Writing '../data/preprocessData/emotion/eeg/sub-3/eeg/sub-3_task-emotion_channels.tsv'...\n",
      "Copying data files to sub-3_task-emotion_eeg.vhdr\n"
     ]
    },
    {
     "name": "stderr",
     "output_type": "stream",
     "text": [
      "/Users/hyijie/Desktop/桌面文件夹/Lab/CPP_Multiverse_stage2/.venv/lib/python3.13/site-packages/mne/preprocessing/ica.py:2401: RuntimeWarning: divide by zero encountered in matmul\n",
      "  mixing = pca_components.T @ mixing\n",
      "/Users/hyijie/Desktop/桌面文件夹/Lab/CPP_Multiverse_stage2/.venv/lib/python3.13/site-packages/mne/preprocessing/ica.py:2401: RuntimeWarning: overflow encountered in matmul\n",
      "  mixing = pca_components.T @ mixing\n",
      "/Users/hyijie/Desktop/桌面文件夹/Lab/CPP_Multiverse_stage2/.venv/lib/python3.13/site-packages/mne/preprocessing/ica.py:2401: RuntimeWarning: invalid value encountered in matmul\n",
      "  mixing = pca_components.T @ mixing\n",
      "/var/folders/xc/16fqwx1n1gbfb77yd1bdg8mh0000gn/T/ipykernel_13251/3761815757.py:41: RuntimeWarning: Converting data files to BrainVision format\n",
      "  write_raw_bids(\n",
      "/var/folders/xc/16fqwx1n1gbfb77yd1bdg8mh0000gn/T/ipykernel_13251/3761815757.py:41: RuntimeWarning: Encountered data in \"int\" format. Converting to float32.\n",
      "  write_raw_bids(\n",
      "/Users/hyijie/Desktop/桌面文件夹/Lab/CPP_Multiverse_stage2/.venv/lib/python3.13/site-packages/pybv/io.py:682: UserWarning: Encountered unsupported non-voltage units: n/a\n",
      "Note that the BrainVision format specification supports only µV.\n",
      "  warn(msg)\n"
     ]
    },
    {
     "name": "stdout",
     "output_type": "stream",
     "text": [
      "Writing '../data/preprocessData/emotion/eeg/sub-3/sub-3_scans.tsv'...\n",
      "Wrote ../data/preprocessData/emotion/eeg/sub-3/sub-3_scans.tsv entry with eeg/sub-3_task-emotion_eeg.vhdr.\n"
     ]
    },
    {
     "name": "stderr",
     "output_type": "stream",
     "text": [
      "/var/folders/xc/16fqwx1n1gbfb77yd1bdg8mh0000gn/T/ipykernel_13251/3761815757.py:9: RuntimeWarning:   Could not parse meas date from the header. Setting to None.\n",
      "  raw = mne.io.read_raw_cnt(os.path.join(ds_root, 'Rawdata', sub_eeg+'.cnt'))\n",
      "/var/folders/xc/16fqwx1n1gbfb77yd1bdg8mh0000gn/T/ipykernel_13251/3761815757.py:13: RuntimeWarning: The unit for channel(s) A1 has changed from V to NA.\n",
      "  raw.set_channel_types({'HEOG': 'eog',\n"
     ]
    },
    {
     "name": "stdout",
     "output_type": "stream",
     "text": [
      "Filtering raw data in 1 contiguous segment\n",
      "Setting up band-pass filter from 1 - 30 Hz\n",
      "\n",
      "FIR filter parameters\n",
      "---------------------\n",
      "Designing a one-pass, zero-phase, non-causal bandpass filter:\n",
      "- Windowed time-domain design (firwin) method\n",
      "- Hamming window with 0.0194 passband ripple and 53 dB stopband attenuation\n",
      "- Lower passband edge: 1.00\n",
      "- Lower transition bandwidth: 1.00 Hz (-6 dB cutoff frequency: 0.50 Hz)\n",
      "- Upper passband edge: 30.00 Hz\n",
      "- Upper transition bandwidth: 7.50 Hz (-6 dB cutoff frequency: 33.75 Hz)\n",
      "- Filter length: 1651 samples (3.302 s)\n",
      "\n",
      "EEG channel type selected for re-referencing\n",
      "Applying average reference.\n",
      "Applying a custom ('EEG',) reference.\n",
      "Fitting ICA to data using 30 channels (please be patient, this may take a while)\n"
     ]
    },
    {
     "name": "stderr",
     "output_type": "stream",
     "text": [
      "[Parallel(n_jobs=1)]: Done  17 tasks      | elapsed:    0.1s\n",
      "[Parallel(n_jobs=1)]: Done  30 out of  30 | elapsed:    0.2s finished\n"
     ]
    },
    {
     "name": "stdout",
     "output_type": "stream",
     "text": [
      "Selecting by number: 30 components\n",
      "Fitting ICA took 8.9s.\n",
      "Using EOG channels: HEOG, VEOG\n",
      "... filtering ICA sources\n",
      "Setting up band-pass filter from 1 - 10 Hz\n",
      "\n",
      "FIR filter parameters\n",
      "---------------------\n",
      "Designing a two-pass forward and reverse, zero-phase, non-causal bandpass filter:\n",
      "- Windowed frequency-domain design (firwin2) method\n",
      "- Hann window\n",
      "- Lower passband edge: 1.00\n",
      "- Lower transition bandwidth: 0.50 Hz (-12 dB cutoff frequency: 0.75 Hz)\n",
      "- Upper passband edge: 10.00 Hz\n",
      "- Upper transition bandwidth: 0.50 Hz (-12 dB cutoff frequency: 10.25 Hz)\n",
      "- Filter length: 5000 samples (10.000 s)\n",
      "\n"
     ]
    },
    {
     "name": "stderr",
     "output_type": "stream",
     "text": [
      "/Users/hyijie/Desktop/桌面文件夹/Lab/CPP_Multiverse_stage2/.venv/lib/python3.13/site-packages/scipy/linalg/_basic.py:1622: RuntimeWarning: divide by zero encountered in matmul\n",
      "  B = (u @ vh[:rank]).conj().T\n",
      "/Users/hyijie/Desktop/桌面文件夹/Lab/CPP_Multiverse_stage2/.venv/lib/python3.13/site-packages/scipy/linalg/_basic.py:1622: RuntimeWarning: overflow encountered in matmul\n",
      "  B = (u @ vh[:rank]).conj().T\n",
      "/Users/hyijie/Desktop/桌面文件夹/Lab/CPP_Multiverse_stage2/.venv/lib/python3.13/site-packages/scipy/linalg/_basic.py:1622: RuntimeWarning: invalid value encountered in matmul\n",
      "  B = (u @ vh[:rank]).conj().T\n",
      "/var/folders/xc/16fqwx1n1gbfb77yd1bdg8mh0000gn/T/ipykernel_13251/3761815757.py:24: RuntimeWarning: Using n_components=30 (resulting in n_components_=30) may lead to an unstable mixing matrix estimation because the ratio between the largest (19) and smallest (5.4e-30) variances is too large (> 1e6); consider setting n_components=0.999999 or an integer <= 29\n",
      "  ica.fit(raw)\n",
      "/Users/hyijie/Desktop/桌面文件夹/Lab/CPP_Multiverse_stage2/.venv/lib/python3.13/site-packages/mne/utils/linalg.py:243: RuntimeWarning: divide by zero encountered in matmul\n",
      "  return (u @ vh[:rank]).conj().T\n",
      "/Users/hyijie/Desktop/桌面文件夹/Lab/CPP_Multiverse_stage2/.venv/lib/python3.13/site-packages/mne/utils/linalg.py:243: RuntimeWarning: overflow encountered in matmul\n",
      "  return (u @ vh[:rank]).conj().T\n",
      "/Users/hyijie/Desktop/桌面文件夹/Lab/CPP_Multiverse_stage2/.venv/lib/python3.13/site-packages/mne/utils/linalg.py:243: RuntimeWarning: invalid value encountered in matmul\n",
      "  return (u @ vh[:rank]).conj().T\n"
     ]
    },
    {
     "name": "stdout",
     "output_type": "stream",
     "text": [
      "... filtering target\n",
      "Setting up band-pass filter from 1 - 10 Hz\n",
      "\n",
      "FIR filter parameters\n",
      "---------------------\n",
      "Designing a two-pass forward and reverse, zero-phase, non-causal bandpass filter:\n",
      "- Windowed frequency-domain design (firwin2) method\n",
      "- Hann window\n",
      "- Lower passband edge: 1.00\n",
      "- Lower transition bandwidth: 0.50 Hz (-12 dB cutoff frequency: 0.75 Hz)\n",
      "- Upper passband edge: 10.00 Hz\n",
      "- Upper transition bandwidth: 0.50 Hz (-12 dB cutoff frequency: 10.25 Hz)\n",
      "- Filter length: 5000 samples (10.000 s)\n",
      "\n"
     ]
    },
    {
     "name": "stderr",
     "output_type": "stream",
     "text": [
      "[Parallel(n_jobs=1)]: Done  17 tasks      | elapsed:    0.1s\n",
      "[Parallel(n_jobs=1)]: Done  30 out of  30 | elapsed:    0.2s finished\n",
      "[Parallel(n_jobs=1)]: Done   1 out of   1 | elapsed:    0.0s finished\n"
     ]
    },
    {
     "name": "stdout",
     "output_type": "stream",
     "text": [
      "... filtering ICA sources\n",
      "Setting up band-pass filter from 1 - 10 Hz\n",
      "\n",
      "FIR filter parameters\n",
      "---------------------\n",
      "Designing a two-pass forward and reverse, zero-phase, non-causal bandpass filter:\n",
      "- Windowed frequency-domain design (firwin2) method\n",
      "- Hann window\n",
      "- Lower passband edge: 1.00\n",
      "- Lower transition bandwidth: 0.50 Hz (-12 dB cutoff frequency: 0.75 Hz)\n",
      "- Upper passband edge: 10.00 Hz\n",
      "- Upper transition bandwidth: 0.50 Hz (-12 dB cutoff frequency: 10.25 Hz)\n",
      "- Filter length: 5000 samples (10.000 s)\n",
      "\n",
      "... filtering target\n",
      "Setting up band-pass filter from 1 - 10 Hz\n",
      "\n",
      "FIR filter parameters\n",
      "---------------------\n",
      "Designing a two-pass forward and reverse, zero-phase, non-causal bandpass filter:\n",
      "- Windowed frequency-domain design (firwin2) method\n",
      "- Hann window\n",
      "- Lower passband edge: 1.00\n",
      "- Lower transition bandwidth: 0.50 Hz (-12 dB cutoff frequency: 0.75 Hz)\n",
      "- Upper passband edge: 10.00 Hz\n",
      "- Upper transition bandwidth: 0.50 Hz (-12 dB cutoff frequency: 10.25 Hz)\n",
      "- Filter length: 5000 samples (10.000 s)\n",
      "\n"
     ]
    },
    {
     "name": "stderr",
     "output_type": "stream",
     "text": [
      "[Parallel(n_jobs=1)]: Done  17 tasks      | elapsed:    0.2s\n",
      "[Parallel(n_jobs=1)]: Done  30 out of  30 | elapsed:    0.3s finished\n",
      "[Parallel(n_jobs=1)]: Done   1 out of   1 | elapsed:    0.0s finished\n"
     ]
    },
    {
     "name": "stdout",
     "output_type": "stream",
     "text": [
      "Applying ICA to Raw instance\n",
      "    Transforming to ICA space (30 components)\n",
      "    Zeroing out 3 ICA components\n",
      "    Projecting back using 30 PCA components\n",
      "Used Annotations descriptions: [np.str_('101'), np.str_('102'), np.str_('103'), np.str_('11'), np.str_('111'), np.str_('112'), np.str_('12'), np.str_('121'), np.str_('122'), np.str_('123'), np.str_('13'), np.str_('14'), np.str_('15'), np.str_('16'), np.str_('17'), np.str_('21'), np.str_('22'), np.str_('23'), np.str_('24'), np.str_('25'), np.str_('26'), np.str_('27')]\n",
      "Writing '../data/preprocessData/emotion/eeg/participants.tsv'...\n",
      "Writing '../data/preprocessData/emotion/eeg/participants.json'...\n",
      "Writing '../data/preprocessData/emotion/eeg/sub-4/eeg/sub-4_space-CapTrak_electrodes.tsv'...\n",
      "Writing '../data/preprocessData/emotion/eeg/sub-4/eeg/sub-4_space-CapTrak_coordsystem.json'...\n",
      "Used Annotations descriptions: [np.str_('101'), np.str_('102'), np.str_('103'), np.str_('11'), np.str_('111'), np.str_('112'), np.str_('12'), np.str_('121'), np.str_('122'), np.str_('123'), np.str_('13'), np.str_('14'), np.str_('15'), np.str_('16'), np.str_('17'), np.str_('21'), np.str_('22'), np.str_('23'), np.str_('24'), np.str_('25'), np.str_('26'), np.str_('27')]\n",
      "Writing '../data/preprocessData/emotion/eeg/sub-4/eeg/sub-4_task-emotion_events.tsv'...\n",
      "Writing '../data/preprocessData/emotion/eeg/sub-4/eeg/sub-4_task-emotion_events.json'...\n",
      "Writing '../data/preprocessData/emotion/eeg/dataset_description.json'...\n",
      "Writing '../data/preprocessData/emotion/eeg/sub-4/eeg/sub-4_task-emotion_eeg.json'...\n",
      "Writing '../data/preprocessData/emotion/eeg/sub-4/eeg/sub-4_task-emotion_channels.tsv'...\n",
      "Copying data files to sub-4_task-emotion_eeg.vhdr\n"
     ]
    },
    {
     "name": "stderr",
     "output_type": "stream",
     "text": [
      "/Users/hyijie/Desktop/桌面文件夹/Lab/CPP_Multiverse_stage2/.venv/lib/python3.13/site-packages/mne/preprocessing/ica.py:2401: RuntimeWarning: divide by zero encountered in matmul\n",
      "  mixing = pca_components.T @ mixing\n",
      "/Users/hyijie/Desktop/桌面文件夹/Lab/CPP_Multiverse_stage2/.venv/lib/python3.13/site-packages/mne/preprocessing/ica.py:2401: RuntimeWarning: overflow encountered in matmul\n",
      "  mixing = pca_components.T @ mixing\n",
      "/Users/hyijie/Desktop/桌面文件夹/Lab/CPP_Multiverse_stage2/.venv/lib/python3.13/site-packages/mne/preprocessing/ica.py:2401: RuntimeWarning: invalid value encountered in matmul\n",
      "  mixing = pca_components.T @ mixing\n",
      "/var/folders/xc/16fqwx1n1gbfb77yd1bdg8mh0000gn/T/ipykernel_13251/3761815757.py:41: RuntimeWarning: Converting data files to BrainVision format\n",
      "  write_raw_bids(\n",
      "/var/folders/xc/16fqwx1n1gbfb77yd1bdg8mh0000gn/T/ipykernel_13251/3761815757.py:41: RuntimeWarning: Encountered data in \"int\" format. Converting to float32.\n",
      "  write_raw_bids(\n",
      "/Users/hyijie/Desktop/桌面文件夹/Lab/CPP_Multiverse_stage2/.venv/lib/python3.13/site-packages/pybv/io.py:682: UserWarning: Encountered unsupported non-voltage units: n/a\n",
      "Note that the BrainVision format specification supports only µV.\n",
      "  warn(msg)\n"
     ]
    },
    {
     "name": "stdout",
     "output_type": "stream",
     "text": [
      "Writing '../data/preprocessData/emotion/eeg/sub-4/sub-4_scans.tsv'...\n",
      "Wrote ../data/preprocessData/emotion/eeg/sub-4/sub-4_scans.tsv entry with eeg/sub-4_task-emotion_eeg.vhdr.\n"
     ]
    },
    {
     "name": "stderr",
     "output_type": "stream",
     "text": [
      "/var/folders/xc/16fqwx1n1gbfb77yd1bdg8mh0000gn/T/ipykernel_13251/3761815757.py:9: RuntimeWarning:   Could not parse meas date from the header. Setting to None.\n",
      "  raw = mne.io.read_raw_cnt(os.path.join(ds_root, 'Rawdata', sub_eeg+'.cnt'))\n",
      "/var/folders/xc/16fqwx1n1gbfb77yd1bdg8mh0000gn/T/ipykernel_13251/3761815757.py:13: RuntimeWarning: The unit for channel(s) A1 has changed from V to NA.\n",
      "  raw.set_channel_types({'HEOG': 'eog',\n"
     ]
    },
    {
     "name": "stdout",
     "output_type": "stream",
     "text": [
      "Filtering raw data in 1 contiguous segment\n",
      "Setting up band-pass filter from 1 - 30 Hz\n",
      "\n",
      "FIR filter parameters\n",
      "---------------------\n",
      "Designing a one-pass, zero-phase, non-causal bandpass filter:\n",
      "- Windowed time-domain design (firwin) method\n",
      "- Hamming window with 0.0194 passband ripple and 53 dB stopband attenuation\n",
      "- Lower passband edge: 1.00\n",
      "- Lower transition bandwidth: 1.00 Hz (-6 dB cutoff frequency: 0.50 Hz)\n",
      "- Upper passband edge: 30.00 Hz\n",
      "- Upper transition bandwidth: 7.50 Hz (-6 dB cutoff frequency: 33.75 Hz)\n",
      "- Filter length: 1651 samples (3.302 s)\n",
      "\n",
      "EEG channel type selected for re-referencing\n",
      "Applying average reference.\n",
      "Applying a custom ('EEG',) reference.\n",
      "Fitting ICA to data using 30 channels (please be patient, this may take a while)\n"
     ]
    },
    {
     "name": "stderr",
     "output_type": "stream",
     "text": [
      "[Parallel(n_jobs=1)]: Done  17 tasks      | elapsed:    0.1s\n",
      "[Parallel(n_jobs=1)]: Done  30 out of  30 | elapsed:    0.3s finished\n"
     ]
    },
    {
     "name": "stdout",
     "output_type": "stream",
     "text": [
      "Selecting by number: 30 components\n",
      "Fitting ICA took 6.4s.\n",
      "Using EOG channels: HEOG, VEOG\n",
      "... filtering ICA sources\n",
      "Setting up band-pass filter from 1 - 10 Hz\n",
      "\n",
      "FIR filter parameters\n",
      "---------------------\n",
      "Designing a two-pass forward and reverse, zero-phase, non-causal bandpass filter:\n",
      "- Windowed frequency-domain design (firwin2) method\n",
      "- Hann window\n",
      "- Lower passband edge: 1.00\n",
      "- Lower transition bandwidth: 0.50 Hz (-12 dB cutoff frequency: 0.75 Hz)\n",
      "- Upper passband edge: 10.00 Hz\n",
      "- Upper transition bandwidth: 0.50 Hz (-12 dB cutoff frequency: 10.25 Hz)\n",
      "- Filter length: 5000 samples (10.000 s)\n",
      "\n"
     ]
    },
    {
     "name": "stderr",
     "output_type": "stream",
     "text": [
      "/Users/hyijie/Desktop/桌面文件夹/Lab/CPP_Multiverse_stage2/.venv/lib/python3.13/site-packages/scipy/linalg/_basic.py:1622: RuntimeWarning: divide by zero encountered in matmul\n",
      "  B = (u @ vh[:rank]).conj().T\n",
      "/Users/hyijie/Desktop/桌面文件夹/Lab/CPP_Multiverse_stage2/.venv/lib/python3.13/site-packages/scipy/linalg/_basic.py:1622: RuntimeWarning: overflow encountered in matmul\n",
      "  B = (u @ vh[:rank]).conj().T\n",
      "/Users/hyijie/Desktop/桌面文件夹/Lab/CPP_Multiverse_stage2/.venv/lib/python3.13/site-packages/scipy/linalg/_basic.py:1622: RuntimeWarning: invalid value encountered in matmul\n",
      "  B = (u @ vh[:rank]).conj().T\n",
      "/var/folders/xc/16fqwx1n1gbfb77yd1bdg8mh0000gn/T/ipykernel_13251/3761815757.py:24: RuntimeWarning: Using n_components=30 (resulting in n_components_=30) may lead to an unstable mixing matrix estimation because the ratio between the largest (21) and smallest (5.4e-30) variances is too large (> 1e6); consider setting n_components=0.999999 or an integer <= 29\n",
      "  ica.fit(raw)\n",
      "/Users/hyijie/Desktop/桌面文件夹/Lab/CPP_Multiverse_stage2/.venv/lib/python3.13/site-packages/mne/utils/linalg.py:243: RuntimeWarning: divide by zero encountered in matmul\n",
      "  return (u @ vh[:rank]).conj().T\n",
      "/Users/hyijie/Desktop/桌面文件夹/Lab/CPP_Multiverse_stage2/.venv/lib/python3.13/site-packages/mne/utils/linalg.py:243: RuntimeWarning: overflow encountered in matmul\n",
      "  return (u @ vh[:rank]).conj().T\n",
      "/Users/hyijie/Desktop/桌面文件夹/Lab/CPP_Multiverse_stage2/.venv/lib/python3.13/site-packages/mne/utils/linalg.py:243: RuntimeWarning: invalid value encountered in matmul\n",
      "  return (u @ vh[:rank]).conj().T\n"
     ]
    },
    {
     "name": "stdout",
     "output_type": "stream",
     "text": [
      "... filtering target\n",
      "Setting up band-pass filter from 1 - 10 Hz\n",
      "\n",
      "FIR filter parameters\n",
      "---------------------\n",
      "Designing a two-pass forward and reverse, zero-phase, non-causal bandpass filter:\n",
      "- Windowed frequency-domain design (firwin2) method\n",
      "- Hann window\n",
      "- Lower passband edge: 1.00\n",
      "- Lower transition bandwidth: 0.50 Hz (-12 dB cutoff frequency: 0.75 Hz)\n",
      "- Upper passband edge: 10.00 Hz\n",
      "- Upper transition bandwidth: 0.50 Hz (-12 dB cutoff frequency: 10.25 Hz)\n",
      "- Filter length: 5000 samples (10.000 s)\n",
      "\n"
     ]
    },
    {
     "name": "stderr",
     "output_type": "stream",
     "text": [
      "[Parallel(n_jobs=1)]: Done  17 tasks      | elapsed:    0.1s\n",
      "[Parallel(n_jobs=1)]: Done  30 out of  30 | elapsed:    0.2s finished\n",
      "[Parallel(n_jobs=1)]: Done   1 out of   1 | elapsed:    0.0s finished\n"
     ]
    },
    {
     "name": "stdout",
     "output_type": "stream",
     "text": [
      "... filtering ICA sources\n",
      "Setting up band-pass filter from 1 - 10 Hz\n",
      "\n",
      "FIR filter parameters\n",
      "---------------------\n",
      "Designing a two-pass forward and reverse, zero-phase, non-causal bandpass filter:\n",
      "- Windowed frequency-domain design (firwin2) method\n",
      "- Hann window\n",
      "- Lower passband edge: 1.00\n",
      "- Lower transition bandwidth: 0.50 Hz (-12 dB cutoff frequency: 0.75 Hz)\n",
      "- Upper passband edge: 10.00 Hz\n",
      "- Upper transition bandwidth: 0.50 Hz (-12 dB cutoff frequency: 10.25 Hz)\n",
      "- Filter length: 5000 samples (10.000 s)\n",
      "\n",
      "... filtering target\n",
      "Setting up band-pass filter from 1 - 10 Hz\n",
      "\n",
      "FIR filter parameters\n",
      "---------------------\n",
      "Designing a two-pass forward and reverse, zero-phase, non-causal bandpass filter:\n",
      "- Windowed frequency-domain design (firwin2) method\n",
      "- Hann window\n",
      "- Lower passband edge: 1.00\n",
      "- Lower transition bandwidth: 0.50 Hz (-12 dB cutoff frequency: 0.75 Hz)\n",
      "- Upper passband edge: 10.00 Hz\n",
      "- Upper transition bandwidth: 0.50 Hz (-12 dB cutoff frequency: 10.25 Hz)\n",
      "- Filter length: 5000 samples (10.000 s)\n",
      "\n"
     ]
    },
    {
     "name": "stderr",
     "output_type": "stream",
     "text": [
      "[Parallel(n_jobs=1)]: Done  17 tasks      | elapsed:    0.1s\n",
      "[Parallel(n_jobs=1)]: Done  30 out of  30 | elapsed:    0.2s finished\n",
      "[Parallel(n_jobs=1)]: Done   1 out of   1 | elapsed:    0.0s finished\n"
     ]
    },
    {
     "name": "stdout",
     "output_type": "stream",
     "text": [
      "Applying ICA to Raw instance\n",
      "    Transforming to ICA space (30 components)\n",
      "    Zeroing out 3 ICA components\n",
      "    Projecting back using 30 PCA components\n",
      "Used Annotations descriptions: [np.str_('101'), np.str_('102'), np.str_('103'), np.str_('11'), np.str_('111'), np.str_('112'), np.str_('12'), np.str_('121'), np.str_('122'), np.str_('123'), np.str_('124'), np.str_('13'), np.str_('14'), np.str_('15'), np.str_('16'), np.str_('17'), np.str_('21'), np.str_('22'), np.str_('23'), np.str_('24'), np.str_('25'), np.str_('26'), np.str_('27')]\n",
      "Writing '../data/preprocessData/emotion/eeg/participants.tsv'...\n",
      "Writing '../data/preprocessData/emotion/eeg/participants.json'...\n",
      "Writing '../data/preprocessData/emotion/eeg/sub-5/eeg/sub-5_space-CapTrak_electrodes.tsv'...\n",
      "Writing '../data/preprocessData/emotion/eeg/sub-5/eeg/sub-5_space-CapTrak_coordsystem.json'...\n",
      "Used Annotations descriptions: [np.str_('101'), np.str_('102'), np.str_('103'), np.str_('11'), np.str_('111'), np.str_('112'), np.str_('12'), np.str_('121'), np.str_('122'), np.str_('123'), np.str_('124'), np.str_('13'), np.str_('14'), np.str_('15'), np.str_('16'), np.str_('17'), np.str_('21'), np.str_('22'), np.str_('23'), np.str_('24'), np.str_('25'), np.str_('26'), np.str_('27')]\n",
      "Writing '../data/preprocessData/emotion/eeg/sub-5/eeg/sub-5_task-emotion_events.tsv'...\n",
      "Writing '../data/preprocessData/emotion/eeg/sub-5/eeg/sub-5_task-emotion_events.json'...\n",
      "Writing '../data/preprocessData/emotion/eeg/dataset_description.json'...\n",
      "Writing '../data/preprocessData/emotion/eeg/sub-5/eeg/sub-5_task-emotion_eeg.json'...\n",
      "Writing '../data/preprocessData/emotion/eeg/sub-5/eeg/sub-5_task-emotion_channels.tsv'...\n",
      "Copying data files to sub-5_task-emotion_eeg.vhdr\n"
     ]
    },
    {
     "name": "stderr",
     "output_type": "stream",
     "text": [
      "/Users/hyijie/Desktop/桌面文件夹/Lab/CPP_Multiverse_stage2/.venv/lib/python3.13/site-packages/mne/preprocessing/ica.py:2401: RuntimeWarning: divide by zero encountered in matmul\n",
      "  mixing = pca_components.T @ mixing\n",
      "/Users/hyijie/Desktop/桌面文件夹/Lab/CPP_Multiverse_stage2/.venv/lib/python3.13/site-packages/mne/preprocessing/ica.py:2401: RuntimeWarning: overflow encountered in matmul\n",
      "  mixing = pca_components.T @ mixing\n",
      "/Users/hyijie/Desktop/桌面文件夹/Lab/CPP_Multiverse_stage2/.venv/lib/python3.13/site-packages/mne/preprocessing/ica.py:2401: RuntimeWarning: invalid value encountered in matmul\n",
      "  mixing = pca_components.T @ mixing\n",
      "/var/folders/xc/16fqwx1n1gbfb77yd1bdg8mh0000gn/T/ipykernel_13251/3761815757.py:41: RuntimeWarning: Converting data files to BrainVision format\n",
      "  write_raw_bids(\n",
      "/var/folders/xc/16fqwx1n1gbfb77yd1bdg8mh0000gn/T/ipykernel_13251/3761815757.py:41: RuntimeWarning: Encountered data in \"int\" format. Converting to float32.\n",
      "  write_raw_bids(\n",
      "/Users/hyijie/Desktop/桌面文件夹/Lab/CPP_Multiverse_stage2/.venv/lib/python3.13/site-packages/pybv/io.py:682: UserWarning: Encountered unsupported non-voltage units: n/a\n",
      "Note that the BrainVision format specification supports only µV.\n",
      "  warn(msg)\n"
     ]
    },
    {
     "name": "stdout",
     "output_type": "stream",
     "text": [
      "Writing '../data/preprocessData/emotion/eeg/sub-5/sub-5_scans.tsv'...\n",
      "Wrote ../data/preprocessData/emotion/eeg/sub-5/sub-5_scans.tsv entry with eeg/sub-5_task-emotion_eeg.vhdr.\n",
      "Skipping subject Emotion_sub5: test4trial count (279) is less than behavior rows (280)\n"
     ]
    },
    {
     "name": "stderr",
     "output_type": "stream",
     "text": [
      "/var/folders/xc/16fqwx1n1gbfb77yd1bdg8mh0000gn/T/ipykernel_13251/3761815757.py:9: RuntimeWarning:   Could not parse meas date from the header. Setting to None.\n",
      "  raw = mne.io.read_raw_cnt(os.path.join(ds_root, 'Rawdata', sub_eeg+'.cnt'))\n",
      "/var/folders/xc/16fqwx1n1gbfb77yd1bdg8mh0000gn/T/ipykernel_13251/3761815757.py:13: RuntimeWarning: The unit for channel(s) A1 has changed from V to NA.\n",
      "  raw.set_channel_types({'HEOG': 'eog',\n"
     ]
    },
    {
     "name": "stdout",
     "output_type": "stream",
     "text": [
      "Filtering raw data in 1 contiguous segment\n",
      "Setting up band-pass filter from 1 - 30 Hz\n",
      "\n",
      "FIR filter parameters\n",
      "---------------------\n",
      "Designing a one-pass, zero-phase, non-causal bandpass filter:\n",
      "- Windowed time-domain design (firwin) method\n",
      "- Hamming window with 0.0194 passband ripple and 53 dB stopband attenuation\n",
      "- Lower passband edge: 1.00\n",
      "- Lower transition bandwidth: 1.00 Hz (-6 dB cutoff frequency: 0.50 Hz)\n",
      "- Upper passband edge: 30.00 Hz\n",
      "- Upper transition bandwidth: 7.50 Hz (-6 dB cutoff frequency: 33.75 Hz)\n",
      "- Filter length: 1651 samples (3.302 s)\n",
      "\n",
      "EEG channel type selected for re-referencing\n",
      "Applying average reference.\n",
      "Applying a custom ('EEG',) reference.\n",
      "Fitting ICA to data using 30 channels (please be patient, this may take a while)\n"
     ]
    },
    {
     "name": "stderr",
     "output_type": "stream",
     "text": [
      "[Parallel(n_jobs=1)]: Done  17 tasks      | elapsed:    0.1s\n",
      "[Parallel(n_jobs=1)]: Done  30 out of  30 | elapsed:    0.2s finished\n"
     ]
    },
    {
     "name": "stdout",
     "output_type": "stream",
     "text": [
      "Selecting by number: 30 components\n",
      "Fitting ICA took 7.4s.\n",
      "Using EOG channels: HEOG, VEOG\n",
      "... filtering ICA sources\n",
      "Setting up band-pass filter from 1 - 10 Hz\n",
      "\n",
      "FIR filter parameters\n",
      "---------------------\n",
      "Designing a two-pass forward and reverse, zero-phase, non-causal bandpass filter:\n",
      "- Windowed frequency-domain design (firwin2) method\n",
      "- Hann window\n",
      "- Lower passband edge: 1.00\n",
      "- Lower transition bandwidth: 0.50 Hz (-12 dB cutoff frequency: 0.75 Hz)\n",
      "- Upper passband edge: 10.00 Hz\n",
      "- Upper transition bandwidth: 0.50 Hz (-12 dB cutoff frequency: 10.25 Hz)\n",
      "- Filter length: 5000 samples (10.000 s)\n",
      "\n"
     ]
    },
    {
     "name": "stderr",
     "output_type": "stream",
     "text": [
      "/Users/hyijie/Desktop/桌面文件夹/Lab/CPP_Multiverse_stage2/.venv/lib/python3.13/site-packages/scipy/linalg/_basic.py:1622: RuntimeWarning: divide by zero encountered in matmul\n",
      "  B = (u @ vh[:rank]).conj().T\n",
      "/Users/hyijie/Desktop/桌面文件夹/Lab/CPP_Multiverse_stage2/.venv/lib/python3.13/site-packages/scipy/linalg/_basic.py:1622: RuntimeWarning: overflow encountered in matmul\n",
      "  B = (u @ vh[:rank]).conj().T\n",
      "/Users/hyijie/Desktop/桌面文件夹/Lab/CPP_Multiverse_stage2/.venv/lib/python3.13/site-packages/scipy/linalg/_basic.py:1622: RuntimeWarning: invalid value encountered in matmul\n",
      "  B = (u @ vh[:rank]).conj().T\n",
      "/var/folders/xc/16fqwx1n1gbfb77yd1bdg8mh0000gn/T/ipykernel_13251/3761815757.py:24: RuntimeWarning: Using n_components=30 (resulting in n_components_=30) may lead to an unstable mixing matrix estimation because the ratio between the largest (16) and smallest (8.5e-30) variances is too large (> 1e6); consider setting n_components=0.999999 or an integer <= 29\n",
      "  ica.fit(raw)\n",
      "/Users/hyijie/Desktop/桌面文件夹/Lab/CPP_Multiverse_stage2/.venv/lib/python3.13/site-packages/mne/utils/linalg.py:243: RuntimeWarning: divide by zero encountered in matmul\n",
      "  return (u @ vh[:rank]).conj().T\n",
      "/Users/hyijie/Desktop/桌面文件夹/Lab/CPP_Multiverse_stage2/.venv/lib/python3.13/site-packages/mne/utils/linalg.py:243: RuntimeWarning: overflow encountered in matmul\n",
      "  return (u @ vh[:rank]).conj().T\n",
      "/Users/hyijie/Desktop/桌面文件夹/Lab/CPP_Multiverse_stage2/.venv/lib/python3.13/site-packages/mne/utils/linalg.py:243: RuntimeWarning: invalid value encountered in matmul\n",
      "  return (u @ vh[:rank]).conj().T\n"
     ]
    },
    {
     "name": "stdout",
     "output_type": "stream",
     "text": [
      "... filtering target\n",
      "Setting up band-pass filter from 1 - 10 Hz\n",
      "\n",
      "FIR filter parameters\n",
      "---------------------\n",
      "Designing a two-pass forward and reverse, zero-phase, non-causal bandpass filter:\n",
      "- Windowed frequency-domain design (firwin2) method\n",
      "- Hann window\n",
      "- Lower passband edge: 1.00\n",
      "- Lower transition bandwidth: 0.50 Hz (-12 dB cutoff frequency: 0.75 Hz)\n",
      "- Upper passband edge: 10.00 Hz\n",
      "- Upper transition bandwidth: 0.50 Hz (-12 dB cutoff frequency: 10.25 Hz)\n",
      "- Filter length: 5000 samples (10.000 s)\n",
      "\n"
     ]
    },
    {
     "name": "stderr",
     "output_type": "stream",
     "text": [
      "[Parallel(n_jobs=1)]: Done  17 tasks      | elapsed:    0.1s\n",
      "[Parallel(n_jobs=1)]: Done  30 out of  30 | elapsed:    0.2s finished\n",
      "[Parallel(n_jobs=1)]: Done   1 out of   1 | elapsed:    0.0s finished\n"
     ]
    },
    {
     "name": "stdout",
     "output_type": "stream",
     "text": [
      "... filtering ICA sources\n",
      "Setting up band-pass filter from 1 - 10 Hz\n",
      "\n",
      "FIR filter parameters\n",
      "---------------------\n",
      "Designing a two-pass forward and reverse, zero-phase, non-causal bandpass filter:\n",
      "- Windowed frequency-domain design (firwin2) method\n",
      "- Hann window\n",
      "- Lower passband edge: 1.00\n",
      "- Lower transition bandwidth: 0.50 Hz (-12 dB cutoff frequency: 0.75 Hz)\n",
      "- Upper passband edge: 10.00 Hz\n",
      "- Upper transition bandwidth: 0.50 Hz (-12 dB cutoff frequency: 10.25 Hz)\n",
      "- Filter length: 5000 samples (10.000 s)\n",
      "\n",
      "... filtering target\n",
      "Setting up band-pass filter from 1 - 10 Hz\n",
      "\n",
      "FIR filter parameters\n",
      "---------------------\n",
      "Designing a two-pass forward and reverse, zero-phase, non-causal bandpass filter:\n",
      "- Windowed frequency-domain design (firwin2) method\n",
      "- Hann window\n",
      "- Lower passband edge: 1.00\n",
      "- Lower transition bandwidth: 0.50 Hz (-12 dB cutoff frequency: 0.75 Hz)\n",
      "- Upper passband edge: 10.00 Hz\n",
      "- Upper transition bandwidth: 0.50 Hz (-12 dB cutoff frequency: 10.25 Hz)\n",
      "- Filter length: 5000 samples (10.000 s)\n",
      "\n"
     ]
    },
    {
     "name": "stderr",
     "output_type": "stream",
     "text": [
      "[Parallel(n_jobs=1)]: Done  17 tasks      | elapsed:    0.1s\n",
      "[Parallel(n_jobs=1)]: Done  30 out of  30 | elapsed:    0.3s finished\n",
      "[Parallel(n_jobs=1)]: Done   1 out of   1 | elapsed:    0.0s finished\n"
     ]
    },
    {
     "name": "stdout",
     "output_type": "stream",
     "text": [
      "Applying ICA to Raw instance\n",
      "    Transforming to ICA space (30 components)\n",
      "    Zeroing out 3 ICA components\n",
      "    Projecting back using 30 PCA components\n",
      "Used Annotations descriptions: [np.str_('101'), np.str_('102'), np.str_('103'), np.str_('11'), np.str_('111'), np.str_('112'), np.str_('12'), np.str_('121'), np.str_('122'), np.str_('123'), np.str_('124'), np.str_('13'), np.str_('14'), np.str_('15'), np.str_('16'), np.str_('17'), np.str_('21'), np.str_('22'), np.str_('23'), np.str_('24'), np.str_('25'), np.str_('26'), np.str_('27')]\n",
      "Writing '../data/preprocessData/emotion/eeg/participants.tsv'...\n",
      "Writing '../data/preprocessData/emotion/eeg/participants.json'...\n",
      "Writing '../data/preprocessData/emotion/eeg/sub-6/eeg/sub-6_space-CapTrak_electrodes.tsv'...\n",
      "Writing '../data/preprocessData/emotion/eeg/sub-6/eeg/sub-6_space-CapTrak_coordsystem.json'...\n",
      "Used Annotations descriptions: [np.str_('101'), np.str_('102'), np.str_('103'), np.str_('11'), np.str_('111'), np.str_('112'), np.str_('12'), np.str_('121'), np.str_('122'), np.str_('123'), np.str_('124'), np.str_('13'), np.str_('14'), np.str_('15'), np.str_('16'), np.str_('17'), np.str_('21'), np.str_('22'), np.str_('23'), np.str_('24'), np.str_('25'), np.str_('26'), np.str_('27')]\n",
      "Writing '../data/preprocessData/emotion/eeg/sub-6/eeg/sub-6_task-emotion_events.tsv'...\n",
      "Writing '../data/preprocessData/emotion/eeg/sub-6/eeg/sub-6_task-emotion_events.json'...\n",
      "Writing '../data/preprocessData/emotion/eeg/dataset_description.json'...\n",
      "Writing '../data/preprocessData/emotion/eeg/sub-6/eeg/sub-6_task-emotion_eeg.json'...\n",
      "Writing '../data/preprocessData/emotion/eeg/sub-6/eeg/sub-6_task-emotion_channels.tsv'...\n",
      "Copying data files to sub-6_task-emotion_eeg.vhdr\n"
     ]
    },
    {
     "name": "stderr",
     "output_type": "stream",
     "text": [
      "/Users/hyijie/Desktop/桌面文件夹/Lab/CPP_Multiverse_stage2/.venv/lib/python3.13/site-packages/mne/preprocessing/ica.py:2401: RuntimeWarning: divide by zero encountered in matmul\n",
      "  mixing = pca_components.T @ mixing\n",
      "/Users/hyijie/Desktop/桌面文件夹/Lab/CPP_Multiverse_stage2/.venv/lib/python3.13/site-packages/mne/preprocessing/ica.py:2401: RuntimeWarning: overflow encountered in matmul\n",
      "  mixing = pca_components.T @ mixing\n",
      "/Users/hyijie/Desktop/桌面文件夹/Lab/CPP_Multiverse_stage2/.venv/lib/python3.13/site-packages/mne/preprocessing/ica.py:2401: RuntimeWarning: invalid value encountered in matmul\n",
      "  mixing = pca_components.T @ mixing\n",
      "/var/folders/xc/16fqwx1n1gbfb77yd1bdg8mh0000gn/T/ipykernel_13251/3761815757.py:41: RuntimeWarning: Converting data files to BrainVision format\n",
      "  write_raw_bids(\n",
      "/var/folders/xc/16fqwx1n1gbfb77yd1bdg8mh0000gn/T/ipykernel_13251/3761815757.py:41: RuntimeWarning: Encountered data in \"int\" format. Converting to float32.\n",
      "  write_raw_bids(\n",
      "/Users/hyijie/Desktop/桌面文件夹/Lab/CPP_Multiverse_stage2/.venv/lib/python3.13/site-packages/pybv/io.py:682: UserWarning: Encountered unsupported non-voltage units: n/a\n",
      "Note that the BrainVision format specification supports only µV.\n",
      "  warn(msg)\n"
     ]
    },
    {
     "name": "stdout",
     "output_type": "stream",
     "text": [
      "Writing '../data/preprocessData/emotion/eeg/sub-6/sub-6_scans.tsv'...\n",
      "Wrote ../data/preprocessData/emotion/eeg/sub-6/sub-6_scans.tsv entry with eeg/sub-6_task-emotion_eeg.vhdr.\n"
     ]
    },
    {
     "name": "stderr",
     "output_type": "stream",
     "text": [
      "/var/folders/xc/16fqwx1n1gbfb77yd1bdg8mh0000gn/T/ipykernel_13251/3761815757.py:9: RuntimeWarning:   Could not parse meas date from the header. Setting to None.\n",
      "  raw = mne.io.read_raw_cnt(os.path.join(ds_root, 'Rawdata', sub_eeg+'.cnt'))\n",
      "/var/folders/xc/16fqwx1n1gbfb77yd1bdg8mh0000gn/T/ipykernel_13251/3761815757.py:13: RuntimeWarning: The unit for channel(s) A1 has changed from V to NA.\n",
      "  raw.set_channel_types({'HEOG': 'eog',\n"
     ]
    },
    {
     "name": "stdout",
     "output_type": "stream",
     "text": [
      "Filtering raw data in 1 contiguous segment\n",
      "Setting up band-pass filter from 1 - 30 Hz\n",
      "\n",
      "FIR filter parameters\n",
      "---------------------\n",
      "Designing a one-pass, zero-phase, non-causal bandpass filter:\n",
      "- Windowed time-domain design (firwin) method\n",
      "- Hamming window with 0.0194 passband ripple and 53 dB stopband attenuation\n",
      "- Lower passband edge: 1.00\n",
      "- Lower transition bandwidth: 1.00 Hz (-6 dB cutoff frequency: 0.50 Hz)\n",
      "- Upper passband edge: 30.00 Hz\n",
      "- Upper transition bandwidth: 7.50 Hz (-6 dB cutoff frequency: 33.75 Hz)\n",
      "- Filter length: 1651 samples (3.302 s)\n",
      "\n",
      "EEG channel type selected for re-referencing\n",
      "Applying average reference.\n",
      "Applying a custom ('EEG',) reference.\n",
      "Fitting ICA to data using 30 channels (please be patient, this may take a while)\n"
     ]
    },
    {
     "name": "stderr",
     "output_type": "stream",
     "text": [
      "[Parallel(n_jobs=1)]: Done  17 tasks      | elapsed:    0.2s\n",
      "[Parallel(n_jobs=1)]: Done  30 out of  30 | elapsed:    0.3s finished\n"
     ]
    },
    {
     "name": "stdout",
     "output_type": "stream",
     "text": [
      "Selecting by number: 30 components\n",
      "Fitting ICA took 3.1s.\n",
      "Using EOG channels: HEOG, VEOG\n",
      "... filtering ICA sources\n",
      "Setting up band-pass filter from 1 - 10 Hz\n",
      "\n",
      "FIR filter parameters\n",
      "---------------------\n",
      "Designing a two-pass forward and reverse, zero-phase, non-causal bandpass filter:\n",
      "- Windowed frequency-domain design (firwin2) method\n",
      "- Hann window\n",
      "- Lower passband edge: 1.00\n",
      "- Lower transition bandwidth: 0.50 Hz (-12 dB cutoff frequency: 0.75 Hz)\n",
      "- Upper passband edge: 10.00 Hz\n",
      "- Upper transition bandwidth: 0.50 Hz (-12 dB cutoff frequency: 10.25 Hz)\n",
      "- Filter length: 5000 samples (10.000 s)\n",
      "\n"
     ]
    },
    {
     "name": "stderr",
     "output_type": "stream",
     "text": [
      "/Users/hyijie/Desktop/桌面文件夹/Lab/CPP_Multiverse_stage2/.venv/lib/python3.13/site-packages/scipy/linalg/_basic.py:1622: RuntimeWarning: divide by zero encountered in matmul\n",
      "  B = (u @ vh[:rank]).conj().T\n",
      "/Users/hyijie/Desktop/桌面文件夹/Lab/CPP_Multiverse_stage2/.venv/lib/python3.13/site-packages/scipy/linalg/_basic.py:1622: RuntimeWarning: overflow encountered in matmul\n",
      "  B = (u @ vh[:rank]).conj().T\n",
      "/Users/hyijie/Desktop/桌面文件夹/Lab/CPP_Multiverse_stage2/.venv/lib/python3.13/site-packages/scipy/linalg/_basic.py:1622: RuntimeWarning: invalid value encountered in matmul\n",
      "  B = (u @ vh[:rank]).conj().T\n",
      "/var/folders/xc/16fqwx1n1gbfb77yd1bdg8mh0000gn/T/ipykernel_13251/3761815757.py:24: RuntimeWarning: Using n_components=30 (resulting in n_components_=30) may lead to an unstable mixing matrix estimation because the ratio between the largest (19) and smallest (1.6e-29) variances is too large (> 1e6); consider setting n_components=0.999999 or an integer <= 29\n",
      "  ica.fit(raw)\n",
      "/Users/hyijie/Desktop/桌面文件夹/Lab/CPP_Multiverse_stage2/.venv/lib/python3.13/site-packages/mne/utils/linalg.py:243: RuntimeWarning: divide by zero encountered in matmul\n",
      "  return (u @ vh[:rank]).conj().T\n",
      "/Users/hyijie/Desktop/桌面文件夹/Lab/CPP_Multiverse_stage2/.venv/lib/python3.13/site-packages/mne/utils/linalg.py:243: RuntimeWarning: overflow encountered in matmul\n",
      "  return (u @ vh[:rank]).conj().T\n",
      "/Users/hyijie/Desktop/桌面文件夹/Lab/CPP_Multiverse_stage2/.venv/lib/python3.13/site-packages/mne/utils/linalg.py:243: RuntimeWarning: invalid value encountered in matmul\n",
      "  return (u @ vh[:rank]).conj().T\n"
     ]
    },
    {
     "name": "stdout",
     "output_type": "stream",
     "text": [
      "... filtering target\n",
      "Setting up band-pass filter from 1 - 10 Hz\n",
      "\n",
      "FIR filter parameters\n",
      "---------------------\n",
      "Designing a two-pass forward and reverse, zero-phase, non-causal bandpass filter:\n",
      "- Windowed frequency-domain design (firwin2) method\n",
      "- Hann window\n",
      "- Lower passband edge: 1.00\n",
      "- Lower transition bandwidth: 0.50 Hz (-12 dB cutoff frequency: 0.75 Hz)\n",
      "- Upper passband edge: 10.00 Hz\n",
      "- Upper transition bandwidth: 0.50 Hz (-12 dB cutoff frequency: 10.25 Hz)\n",
      "- Filter length: 5000 samples (10.000 s)\n",
      "\n"
     ]
    },
    {
     "name": "stderr",
     "output_type": "stream",
     "text": [
      "[Parallel(n_jobs=1)]: Done  17 tasks      | elapsed:    0.1s\n",
      "[Parallel(n_jobs=1)]: Done  30 out of  30 | elapsed:    0.2s finished\n",
      "[Parallel(n_jobs=1)]: Done   1 out of   1 | elapsed:    0.0s finished\n"
     ]
    },
    {
     "name": "stdout",
     "output_type": "stream",
     "text": [
      "... filtering ICA sources\n",
      "Setting up band-pass filter from 1 - 10 Hz\n",
      "\n",
      "FIR filter parameters\n",
      "---------------------\n",
      "Designing a two-pass forward and reverse, zero-phase, non-causal bandpass filter:\n",
      "- Windowed frequency-domain design (firwin2) method\n",
      "- Hann window\n",
      "- Lower passband edge: 1.00\n",
      "- Lower transition bandwidth: 0.50 Hz (-12 dB cutoff frequency: 0.75 Hz)\n",
      "- Upper passband edge: 10.00 Hz\n",
      "- Upper transition bandwidth: 0.50 Hz (-12 dB cutoff frequency: 10.25 Hz)\n",
      "- Filter length: 5000 samples (10.000 s)\n",
      "\n",
      "... filtering target\n",
      "Setting up band-pass filter from 1 - 10 Hz\n",
      "\n",
      "FIR filter parameters\n",
      "---------------------\n",
      "Designing a two-pass forward and reverse, zero-phase, non-causal bandpass filter:\n",
      "- Windowed frequency-domain design (firwin2) method\n",
      "- Hann window\n",
      "- Lower passband edge: 1.00\n",
      "- Lower transition bandwidth: 0.50 Hz (-12 dB cutoff frequency: 0.75 Hz)\n",
      "- Upper passband edge: 10.00 Hz\n",
      "- Upper transition bandwidth: 0.50 Hz (-12 dB cutoff frequency: 10.25 Hz)\n",
      "- Filter length: 5000 samples (10.000 s)\n",
      "\n"
     ]
    },
    {
     "name": "stderr",
     "output_type": "stream",
     "text": [
      "[Parallel(n_jobs=1)]: Done  17 tasks      | elapsed:    0.1s\n",
      "[Parallel(n_jobs=1)]: Done  30 out of  30 | elapsed:    0.2s finished\n",
      "[Parallel(n_jobs=1)]: Done   1 out of   1 | elapsed:    0.0s finished\n"
     ]
    },
    {
     "name": "stdout",
     "output_type": "stream",
     "text": [
      "Applying ICA to Raw instance\n",
      "    Transforming to ICA space (30 components)\n",
      "    Zeroing out 3 ICA components\n",
      "    Projecting back using 30 PCA components\n",
      "Used Annotations descriptions: [np.str_('101'), np.str_('102'), np.str_('103'), np.str_('11'), np.str_('111'), np.str_('112'), np.str_('12'), np.str_('121'), np.str_('122'), np.str_('123'), np.str_('13'), np.str_('14'), np.str_('15'), np.str_('16'), np.str_('17'), np.str_('21'), np.str_('22'), np.str_('23'), np.str_('24'), np.str_('25'), np.str_('26'), np.str_('27')]\n",
      "Writing '../data/preprocessData/emotion/eeg/participants.tsv'...\n",
      "Writing '../data/preprocessData/emotion/eeg/participants.json'...\n",
      "Writing '../data/preprocessData/emotion/eeg/sub-7/eeg/sub-7_space-CapTrak_electrodes.tsv'...\n",
      "Writing '../data/preprocessData/emotion/eeg/sub-7/eeg/sub-7_space-CapTrak_coordsystem.json'...\n",
      "Used Annotations descriptions: [np.str_('101'), np.str_('102'), np.str_('103'), np.str_('11'), np.str_('111'), np.str_('112'), np.str_('12'), np.str_('121'), np.str_('122'), np.str_('123'), np.str_('13'), np.str_('14'), np.str_('15'), np.str_('16'), np.str_('17'), np.str_('21'), np.str_('22'), np.str_('23'), np.str_('24'), np.str_('25'), np.str_('26'), np.str_('27')]\n",
      "Writing '../data/preprocessData/emotion/eeg/sub-7/eeg/sub-7_task-emotion_events.tsv'...\n",
      "Writing '../data/preprocessData/emotion/eeg/sub-7/eeg/sub-7_task-emotion_events.json'...\n",
      "Writing '../data/preprocessData/emotion/eeg/dataset_description.json'...\n",
      "Writing '../data/preprocessData/emotion/eeg/sub-7/eeg/sub-7_task-emotion_eeg.json'...\n",
      "Writing '../data/preprocessData/emotion/eeg/sub-7/eeg/sub-7_task-emotion_channels.tsv'...\n",
      "Copying data files to sub-7_task-emotion_eeg.vhdr\n"
     ]
    },
    {
     "name": "stderr",
     "output_type": "stream",
     "text": [
      "/Users/hyijie/Desktop/桌面文件夹/Lab/CPP_Multiverse_stage2/.venv/lib/python3.13/site-packages/mne/preprocessing/ica.py:2401: RuntimeWarning: divide by zero encountered in matmul\n",
      "  mixing = pca_components.T @ mixing\n",
      "/Users/hyijie/Desktop/桌面文件夹/Lab/CPP_Multiverse_stage2/.venv/lib/python3.13/site-packages/mne/preprocessing/ica.py:2401: RuntimeWarning: overflow encountered in matmul\n",
      "  mixing = pca_components.T @ mixing\n",
      "/Users/hyijie/Desktop/桌面文件夹/Lab/CPP_Multiverse_stage2/.venv/lib/python3.13/site-packages/mne/preprocessing/ica.py:2401: RuntimeWarning: invalid value encountered in matmul\n",
      "  mixing = pca_components.T @ mixing\n",
      "/var/folders/xc/16fqwx1n1gbfb77yd1bdg8mh0000gn/T/ipykernel_13251/3761815757.py:41: RuntimeWarning: Converting data files to BrainVision format\n",
      "  write_raw_bids(\n",
      "/var/folders/xc/16fqwx1n1gbfb77yd1bdg8mh0000gn/T/ipykernel_13251/3761815757.py:41: RuntimeWarning: Encountered data in \"int\" format. Converting to float32.\n",
      "  write_raw_bids(\n",
      "/Users/hyijie/Desktop/桌面文件夹/Lab/CPP_Multiverse_stage2/.venv/lib/python3.13/site-packages/pybv/io.py:682: UserWarning: Encountered unsupported non-voltage units: n/a\n",
      "Note that the BrainVision format specification supports only µV.\n",
      "  warn(msg)\n"
     ]
    },
    {
     "name": "stdout",
     "output_type": "stream",
     "text": [
      "Writing '../data/preprocessData/emotion/eeg/sub-7/sub-7_scans.tsv'...\n",
      "Wrote ../data/preprocessData/emotion/eeg/sub-7/sub-7_scans.tsv entry with eeg/sub-7_task-emotion_eeg.vhdr.\n"
     ]
    },
    {
     "name": "stderr",
     "output_type": "stream",
     "text": [
      "/var/folders/xc/16fqwx1n1gbfb77yd1bdg8mh0000gn/T/ipykernel_13251/3761815757.py:9: RuntimeWarning:   Could not parse meas date from the header. Setting to None.\n",
      "  raw = mne.io.read_raw_cnt(os.path.join(ds_root, 'Rawdata', sub_eeg+'.cnt'))\n",
      "/var/folders/xc/16fqwx1n1gbfb77yd1bdg8mh0000gn/T/ipykernel_13251/3761815757.py:13: RuntimeWarning: The unit for channel(s) A1 has changed from V to NA.\n",
      "  raw.set_channel_types({'HEOG': 'eog',\n"
     ]
    },
    {
     "name": "stdout",
     "output_type": "stream",
     "text": [
      "Filtering raw data in 1 contiguous segment\n",
      "Setting up band-pass filter from 1 - 30 Hz\n",
      "\n",
      "FIR filter parameters\n",
      "---------------------\n",
      "Designing a one-pass, zero-phase, non-causal bandpass filter:\n",
      "- Windowed time-domain design (firwin) method\n",
      "- Hamming window with 0.0194 passband ripple and 53 dB stopband attenuation\n",
      "- Lower passband edge: 1.00\n",
      "- Lower transition bandwidth: 1.00 Hz (-6 dB cutoff frequency: 0.50 Hz)\n",
      "- Upper passband edge: 30.00 Hz\n",
      "- Upper transition bandwidth: 7.50 Hz (-6 dB cutoff frequency: 33.75 Hz)\n",
      "- Filter length: 1651 samples (3.302 s)\n",
      "\n",
      "EEG channel type selected for re-referencing\n",
      "Applying average reference.\n",
      "Applying a custom ('EEG',) reference.\n",
      "Fitting ICA to data using 30 channels (please be patient, this may take a while)\n"
     ]
    },
    {
     "name": "stderr",
     "output_type": "stream",
     "text": [
      "[Parallel(n_jobs=1)]: Done  17 tasks      | elapsed:    0.1s\n",
      "[Parallel(n_jobs=1)]: Done  30 out of  30 | elapsed:    0.2s finished\n"
     ]
    },
    {
     "name": "stdout",
     "output_type": "stream",
     "text": [
      "Selecting by number: 30 components\n",
      "Fitting ICA took 8.4s.\n",
      "Using EOG channels: HEOG, VEOG\n",
      "... filtering ICA sources\n",
      "Setting up band-pass filter from 1 - 10 Hz\n",
      "\n",
      "FIR filter parameters\n",
      "---------------------\n",
      "Designing a two-pass forward and reverse, zero-phase, non-causal bandpass filter:\n",
      "- Windowed frequency-domain design (firwin2) method\n",
      "- Hann window\n",
      "- Lower passband edge: 1.00\n",
      "- Lower transition bandwidth: 0.50 Hz (-12 dB cutoff frequency: 0.75 Hz)\n",
      "- Upper passband edge: 10.00 Hz\n",
      "- Upper transition bandwidth: 0.50 Hz (-12 dB cutoff frequency: 10.25 Hz)\n",
      "- Filter length: 5000 samples (10.000 s)\n",
      "\n"
     ]
    },
    {
     "name": "stderr",
     "output_type": "stream",
     "text": [
      "/Users/hyijie/Desktop/桌面文件夹/Lab/CPP_Multiverse_stage2/.venv/lib/python3.13/site-packages/scipy/linalg/_basic.py:1622: RuntimeWarning: divide by zero encountered in matmul\n",
      "  B = (u @ vh[:rank]).conj().T\n",
      "/Users/hyijie/Desktop/桌面文件夹/Lab/CPP_Multiverse_stage2/.venv/lib/python3.13/site-packages/scipy/linalg/_basic.py:1622: RuntimeWarning: overflow encountered in matmul\n",
      "  B = (u @ vh[:rank]).conj().T\n",
      "/Users/hyijie/Desktop/桌面文件夹/Lab/CPP_Multiverse_stage2/.venv/lib/python3.13/site-packages/scipy/linalg/_basic.py:1622: RuntimeWarning: invalid value encountered in matmul\n",
      "  B = (u @ vh[:rank]).conj().T\n",
      "/var/folders/xc/16fqwx1n1gbfb77yd1bdg8mh0000gn/T/ipykernel_13251/3761815757.py:24: RuntimeWarning: Using n_components=30 (resulting in n_components_=30) may lead to an unstable mixing matrix estimation because the ratio between the largest (20) and smallest (3.9e-30) variances is too large (> 1e6); consider setting n_components=0.999999 or an integer <= 29\n",
      "  ica.fit(raw)\n",
      "/Users/hyijie/Desktop/桌面文件夹/Lab/CPP_Multiverse_stage2/.venv/lib/python3.13/site-packages/mne/utils/linalg.py:243: RuntimeWarning: divide by zero encountered in matmul\n",
      "  return (u @ vh[:rank]).conj().T\n",
      "/Users/hyijie/Desktop/桌面文件夹/Lab/CPP_Multiverse_stage2/.venv/lib/python3.13/site-packages/mne/utils/linalg.py:243: RuntimeWarning: overflow encountered in matmul\n",
      "  return (u @ vh[:rank]).conj().T\n",
      "/Users/hyijie/Desktop/桌面文件夹/Lab/CPP_Multiverse_stage2/.venv/lib/python3.13/site-packages/mne/utils/linalg.py:243: RuntimeWarning: invalid value encountered in matmul\n",
      "  return (u @ vh[:rank]).conj().T\n"
     ]
    },
    {
     "name": "stdout",
     "output_type": "stream",
     "text": [
      "... filtering target\n",
      "Setting up band-pass filter from 1 - 10 Hz\n",
      "\n",
      "FIR filter parameters\n",
      "---------------------\n",
      "Designing a two-pass forward and reverse, zero-phase, non-causal bandpass filter:\n",
      "- Windowed frequency-domain design (firwin2) method\n",
      "- Hann window\n",
      "- Lower passband edge: 1.00\n",
      "- Lower transition bandwidth: 0.50 Hz (-12 dB cutoff frequency: 0.75 Hz)\n",
      "- Upper passband edge: 10.00 Hz\n",
      "- Upper transition bandwidth: 0.50 Hz (-12 dB cutoff frequency: 10.25 Hz)\n",
      "- Filter length: 5000 samples (10.000 s)\n",
      "\n"
     ]
    },
    {
     "name": "stderr",
     "output_type": "stream",
     "text": [
      "[Parallel(n_jobs=1)]: Done  17 tasks      | elapsed:    0.1s\n",
      "[Parallel(n_jobs=1)]: Done  30 out of  30 | elapsed:    0.2s finished\n",
      "[Parallel(n_jobs=1)]: Done   1 out of   1 | elapsed:    0.0s finished\n"
     ]
    },
    {
     "name": "stdout",
     "output_type": "stream",
     "text": [
      "... filtering ICA sources\n",
      "Setting up band-pass filter from 1 - 10 Hz\n",
      "\n",
      "FIR filter parameters\n",
      "---------------------\n",
      "Designing a two-pass forward and reverse, zero-phase, non-causal bandpass filter:\n",
      "- Windowed frequency-domain design (firwin2) method\n",
      "- Hann window\n",
      "- Lower passband edge: 1.00\n",
      "- Lower transition bandwidth: 0.50 Hz (-12 dB cutoff frequency: 0.75 Hz)\n",
      "- Upper passband edge: 10.00 Hz\n",
      "- Upper transition bandwidth: 0.50 Hz (-12 dB cutoff frequency: 10.25 Hz)\n",
      "- Filter length: 5000 samples (10.000 s)\n",
      "\n",
      "... filtering target\n",
      "Setting up band-pass filter from 1 - 10 Hz\n",
      "\n",
      "FIR filter parameters\n",
      "---------------------\n",
      "Designing a two-pass forward and reverse, zero-phase, non-causal bandpass filter:\n",
      "- Windowed frequency-domain design (firwin2) method\n",
      "- Hann window\n",
      "- Lower passband edge: 1.00\n",
      "- Lower transition bandwidth: 0.50 Hz (-12 dB cutoff frequency: 0.75 Hz)\n",
      "- Upper passband edge: 10.00 Hz\n",
      "- Upper transition bandwidth: 0.50 Hz (-12 dB cutoff frequency: 10.25 Hz)\n",
      "- Filter length: 5000 samples (10.000 s)\n",
      "\n"
     ]
    },
    {
     "name": "stderr",
     "output_type": "stream",
     "text": [
      "[Parallel(n_jobs=1)]: Done  17 tasks      | elapsed:    0.2s\n",
      "[Parallel(n_jobs=1)]: Done  30 out of  30 | elapsed:    0.3s finished\n",
      "[Parallel(n_jobs=1)]: Done   1 out of   1 | elapsed:    0.0s finished\n"
     ]
    },
    {
     "name": "stdout",
     "output_type": "stream",
     "text": [
      "Applying ICA to Raw instance\n",
      "    Transforming to ICA space (30 components)\n",
      "    Zeroing out 2 ICA components\n",
      "    Projecting back using 30 PCA components\n",
      "Used Annotations descriptions: [np.str_('101'), np.str_('102'), np.str_('103'), np.str_('11'), np.str_('111'), np.str_('112'), np.str_('12'), np.str_('121'), np.str_('122'), np.str_('123'), np.str_('124'), np.str_('13'), np.str_('14'), np.str_('15'), np.str_('16'), np.str_('17'), np.str_('21'), np.str_('22'), np.str_('23'), np.str_('24'), np.str_('25'), np.str_('26'), np.str_('27')]\n",
      "Writing '../data/preprocessData/emotion/eeg/participants.tsv'...\n",
      "Writing '../data/preprocessData/emotion/eeg/participants.json'...\n",
      "Writing '../data/preprocessData/emotion/eeg/sub-8/eeg/sub-8_space-CapTrak_electrodes.tsv'...\n",
      "Writing '../data/preprocessData/emotion/eeg/sub-8/eeg/sub-8_space-CapTrak_coordsystem.json'...\n",
      "Used Annotations descriptions: [np.str_('101'), np.str_('102'), np.str_('103'), np.str_('11'), np.str_('111'), np.str_('112'), np.str_('12'), np.str_('121'), np.str_('122'), np.str_('123'), np.str_('124'), np.str_('13'), np.str_('14'), np.str_('15'), np.str_('16'), np.str_('17'), np.str_('21'), np.str_('22'), np.str_('23'), np.str_('24'), np.str_('25'), np.str_('26'), np.str_('27')]\n",
      "Writing '../data/preprocessData/emotion/eeg/sub-8/eeg/sub-8_task-emotion_events.tsv'...\n",
      "Writing '../data/preprocessData/emotion/eeg/sub-8/eeg/sub-8_task-emotion_events.json'...\n",
      "Writing '../data/preprocessData/emotion/eeg/dataset_description.json'...\n",
      "Writing '../data/preprocessData/emotion/eeg/sub-8/eeg/sub-8_task-emotion_eeg.json'...\n",
      "Writing '../data/preprocessData/emotion/eeg/sub-8/eeg/sub-8_task-emotion_channels.tsv'...\n",
      "Copying data files to sub-8_task-emotion_eeg.vhdr\n"
     ]
    },
    {
     "name": "stderr",
     "output_type": "stream",
     "text": [
      "/Users/hyijie/Desktop/桌面文件夹/Lab/CPP_Multiverse_stage2/.venv/lib/python3.13/site-packages/mne/preprocessing/ica.py:2401: RuntimeWarning: divide by zero encountered in matmul\n",
      "  mixing = pca_components.T @ mixing\n",
      "/Users/hyijie/Desktop/桌面文件夹/Lab/CPP_Multiverse_stage2/.venv/lib/python3.13/site-packages/mne/preprocessing/ica.py:2401: RuntimeWarning: overflow encountered in matmul\n",
      "  mixing = pca_components.T @ mixing\n",
      "/Users/hyijie/Desktop/桌面文件夹/Lab/CPP_Multiverse_stage2/.venv/lib/python3.13/site-packages/mne/preprocessing/ica.py:2401: RuntimeWarning: invalid value encountered in matmul\n",
      "  mixing = pca_components.T @ mixing\n",
      "/var/folders/xc/16fqwx1n1gbfb77yd1bdg8mh0000gn/T/ipykernel_13251/3761815757.py:41: RuntimeWarning: Converting data files to BrainVision format\n",
      "  write_raw_bids(\n",
      "/var/folders/xc/16fqwx1n1gbfb77yd1bdg8mh0000gn/T/ipykernel_13251/3761815757.py:41: RuntimeWarning: Encountered data in \"int\" format. Converting to float32.\n",
      "  write_raw_bids(\n",
      "/Users/hyijie/Desktop/桌面文件夹/Lab/CPP_Multiverse_stage2/.venv/lib/python3.13/site-packages/pybv/io.py:682: UserWarning: Encountered unsupported non-voltage units: n/a\n",
      "Note that the BrainVision format specification supports only µV.\n",
      "  warn(msg)\n"
     ]
    },
    {
     "name": "stdout",
     "output_type": "stream",
     "text": [
      "Writing '../data/preprocessData/emotion/eeg/sub-8/sub-8_scans.tsv'...\n",
      "Wrote ../data/preprocessData/emotion/eeg/sub-8/sub-8_scans.tsv entry with eeg/sub-8_task-emotion_eeg.vhdr.\n"
     ]
    },
    {
     "name": "stderr",
     "output_type": "stream",
     "text": [
      "/var/folders/xc/16fqwx1n1gbfb77yd1bdg8mh0000gn/T/ipykernel_13251/3761815757.py:9: RuntimeWarning:   Could not parse meas date from the header. Setting to None.\n",
      "  raw = mne.io.read_raw_cnt(os.path.join(ds_root, 'Rawdata', sub_eeg+'.cnt'))\n",
      "/var/folders/xc/16fqwx1n1gbfb77yd1bdg8mh0000gn/T/ipykernel_13251/3761815757.py:13: RuntimeWarning: The unit for channel(s) A1 has changed from V to NA.\n",
      "  raw.set_channel_types({'HEOG': 'eog',\n"
     ]
    },
    {
     "name": "stdout",
     "output_type": "stream",
     "text": [
      "Filtering raw data in 1 contiguous segment\n",
      "Setting up band-pass filter from 1 - 30 Hz\n",
      "\n",
      "FIR filter parameters\n",
      "---------------------\n",
      "Designing a one-pass, zero-phase, non-causal bandpass filter:\n",
      "- Windowed time-domain design (firwin) method\n",
      "- Hamming window with 0.0194 passband ripple and 53 dB stopband attenuation\n",
      "- Lower passband edge: 1.00\n",
      "- Lower transition bandwidth: 1.00 Hz (-6 dB cutoff frequency: 0.50 Hz)\n",
      "- Upper passband edge: 30.00 Hz\n",
      "- Upper transition bandwidth: 7.50 Hz (-6 dB cutoff frequency: 33.75 Hz)\n",
      "- Filter length: 1651 samples (3.302 s)\n",
      "\n",
      "EEG channel type selected for re-referencing\n",
      "Applying average reference.\n",
      "Applying a custom ('EEG',) reference.\n",
      "Fitting ICA to data using 30 channels (please be patient, this may take a while)\n"
     ]
    },
    {
     "name": "stderr",
     "output_type": "stream",
     "text": [
      "[Parallel(n_jobs=1)]: Done  17 tasks      | elapsed:    0.1s\n",
      "[Parallel(n_jobs=1)]: Done  30 out of  30 | elapsed:    0.2s finished\n"
     ]
    },
    {
     "name": "stdout",
     "output_type": "stream",
     "text": [
      "Selecting by number: 30 components\n",
      "Fitting ICA took 4.0s.\n",
      "Using EOG channels: HEOG, VEOG\n",
      "... filtering ICA sources\n",
      "Setting up band-pass filter from 1 - 10 Hz\n",
      "\n",
      "FIR filter parameters\n",
      "---------------------\n",
      "Designing a two-pass forward and reverse, zero-phase, non-causal bandpass filter:\n",
      "- Windowed frequency-domain design (firwin2) method\n",
      "- Hann window\n",
      "- Lower passband edge: 1.00\n",
      "- Lower transition bandwidth: 0.50 Hz (-12 dB cutoff frequency: 0.75 Hz)\n",
      "- Upper passband edge: 10.00 Hz\n",
      "- Upper transition bandwidth: 0.50 Hz (-12 dB cutoff frequency: 10.25 Hz)\n",
      "- Filter length: 5000 samples (10.000 s)\n",
      "\n"
     ]
    },
    {
     "name": "stderr",
     "output_type": "stream",
     "text": [
      "/Users/hyijie/Desktop/桌面文件夹/Lab/CPP_Multiverse_stage2/.venv/lib/python3.13/site-packages/scipy/linalg/_basic.py:1622: RuntimeWarning: divide by zero encountered in matmul\n",
      "  B = (u @ vh[:rank]).conj().T\n",
      "/Users/hyijie/Desktop/桌面文件夹/Lab/CPP_Multiverse_stage2/.venv/lib/python3.13/site-packages/scipy/linalg/_basic.py:1622: RuntimeWarning: overflow encountered in matmul\n",
      "  B = (u @ vh[:rank]).conj().T\n",
      "/Users/hyijie/Desktop/桌面文件夹/Lab/CPP_Multiverse_stage2/.venv/lib/python3.13/site-packages/scipy/linalg/_basic.py:1622: RuntimeWarning: invalid value encountered in matmul\n",
      "  B = (u @ vh[:rank]).conj().T\n",
      "/var/folders/xc/16fqwx1n1gbfb77yd1bdg8mh0000gn/T/ipykernel_13251/3761815757.py:24: RuntimeWarning: Using n_components=30 (resulting in n_components_=30) may lead to an unstable mixing matrix estimation because the ratio between the largest (17) and smallest (3.1e-29) variances is too large (> 1e6); consider setting n_components=0.999999 or an integer <= 29\n",
      "  ica.fit(raw)\n",
      "/Users/hyijie/Desktop/桌面文件夹/Lab/CPP_Multiverse_stage2/.venv/lib/python3.13/site-packages/mne/utils/linalg.py:243: RuntimeWarning: divide by zero encountered in matmul\n",
      "  return (u @ vh[:rank]).conj().T\n",
      "/Users/hyijie/Desktop/桌面文件夹/Lab/CPP_Multiverse_stage2/.venv/lib/python3.13/site-packages/mne/utils/linalg.py:243: RuntimeWarning: overflow encountered in matmul\n",
      "  return (u @ vh[:rank]).conj().T\n",
      "/Users/hyijie/Desktop/桌面文件夹/Lab/CPP_Multiverse_stage2/.venv/lib/python3.13/site-packages/mne/utils/linalg.py:243: RuntimeWarning: invalid value encountered in matmul\n",
      "  return (u @ vh[:rank]).conj().T\n"
     ]
    },
    {
     "name": "stdout",
     "output_type": "stream",
     "text": [
      "... filtering target\n",
      "Setting up band-pass filter from 1 - 10 Hz\n",
      "\n",
      "FIR filter parameters\n",
      "---------------------\n",
      "Designing a two-pass forward and reverse, zero-phase, non-causal bandpass filter:\n",
      "- Windowed frequency-domain design (firwin2) method\n",
      "- Hann window\n",
      "- Lower passband edge: 1.00\n",
      "- Lower transition bandwidth: 0.50 Hz (-12 dB cutoff frequency: 0.75 Hz)\n",
      "- Upper passband edge: 10.00 Hz\n",
      "- Upper transition bandwidth: 0.50 Hz (-12 dB cutoff frequency: 10.25 Hz)\n",
      "- Filter length: 5000 samples (10.000 s)\n",
      "\n"
     ]
    },
    {
     "name": "stderr",
     "output_type": "stream",
     "text": [
      "[Parallel(n_jobs=1)]: Done  17 tasks      | elapsed:    0.1s\n",
      "[Parallel(n_jobs=1)]: Done  30 out of  30 | elapsed:    0.2s finished\n",
      "[Parallel(n_jobs=1)]: Done   1 out of   1 | elapsed:    0.0s finished\n"
     ]
    },
    {
     "name": "stdout",
     "output_type": "stream",
     "text": [
      "... filtering ICA sources\n",
      "Setting up band-pass filter from 1 - 10 Hz\n",
      "\n",
      "FIR filter parameters\n",
      "---------------------\n",
      "Designing a two-pass forward and reverse, zero-phase, non-causal bandpass filter:\n",
      "- Windowed frequency-domain design (firwin2) method\n",
      "- Hann window\n",
      "- Lower passband edge: 1.00\n",
      "- Lower transition bandwidth: 0.50 Hz (-12 dB cutoff frequency: 0.75 Hz)\n",
      "- Upper passband edge: 10.00 Hz\n",
      "- Upper transition bandwidth: 0.50 Hz (-12 dB cutoff frequency: 10.25 Hz)\n",
      "- Filter length: 5000 samples (10.000 s)\n",
      "\n",
      "... filtering target\n",
      "Setting up band-pass filter from 1 - 10 Hz\n",
      "\n",
      "FIR filter parameters\n",
      "---------------------\n",
      "Designing a two-pass forward and reverse, zero-phase, non-causal bandpass filter:\n",
      "- Windowed frequency-domain design (firwin2) method\n",
      "- Hann window\n",
      "- Lower passband edge: 1.00\n",
      "- Lower transition bandwidth: 0.50 Hz (-12 dB cutoff frequency: 0.75 Hz)\n",
      "- Upper passband edge: 10.00 Hz\n",
      "- Upper transition bandwidth: 0.50 Hz (-12 dB cutoff frequency: 10.25 Hz)\n",
      "- Filter length: 5000 samples (10.000 s)\n",
      "\n"
     ]
    },
    {
     "name": "stderr",
     "output_type": "stream",
     "text": [
      "[Parallel(n_jobs=1)]: Done  17 tasks      | elapsed:    0.1s\n",
      "[Parallel(n_jobs=1)]: Done  30 out of  30 | elapsed:    0.2s finished\n",
      "[Parallel(n_jobs=1)]: Done   1 out of   1 | elapsed:    0.0s finished\n"
     ]
    },
    {
     "name": "stdout",
     "output_type": "stream",
     "text": [
      "Applying ICA to Raw instance\n",
      "    Transforming to ICA space (30 components)\n",
      "    Zeroing out 3 ICA components\n",
      "    Projecting back using 30 PCA components\n",
      "Used Annotations descriptions: [np.str_('101'), np.str_('102'), np.str_('11'), np.str_('111'), np.str_('112'), np.str_('12'), np.str_('121'), np.str_('122'), np.str_('123'), np.str_('13'), np.str_('14'), np.str_('15'), np.str_('16'), np.str_('17'), np.str_('21'), np.str_('22'), np.str_('23'), np.str_('24'), np.str_('25'), np.str_('26'), np.str_('27')]\n",
      "Writing '../data/preprocessData/emotion/eeg/participants.tsv'...\n",
      "Writing '../data/preprocessData/emotion/eeg/participants.json'...\n",
      "Writing '../data/preprocessData/emotion/eeg/sub-9/eeg/sub-9_space-CapTrak_electrodes.tsv'...\n",
      "Writing '../data/preprocessData/emotion/eeg/sub-9/eeg/sub-9_space-CapTrak_coordsystem.json'...\n",
      "Used Annotations descriptions: [np.str_('101'), np.str_('102'), np.str_('11'), np.str_('111'), np.str_('112'), np.str_('12'), np.str_('121'), np.str_('122'), np.str_('123'), np.str_('13'), np.str_('14'), np.str_('15'), np.str_('16'), np.str_('17'), np.str_('21'), np.str_('22'), np.str_('23'), np.str_('24'), np.str_('25'), np.str_('26'), np.str_('27')]\n",
      "Writing '../data/preprocessData/emotion/eeg/sub-9/eeg/sub-9_task-emotion_events.tsv'...\n",
      "Writing '../data/preprocessData/emotion/eeg/sub-9/eeg/sub-9_task-emotion_events.json'...\n",
      "Writing '../data/preprocessData/emotion/eeg/dataset_description.json'...\n",
      "Writing '../data/preprocessData/emotion/eeg/sub-9/eeg/sub-9_task-emotion_eeg.json'...\n",
      "Writing '../data/preprocessData/emotion/eeg/sub-9/eeg/sub-9_task-emotion_channels.tsv'...\n",
      "Copying data files to sub-9_task-emotion_eeg.vhdr\n"
     ]
    },
    {
     "name": "stderr",
     "output_type": "stream",
     "text": [
      "/Users/hyijie/Desktop/桌面文件夹/Lab/CPP_Multiverse_stage2/.venv/lib/python3.13/site-packages/mne/preprocessing/ica.py:2401: RuntimeWarning: divide by zero encountered in matmul\n",
      "  mixing = pca_components.T @ mixing\n",
      "/Users/hyijie/Desktop/桌面文件夹/Lab/CPP_Multiverse_stage2/.venv/lib/python3.13/site-packages/mne/preprocessing/ica.py:2401: RuntimeWarning: overflow encountered in matmul\n",
      "  mixing = pca_components.T @ mixing\n",
      "/Users/hyijie/Desktop/桌面文件夹/Lab/CPP_Multiverse_stage2/.venv/lib/python3.13/site-packages/mne/preprocessing/ica.py:2401: RuntimeWarning: invalid value encountered in matmul\n",
      "  mixing = pca_components.T @ mixing\n",
      "/var/folders/xc/16fqwx1n1gbfb77yd1bdg8mh0000gn/T/ipykernel_13251/3761815757.py:41: RuntimeWarning: Converting data files to BrainVision format\n",
      "  write_raw_bids(\n",
      "/var/folders/xc/16fqwx1n1gbfb77yd1bdg8mh0000gn/T/ipykernel_13251/3761815757.py:41: RuntimeWarning: Encountered data in \"int\" format. Converting to float32.\n",
      "  write_raw_bids(\n",
      "/Users/hyijie/Desktop/桌面文件夹/Lab/CPP_Multiverse_stage2/.venv/lib/python3.13/site-packages/pybv/io.py:682: UserWarning: Encountered unsupported non-voltage units: n/a\n",
      "Note that the BrainVision format specification supports only µV.\n",
      "  warn(msg)\n"
     ]
    },
    {
     "name": "stdout",
     "output_type": "stream",
     "text": [
      "Writing '../data/preprocessData/emotion/eeg/sub-9/sub-9_scans.tsv'...\n",
      "Wrote ../data/preprocessData/emotion/eeg/sub-9/sub-9_scans.tsv entry with eeg/sub-9_task-emotion_eeg.vhdr.\n"
     ]
    },
    {
     "name": "stderr",
     "output_type": "stream",
     "text": [
      "/var/folders/xc/16fqwx1n1gbfb77yd1bdg8mh0000gn/T/ipykernel_13251/3761815757.py:9: RuntimeWarning:   Could not parse meas date from the header. Setting to None.\n",
      "  raw = mne.io.read_raw_cnt(os.path.join(ds_root, 'Rawdata', sub_eeg+'.cnt'))\n",
      "/var/folders/xc/16fqwx1n1gbfb77yd1bdg8mh0000gn/T/ipykernel_13251/3761815757.py:13: RuntimeWarning: The unit for channel(s) A1 has changed from V to NA.\n",
      "  raw.set_channel_types({'HEOG': 'eog',\n"
     ]
    },
    {
     "name": "stdout",
     "output_type": "stream",
     "text": [
      "Filtering raw data in 1 contiguous segment\n",
      "Setting up band-pass filter from 1 - 30 Hz\n",
      "\n",
      "FIR filter parameters\n",
      "---------------------\n",
      "Designing a one-pass, zero-phase, non-causal bandpass filter:\n",
      "- Windowed time-domain design (firwin) method\n",
      "- Hamming window with 0.0194 passband ripple and 53 dB stopband attenuation\n",
      "- Lower passband edge: 1.00\n",
      "- Lower transition bandwidth: 1.00 Hz (-6 dB cutoff frequency: 0.50 Hz)\n",
      "- Upper passband edge: 30.00 Hz\n",
      "- Upper transition bandwidth: 7.50 Hz (-6 dB cutoff frequency: 33.75 Hz)\n",
      "- Filter length: 1651 samples (3.302 s)\n",
      "\n",
      "EEG channel type selected for re-referencing\n",
      "Applying average reference.\n",
      "Applying a custom ('EEG',) reference.\n",
      "Fitting ICA to data using 30 channels (please be patient, this may take a while)\n"
     ]
    },
    {
     "name": "stderr",
     "output_type": "stream",
     "text": [
      "[Parallel(n_jobs=1)]: Done  17 tasks      | elapsed:    0.1s\n",
      "[Parallel(n_jobs=1)]: Done  30 out of  30 | elapsed:    0.2s finished\n"
     ]
    },
    {
     "name": "stdout",
     "output_type": "stream",
     "text": [
      "Selecting by number: 30 components\n",
      "Fitting ICA took 3.7s.\n",
      "Using EOG channels: HEOG, VEOG\n",
      "... filtering ICA sources\n",
      "Setting up band-pass filter from 1 - 10 Hz\n",
      "\n",
      "FIR filter parameters\n",
      "---------------------\n",
      "Designing a two-pass forward and reverse, zero-phase, non-causal bandpass filter:\n",
      "- Windowed frequency-domain design (firwin2) method\n",
      "- Hann window\n",
      "- Lower passband edge: 1.00\n",
      "- Lower transition bandwidth: 0.50 Hz (-12 dB cutoff frequency: 0.75 Hz)\n",
      "- Upper passband edge: 10.00 Hz\n",
      "- Upper transition bandwidth: 0.50 Hz (-12 dB cutoff frequency: 10.25 Hz)\n",
      "- Filter length: 5000 samples (10.000 s)\n",
      "\n"
     ]
    },
    {
     "name": "stderr",
     "output_type": "stream",
     "text": [
      "/Users/hyijie/Desktop/桌面文件夹/Lab/CPP_Multiverse_stage2/.venv/lib/python3.13/site-packages/scipy/linalg/_basic.py:1622: RuntimeWarning: divide by zero encountered in matmul\n",
      "  B = (u @ vh[:rank]).conj().T\n",
      "/Users/hyijie/Desktop/桌面文件夹/Lab/CPP_Multiverse_stage2/.venv/lib/python3.13/site-packages/scipy/linalg/_basic.py:1622: RuntimeWarning: overflow encountered in matmul\n",
      "  B = (u @ vh[:rank]).conj().T\n",
      "/Users/hyijie/Desktop/桌面文件夹/Lab/CPP_Multiverse_stage2/.venv/lib/python3.13/site-packages/scipy/linalg/_basic.py:1622: RuntimeWarning: invalid value encountered in matmul\n",
      "  B = (u @ vh[:rank]).conj().T\n",
      "/var/folders/xc/16fqwx1n1gbfb77yd1bdg8mh0000gn/T/ipykernel_13251/3761815757.py:24: RuntimeWarning: Using n_components=30 (resulting in n_components_=30) may lead to an unstable mixing matrix estimation because the ratio between the largest (22) and smallest (1.3e-29) variances is too large (> 1e6); consider setting n_components=0.999999 or an integer <= 29\n",
      "  ica.fit(raw)\n",
      "/Users/hyijie/Desktop/桌面文件夹/Lab/CPP_Multiverse_stage2/.venv/lib/python3.13/site-packages/mne/utils/linalg.py:243: RuntimeWarning: divide by zero encountered in matmul\n",
      "  return (u @ vh[:rank]).conj().T\n",
      "/Users/hyijie/Desktop/桌面文件夹/Lab/CPP_Multiverse_stage2/.venv/lib/python3.13/site-packages/mne/utils/linalg.py:243: RuntimeWarning: overflow encountered in matmul\n",
      "  return (u @ vh[:rank]).conj().T\n",
      "/Users/hyijie/Desktop/桌面文件夹/Lab/CPP_Multiverse_stage2/.venv/lib/python3.13/site-packages/mne/utils/linalg.py:243: RuntimeWarning: invalid value encountered in matmul\n",
      "  return (u @ vh[:rank]).conj().T\n"
     ]
    },
    {
     "name": "stdout",
     "output_type": "stream",
     "text": [
      "... filtering target\n",
      "Setting up band-pass filter from 1 - 10 Hz\n",
      "\n",
      "FIR filter parameters\n",
      "---------------------\n",
      "Designing a two-pass forward and reverse, zero-phase, non-causal bandpass filter:\n",
      "- Windowed frequency-domain design (firwin2) method\n",
      "- Hann window\n",
      "- Lower passband edge: 1.00\n",
      "- Lower transition bandwidth: 0.50 Hz (-12 dB cutoff frequency: 0.75 Hz)\n",
      "- Upper passband edge: 10.00 Hz\n",
      "- Upper transition bandwidth: 0.50 Hz (-12 dB cutoff frequency: 10.25 Hz)\n",
      "- Filter length: 5000 samples (10.000 s)\n",
      "\n"
     ]
    },
    {
     "name": "stderr",
     "output_type": "stream",
     "text": [
      "[Parallel(n_jobs=1)]: Done  17 tasks      | elapsed:    0.1s\n",
      "[Parallel(n_jobs=1)]: Done  30 out of  30 | elapsed:    0.2s finished\n",
      "[Parallel(n_jobs=1)]: Done   1 out of   1 | elapsed:    0.0s finished\n"
     ]
    },
    {
     "name": "stdout",
     "output_type": "stream",
     "text": [
      "... filtering ICA sources\n",
      "Setting up band-pass filter from 1 - 10 Hz\n",
      "\n",
      "FIR filter parameters\n",
      "---------------------\n",
      "Designing a two-pass forward and reverse, zero-phase, non-causal bandpass filter:\n",
      "- Windowed frequency-domain design (firwin2) method\n",
      "- Hann window\n",
      "- Lower passband edge: 1.00\n",
      "- Lower transition bandwidth: 0.50 Hz (-12 dB cutoff frequency: 0.75 Hz)\n",
      "- Upper passband edge: 10.00 Hz\n",
      "- Upper transition bandwidth: 0.50 Hz (-12 dB cutoff frequency: 10.25 Hz)\n",
      "- Filter length: 5000 samples (10.000 s)\n",
      "\n",
      "... filtering target\n",
      "Setting up band-pass filter from 1 - 10 Hz\n",
      "\n",
      "FIR filter parameters\n",
      "---------------------\n",
      "Designing a two-pass forward and reverse, zero-phase, non-causal bandpass filter:\n",
      "- Windowed frequency-domain design (firwin2) method\n",
      "- Hann window\n",
      "- Lower passband edge: 1.00\n",
      "- Lower transition bandwidth: 0.50 Hz (-12 dB cutoff frequency: 0.75 Hz)\n",
      "- Upper passband edge: 10.00 Hz\n",
      "- Upper transition bandwidth: 0.50 Hz (-12 dB cutoff frequency: 10.25 Hz)\n",
      "- Filter length: 5000 samples (10.000 s)\n",
      "\n"
     ]
    },
    {
     "name": "stderr",
     "output_type": "stream",
     "text": [
      "[Parallel(n_jobs=1)]: Done  17 tasks      | elapsed:    0.1s\n",
      "[Parallel(n_jobs=1)]: Done  30 out of  30 | elapsed:    0.2s finished\n",
      "[Parallel(n_jobs=1)]: Done   1 out of   1 | elapsed:    0.0s finished\n"
     ]
    },
    {
     "name": "stdout",
     "output_type": "stream",
     "text": [
      "Applying ICA to Raw instance\n",
      "    Transforming to ICA space (30 components)\n",
      "    Zeroing out 3 ICA components\n",
      "    Projecting back using 30 PCA components\n",
      "Used Annotations descriptions: [np.str_('101'), np.str_('102'), np.str_('11'), np.str_('111'), np.str_('112'), np.str_('12'), np.str_('121'), np.str_('122'), np.str_('123'), np.str_('13'), np.str_('14'), np.str_('15'), np.str_('16'), np.str_('17'), np.str_('21'), np.str_('22'), np.str_('23'), np.str_('24'), np.str_('25'), np.str_('26'), np.str_('27')]\n",
      "Writing '../data/preprocessData/emotion/eeg/participants.tsv'...\n",
      "Writing '../data/preprocessData/emotion/eeg/participants.json'...\n",
      "Writing '../data/preprocessData/emotion/eeg/sub-10/eeg/sub-10_space-CapTrak_electrodes.tsv'...\n",
      "Writing '../data/preprocessData/emotion/eeg/sub-10/eeg/sub-10_space-CapTrak_coordsystem.json'...\n",
      "Used Annotations descriptions: [np.str_('101'), np.str_('102'), np.str_('11'), np.str_('111'), np.str_('112'), np.str_('12'), np.str_('121'), np.str_('122'), np.str_('123'), np.str_('13'), np.str_('14'), np.str_('15'), np.str_('16'), np.str_('17'), np.str_('21'), np.str_('22'), np.str_('23'), np.str_('24'), np.str_('25'), np.str_('26'), np.str_('27')]\n",
      "Writing '../data/preprocessData/emotion/eeg/sub-10/eeg/sub-10_task-emotion_events.tsv'...\n",
      "Writing '../data/preprocessData/emotion/eeg/sub-10/eeg/sub-10_task-emotion_events.json'...\n",
      "Writing '../data/preprocessData/emotion/eeg/dataset_description.json'...\n",
      "Writing '../data/preprocessData/emotion/eeg/sub-10/eeg/sub-10_task-emotion_eeg.json'...\n",
      "Writing '../data/preprocessData/emotion/eeg/sub-10/eeg/sub-10_task-emotion_channels.tsv'...\n",
      "Copying data files to sub-10_task-emotion_eeg.vhdr\n"
     ]
    },
    {
     "name": "stderr",
     "output_type": "stream",
     "text": [
      "/Users/hyijie/Desktop/桌面文件夹/Lab/CPP_Multiverse_stage2/.venv/lib/python3.13/site-packages/mne/preprocessing/ica.py:2401: RuntimeWarning: divide by zero encountered in matmul\n",
      "  mixing = pca_components.T @ mixing\n",
      "/Users/hyijie/Desktop/桌面文件夹/Lab/CPP_Multiverse_stage2/.venv/lib/python3.13/site-packages/mne/preprocessing/ica.py:2401: RuntimeWarning: overflow encountered in matmul\n",
      "  mixing = pca_components.T @ mixing\n",
      "/Users/hyijie/Desktop/桌面文件夹/Lab/CPP_Multiverse_stage2/.venv/lib/python3.13/site-packages/mne/preprocessing/ica.py:2401: RuntimeWarning: invalid value encountered in matmul\n",
      "  mixing = pca_components.T @ mixing\n",
      "/var/folders/xc/16fqwx1n1gbfb77yd1bdg8mh0000gn/T/ipykernel_13251/3761815757.py:41: RuntimeWarning: Converting data files to BrainVision format\n",
      "  write_raw_bids(\n",
      "/var/folders/xc/16fqwx1n1gbfb77yd1bdg8mh0000gn/T/ipykernel_13251/3761815757.py:41: RuntimeWarning: Encountered data in \"int\" format. Converting to float32.\n",
      "  write_raw_bids(\n",
      "/Users/hyijie/Desktop/桌面文件夹/Lab/CPP_Multiverse_stage2/.venv/lib/python3.13/site-packages/pybv/io.py:682: UserWarning: Encountered unsupported non-voltage units: n/a\n",
      "Note that the BrainVision format specification supports only µV.\n",
      "  warn(msg)\n"
     ]
    },
    {
     "name": "stdout",
     "output_type": "stream",
     "text": [
      "Writing '../data/preprocessData/emotion/eeg/sub-10/sub-10_scans.tsv'...\n",
      "Wrote ../data/preprocessData/emotion/eeg/sub-10/sub-10_scans.tsv entry with eeg/sub-10_task-emotion_eeg.vhdr.\n"
     ]
    },
    {
     "name": "stderr",
     "output_type": "stream",
     "text": [
      "/var/folders/xc/16fqwx1n1gbfb77yd1bdg8mh0000gn/T/ipykernel_13251/3761815757.py:9: RuntimeWarning:   Could not parse meas date from the header. Setting to None.\n",
      "  raw = mne.io.read_raw_cnt(os.path.join(ds_root, 'Rawdata', sub_eeg+'.cnt'))\n",
      "/var/folders/xc/16fqwx1n1gbfb77yd1bdg8mh0000gn/T/ipykernel_13251/3761815757.py:13: RuntimeWarning: The unit for channel(s) A1 has changed from V to NA.\n",
      "  raw.set_channel_types({'HEOG': 'eog',\n"
     ]
    },
    {
     "name": "stdout",
     "output_type": "stream",
     "text": [
      "Filtering raw data in 1 contiguous segment\n",
      "Setting up band-pass filter from 1 - 30 Hz\n",
      "\n",
      "FIR filter parameters\n",
      "---------------------\n",
      "Designing a one-pass, zero-phase, non-causal bandpass filter:\n",
      "- Windowed time-domain design (firwin) method\n",
      "- Hamming window with 0.0194 passband ripple and 53 dB stopband attenuation\n",
      "- Lower passband edge: 1.00\n",
      "- Lower transition bandwidth: 1.00 Hz (-6 dB cutoff frequency: 0.50 Hz)\n",
      "- Upper passband edge: 30.00 Hz\n",
      "- Upper transition bandwidth: 7.50 Hz (-6 dB cutoff frequency: 33.75 Hz)\n",
      "- Filter length: 1651 samples (3.302 s)\n",
      "\n",
      "EEG channel type selected for re-referencing\n",
      "Applying average reference.\n",
      "Applying a custom ('EEG',) reference.\n",
      "Fitting ICA to data using 30 channels (please be patient, this may take a while)\n"
     ]
    },
    {
     "name": "stderr",
     "output_type": "stream",
     "text": [
      "[Parallel(n_jobs=1)]: Done  17 tasks      | elapsed:    0.2s\n",
      "[Parallel(n_jobs=1)]: Done  30 out of  30 | elapsed:    0.2s finished\n"
     ]
    },
    {
     "name": "stdout",
     "output_type": "stream",
     "text": [
      "Selecting by number: 30 components\n",
      "Fitting ICA took 4.2s.\n",
      "Using EOG channels: HEOG, VEOG\n",
      "... filtering ICA sources\n",
      "Setting up band-pass filter from 1 - 10 Hz\n",
      "\n",
      "FIR filter parameters\n",
      "---------------------\n",
      "Designing a two-pass forward and reverse, zero-phase, non-causal bandpass filter:\n",
      "- Windowed frequency-domain design (firwin2) method\n",
      "- Hann window\n",
      "- Lower passband edge: 1.00\n",
      "- Lower transition bandwidth: 0.50 Hz (-12 dB cutoff frequency: 0.75 Hz)\n",
      "- Upper passband edge: 10.00 Hz\n",
      "- Upper transition bandwidth: 0.50 Hz (-12 dB cutoff frequency: 10.25 Hz)\n",
      "- Filter length: 5000 samples (10.000 s)\n",
      "\n"
     ]
    },
    {
     "name": "stderr",
     "output_type": "stream",
     "text": [
      "/Users/hyijie/Desktop/桌面文件夹/Lab/CPP_Multiverse_stage2/.venv/lib/python3.13/site-packages/scipy/linalg/_basic.py:1622: RuntimeWarning: divide by zero encountered in matmul\n",
      "  B = (u @ vh[:rank]).conj().T\n",
      "/Users/hyijie/Desktop/桌面文件夹/Lab/CPP_Multiverse_stage2/.venv/lib/python3.13/site-packages/scipy/linalg/_basic.py:1622: RuntimeWarning: overflow encountered in matmul\n",
      "  B = (u @ vh[:rank]).conj().T\n",
      "/Users/hyijie/Desktop/桌面文件夹/Lab/CPP_Multiverse_stage2/.venv/lib/python3.13/site-packages/scipy/linalg/_basic.py:1622: RuntimeWarning: invalid value encountered in matmul\n",
      "  B = (u @ vh[:rank]).conj().T\n",
      "/var/folders/xc/16fqwx1n1gbfb77yd1bdg8mh0000gn/T/ipykernel_13251/3761815757.py:24: RuntimeWarning: Using n_components=30 (resulting in n_components_=30) may lead to an unstable mixing matrix estimation because the ratio between the largest (27) and smallest (3e-30) variances is too large (> 1e6); consider setting n_components=0.999999 or an integer <= 29\n",
      "  ica.fit(raw)\n",
      "/Users/hyijie/Desktop/桌面文件夹/Lab/CPP_Multiverse_stage2/.venv/lib/python3.13/site-packages/mne/utils/linalg.py:243: RuntimeWarning: divide by zero encountered in matmul\n",
      "  return (u @ vh[:rank]).conj().T\n",
      "/Users/hyijie/Desktop/桌面文件夹/Lab/CPP_Multiverse_stage2/.venv/lib/python3.13/site-packages/mne/utils/linalg.py:243: RuntimeWarning: overflow encountered in matmul\n",
      "  return (u @ vh[:rank]).conj().T\n",
      "/Users/hyijie/Desktop/桌面文件夹/Lab/CPP_Multiverse_stage2/.venv/lib/python3.13/site-packages/mne/utils/linalg.py:243: RuntimeWarning: invalid value encountered in matmul\n",
      "  return (u @ vh[:rank]).conj().T\n"
     ]
    },
    {
     "name": "stdout",
     "output_type": "stream",
     "text": [
      "... filtering target\n",
      "Setting up band-pass filter from 1 - 10 Hz\n",
      "\n",
      "FIR filter parameters\n",
      "---------------------\n",
      "Designing a two-pass forward and reverse, zero-phase, non-causal bandpass filter:\n",
      "- Windowed frequency-domain design (firwin2) method\n",
      "- Hann window\n",
      "- Lower passband edge: 1.00\n",
      "- Lower transition bandwidth: 0.50 Hz (-12 dB cutoff frequency: 0.75 Hz)\n",
      "- Upper passband edge: 10.00 Hz\n",
      "- Upper transition bandwidth: 0.50 Hz (-12 dB cutoff frequency: 10.25 Hz)\n",
      "- Filter length: 5000 samples (10.000 s)\n",
      "\n"
     ]
    },
    {
     "name": "stderr",
     "output_type": "stream",
     "text": [
      "[Parallel(n_jobs=1)]: Done  17 tasks      | elapsed:    0.2s\n",
      "[Parallel(n_jobs=1)]: Done  30 out of  30 | elapsed:    0.3s finished\n",
      "[Parallel(n_jobs=1)]: Done   1 out of   1 | elapsed:    0.0s finished\n"
     ]
    },
    {
     "name": "stdout",
     "output_type": "stream",
     "text": [
      "... filtering ICA sources\n",
      "Setting up band-pass filter from 1 - 10 Hz\n",
      "\n",
      "FIR filter parameters\n",
      "---------------------\n",
      "Designing a two-pass forward and reverse, zero-phase, non-causal bandpass filter:\n",
      "- Windowed frequency-domain design (firwin2) method\n",
      "- Hann window\n",
      "- Lower passband edge: 1.00\n",
      "- Lower transition bandwidth: 0.50 Hz (-12 dB cutoff frequency: 0.75 Hz)\n",
      "- Upper passband edge: 10.00 Hz\n",
      "- Upper transition bandwidth: 0.50 Hz (-12 dB cutoff frequency: 10.25 Hz)\n",
      "- Filter length: 5000 samples (10.000 s)\n",
      "\n",
      "... filtering target\n",
      "Setting up band-pass filter from 1 - 10 Hz\n",
      "\n",
      "FIR filter parameters\n",
      "---------------------\n",
      "Designing a two-pass forward and reverse, zero-phase, non-causal bandpass filter:\n",
      "- Windowed frequency-domain design (firwin2) method\n",
      "- Hann window\n",
      "- Lower passband edge: 1.00\n",
      "- Lower transition bandwidth: 0.50 Hz (-12 dB cutoff frequency: 0.75 Hz)\n",
      "- Upper passband edge: 10.00 Hz\n",
      "- Upper transition bandwidth: 0.50 Hz (-12 dB cutoff frequency: 10.25 Hz)\n",
      "- Filter length: 5000 samples (10.000 s)\n",
      "\n"
     ]
    },
    {
     "name": "stderr",
     "output_type": "stream",
     "text": [
      "[Parallel(n_jobs=1)]: Done  17 tasks      | elapsed:    0.1s\n",
      "[Parallel(n_jobs=1)]: Done  30 out of  30 | elapsed:    0.2s finished\n",
      "[Parallel(n_jobs=1)]: Done   1 out of   1 | elapsed:    0.0s finished\n"
     ]
    },
    {
     "name": "stdout",
     "output_type": "stream",
     "text": [
      "Applying ICA to Raw instance\n",
      "    Transforming to ICA space (30 components)\n",
      "    Zeroing out 3 ICA components\n",
      "    Projecting back using 30 PCA components\n",
      "Used Annotations descriptions: [np.str_('101'), np.str_('102'), np.str_('103'), np.str_('11'), np.str_('111'), np.str_('112'), np.str_('12'), np.str_('121'), np.str_('122'), np.str_('123'), np.str_('13'), np.str_('14'), np.str_('15'), np.str_('16'), np.str_('17'), np.str_('21'), np.str_('22'), np.str_('23'), np.str_('24'), np.str_('25'), np.str_('26'), np.str_('27')]\n",
      "Writing '../data/preprocessData/emotion/eeg/participants.tsv'...\n",
      "Writing '../data/preprocessData/emotion/eeg/participants.json'...\n",
      "Writing '../data/preprocessData/emotion/eeg/sub-11/eeg/sub-11_space-CapTrak_electrodes.tsv'...\n",
      "Writing '../data/preprocessData/emotion/eeg/sub-11/eeg/sub-11_space-CapTrak_coordsystem.json'...\n",
      "Used Annotations descriptions: [np.str_('101'), np.str_('102'), np.str_('103'), np.str_('11'), np.str_('111'), np.str_('112'), np.str_('12'), np.str_('121'), np.str_('122'), np.str_('123'), np.str_('13'), np.str_('14'), np.str_('15'), np.str_('16'), np.str_('17'), np.str_('21'), np.str_('22'), np.str_('23'), np.str_('24'), np.str_('25'), np.str_('26'), np.str_('27')]\n",
      "Writing '../data/preprocessData/emotion/eeg/sub-11/eeg/sub-11_task-emotion_events.tsv'...\n",
      "Writing '../data/preprocessData/emotion/eeg/sub-11/eeg/sub-11_task-emotion_events.json'...\n",
      "Writing '../data/preprocessData/emotion/eeg/dataset_description.json'...\n",
      "Writing '../data/preprocessData/emotion/eeg/sub-11/eeg/sub-11_task-emotion_eeg.json'...\n",
      "Writing '../data/preprocessData/emotion/eeg/sub-11/eeg/sub-11_task-emotion_channels.tsv'...\n",
      "Copying data files to sub-11_task-emotion_eeg.vhdr\n"
     ]
    },
    {
     "name": "stderr",
     "output_type": "stream",
     "text": [
      "/Users/hyijie/Desktop/桌面文件夹/Lab/CPP_Multiverse_stage2/.venv/lib/python3.13/site-packages/mne/preprocessing/ica.py:2401: RuntimeWarning: divide by zero encountered in matmul\n",
      "  mixing = pca_components.T @ mixing\n",
      "/Users/hyijie/Desktop/桌面文件夹/Lab/CPP_Multiverse_stage2/.venv/lib/python3.13/site-packages/mne/preprocessing/ica.py:2401: RuntimeWarning: overflow encountered in matmul\n",
      "  mixing = pca_components.T @ mixing\n",
      "/Users/hyijie/Desktop/桌面文件夹/Lab/CPP_Multiverse_stage2/.venv/lib/python3.13/site-packages/mne/preprocessing/ica.py:2401: RuntimeWarning: invalid value encountered in matmul\n",
      "  mixing = pca_components.T @ mixing\n",
      "/var/folders/xc/16fqwx1n1gbfb77yd1bdg8mh0000gn/T/ipykernel_13251/3761815757.py:41: RuntimeWarning: Converting data files to BrainVision format\n",
      "  write_raw_bids(\n",
      "/var/folders/xc/16fqwx1n1gbfb77yd1bdg8mh0000gn/T/ipykernel_13251/3761815757.py:41: RuntimeWarning: Encountered data in \"int\" format. Converting to float32.\n",
      "  write_raw_bids(\n",
      "/Users/hyijie/Desktop/桌面文件夹/Lab/CPP_Multiverse_stage2/.venv/lib/python3.13/site-packages/pybv/io.py:682: UserWarning: Encountered unsupported non-voltage units: n/a\n",
      "Note that the BrainVision format specification supports only µV.\n",
      "  warn(msg)\n"
     ]
    },
    {
     "name": "stdout",
     "output_type": "stream",
     "text": [
      "Writing '../data/preprocessData/emotion/eeg/sub-11/sub-11_scans.tsv'...\n",
      "Wrote ../data/preprocessData/emotion/eeg/sub-11/sub-11_scans.tsv entry with eeg/sub-11_task-emotion_eeg.vhdr.\n"
     ]
    },
    {
     "name": "stderr",
     "output_type": "stream",
     "text": [
      "/var/folders/xc/16fqwx1n1gbfb77yd1bdg8mh0000gn/T/ipykernel_13251/3761815757.py:9: RuntimeWarning:   Could not parse meas date from the header. Setting to None.\n",
      "  raw = mne.io.read_raw_cnt(os.path.join(ds_root, 'Rawdata', sub_eeg+'.cnt'))\n",
      "/var/folders/xc/16fqwx1n1gbfb77yd1bdg8mh0000gn/T/ipykernel_13251/3761815757.py:13: RuntimeWarning: The unit for channel(s) A1 has changed from V to NA.\n",
      "  raw.set_channel_types({'HEOG': 'eog',\n"
     ]
    },
    {
     "name": "stdout",
     "output_type": "stream",
     "text": [
      "Filtering raw data in 1 contiguous segment\n",
      "Setting up band-pass filter from 1 - 30 Hz\n",
      "\n",
      "FIR filter parameters\n",
      "---------------------\n",
      "Designing a one-pass, zero-phase, non-causal bandpass filter:\n",
      "- Windowed time-domain design (firwin) method\n",
      "- Hamming window with 0.0194 passband ripple and 53 dB stopband attenuation\n",
      "- Lower passband edge: 1.00\n",
      "- Lower transition bandwidth: 1.00 Hz (-6 dB cutoff frequency: 0.50 Hz)\n",
      "- Upper passband edge: 30.00 Hz\n",
      "- Upper transition bandwidth: 7.50 Hz (-6 dB cutoff frequency: 33.75 Hz)\n",
      "- Filter length: 1651 samples (3.302 s)\n",
      "\n",
      "EEG channel type selected for re-referencing\n",
      "Applying average reference.\n",
      "Applying a custom ('EEG',) reference.\n",
      "Fitting ICA to data using 30 channels (please be patient, this may take a while)\n"
     ]
    },
    {
     "name": "stderr",
     "output_type": "stream",
     "text": [
      "[Parallel(n_jobs=1)]: Done  17 tasks      | elapsed:    0.1s\n",
      "[Parallel(n_jobs=1)]: Done  30 out of  30 | elapsed:    0.2s finished\n"
     ]
    },
    {
     "name": "stdout",
     "output_type": "stream",
     "text": [
      "Selecting by number: 30 components\n",
      "Fitting ICA took 3.7s.\n",
      "Using EOG channels: HEOG, VEOG\n",
      "... filtering ICA sources\n",
      "Setting up band-pass filter from 1 - 10 Hz\n",
      "\n",
      "FIR filter parameters\n",
      "---------------------\n",
      "Designing a two-pass forward and reverse, zero-phase, non-causal bandpass filter:\n",
      "- Windowed frequency-domain design (firwin2) method\n",
      "- Hann window\n",
      "- Lower passband edge: 1.00\n",
      "- Lower transition bandwidth: 0.50 Hz (-12 dB cutoff frequency: 0.75 Hz)\n",
      "- Upper passband edge: 10.00 Hz\n",
      "- Upper transition bandwidth: 0.50 Hz (-12 dB cutoff frequency: 10.25 Hz)\n",
      "- Filter length: 5000 samples (10.000 s)\n",
      "\n"
     ]
    },
    {
     "name": "stderr",
     "output_type": "stream",
     "text": [
      "/Users/hyijie/Desktop/桌面文件夹/Lab/CPP_Multiverse_stage2/.venv/lib/python3.13/site-packages/scipy/linalg/_basic.py:1622: RuntimeWarning: divide by zero encountered in matmul\n",
      "  B = (u @ vh[:rank]).conj().T\n",
      "/Users/hyijie/Desktop/桌面文件夹/Lab/CPP_Multiverse_stage2/.venv/lib/python3.13/site-packages/scipy/linalg/_basic.py:1622: RuntimeWarning: overflow encountered in matmul\n",
      "  B = (u @ vh[:rank]).conj().T\n",
      "/Users/hyijie/Desktop/桌面文件夹/Lab/CPP_Multiverse_stage2/.venv/lib/python3.13/site-packages/scipy/linalg/_basic.py:1622: RuntimeWarning: invalid value encountered in matmul\n",
      "  B = (u @ vh[:rank]).conj().T\n",
      "/var/folders/xc/16fqwx1n1gbfb77yd1bdg8mh0000gn/T/ipykernel_13251/3761815757.py:24: RuntimeWarning: Using n_components=30 (resulting in n_components_=30) may lead to an unstable mixing matrix estimation because the ratio between the largest (16) and smallest (6e-30) variances is too large (> 1e6); consider setting n_components=0.999999 or an integer <= 29\n",
      "  ica.fit(raw)\n",
      "/Users/hyijie/Desktop/桌面文件夹/Lab/CPP_Multiverse_stage2/.venv/lib/python3.13/site-packages/mne/utils/linalg.py:243: RuntimeWarning: divide by zero encountered in matmul\n",
      "  return (u @ vh[:rank]).conj().T\n",
      "/Users/hyijie/Desktop/桌面文件夹/Lab/CPP_Multiverse_stage2/.venv/lib/python3.13/site-packages/mne/utils/linalg.py:243: RuntimeWarning: overflow encountered in matmul\n",
      "  return (u @ vh[:rank]).conj().T\n",
      "/Users/hyijie/Desktop/桌面文件夹/Lab/CPP_Multiverse_stage2/.venv/lib/python3.13/site-packages/mne/utils/linalg.py:243: RuntimeWarning: invalid value encountered in matmul\n",
      "  return (u @ vh[:rank]).conj().T\n"
     ]
    },
    {
     "name": "stdout",
     "output_type": "stream",
     "text": [
      "... filtering target\n",
      "Setting up band-pass filter from 1 - 10 Hz\n",
      "\n",
      "FIR filter parameters\n",
      "---------------------\n",
      "Designing a two-pass forward and reverse, zero-phase, non-causal bandpass filter:\n",
      "- Windowed frequency-domain design (firwin2) method\n",
      "- Hann window\n",
      "- Lower passband edge: 1.00\n",
      "- Lower transition bandwidth: 0.50 Hz (-12 dB cutoff frequency: 0.75 Hz)\n",
      "- Upper passband edge: 10.00 Hz\n",
      "- Upper transition bandwidth: 0.50 Hz (-12 dB cutoff frequency: 10.25 Hz)\n",
      "- Filter length: 5000 samples (10.000 s)\n",
      "\n"
     ]
    },
    {
     "name": "stderr",
     "output_type": "stream",
     "text": [
      "[Parallel(n_jobs=1)]: Done  17 tasks      | elapsed:    0.1s\n",
      "[Parallel(n_jobs=1)]: Done  30 out of  30 | elapsed:    0.2s finished\n",
      "[Parallel(n_jobs=1)]: Done   1 out of   1 | elapsed:    0.0s finished\n"
     ]
    },
    {
     "name": "stdout",
     "output_type": "stream",
     "text": [
      "... filtering ICA sources\n",
      "Setting up band-pass filter from 1 - 10 Hz\n",
      "\n",
      "FIR filter parameters\n",
      "---------------------\n",
      "Designing a two-pass forward and reverse, zero-phase, non-causal bandpass filter:\n",
      "- Windowed frequency-domain design (firwin2) method\n",
      "- Hann window\n",
      "- Lower passband edge: 1.00\n",
      "- Lower transition bandwidth: 0.50 Hz (-12 dB cutoff frequency: 0.75 Hz)\n",
      "- Upper passband edge: 10.00 Hz\n",
      "- Upper transition bandwidth: 0.50 Hz (-12 dB cutoff frequency: 10.25 Hz)\n",
      "- Filter length: 5000 samples (10.000 s)\n",
      "\n",
      "... filtering target\n",
      "Setting up band-pass filter from 1 - 10 Hz\n",
      "\n",
      "FIR filter parameters\n",
      "---------------------\n",
      "Designing a two-pass forward and reverse, zero-phase, non-causal bandpass filter:\n",
      "- Windowed frequency-domain design (firwin2) method\n",
      "- Hann window\n",
      "- Lower passband edge: 1.00\n",
      "- Lower transition bandwidth: 0.50 Hz (-12 dB cutoff frequency: 0.75 Hz)\n",
      "- Upper passband edge: 10.00 Hz\n",
      "- Upper transition bandwidth: 0.50 Hz (-12 dB cutoff frequency: 10.25 Hz)\n",
      "- Filter length: 5000 samples (10.000 s)\n",
      "\n"
     ]
    },
    {
     "name": "stderr",
     "output_type": "stream",
     "text": [
      "[Parallel(n_jobs=1)]: Done  17 tasks      | elapsed:    0.1s\n",
      "[Parallel(n_jobs=1)]: Done  30 out of  30 | elapsed:    0.2s finished\n",
      "[Parallel(n_jobs=1)]: Done   1 out of   1 | elapsed:    0.0s finished\n"
     ]
    },
    {
     "name": "stdout",
     "output_type": "stream",
     "text": [
      "Applying ICA to Raw instance\n",
      "    Transforming to ICA space (30 components)\n",
      "    Zeroing out 3 ICA components\n",
      "    Projecting back using 30 PCA components\n",
      "Used Annotations descriptions: [np.str_('101'), np.str_('102'), np.str_('11'), np.str_('111'), np.str_('112'), np.str_('12'), np.str_('121'), np.str_('122'), np.str_('123'), np.str_('13'), np.str_('14'), np.str_('15'), np.str_('16'), np.str_('17'), np.str_('21'), np.str_('22'), np.str_('23'), np.str_('24'), np.str_('25'), np.str_('26'), np.str_('27')]\n",
      "Writing '../data/preprocessData/emotion/eeg/participants.tsv'...\n",
      "Writing '../data/preprocessData/emotion/eeg/participants.json'...\n",
      "Writing '../data/preprocessData/emotion/eeg/sub-12/eeg/sub-12_space-CapTrak_electrodes.tsv'...\n",
      "Writing '../data/preprocessData/emotion/eeg/sub-12/eeg/sub-12_space-CapTrak_coordsystem.json'...\n",
      "Used Annotations descriptions: [np.str_('101'), np.str_('102'), np.str_('11'), np.str_('111'), np.str_('112'), np.str_('12'), np.str_('121'), np.str_('122'), np.str_('123'), np.str_('13'), np.str_('14'), np.str_('15'), np.str_('16'), np.str_('17'), np.str_('21'), np.str_('22'), np.str_('23'), np.str_('24'), np.str_('25'), np.str_('26'), np.str_('27')]\n",
      "Writing '../data/preprocessData/emotion/eeg/sub-12/eeg/sub-12_task-emotion_events.tsv'...\n",
      "Writing '../data/preprocessData/emotion/eeg/sub-12/eeg/sub-12_task-emotion_events.json'...\n",
      "Writing '../data/preprocessData/emotion/eeg/dataset_description.json'...\n",
      "Writing '../data/preprocessData/emotion/eeg/sub-12/eeg/sub-12_task-emotion_eeg.json'...\n",
      "Writing '../data/preprocessData/emotion/eeg/sub-12/eeg/sub-12_task-emotion_channels.tsv'...\n",
      "Copying data files to sub-12_task-emotion_eeg.vhdr\n"
     ]
    },
    {
     "name": "stderr",
     "output_type": "stream",
     "text": [
      "/Users/hyijie/Desktop/桌面文件夹/Lab/CPP_Multiverse_stage2/.venv/lib/python3.13/site-packages/mne/preprocessing/ica.py:2401: RuntimeWarning: divide by zero encountered in matmul\n",
      "  mixing = pca_components.T @ mixing\n",
      "/Users/hyijie/Desktop/桌面文件夹/Lab/CPP_Multiverse_stage2/.venv/lib/python3.13/site-packages/mne/preprocessing/ica.py:2401: RuntimeWarning: overflow encountered in matmul\n",
      "  mixing = pca_components.T @ mixing\n",
      "/Users/hyijie/Desktop/桌面文件夹/Lab/CPP_Multiverse_stage2/.venv/lib/python3.13/site-packages/mne/preprocessing/ica.py:2401: RuntimeWarning: invalid value encountered in matmul\n",
      "  mixing = pca_components.T @ mixing\n",
      "/var/folders/xc/16fqwx1n1gbfb77yd1bdg8mh0000gn/T/ipykernel_13251/3761815757.py:41: RuntimeWarning: Converting data files to BrainVision format\n",
      "  write_raw_bids(\n",
      "/var/folders/xc/16fqwx1n1gbfb77yd1bdg8mh0000gn/T/ipykernel_13251/3761815757.py:41: RuntimeWarning: Encountered data in \"int\" format. Converting to float32.\n",
      "  write_raw_bids(\n",
      "/Users/hyijie/Desktop/桌面文件夹/Lab/CPP_Multiverse_stage2/.venv/lib/python3.13/site-packages/pybv/io.py:682: UserWarning: Encountered unsupported non-voltage units: n/a\n",
      "Note that the BrainVision format specification supports only µV.\n",
      "  warn(msg)\n"
     ]
    },
    {
     "name": "stdout",
     "output_type": "stream",
     "text": [
      "Writing '../data/preprocessData/emotion/eeg/sub-12/sub-12_scans.tsv'...\n",
      "Wrote ../data/preprocessData/emotion/eeg/sub-12/sub-12_scans.tsv entry with eeg/sub-12_task-emotion_eeg.vhdr.\n",
      "Skipping subject Emotion_sub12: test4trial count (279) is less than behavior rows (280)\n"
     ]
    },
    {
     "name": "stderr",
     "output_type": "stream",
     "text": [
      "/var/folders/xc/16fqwx1n1gbfb77yd1bdg8mh0000gn/T/ipykernel_13251/3761815757.py:9: RuntimeWarning:   Could not parse meas date from the header. Setting to None.\n",
      "  raw = mne.io.read_raw_cnt(os.path.join(ds_root, 'Rawdata', sub_eeg+'.cnt'))\n",
      "/var/folders/xc/16fqwx1n1gbfb77yd1bdg8mh0000gn/T/ipykernel_13251/3761815757.py:13: RuntimeWarning: The unit for channel(s) A1 has changed from V to NA.\n",
      "  raw.set_channel_types({'HEOG': 'eog',\n"
     ]
    },
    {
     "name": "stdout",
     "output_type": "stream",
     "text": [
      "Filtering raw data in 1 contiguous segment\n",
      "Setting up band-pass filter from 1 - 30 Hz\n",
      "\n",
      "FIR filter parameters\n",
      "---------------------\n",
      "Designing a one-pass, zero-phase, non-causal bandpass filter:\n",
      "- Windowed time-domain design (firwin) method\n",
      "- Hamming window with 0.0194 passband ripple and 53 dB stopband attenuation\n",
      "- Lower passband edge: 1.00\n",
      "- Lower transition bandwidth: 1.00 Hz (-6 dB cutoff frequency: 0.50 Hz)\n",
      "- Upper passband edge: 30.00 Hz\n",
      "- Upper transition bandwidth: 7.50 Hz (-6 dB cutoff frequency: 33.75 Hz)\n",
      "- Filter length: 1651 samples (3.302 s)\n",
      "\n",
      "EEG channel type selected for re-referencing\n",
      "Applying average reference.\n",
      "Applying a custom ('EEG',) reference.\n",
      "Fitting ICA to data using 30 channels (please be patient, this may take a while)\n"
     ]
    },
    {
     "name": "stderr",
     "output_type": "stream",
     "text": [
      "[Parallel(n_jobs=1)]: Done  17 tasks      | elapsed:    0.2s\n",
      "[Parallel(n_jobs=1)]: Done  30 out of  30 | elapsed:    0.3s finished\n"
     ]
    },
    {
     "name": "stdout",
     "output_type": "stream",
     "text": [
      "Selecting by number: 30 components\n",
      "Fitting ICA took 6.1s.\n",
      "Using EOG channels: HEOG, VEOG\n",
      "... filtering ICA sources\n",
      "Setting up band-pass filter from 1 - 10 Hz\n",
      "\n",
      "FIR filter parameters\n",
      "---------------------\n",
      "Designing a two-pass forward and reverse, zero-phase, non-causal bandpass filter:\n",
      "- Windowed frequency-domain design (firwin2) method\n",
      "- Hann window\n",
      "- Lower passband edge: 1.00\n",
      "- Lower transition bandwidth: 0.50 Hz (-12 dB cutoff frequency: 0.75 Hz)\n",
      "- Upper passband edge: 10.00 Hz\n",
      "- Upper transition bandwidth: 0.50 Hz (-12 dB cutoff frequency: 10.25 Hz)\n",
      "- Filter length: 5000 samples (10.000 s)\n",
      "\n"
     ]
    },
    {
     "name": "stderr",
     "output_type": "stream",
     "text": [
      "/Users/hyijie/Desktop/桌面文件夹/Lab/CPP_Multiverse_stage2/.venv/lib/python3.13/site-packages/scipy/linalg/_basic.py:1622: RuntimeWarning: divide by zero encountered in matmul\n",
      "  B = (u @ vh[:rank]).conj().T\n",
      "/Users/hyijie/Desktop/桌面文件夹/Lab/CPP_Multiverse_stage2/.venv/lib/python3.13/site-packages/scipy/linalg/_basic.py:1622: RuntimeWarning: overflow encountered in matmul\n",
      "  B = (u @ vh[:rank]).conj().T\n",
      "/Users/hyijie/Desktop/桌面文件夹/Lab/CPP_Multiverse_stage2/.venv/lib/python3.13/site-packages/scipy/linalg/_basic.py:1622: RuntimeWarning: invalid value encountered in matmul\n",
      "  B = (u @ vh[:rank]).conj().T\n",
      "/var/folders/xc/16fqwx1n1gbfb77yd1bdg8mh0000gn/T/ipykernel_13251/3761815757.py:24: RuntimeWarning: Using n_components=30 (resulting in n_components_=30) may lead to an unstable mixing matrix estimation because the ratio between the largest (16) and smallest (4.7e-30) variances is too large (> 1e6); consider setting n_components=0.999999 or an integer <= 29\n",
      "  ica.fit(raw)\n",
      "/Users/hyijie/Desktop/桌面文件夹/Lab/CPP_Multiverse_stage2/.venv/lib/python3.13/site-packages/mne/utils/linalg.py:243: RuntimeWarning: divide by zero encountered in matmul\n",
      "  return (u @ vh[:rank]).conj().T\n",
      "/Users/hyijie/Desktop/桌面文件夹/Lab/CPP_Multiverse_stage2/.venv/lib/python3.13/site-packages/mne/utils/linalg.py:243: RuntimeWarning: overflow encountered in matmul\n",
      "  return (u @ vh[:rank]).conj().T\n",
      "/Users/hyijie/Desktop/桌面文件夹/Lab/CPP_Multiverse_stage2/.venv/lib/python3.13/site-packages/mne/utils/linalg.py:243: RuntimeWarning: invalid value encountered in matmul\n",
      "  return (u @ vh[:rank]).conj().T\n"
     ]
    },
    {
     "name": "stdout",
     "output_type": "stream",
     "text": [
      "... filtering target\n",
      "Setting up band-pass filter from 1 - 10 Hz\n",
      "\n",
      "FIR filter parameters\n",
      "---------------------\n",
      "Designing a two-pass forward and reverse, zero-phase, non-causal bandpass filter:\n",
      "- Windowed frequency-domain design (firwin2) method\n",
      "- Hann window\n",
      "- Lower passband edge: 1.00\n",
      "- Lower transition bandwidth: 0.50 Hz (-12 dB cutoff frequency: 0.75 Hz)\n",
      "- Upper passband edge: 10.00 Hz\n",
      "- Upper transition bandwidth: 0.50 Hz (-12 dB cutoff frequency: 10.25 Hz)\n",
      "- Filter length: 5000 samples (10.000 s)\n",
      "\n"
     ]
    },
    {
     "name": "stderr",
     "output_type": "stream",
     "text": [
      "[Parallel(n_jobs=1)]: Done  17 tasks      | elapsed:    0.1s\n",
      "[Parallel(n_jobs=1)]: Done  30 out of  30 | elapsed:    0.2s finished\n",
      "[Parallel(n_jobs=1)]: Done   1 out of   1 | elapsed:    0.0s finished\n"
     ]
    },
    {
     "name": "stdout",
     "output_type": "stream",
     "text": [
      "... filtering ICA sources\n",
      "Setting up band-pass filter from 1 - 10 Hz\n",
      "\n",
      "FIR filter parameters\n",
      "---------------------\n",
      "Designing a two-pass forward and reverse, zero-phase, non-causal bandpass filter:\n",
      "- Windowed frequency-domain design (firwin2) method\n",
      "- Hann window\n",
      "- Lower passband edge: 1.00\n",
      "- Lower transition bandwidth: 0.50 Hz (-12 dB cutoff frequency: 0.75 Hz)\n",
      "- Upper passband edge: 10.00 Hz\n",
      "- Upper transition bandwidth: 0.50 Hz (-12 dB cutoff frequency: 10.25 Hz)\n",
      "- Filter length: 5000 samples (10.000 s)\n",
      "\n",
      "... filtering target\n",
      "Setting up band-pass filter from 1 - 10 Hz\n",
      "\n",
      "FIR filter parameters\n",
      "---------------------\n",
      "Designing a two-pass forward and reverse, zero-phase, non-causal bandpass filter:\n",
      "- Windowed frequency-domain design (firwin2) method\n",
      "- Hann window\n",
      "- Lower passband edge: 1.00\n",
      "- Lower transition bandwidth: 0.50 Hz (-12 dB cutoff frequency: 0.75 Hz)\n",
      "- Upper passband edge: 10.00 Hz\n",
      "- Upper transition bandwidth: 0.50 Hz (-12 dB cutoff frequency: 10.25 Hz)\n",
      "- Filter length: 5000 samples (10.000 s)\n",
      "\n"
     ]
    },
    {
     "name": "stderr",
     "output_type": "stream",
     "text": [
      "[Parallel(n_jobs=1)]: Done  17 tasks      | elapsed:    0.1s\n",
      "[Parallel(n_jobs=1)]: Done  30 out of  30 | elapsed:    0.2s finished\n",
      "[Parallel(n_jobs=1)]: Done   1 out of   1 | elapsed:    0.0s finished\n"
     ]
    },
    {
     "name": "stdout",
     "output_type": "stream",
     "text": [
      "Applying ICA to Raw instance\n",
      "    Transforming to ICA space (30 components)\n",
      "    Zeroing out 3 ICA components\n",
      "    Projecting back using 30 PCA components\n",
      "Used Annotations descriptions: [np.str_('101'), np.str_('102'), np.str_('103'), np.str_('11'), np.str_('111'), np.str_('112'), np.str_('12'), np.str_('121'), np.str_('122'), np.str_('123'), np.str_('124'), np.str_('13'), np.str_('14'), np.str_('15'), np.str_('16'), np.str_('17'), np.str_('21'), np.str_('22'), np.str_('23'), np.str_('24'), np.str_('25'), np.str_('26'), np.str_('27')]\n",
      "Writing '../data/preprocessData/emotion/eeg/participants.tsv'...\n",
      "Writing '../data/preprocessData/emotion/eeg/participants.json'...\n",
      "Writing '../data/preprocessData/emotion/eeg/sub-13/eeg/sub-13_space-CapTrak_electrodes.tsv'...\n",
      "Writing '../data/preprocessData/emotion/eeg/sub-13/eeg/sub-13_space-CapTrak_coordsystem.json'...\n",
      "Used Annotations descriptions: [np.str_('101'), np.str_('102'), np.str_('103'), np.str_('11'), np.str_('111'), np.str_('112'), np.str_('12'), np.str_('121'), np.str_('122'), np.str_('123'), np.str_('124'), np.str_('13'), np.str_('14'), np.str_('15'), np.str_('16'), np.str_('17'), np.str_('21'), np.str_('22'), np.str_('23'), np.str_('24'), np.str_('25'), np.str_('26'), np.str_('27')]\n",
      "Writing '../data/preprocessData/emotion/eeg/sub-13/eeg/sub-13_task-emotion_events.tsv'...\n",
      "Writing '../data/preprocessData/emotion/eeg/sub-13/eeg/sub-13_task-emotion_events.json'...\n",
      "Writing '../data/preprocessData/emotion/eeg/dataset_description.json'...\n",
      "Writing '../data/preprocessData/emotion/eeg/sub-13/eeg/sub-13_task-emotion_eeg.json'...\n",
      "Writing '../data/preprocessData/emotion/eeg/sub-13/eeg/sub-13_task-emotion_channels.tsv'...\n",
      "Copying data files to sub-13_task-emotion_eeg.vhdr\n"
     ]
    },
    {
     "name": "stderr",
     "output_type": "stream",
     "text": [
      "/Users/hyijie/Desktop/桌面文件夹/Lab/CPP_Multiverse_stage2/.venv/lib/python3.13/site-packages/mne/preprocessing/ica.py:2401: RuntimeWarning: divide by zero encountered in matmul\n",
      "  mixing = pca_components.T @ mixing\n",
      "/Users/hyijie/Desktop/桌面文件夹/Lab/CPP_Multiverse_stage2/.venv/lib/python3.13/site-packages/mne/preprocessing/ica.py:2401: RuntimeWarning: overflow encountered in matmul\n",
      "  mixing = pca_components.T @ mixing\n",
      "/Users/hyijie/Desktop/桌面文件夹/Lab/CPP_Multiverse_stage2/.venv/lib/python3.13/site-packages/mne/preprocessing/ica.py:2401: RuntimeWarning: invalid value encountered in matmul\n",
      "  mixing = pca_components.T @ mixing\n",
      "/var/folders/xc/16fqwx1n1gbfb77yd1bdg8mh0000gn/T/ipykernel_13251/3761815757.py:41: RuntimeWarning: Converting data files to BrainVision format\n",
      "  write_raw_bids(\n",
      "/var/folders/xc/16fqwx1n1gbfb77yd1bdg8mh0000gn/T/ipykernel_13251/3761815757.py:41: RuntimeWarning: Encountered data in \"int\" format. Converting to float32.\n",
      "  write_raw_bids(\n",
      "/Users/hyijie/Desktop/桌面文件夹/Lab/CPP_Multiverse_stage2/.venv/lib/python3.13/site-packages/pybv/io.py:682: UserWarning: Encountered unsupported non-voltage units: n/a\n",
      "Note that the BrainVision format specification supports only µV.\n",
      "  warn(msg)\n"
     ]
    },
    {
     "name": "stdout",
     "output_type": "stream",
     "text": [
      "Writing '../data/preprocessData/emotion/eeg/sub-13/sub-13_scans.tsv'...\n",
      "Wrote ../data/preprocessData/emotion/eeg/sub-13/sub-13_scans.tsv entry with eeg/sub-13_task-emotion_eeg.vhdr.\n",
      "Skipping subject Emotion_sub13: test4trial count (278) is less than behavior rows (280)\n"
     ]
    },
    {
     "name": "stderr",
     "output_type": "stream",
     "text": [
      "/var/folders/xc/16fqwx1n1gbfb77yd1bdg8mh0000gn/T/ipykernel_13251/3761815757.py:9: RuntimeWarning:   Could not parse meas date from the header. Setting to None.\n",
      "  raw = mne.io.read_raw_cnt(os.path.join(ds_root, 'Rawdata', sub_eeg+'.cnt'))\n",
      "/var/folders/xc/16fqwx1n1gbfb77yd1bdg8mh0000gn/T/ipykernel_13251/3761815757.py:13: RuntimeWarning: The unit for channel(s) A1 has changed from V to NA.\n",
      "  raw.set_channel_types({'HEOG': 'eog',\n"
     ]
    },
    {
     "name": "stdout",
     "output_type": "stream",
     "text": [
      "Filtering raw data in 1 contiguous segment\n",
      "Setting up band-pass filter from 1 - 30 Hz\n",
      "\n",
      "FIR filter parameters\n",
      "---------------------\n",
      "Designing a one-pass, zero-phase, non-causal bandpass filter:\n",
      "- Windowed time-domain design (firwin) method\n",
      "- Hamming window with 0.0194 passband ripple and 53 dB stopband attenuation\n",
      "- Lower passband edge: 1.00\n",
      "- Lower transition bandwidth: 1.00 Hz (-6 dB cutoff frequency: 0.50 Hz)\n",
      "- Upper passband edge: 30.00 Hz\n",
      "- Upper transition bandwidth: 7.50 Hz (-6 dB cutoff frequency: 33.75 Hz)\n",
      "- Filter length: 1651 samples (3.302 s)\n",
      "\n",
      "EEG channel type selected for re-referencing\n",
      "Applying average reference.\n",
      "Applying a custom ('EEG',) reference.\n"
     ]
    },
    {
     "name": "stderr",
     "output_type": "stream",
     "text": [
      "[Parallel(n_jobs=1)]: Done  17 tasks      | elapsed:    0.2s\n",
      "[Parallel(n_jobs=1)]: Done  30 out of  30 | elapsed:    0.3s finished\n"
     ]
    },
    {
     "name": "stdout",
     "output_type": "stream",
     "text": [
      "Fitting ICA to data using 30 channels (please be patient, this may take a while)\n",
      "Selecting by number: 30 components\n",
      "Fitting ICA took 7.3s.\n",
      "Using EOG channels: HEOG, VEOG\n",
      "... filtering ICA sources\n",
      "Setting up band-pass filter from 1 - 10 Hz\n",
      "\n",
      "FIR filter parameters\n",
      "---------------------\n",
      "Designing a two-pass forward and reverse, zero-phase, non-causal bandpass filter:\n",
      "- Windowed frequency-domain design (firwin2) method\n",
      "- Hann window\n",
      "- Lower passband edge: 1.00\n",
      "- Lower transition bandwidth: 0.50 Hz (-12 dB cutoff frequency: 0.75 Hz)\n",
      "- Upper passband edge: 10.00 Hz\n",
      "- Upper transition bandwidth: 0.50 Hz (-12 dB cutoff frequency: 10.25 Hz)\n",
      "- Filter length: 5000 samples (10.000 s)\n",
      "\n"
     ]
    },
    {
     "name": "stderr",
     "output_type": "stream",
     "text": [
      "/Users/hyijie/Desktop/桌面文件夹/Lab/CPP_Multiverse_stage2/.venv/lib/python3.13/site-packages/scipy/linalg/_basic.py:1622: RuntimeWarning: divide by zero encountered in matmul\n",
      "  B = (u @ vh[:rank]).conj().T\n",
      "/Users/hyijie/Desktop/桌面文件夹/Lab/CPP_Multiverse_stage2/.venv/lib/python3.13/site-packages/scipy/linalg/_basic.py:1622: RuntimeWarning: overflow encountered in matmul\n",
      "  B = (u @ vh[:rank]).conj().T\n",
      "/Users/hyijie/Desktop/桌面文件夹/Lab/CPP_Multiverse_stage2/.venv/lib/python3.13/site-packages/scipy/linalg/_basic.py:1622: RuntimeWarning: invalid value encountered in matmul\n",
      "  B = (u @ vh[:rank]).conj().T\n",
      "/var/folders/xc/16fqwx1n1gbfb77yd1bdg8mh0000gn/T/ipykernel_13251/3761815757.py:24: RuntimeWarning: Using n_components=30 (resulting in n_components_=30) may lead to an unstable mixing matrix estimation because the ratio between the largest (23) and smallest (1.3e-29) variances is too large (> 1e6); consider setting n_components=0.999999 or an integer <= 29\n",
      "  ica.fit(raw)\n",
      "/Users/hyijie/Desktop/桌面文件夹/Lab/CPP_Multiverse_stage2/.venv/lib/python3.13/site-packages/mne/utils/linalg.py:243: RuntimeWarning: divide by zero encountered in matmul\n",
      "  return (u @ vh[:rank]).conj().T\n",
      "/Users/hyijie/Desktop/桌面文件夹/Lab/CPP_Multiverse_stage2/.venv/lib/python3.13/site-packages/mne/utils/linalg.py:243: RuntimeWarning: overflow encountered in matmul\n",
      "  return (u @ vh[:rank]).conj().T\n",
      "/Users/hyijie/Desktop/桌面文件夹/Lab/CPP_Multiverse_stage2/.venv/lib/python3.13/site-packages/mne/utils/linalg.py:243: RuntimeWarning: invalid value encountered in matmul\n",
      "  return (u @ vh[:rank]).conj().T\n"
     ]
    },
    {
     "name": "stdout",
     "output_type": "stream",
     "text": [
      "... filtering target\n",
      "Setting up band-pass filter from 1 - 10 Hz\n",
      "\n",
      "FIR filter parameters\n",
      "---------------------\n",
      "Designing a two-pass forward and reverse, zero-phase, non-causal bandpass filter:\n",
      "- Windowed frequency-domain design (firwin2) method\n",
      "- Hann window\n",
      "- Lower passband edge: 1.00\n",
      "- Lower transition bandwidth: 0.50 Hz (-12 dB cutoff frequency: 0.75 Hz)\n",
      "- Upper passband edge: 10.00 Hz\n",
      "- Upper transition bandwidth: 0.50 Hz (-12 dB cutoff frequency: 10.25 Hz)\n",
      "- Filter length: 5000 samples (10.000 s)\n",
      "\n"
     ]
    },
    {
     "name": "stderr",
     "output_type": "stream",
     "text": [
      "[Parallel(n_jobs=1)]: Done  17 tasks      | elapsed:    0.2s\n",
      "[Parallel(n_jobs=1)]: Done  30 out of  30 | elapsed:    0.3s finished\n",
      "[Parallel(n_jobs=1)]: Done   1 out of   1 | elapsed:    0.0s finished\n"
     ]
    },
    {
     "name": "stdout",
     "output_type": "stream",
     "text": [
      "... filtering ICA sources\n",
      "Setting up band-pass filter from 1 - 10 Hz\n",
      "\n",
      "FIR filter parameters\n",
      "---------------------\n",
      "Designing a two-pass forward and reverse, zero-phase, non-causal bandpass filter:\n",
      "- Windowed frequency-domain design (firwin2) method\n",
      "- Hann window\n",
      "- Lower passband edge: 1.00\n",
      "- Lower transition bandwidth: 0.50 Hz (-12 dB cutoff frequency: 0.75 Hz)\n",
      "- Upper passband edge: 10.00 Hz\n",
      "- Upper transition bandwidth: 0.50 Hz (-12 dB cutoff frequency: 10.25 Hz)\n",
      "- Filter length: 5000 samples (10.000 s)\n",
      "\n",
      "... filtering target\n",
      "Setting up band-pass filter from 1 - 10 Hz\n",
      "\n",
      "FIR filter parameters\n",
      "---------------------\n",
      "Designing a two-pass forward and reverse, zero-phase, non-causal bandpass filter:\n",
      "- Windowed frequency-domain design (firwin2) method\n",
      "- Hann window\n",
      "- Lower passband edge: 1.00\n",
      "- Lower transition bandwidth: 0.50 Hz (-12 dB cutoff frequency: 0.75 Hz)\n",
      "- Upper passband edge: 10.00 Hz\n",
      "- Upper transition bandwidth: 0.50 Hz (-12 dB cutoff frequency: 10.25 Hz)\n",
      "- Filter length: 5000 samples (10.000 s)\n",
      "\n"
     ]
    },
    {
     "name": "stderr",
     "output_type": "stream",
     "text": [
      "[Parallel(n_jobs=1)]: Done  17 tasks      | elapsed:    0.2s\n",
      "[Parallel(n_jobs=1)]: Done  30 out of  30 | elapsed:    0.3s finished\n",
      "[Parallel(n_jobs=1)]: Done   1 out of   1 | elapsed:    0.0s finished\n"
     ]
    },
    {
     "name": "stdout",
     "output_type": "stream",
     "text": [
      "Applying ICA to Raw instance\n",
      "    Transforming to ICA space (30 components)\n",
      "    Zeroing out 3 ICA components\n",
      "    Projecting back using 30 PCA components\n",
      "Used Annotations descriptions: [np.str_('101'), np.str_('102'), np.str_('103'), np.str_('11'), np.str_('111'), np.str_('112'), np.str_('12'), np.str_('121'), np.str_('122'), np.str_('123'), np.str_('13'), np.str_('14'), np.str_('15'), np.str_('16'), np.str_('17'), np.str_('21'), np.str_('22'), np.str_('23'), np.str_('24'), np.str_('25'), np.str_('26'), np.str_('27')]\n",
      "Writing '../data/preprocessData/emotion/eeg/participants.tsv'...\n",
      "Writing '../data/preprocessData/emotion/eeg/participants.json'...\n",
      "Writing '../data/preprocessData/emotion/eeg/sub-14/eeg/sub-14_space-CapTrak_electrodes.tsv'...\n",
      "Writing '../data/preprocessData/emotion/eeg/sub-14/eeg/sub-14_space-CapTrak_coordsystem.json'...\n",
      "Used Annotations descriptions: [np.str_('101'), np.str_('102'), np.str_('103'), np.str_('11'), np.str_('111'), np.str_('112'), np.str_('12'), np.str_('121'), np.str_('122'), np.str_('123'), np.str_('13'), np.str_('14'), np.str_('15'), np.str_('16'), np.str_('17'), np.str_('21'), np.str_('22'), np.str_('23'), np.str_('24'), np.str_('25'), np.str_('26'), np.str_('27')]\n",
      "Writing '../data/preprocessData/emotion/eeg/sub-14/eeg/sub-14_task-emotion_events.tsv'...\n",
      "Writing '../data/preprocessData/emotion/eeg/sub-14/eeg/sub-14_task-emotion_events.json'...\n",
      "Writing '../data/preprocessData/emotion/eeg/dataset_description.json'...\n",
      "Writing '../data/preprocessData/emotion/eeg/sub-14/eeg/sub-14_task-emotion_eeg.json'...\n",
      "Writing '../data/preprocessData/emotion/eeg/sub-14/eeg/sub-14_task-emotion_channels.tsv'...\n",
      "Copying data files to sub-14_task-emotion_eeg.vhdr\n"
     ]
    },
    {
     "name": "stderr",
     "output_type": "stream",
     "text": [
      "/Users/hyijie/Desktop/桌面文件夹/Lab/CPP_Multiverse_stage2/.venv/lib/python3.13/site-packages/mne/preprocessing/ica.py:2401: RuntimeWarning: divide by zero encountered in matmul\n",
      "  mixing = pca_components.T @ mixing\n",
      "/Users/hyijie/Desktop/桌面文件夹/Lab/CPP_Multiverse_stage2/.venv/lib/python3.13/site-packages/mne/preprocessing/ica.py:2401: RuntimeWarning: overflow encountered in matmul\n",
      "  mixing = pca_components.T @ mixing\n",
      "/Users/hyijie/Desktop/桌面文件夹/Lab/CPP_Multiverse_stage2/.venv/lib/python3.13/site-packages/mne/preprocessing/ica.py:2401: RuntimeWarning: invalid value encountered in matmul\n",
      "  mixing = pca_components.T @ mixing\n",
      "/var/folders/xc/16fqwx1n1gbfb77yd1bdg8mh0000gn/T/ipykernel_13251/3761815757.py:41: RuntimeWarning: Converting data files to BrainVision format\n",
      "  write_raw_bids(\n",
      "/var/folders/xc/16fqwx1n1gbfb77yd1bdg8mh0000gn/T/ipykernel_13251/3761815757.py:41: RuntimeWarning: Encountered data in \"int\" format. Converting to float32.\n",
      "  write_raw_bids(\n"
     ]
    },
    {
     "name": "stdout",
     "output_type": "stream",
     "text": [
      "Writing '../data/preprocessData/emotion/eeg/sub-14/sub-14_scans.tsv'...\n",
      "Wrote ../data/preprocessData/emotion/eeg/sub-14/sub-14_scans.tsv entry with eeg/sub-14_task-emotion_eeg.vhdr.\n"
     ]
    },
    {
     "name": "stderr",
     "output_type": "stream",
     "text": [
      "/Users/hyijie/Desktop/桌面文件夹/Lab/CPP_Multiverse_stage2/.venv/lib/python3.13/site-packages/pybv/io.py:682: UserWarning: Encountered unsupported non-voltage units: n/a\n",
      "Note that the BrainVision format specification supports only µV.\n",
      "  warn(msg)\n",
      "/var/folders/xc/16fqwx1n1gbfb77yd1bdg8mh0000gn/T/ipykernel_13251/3761815757.py:9: RuntimeWarning:   Could not parse meas date from the header. Setting to None.\n",
      "  raw = mne.io.read_raw_cnt(os.path.join(ds_root, 'Rawdata', sub_eeg+'.cnt'))\n",
      "/var/folders/xc/16fqwx1n1gbfb77yd1bdg8mh0000gn/T/ipykernel_13251/3761815757.py:13: RuntimeWarning: The unit for channel(s) A1 has changed from V to NA.\n",
      "  raw.set_channel_types({'HEOG': 'eog',\n"
     ]
    },
    {
     "name": "stdout",
     "output_type": "stream",
     "text": [
      "Filtering raw data in 1 contiguous segment\n",
      "Setting up band-pass filter from 1 - 30 Hz\n",
      "\n",
      "FIR filter parameters\n",
      "---------------------\n",
      "Designing a one-pass, zero-phase, non-causal bandpass filter:\n",
      "- Windowed time-domain design (firwin) method\n",
      "- Hamming window with 0.0194 passband ripple and 53 dB stopband attenuation\n",
      "- Lower passband edge: 1.00\n",
      "- Lower transition bandwidth: 1.00 Hz (-6 dB cutoff frequency: 0.50 Hz)\n",
      "- Upper passband edge: 30.00 Hz\n",
      "- Upper transition bandwidth: 7.50 Hz (-6 dB cutoff frequency: 33.75 Hz)\n",
      "- Filter length: 1651 samples (3.302 s)\n",
      "\n",
      "EEG channel type selected for re-referencing\n",
      "Applying average reference.\n",
      "Applying a custom ('EEG',) reference.\n",
      "Fitting ICA to data using 30 channels (please be patient, this may take a while)\n"
     ]
    },
    {
     "name": "stderr",
     "output_type": "stream",
     "text": [
      "[Parallel(n_jobs=1)]: Done  17 tasks      | elapsed:    0.1s\n",
      "[Parallel(n_jobs=1)]: Done  30 out of  30 | elapsed:    0.2s finished\n"
     ]
    },
    {
     "name": "stdout",
     "output_type": "stream",
     "text": [
      "Selecting by number: 30 components\n",
      "Fitting ICA took 4.0s.\n",
      "Using EOG channels: HEOG, VEOG\n",
      "... filtering ICA sources\n",
      "Setting up band-pass filter from 1 - 10 Hz\n",
      "\n",
      "FIR filter parameters\n",
      "---------------------\n",
      "Designing a two-pass forward and reverse, zero-phase, non-causal bandpass filter:\n",
      "- Windowed frequency-domain design (firwin2) method\n",
      "- Hann window\n",
      "- Lower passband edge: 1.00\n",
      "- Lower transition bandwidth: 0.50 Hz (-12 dB cutoff frequency: 0.75 Hz)\n",
      "- Upper passband edge: 10.00 Hz\n",
      "- Upper transition bandwidth: 0.50 Hz (-12 dB cutoff frequency: 10.25 Hz)\n",
      "- Filter length: 5000 samples (10.000 s)\n",
      "\n"
     ]
    },
    {
     "name": "stderr",
     "output_type": "stream",
     "text": [
      "/Users/hyijie/Desktop/桌面文件夹/Lab/CPP_Multiverse_stage2/.venv/lib/python3.13/site-packages/scipy/linalg/_basic.py:1622: RuntimeWarning: divide by zero encountered in matmul\n",
      "  B = (u @ vh[:rank]).conj().T\n",
      "/Users/hyijie/Desktop/桌面文件夹/Lab/CPP_Multiverse_stage2/.venv/lib/python3.13/site-packages/scipy/linalg/_basic.py:1622: RuntimeWarning: overflow encountered in matmul\n",
      "  B = (u @ vh[:rank]).conj().T\n",
      "/Users/hyijie/Desktop/桌面文件夹/Lab/CPP_Multiverse_stage2/.venv/lib/python3.13/site-packages/scipy/linalg/_basic.py:1622: RuntimeWarning: invalid value encountered in matmul\n",
      "  B = (u @ vh[:rank]).conj().T\n",
      "/var/folders/xc/16fqwx1n1gbfb77yd1bdg8mh0000gn/T/ipykernel_13251/3761815757.py:24: RuntimeWarning: Using n_components=30 (resulting in n_components_=30) may lead to an unstable mixing matrix estimation because the ratio between the largest (19) and smallest (2e-29) variances is too large (> 1e6); consider setting n_components=0.999999 or an integer <= 29\n",
      "  ica.fit(raw)\n",
      "/Users/hyijie/Desktop/桌面文件夹/Lab/CPP_Multiverse_stage2/.venv/lib/python3.13/site-packages/mne/utils/linalg.py:243: RuntimeWarning: divide by zero encountered in matmul\n",
      "  return (u @ vh[:rank]).conj().T\n",
      "/Users/hyijie/Desktop/桌面文件夹/Lab/CPP_Multiverse_stage2/.venv/lib/python3.13/site-packages/mne/utils/linalg.py:243: RuntimeWarning: overflow encountered in matmul\n",
      "  return (u @ vh[:rank]).conj().T\n",
      "/Users/hyijie/Desktop/桌面文件夹/Lab/CPP_Multiverse_stage2/.venv/lib/python3.13/site-packages/mne/utils/linalg.py:243: RuntimeWarning: invalid value encountered in matmul\n",
      "  return (u @ vh[:rank]).conj().T\n"
     ]
    },
    {
     "name": "stdout",
     "output_type": "stream",
     "text": [
      "... filtering target\n",
      "Setting up band-pass filter from 1 - 10 Hz\n",
      "\n",
      "FIR filter parameters\n",
      "---------------------\n",
      "Designing a two-pass forward and reverse, zero-phase, non-causal bandpass filter:\n",
      "- Windowed frequency-domain design (firwin2) method\n",
      "- Hann window\n",
      "- Lower passband edge: 1.00\n",
      "- Lower transition bandwidth: 0.50 Hz (-12 dB cutoff frequency: 0.75 Hz)\n",
      "- Upper passband edge: 10.00 Hz\n",
      "- Upper transition bandwidth: 0.50 Hz (-12 dB cutoff frequency: 10.25 Hz)\n",
      "- Filter length: 5000 samples (10.000 s)\n",
      "\n"
     ]
    },
    {
     "name": "stderr",
     "output_type": "stream",
     "text": [
      "[Parallel(n_jobs=1)]: Done  17 tasks      | elapsed:    0.2s\n",
      "[Parallel(n_jobs=1)]: Done  30 out of  30 | elapsed:    0.3s finished\n",
      "[Parallel(n_jobs=1)]: Done   1 out of   1 | elapsed:    0.0s finished\n"
     ]
    },
    {
     "name": "stdout",
     "output_type": "stream",
     "text": [
      "... filtering ICA sources\n",
      "Setting up band-pass filter from 1 - 10 Hz\n",
      "\n",
      "FIR filter parameters\n",
      "---------------------\n",
      "Designing a two-pass forward and reverse, zero-phase, non-causal bandpass filter:\n",
      "- Windowed frequency-domain design (firwin2) method\n",
      "- Hann window\n",
      "- Lower passband edge: 1.00\n",
      "- Lower transition bandwidth: 0.50 Hz (-12 dB cutoff frequency: 0.75 Hz)\n",
      "- Upper passband edge: 10.00 Hz\n",
      "- Upper transition bandwidth: 0.50 Hz (-12 dB cutoff frequency: 10.25 Hz)\n",
      "- Filter length: 5000 samples (10.000 s)\n",
      "\n",
      "... filtering target\n",
      "Setting up band-pass filter from 1 - 10 Hz\n",
      "\n",
      "FIR filter parameters\n",
      "---------------------\n",
      "Designing a two-pass forward and reverse, zero-phase, non-causal bandpass filter:\n",
      "- Windowed frequency-domain design (firwin2) method\n",
      "- Hann window\n",
      "- Lower passband edge: 1.00\n",
      "- Lower transition bandwidth: 0.50 Hz (-12 dB cutoff frequency: 0.75 Hz)\n",
      "- Upper passband edge: 10.00 Hz\n",
      "- Upper transition bandwidth: 0.50 Hz (-12 dB cutoff frequency: 10.25 Hz)\n",
      "- Filter length: 5000 samples (10.000 s)\n",
      "\n"
     ]
    },
    {
     "name": "stderr",
     "output_type": "stream",
     "text": [
      "[Parallel(n_jobs=1)]: Done  17 tasks      | elapsed:    0.1s\n",
      "[Parallel(n_jobs=1)]: Done  30 out of  30 | elapsed:    0.2s finished\n",
      "[Parallel(n_jobs=1)]: Done   1 out of   1 | elapsed:    0.0s finished\n"
     ]
    },
    {
     "name": "stdout",
     "output_type": "stream",
     "text": [
      "Applying ICA to Raw instance\n",
      "    Transforming to ICA space (30 components)\n",
      "    Zeroing out 3 ICA components\n",
      "    Projecting back using 30 PCA components\n",
      "Used Annotations descriptions: [np.str_('101'), np.str_('102'), np.str_('103'), np.str_('11'), np.str_('111'), np.str_('112'), np.str_('12'), np.str_('121'), np.str_('122'), np.str_('123'), np.str_('124'), np.str_('13'), np.str_('14'), np.str_('15'), np.str_('16'), np.str_('17'), np.str_('21'), np.str_('22'), np.str_('23'), np.str_('24'), np.str_('25'), np.str_('26'), np.str_('27')]\n",
      "Writing '../data/preprocessData/emotion/eeg/participants.tsv'...\n",
      "Writing '../data/preprocessData/emotion/eeg/participants.json'...\n",
      "Writing '../data/preprocessData/emotion/eeg/sub-15/eeg/sub-15_space-CapTrak_electrodes.tsv'...\n",
      "Writing '../data/preprocessData/emotion/eeg/sub-15/eeg/sub-15_space-CapTrak_coordsystem.json'...\n",
      "Used Annotations descriptions: [np.str_('101'), np.str_('102'), np.str_('103'), np.str_('11'), np.str_('111'), np.str_('112'), np.str_('12'), np.str_('121'), np.str_('122'), np.str_('123'), np.str_('124'), np.str_('13'), np.str_('14'), np.str_('15'), np.str_('16'), np.str_('17'), np.str_('21'), np.str_('22'), np.str_('23'), np.str_('24'), np.str_('25'), np.str_('26'), np.str_('27')]\n",
      "Writing '../data/preprocessData/emotion/eeg/sub-15/eeg/sub-15_task-emotion_events.tsv'...\n",
      "Writing '../data/preprocessData/emotion/eeg/sub-15/eeg/sub-15_task-emotion_events.json'...\n",
      "Writing '../data/preprocessData/emotion/eeg/dataset_description.json'...\n",
      "Writing '../data/preprocessData/emotion/eeg/sub-15/eeg/sub-15_task-emotion_eeg.json'...\n",
      "Writing '../data/preprocessData/emotion/eeg/sub-15/eeg/sub-15_task-emotion_channels.tsv'...\n",
      "Copying data files to sub-15_task-emotion_eeg.vhdr\n"
     ]
    },
    {
     "name": "stderr",
     "output_type": "stream",
     "text": [
      "/Users/hyijie/Desktop/桌面文件夹/Lab/CPP_Multiverse_stage2/.venv/lib/python3.13/site-packages/mne/preprocessing/ica.py:2401: RuntimeWarning: divide by zero encountered in matmul\n",
      "  mixing = pca_components.T @ mixing\n",
      "/Users/hyijie/Desktop/桌面文件夹/Lab/CPP_Multiverse_stage2/.venv/lib/python3.13/site-packages/mne/preprocessing/ica.py:2401: RuntimeWarning: overflow encountered in matmul\n",
      "  mixing = pca_components.T @ mixing\n",
      "/Users/hyijie/Desktop/桌面文件夹/Lab/CPP_Multiverse_stage2/.venv/lib/python3.13/site-packages/mne/preprocessing/ica.py:2401: RuntimeWarning: invalid value encountered in matmul\n",
      "  mixing = pca_components.T @ mixing\n",
      "/var/folders/xc/16fqwx1n1gbfb77yd1bdg8mh0000gn/T/ipykernel_13251/3761815757.py:41: RuntimeWarning: Converting data files to BrainVision format\n",
      "  write_raw_bids(\n",
      "/var/folders/xc/16fqwx1n1gbfb77yd1bdg8mh0000gn/T/ipykernel_13251/3761815757.py:41: RuntimeWarning: Encountered data in \"int\" format. Converting to float32.\n",
      "  write_raw_bids(\n",
      "/Users/hyijie/Desktop/桌面文件夹/Lab/CPP_Multiverse_stage2/.venv/lib/python3.13/site-packages/pybv/io.py:682: UserWarning: Encountered unsupported non-voltage units: n/a\n",
      "Note that the BrainVision format specification supports only µV.\n",
      "  warn(msg)\n"
     ]
    },
    {
     "name": "stdout",
     "output_type": "stream",
     "text": [
      "Writing '../data/preprocessData/emotion/eeg/sub-15/sub-15_scans.tsv'...\n",
      "Wrote ../data/preprocessData/emotion/eeg/sub-15/sub-15_scans.tsv entry with eeg/sub-15_task-emotion_eeg.vhdr.\n"
     ]
    },
    {
     "name": "stderr",
     "output_type": "stream",
     "text": [
      "/var/folders/xc/16fqwx1n1gbfb77yd1bdg8mh0000gn/T/ipykernel_13251/3761815757.py:9: RuntimeWarning:   Could not parse meas date from the header. Setting to None.\n",
      "  raw = mne.io.read_raw_cnt(os.path.join(ds_root, 'Rawdata', sub_eeg+'.cnt'))\n",
      "/var/folders/xc/16fqwx1n1gbfb77yd1bdg8mh0000gn/T/ipykernel_13251/3761815757.py:13: RuntimeWarning: The unit for channel(s) A1 has changed from V to NA.\n",
      "  raw.set_channel_types({'HEOG': 'eog',\n"
     ]
    },
    {
     "name": "stdout",
     "output_type": "stream",
     "text": [
      "Filtering raw data in 1 contiguous segment\n",
      "Setting up band-pass filter from 1 - 30 Hz\n",
      "\n",
      "FIR filter parameters\n",
      "---------------------\n",
      "Designing a one-pass, zero-phase, non-causal bandpass filter:\n",
      "- Windowed time-domain design (firwin) method\n",
      "- Hamming window with 0.0194 passband ripple and 53 dB stopband attenuation\n",
      "- Lower passband edge: 1.00\n",
      "- Lower transition bandwidth: 1.00 Hz (-6 dB cutoff frequency: 0.50 Hz)\n",
      "- Upper passband edge: 30.00 Hz\n",
      "- Upper transition bandwidth: 7.50 Hz (-6 dB cutoff frequency: 33.75 Hz)\n",
      "- Filter length: 1651 samples (3.302 s)\n",
      "\n",
      "EEG channel type selected for re-referencing\n",
      "Applying average reference.\n",
      "Applying a custom ('EEG',) reference.\n",
      "Fitting ICA to data using 30 channels (please be patient, this may take a while)\n"
     ]
    },
    {
     "name": "stderr",
     "output_type": "stream",
     "text": [
      "[Parallel(n_jobs=1)]: Done  17 tasks      | elapsed:    0.1s\n",
      "[Parallel(n_jobs=1)]: Done  30 out of  30 | elapsed:    0.2s finished\n"
     ]
    },
    {
     "name": "stdout",
     "output_type": "stream",
     "text": [
      "Selecting by number: 30 components\n",
      "Fitting ICA took 4.4s.\n",
      "Using EOG channels: HEOG, VEOG\n",
      "... filtering ICA sources\n",
      "Setting up band-pass filter from 1 - 10 Hz\n",
      "\n",
      "FIR filter parameters\n",
      "---------------------\n",
      "Designing a two-pass forward and reverse, zero-phase, non-causal bandpass filter:\n",
      "- Windowed frequency-domain design (firwin2) method\n",
      "- Hann window\n",
      "- Lower passband edge: 1.00\n",
      "- Lower transition bandwidth: 0.50 Hz (-12 dB cutoff frequency: 0.75 Hz)\n",
      "- Upper passband edge: 10.00 Hz\n",
      "- Upper transition bandwidth: 0.50 Hz (-12 dB cutoff frequency: 10.25 Hz)\n",
      "- Filter length: 5000 samples (10.000 s)\n",
      "\n"
     ]
    },
    {
     "name": "stderr",
     "output_type": "stream",
     "text": [
      "/Users/hyijie/Desktop/桌面文件夹/Lab/CPP_Multiverse_stage2/.venv/lib/python3.13/site-packages/scipy/linalg/_basic.py:1622: RuntimeWarning: divide by zero encountered in matmul\n",
      "  B = (u @ vh[:rank]).conj().T\n",
      "/Users/hyijie/Desktop/桌面文件夹/Lab/CPP_Multiverse_stage2/.venv/lib/python3.13/site-packages/scipy/linalg/_basic.py:1622: RuntimeWarning: overflow encountered in matmul\n",
      "  B = (u @ vh[:rank]).conj().T\n",
      "/Users/hyijie/Desktop/桌面文件夹/Lab/CPP_Multiverse_stage2/.venv/lib/python3.13/site-packages/scipy/linalg/_basic.py:1622: RuntimeWarning: invalid value encountered in matmul\n",
      "  B = (u @ vh[:rank]).conj().T\n",
      "/var/folders/xc/16fqwx1n1gbfb77yd1bdg8mh0000gn/T/ipykernel_13251/3761815757.py:24: RuntimeWarning: Using n_components=30 (resulting in n_components_=30) may lead to an unstable mixing matrix estimation because the ratio between the largest (21) and smallest (2.9e-30) variances is too large (> 1e6); consider setting n_components=0.999999 or an integer <= 29\n",
      "  ica.fit(raw)\n",
      "/Users/hyijie/Desktop/桌面文件夹/Lab/CPP_Multiverse_stage2/.venv/lib/python3.13/site-packages/mne/utils/linalg.py:243: RuntimeWarning: divide by zero encountered in matmul\n",
      "  return (u @ vh[:rank]).conj().T\n",
      "/Users/hyijie/Desktop/桌面文件夹/Lab/CPP_Multiverse_stage2/.venv/lib/python3.13/site-packages/mne/utils/linalg.py:243: RuntimeWarning: overflow encountered in matmul\n",
      "  return (u @ vh[:rank]).conj().T\n",
      "/Users/hyijie/Desktop/桌面文件夹/Lab/CPP_Multiverse_stage2/.venv/lib/python3.13/site-packages/mne/utils/linalg.py:243: RuntimeWarning: invalid value encountered in matmul\n",
      "  return (u @ vh[:rank]).conj().T\n"
     ]
    },
    {
     "name": "stdout",
     "output_type": "stream",
     "text": [
      "... filtering target\n",
      "Setting up band-pass filter from 1 - 10 Hz\n",
      "\n",
      "FIR filter parameters\n",
      "---------------------\n",
      "Designing a two-pass forward and reverse, zero-phase, non-causal bandpass filter:\n",
      "- Windowed frequency-domain design (firwin2) method\n",
      "- Hann window\n",
      "- Lower passband edge: 1.00\n",
      "- Lower transition bandwidth: 0.50 Hz (-12 dB cutoff frequency: 0.75 Hz)\n",
      "- Upper passband edge: 10.00 Hz\n",
      "- Upper transition bandwidth: 0.50 Hz (-12 dB cutoff frequency: 10.25 Hz)\n",
      "- Filter length: 5000 samples (10.000 s)\n",
      "\n"
     ]
    },
    {
     "name": "stderr",
     "output_type": "stream",
     "text": [
      "[Parallel(n_jobs=1)]: Done  17 tasks      | elapsed:    0.2s\n",
      "[Parallel(n_jobs=1)]: Done  30 out of  30 | elapsed:    0.3s finished\n",
      "[Parallel(n_jobs=1)]: Done   1 out of   1 | elapsed:    0.0s finished\n"
     ]
    },
    {
     "name": "stdout",
     "output_type": "stream",
     "text": [
      "... filtering ICA sources\n",
      "Setting up band-pass filter from 1 - 10 Hz\n",
      "\n",
      "FIR filter parameters\n",
      "---------------------\n",
      "Designing a two-pass forward and reverse, zero-phase, non-causal bandpass filter:\n",
      "- Windowed frequency-domain design (firwin2) method\n",
      "- Hann window\n",
      "- Lower passband edge: 1.00\n",
      "- Lower transition bandwidth: 0.50 Hz (-12 dB cutoff frequency: 0.75 Hz)\n",
      "- Upper passband edge: 10.00 Hz\n",
      "- Upper transition bandwidth: 0.50 Hz (-12 dB cutoff frequency: 10.25 Hz)\n",
      "- Filter length: 5000 samples (10.000 s)\n",
      "\n",
      "... filtering target\n",
      "Setting up band-pass filter from 1 - 10 Hz\n",
      "\n",
      "FIR filter parameters\n",
      "---------------------\n",
      "Designing a two-pass forward and reverse, zero-phase, non-causal bandpass filter:\n",
      "- Windowed frequency-domain design (firwin2) method\n",
      "- Hann window\n",
      "- Lower passband edge: 1.00\n",
      "- Lower transition bandwidth: 0.50 Hz (-12 dB cutoff frequency: 0.75 Hz)\n",
      "- Upper passband edge: 10.00 Hz\n",
      "- Upper transition bandwidth: 0.50 Hz (-12 dB cutoff frequency: 10.25 Hz)\n",
      "- Filter length: 5000 samples (10.000 s)\n",
      "\n"
     ]
    },
    {
     "name": "stderr",
     "output_type": "stream",
     "text": [
      "[Parallel(n_jobs=1)]: Done  17 tasks      | elapsed:    0.2s\n",
      "[Parallel(n_jobs=1)]: Done  30 out of  30 | elapsed:    0.3s finished\n",
      "[Parallel(n_jobs=1)]: Done   1 out of   1 | elapsed:    0.0s finished\n"
     ]
    },
    {
     "name": "stdout",
     "output_type": "stream",
     "text": [
      "Applying ICA to Raw instance\n",
      "    Transforming to ICA space (30 components)\n",
      "    Zeroing out 3 ICA components\n",
      "    Projecting back using 30 PCA components\n",
      "Used Annotations descriptions: [np.str_('101'), np.str_('102'), np.str_('103'), np.str_('11'), np.str_('111'), np.str_('112'), np.str_('12'), np.str_('121'), np.str_('122'), np.str_('123'), np.str_('13'), np.str_('14'), np.str_('15'), np.str_('16'), np.str_('17'), np.str_('21'), np.str_('22'), np.str_('23'), np.str_('24'), np.str_('25'), np.str_('26'), np.str_('27')]\n",
      "Writing '../data/preprocessData/emotion/eeg/participants.tsv'...\n",
      "Writing '../data/preprocessData/emotion/eeg/participants.json'...\n",
      "Writing '../data/preprocessData/emotion/eeg/sub-16/eeg/sub-16_space-CapTrak_electrodes.tsv'...\n",
      "Writing '../data/preprocessData/emotion/eeg/sub-16/eeg/sub-16_space-CapTrak_coordsystem.json'...\n",
      "Used Annotations descriptions: [np.str_('101'), np.str_('102'), np.str_('103'), np.str_('11'), np.str_('111'), np.str_('112'), np.str_('12'), np.str_('121'), np.str_('122'), np.str_('123'), np.str_('13'), np.str_('14'), np.str_('15'), np.str_('16'), np.str_('17'), np.str_('21'), np.str_('22'), np.str_('23'), np.str_('24'), np.str_('25'), np.str_('26'), np.str_('27')]\n",
      "Writing '../data/preprocessData/emotion/eeg/sub-16/eeg/sub-16_task-emotion_events.tsv'...\n",
      "Writing '../data/preprocessData/emotion/eeg/sub-16/eeg/sub-16_task-emotion_events.json'...\n",
      "Writing '../data/preprocessData/emotion/eeg/dataset_description.json'...\n",
      "Writing '../data/preprocessData/emotion/eeg/sub-16/eeg/sub-16_task-emotion_eeg.json'...\n",
      "Writing '../data/preprocessData/emotion/eeg/sub-16/eeg/sub-16_task-emotion_channels.tsv'...\n",
      "Copying data files to sub-16_task-emotion_eeg.vhdr\n"
     ]
    },
    {
     "name": "stderr",
     "output_type": "stream",
     "text": [
      "/Users/hyijie/Desktop/桌面文件夹/Lab/CPP_Multiverse_stage2/.venv/lib/python3.13/site-packages/mne/preprocessing/ica.py:2401: RuntimeWarning: divide by zero encountered in matmul\n",
      "  mixing = pca_components.T @ mixing\n",
      "/Users/hyijie/Desktop/桌面文件夹/Lab/CPP_Multiverse_stage2/.venv/lib/python3.13/site-packages/mne/preprocessing/ica.py:2401: RuntimeWarning: overflow encountered in matmul\n",
      "  mixing = pca_components.T @ mixing\n",
      "/Users/hyijie/Desktop/桌面文件夹/Lab/CPP_Multiverse_stage2/.venv/lib/python3.13/site-packages/mne/preprocessing/ica.py:2401: RuntimeWarning: invalid value encountered in matmul\n",
      "  mixing = pca_components.T @ mixing\n",
      "/var/folders/xc/16fqwx1n1gbfb77yd1bdg8mh0000gn/T/ipykernel_13251/3761815757.py:41: RuntimeWarning: Converting data files to BrainVision format\n",
      "  write_raw_bids(\n",
      "/var/folders/xc/16fqwx1n1gbfb77yd1bdg8mh0000gn/T/ipykernel_13251/3761815757.py:41: RuntimeWarning: Encountered data in \"int\" format. Converting to float32.\n",
      "  write_raw_bids(\n",
      "/Users/hyijie/Desktop/桌面文件夹/Lab/CPP_Multiverse_stage2/.venv/lib/python3.13/site-packages/pybv/io.py:682: UserWarning: Encountered unsupported non-voltage units: n/a\n",
      "Note that the BrainVision format specification supports only µV.\n",
      "  warn(msg)\n"
     ]
    },
    {
     "name": "stdout",
     "output_type": "stream",
     "text": [
      "Writing '../data/preprocessData/emotion/eeg/sub-16/sub-16_scans.tsv'...\n",
      "Wrote ../data/preprocessData/emotion/eeg/sub-16/sub-16_scans.tsv entry with eeg/sub-16_task-emotion_eeg.vhdr.\n"
     ]
    },
    {
     "name": "stderr",
     "output_type": "stream",
     "text": [
      "/var/folders/xc/16fqwx1n1gbfb77yd1bdg8mh0000gn/T/ipykernel_13251/3761815757.py:9: RuntimeWarning:   Could not parse meas date from the header. Setting to None.\n",
      "  raw = mne.io.read_raw_cnt(os.path.join(ds_root, 'Rawdata', sub_eeg+'.cnt'))\n",
      "/var/folders/xc/16fqwx1n1gbfb77yd1bdg8mh0000gn/T/ipykernel_13251/3761815757.py:13: RuntimeWarning: The unit for channel(s) A1 has changed from V to NA.\n",
      "  raw.set_channel_types({'HEOG': 'eog',\n"
     ]
    },
    {
     "name": "stdout",
     "output_type": "stream",
     "text": [
      "Filtering raw data in 1 contiguous segment\n",
      "Setting up band-pass filter from 1 - 30 Hz\n",
      "\n",
      "FIR filter parameters\n",
      "---------------------\n",
      "Designing a one-pass, zero-phase, non-causal bandpass filter:\n",
      "- Windowed time-domain design (firwin) method\n",
      "- Hamming window with 0.0194 passband ripple and 53 dB stopband attenuation\n",
      "- Lower passband edge: 1.00\n",
      "- Lower transition bandwidth: 1.00 Hz (-6 dB cutoff frequency: 0.50 Hz)\n",
      "- Upper passband edge: 30.00 Hz\n",
      "- Upper transition bandwidth: 7.50 Hz (-6 dB cutoff frequency: 33.75 Hz)\n",
      "- Filter length: 1651 samples (3.302 s)\n",
      "\n",
      "EEG channel type selected for re-referencing\n",
      "Applying average reference.\n",
      "Applying a custom ('EEG',) reference.\n",
      "Fitting ICA to data using 30 channels (please be patient, this may take a while)\n"
     ]
    },
    {
     "name": "stderr",
     "output_type": "stream",
     "text": [
      "[Parallel(n_jobs=1)]: Done  17 tasks      | elapsed:    0.2s\n",
      "[Parallel(n_jobs=1)]: Done  30 out of  30 | elapsed:    0.3s finished\n"
     ]
    },
    {
     "name": "stdout",
     "output_type": "stream",
     "text": [
      "Selecting by number: 30 components\n",
      "Fitting ICA took 5.1s.\n",
      "Using EOG channels: HEOG, VEOG\n",
      "... filtering ICA sources\n",
      "Setting up band-pass filter from 1 - 10 Hz\n",
      "\n",
      "FIR filter parameters\n",
      "---------------------\n",
      "Designing a two-pass forward and reverse, zero-phase, non-causal bandpass filter:\n",
      "- Windowed frequency-domain design (firwin2) method\n",
      "- Hann window\n",
      "- Lower passband edge: 1.00\n",
      "- Lower transition bandwidth: 0.50 Hz (-12 dB cutoff frequency: 0.75 Hz)\n",
      "- Upper passband edge: 10.00 Hz\n",
      "- Upper transition bandwidth: 0.50 Hz (-12 dB cutoff frequency: 10.25 Hz)\n",
      "- Filter length: 5000 samples (10.000 s)\n",
      "\n"
     ]
    },
    {
     "name": "stderr",
     "output_type": "stream",
     "text": [
      "/Users/hyijie/Desktop/桌面文件夹/Lab/CPP_Multiverse_stage2/.venv/lib/python3.13/site-packages/scipy/linalg/_basic.py:1622: RuntimeWarning: divide by zero encountered in matmul\n",
      "  B = (u @ vh[:rank]).conj().T\n",
      "/Users/hyijie/Desktop/桌面文件夹/Lab/CPP_Multiverse_stage2/.venv/lib/python3.13/site-packages/scipy/linalg/_basic.py:1622: RuntimeWarning: overflow encountered in matmul\n",
      "  B = (u @ vh[:rank]).conj().T\n",
      "/Users/hyijie/Desktop/桌面文件夹/Lab/CPP_Multiverse_stage2/.venv/lib/python3.13/site-packages/scipy/linalg/_basic.py:1622: RuntimeWarning: invalid value encountered in matmul\n",
      "  B = (u @ vh[:rank]).conj().T\n",
      "/var/folders/xc/16fqwx1n1gbfb77yd1bdg8mh0000gn/T/ipykernel_13251/3761815757.py:24: RuntimeWarning: Using n_components=30 (resulting in n_components_=30) may lead to an unstable mixing matrix estimation because the ratio between the largest (22) and smallest (7e-30) variances is too large (> 1e6); consider setting n_components=0.999999 or an integer <= 29\n",
      "  ica.fit(raw)\n",
      "/Users/hyijie/Desktop/桌面文件夹/Lab/CPP_Multiverse_stage2/.venv/lib/python3.13/site-packages/mne/utils/linalg.py:243: RuntimeWarning: divide by zero encountered in matmul\n",
      "  return (u @ vh[:rank]).conj().T\n",
      "/Users/hyijie/Desktop/桌面文件夹/Lab/CPP_Multiverse_stage2/.venv/lib/python3.13/site-packages/mne/utils/linalg.py:243: RuntimeWarning: overflow encountered in matmul\n",
      "  return (u @ vh[:rank]).conj().T\n",
      "/Users/hyijie/Desktop/桌面文件夹/Lab/CPP_Multiverse_stage2/.venv/lib/python3.13/site-packages/mne/utils/linalg.py:243: RuntimeWarning: invalid value encountered in matmul\n",
      "  return (u @ vh[:rank]).conj().T\n"
     ]
    },
    {
     "name": "stdout",
     "output_type": "stream",
     "text": [
      "... filtering target\n",
      "Setting up band-pass filter from 1 - 10 Hz\n",
      "\n",
      "FIR filter parameters\n",
      "---------------------\n",
      "Designing a two-pass forward and reverse, zero-phase, non-causal bandpass filter:\n",
      "- Windowed frequency-domain design (firwin2) method\n",
      "- Hann window\n",
      "- Lower passband edge: 1.00\n",
      "- Lower transition bandwidth: 0.50 Hz (-12 dB cutoff frequency: 0.75 Hz)\n",
      "- Upper passband edge: 10.00 Hz\n",
      "- Upper transition bandwidth: 0.50 Hz (-12 dB cutoff frequency: 10.25 Hz)\n",
      "- Filter length: 5000 samples (10.000 s)\n",
      "\n"
     ]
    },
    {
     "name": "stderr",
     "output_type": "stream",
     "text": [
      "[Parallel(n_jobs=1)]: Done  17 tasks      | elapsed:    0.1s\n",
      "[Parallel(n_jobs=1)]: Done  30 out of  30 | elapsed:    0.3s finished\n",
      "[Parallel(n_jobs=1)]: Done   1 out of   1 | elapsed:    0.1s finished\n"
     ]
    },
    {
     "name": "stdout",
     "output_type": "stream",
     "text": [
      "... filtering ICA sources\n",
      "Setting up band-pass filter from 1 - 10 Hz\n",
      "\n",
      "FIR filter parameters\n",
      "---------------------\n",
      "Designing a two-pass forward and reverse, zero-phase, non-causal bandpass filter:\n",
      "- Windowed frequency-domain design (firwin2) method\n",
      "- Hann window\n",
      "- Lower passband edge: 1.00\n",
      "- Lower transition bandwidth: 0.50 Hz (-12 dB cutoff frequency: 0.75 Hz)\n",
      "- Upper passband edge: 10.00 Hz\n",
      "- Upper transition bandwidth: 0.50 Hz (-12 dB cutoff frequency: 10.25 Hz)\n",
      "- Filter length: 5000 samples (10.000 s)\n",
      "\n",
      "... filtering target\n",
      "Setting up band-pass filter from 1 - 10 Hz\n",
      "\n",
      "FIR filter parameters\n",
      "---------------------\n",
      "Designing a two-pass forward and reverse, zero-phase, non-causal bandpass filter:\n",
      "- Windowed frequency-domain design (firwin2) method\n",
      "- Hann window\n",
      "- Lower passband edge: 1.00\n",
      "- Lower transition bandwidth: 0.50 Hz (-12 dB cutoff frequency: 0.75 Hz)\n",
      "- Upper passband edge: 10.00 Hz\n",
      "- Upper transition bandwidth: 0.50 Hz (-12 dB cutoff frequency: 10.25 Hz)\n",
      "- Filter length: 5000 samples (10.000 s)\n",
      "\n"
     ]
    },
    {
     "name": "stderr",
     "output_type": "stream",
     "text": [
      "[Parallel(n_jobs=1)]: Done  17 tasks      | elapsed:    0.1s\n",
      "[Parallel(n_jobs=1)]: Done  30 out of  30 | elapsed:    0.2s finished\n",
      "[Parallel(n_jobs=1)]: Done   1 out of   1 | elapsed:    0.0s finished\n"
     ]
    },
    {
     "name": "stdout",
     "output_type": "stream",
     "text": [
      "Applying ICA to Raw instance\n",
      "    Transforming to ICA space (30 components)\n",
      "    Zeroing out 3 ICA components\n",
      "    Projecting back using 30 PCA components\n",
      "Used Annotations descriptions: [np.str_('101'), np.str_('102'), np.str_('103'), np.str_('11'), np.str_('111'), np.str_('112'), np.str_('12'), np.str_('121'), np.str_('122'), np.str_('123'), np.str_('13'), np.str_('14'), np.str_('15'), np.str_('16'), np.str_('17'), np.str_('21'), np.str_('22'), np.str_('23'), np.str_('24'), np.str_('25'), np.str_('26'), np.str_('27')]\n",
      "Writing '../data/preprocessData/emotion/eeg/participants.tsv'...\n",
      "Writing '../data/preprocessData/emotion/eeg/participants.json'...\n",
      "Writing '../data/preprocessData/emotion/eeg/sub-17/eeg/sub-17_space-CapTrak_electrodes.tsv'...\n",
      "Writing '../data/preprocessData/emotion/eeg/sub-17/eeg/sub-17_space-CapTrak_coordsystem.json'...\n",
      "Used Annotations descriptions: [np.str_('101'), np.str_('102'), np.str_('103'), np.str_('11'), np.str_('111'), np.str_('112'), np.str_('12'), np.str_('121'), np.str_('122'), np.str_('123'), np.str_('13'), np.str_('14'), np.str_('15'), np.str_('16'), np.str_('17'), np.str_('21'), np.str_('22'), np.str_('23'), np.str_('24'), np.str_('25'), np.str_('26'), np.str_('27')]\n",
      "Writing '../data/preprocessData/emotion/eeg/sub-17/eeg/sub-17_task-emotion_events.tsv'...\n",
      "Writing '../data/preprocessData/emotion/eeg/sub-17/eeg/sub-17_task-emotion_events.json'...\n",
      "Writing '../data/preprocessData/emotion/eeg/dataset_description.json'...\n",
      "Writing '../data/preprocessData/emotion/eeg/sub-17/eeg/sub-17_task-emotion_eeg.json'...\n",
      "Writing '../data/preprocessData/emotion/eeg/sub-17/eeg/sub-17_task-emotion_channels.tsv'...\n",
      "Copying data files to sub-17_task-emotion_eeg.vhdr\n"
     ]
    },
    {
     "name": "stderr",
     "output_type": "stream",
     "text": [
      "/Users/hyijie/Desktop/桌面文件夹/Lab/CPP_Multiverse_stage2/.venv/lib/python3.13/site-packages/mne/preprocessing/ica.py:2401: RuntimeWarning: divide by zero encountered in matmul\n",
      "  mixing = pca_components.T @ mixing\n",
      "/Users/hyijie/Desktop/桌面文件夹/Lab/CPP_Multiverse_stage2/.venv/lib/python3.13/site-packages/mne/preprocessing/ica.py:2401: RuntimeWarning: overflow encountered in matmul\n",
      "  mixing = pca_components.T @ mixing\n",
      "/Users/hyijie/Desktop/桌面文件夹/Lab/CPP_Multiverse_stage2/.venv/lib/python3.13/site-packages/mne/preprocessing/ica.py:2401: RuntimeWarning: invalid value encountered in matmul\n",
      "  mixing = pca_components.T @ mixing\n",
      "/var/folders/xc/16fqwx1n1gbfb77yd1bdg8mh0000gn/T/ipykernel_13251/3761815757.py:41: RuntimeWarning: Converting data files to BrainVision format\n",
      "  write_raw_bids(\n",
      "/var/folders/xc/16fqwx1n1gbfb77yd1bdg8mh0000gn/T/ipykernel_13251/3761815757.py:41: RuntimeWarning: Encountered data in \"int\" format. Converting to float32.\n",
      "  write_raw_bids(\n",
      "/Users/hyijie/Desktop/桌面文件夹/Lab/CPP_Multiverse_stage2/.venv/lib/python3.13/site-packages/pybv/io.py:682: UserWarning: Encountered unsupported non-voltage units: n/a\n",
      "Note that the BrainVision format specification supports only µV.\n",
      "  warn(msg)\n"
     ]
    },
    {
     "name": "stdout",
     "output_type": "stream",
     "text": [
      "Writing '../data/preprocessData/emotion/eeg/sub-17/sub-17_scans.tsv'...\n",
      "Wrote ../data/preprocessData/emotion/eeg/sub-17/sub-17_scans.tsv entry with eeg/sub-17_task-emotion_eeg.vhdr.\n"
     ]
    },
    {
     "name": "stderr",
     "output_type": "stream",
     "text": [
      "/var/folders/xc/16fqwx1n1gbfb77yd1bdg8mh0000gn/T/ipykernel_13251/3761815757.py:9: RuntimeWarning:   Could not parse meas date from the header. Setting to None.\n",
      "  raw = mne.io.read_raw_cnt(os.path.join(ds_root, 'Rawdata', sub_eeg+'.cnt'))\n",
      "/var/folders/xc/16fqwx1n1gbfb77yd1bdg8mh0000gn/T/ipykernel_13251/3761815757.py:13: RuntimeWarning: The unit for channel(s) A1 has changed from V to NA.\n",
      "  raw.set_channel_types({'HEOG': 'eog',\n"
     ]
    },
    {
     "name": "stdout",
     "output_type": "stream",
     "text": [
      "Filtering raw data in 1 contiguous segment\n",
      "Setting up band-pass filter from 1 - 30 Hz\n",
      "\n",
      "FIR filter parameters\n",
      "---------------------\n",
      "Designing a one-pass, zero-phase, non-causal bandpass filter:\n",
      "- Windowed time-domain design (firwin) method\n",
      "- Hamming window with 0.0194 passband ripple and 53 dB stopband attenuation\n",
      "- Lower passband edge: 1.00\n",
      "- Lower transition bandwidth: 1.00 Hz (-6 dB cutoff frequency: 0.50 Hz)\n",
      "- Upper passband edge: 30.00 Hz\n",
      "- Upper transition bandwidth: 7.50 Hz (-6 dB cutoff frequency: 33.75 Hz)\n",
      "- Filter length: 1651 samples (3.302 s)\n",
      "\n",
      "EEG channel type selected for re-referencing\n",
      "Applying average reference.\n",
      "Applying a custom ('EEG',) reference.\n",
      "Fitting ICA to data using 30 channels (please be patient, this may take a while)\n"
     ]
    },
    {
     "name": "stderr",
     "output_type": "stream",
     "text": [
      "[Parallel(n_jobs=1)]: Done  17 tasks      | elapsed:    0.1s\n",
      "[Parallel(n_jobs=1)]: Done  30 out of  30 | elapsed:    0.2s finished\n"
     ]
    },
    {
     "name": "stdout",
     "output_type": "stream",
     "text": [
      "Selecting by number: 30 components\n",
      "Fitting ICA took 4.3s.\n",
      "Using EOG channels: HEOG, VEOG\n",
      "... filtering ICA sources\n",
      "Setting up band-pass filter from 1 - 10 Hz\n",
      "\n",
      "FIR filter parameters\n",
      "---------------------\n",
      "Designing a two-pass forward and reverse, zero-phase, non-causal bandpass filter:\n",
      "- Windowed frequency-domain design (firwin2) method\n",
      "- Hann window\n",
      "- Lower passband edge: 1.00\n",
      "- Lower transition bandwidth: 0.50 Hz (-12 dB cutoff frequency: 0.75 Hz)\n",
      "- Upper passband edge: 10.00 Hz\n",
      "- Upper transition bandwidth: 0.50 Hz (-12 dB cutoff frequency: 10.25 Hz)\n",
      "- Filter length: 5000 samples (10.000 s)\n",
      "\n"
     ]
    },
    {
     "name": "stderr",
     "output_type": "stream",
     "text": [
      "/Users/hyijie/Desktop/桌面文件夹/Lab/CPP_Multiverse_stage2/.venv/lib/python3.13/site-packages/scipy/linalg/_basic.py:1622: RuntimeWarning: divide by zero encountered in matmul\n",
      "  B = (u @ vh[:rank]).conj().T\n",
      "/Users/hyijie/Desktop/桌面文件夹/Lab/CPP_Multiverse_stage2/.venv/lib/python3.13/site-packages/scipy/linalg/_basic.py:1622: RuntimeWarning: overflow encountered in matmul\n",
      "  B = (u @ vh[:rank]).conj().T\n",
      "/Users/hyijie/Desktop/桌面文件夹/Lab/CPP_Multiverse_stage2/.venv/lib/python3.13/site-packages/scipy/linalg/_basic.py:1622: RuntimeWarning: invalid value encountered in matmul\n",
      "  B = (u @ vh[:rank]).conj().T\n",
      "/var/folders/xc/16fqwx1n1gbfb77yd1bdg8mh0000gn/T/ipykernel_13251/3761815757.py:24: RuntimeWarning: Using n_components=30 (resulting in n_components_=30) may lead to an unstable mixing matrix estimation because the ratio between the largest (28) and smallest (9.1e-29) variances is too large (> 1e6); consider setting n_components=0.999999 or an integer <= 29\n",
      "  ica.fit(raw)\n",
      "/Users/hyijie/Desktop/桌面文件夹/Lab/CPP_Multiverse_stage2/.venv/lib/python3.13/site-packages/mne/utils/linalg.py:243: RuntimeWarning: divide by zero encountered in matmul\n",
      "  return (u @ vh[:rank]).conj().T\n",
      "/Users/hyijie/Desktop/桌面文件夹/Lab/CPP_Multiverse_stage2/.venv/lib/python3.13/site-packages/mne/utils/linalg.py:243: RuntimeWarning: overflow encountered in matmul\n",
      "  return (u @ vh[:rank]).conj().T\n",
      "/Users/hyijie/Desktop/桌面文件夹/Lab/CPP_Multiverse_stage2/.venv/lib/python3.13/site-packages/mne/utils/linalg.py:243: RuntimeWarning: invalid value encountered in matmul\n",
      "  return (u @ vh[:rank]).conj().T\n"
     ]
    },
    {
     "name": "stdout",
     "output_type": "stream",
     "text": [
      "... filtering target\n",
      "Setting up band-pass filter from 1 - 10 Hz\n",
      "\n",
      "FIR filter parameters\n",
      "---------------------\n",
      "Designing a two-pass forward and reverse, zero-phase, non-causal bandpass filter:\n",
      "- Windowed frequency-domain design (firwin2) method\n",
      "- Hann window\n",
      "- Lower passband edge: 1.00\n",
      "- Lower transition bandwidth: 0.50 Hz (-12 dB cutoff frequency: 0.75 Hz)\n",
      "- Upper passband edge: 10.00 Hz\n",
      "- Upper transition bandwidth: 0.50 Hz (-12 dB cutoff frequency: 10.25 Hz)\n",
      "- Filter length: 5000 samples (10.000 s)\n",
      "\n"
     ]
    },
    {
     "name": "stderr",
     "output_type": "stream",
     "text": [
      "[Parallel(n_jobs=1)]: Done  17 tasks      | elapsed:    0.1s\n",
      "[Parallel(n_jobs=1)]: Done  30 out of  30 | elapsed:    0.2s finished\n",
      "[Parallel(n_jobs=1)]: Done   1 out of   1 | elapsed:    0.0s finished\n"
     ]
    },
    {
     "name": "stdout",
     "output_type": "stream",
     "text": [
      "... filtering ICA sources\n",
      "Setting up band-pass filter from 1 - 10 Hz\n",
      "\n",
      "FIR filter parameters\n",
      "---------------------\n",
      "Designing a two-pass forward and reverse, zero-phase, non-causal bandpass filter:\n",
      "- Windowed frequency-domain design (firwin2) method\n",
      "- Hann window\n",
      "- Lower passband edge: 1.00\n",
      "- Lower transition bandwidth: 0.50 Hz (-12 dB cutoff frequency: 0.75 Hz)\n",
      "- Upper passband edge: 10.00 Hz\n",
      "- Upper transition bandwidth: 0.50 Hz (-12 dB cutoff frequency: 10.25 Hz)\n",
      "- Filter length: 5000 samples (10.000 s)\n",
      "\n",
      "... filtering target\n",
      "Setting up band-pass filter from 1 - 10 Hz\n",
      "\n",
      "FIR filter parameters\n",
      "---------------------\n",
      "Designing a two-pass forward and reverse, zero-phase, non-causal bandpass filter:\n",
      "- Windowed frequency-domain design (firwin2) method\n",
      "- Hann window\n",
      "- Lower passband edge: 1.00\n",
      "- Lower transition bandwidth: 0.50 Hz (-12 dB cutoff frequency: 0.75 Hz)\n",
      "- Upper passband edge: 10.00 Hz\n",
      "- Upper transition bandwidth: 0.50 Hz (-12 dB cutoff frequency: 10.25 Hz)\n",
      "- Filter length: 5000 samples (10.000 s)\n",
      "\n"
     ]
    },
    {
     "name": "stderr",
     "output_type": "stream",
     "text": [
      "[Parallel(n_jobs=1)]: Done  17 tasks      | elapsed:    0.1s\n",
      "[Parallel(n_jobs=1)]: Done  30 out of  30 | elapsed:    0.2s finished\n",
      "[Parallel(n_jobs=1)]: Done   1 out of   1 | elapsed:    0.0s finished\n"
     ]
    },
    {
     "name": "stdout",
     "output_type": "stream",
     "text": [
      "Applying ICA to Raw instance\n",
      "    Transforming to ICA space (30 components)\n",
      "    Zeroing out 3 ICA components\n",
      "    Projecting back using 30 PCA components\n",
      "Used Annotations descriptions: [np.str_('101'), np.str_('102'), np.str_('103'), np.str_('11'), np.str_('111'), np.str_('112'), np.str_('12'), np.str_('121'), np.str_('122'), np.str_('123'), np.str_('13'), np.str_('14'), np.str_('15'), np.str_('16'), np.str_('17'), np.str_('21'), np.str_('22'), np.str_('23'), np.str_('24'), np.str_('25'), np.str_('26'), np.str_('27')]\n",
      "Writing '../data/preprocessData/emotion/eeg/participants.tsv'...\n",
      "Writing '../data/preprocessData/emotion/eeg/participants.json'...\n",
      "Writing '../data/preprocessData/emotion/eeg/sub-18/eeg/sub-18_space-CapTrak_electrodes.tsv'...\n",
      "Writing '../data/preprocessData/emotion/eeg/sub-18/eeg/sub-18_space-CapTrak_coordsystem.json'...\n",
      "Used Annotations descriptions: [np.str_('101'), np.str_('102'), np.str_('103'), np.str_('11'), np.str_('111'), np.str_('112'), np.str_('12'), np.str_('121'), np.str_('122'), np.str_('123'), np.str_('13'), np.str_('14'), np.str_('15'), np.str_('16'), np.str_('17'), np.str_('21'), np.str_('22'), np.str_('23'), np.str_('24'), np.str_('25'), np.str_('26'), np.str_('27')]\n",
      "Writing '../data/preprocessData/emotion/eeg/sub-18/eeg/sub-18_task-emotion_events.tsv'...\n",
      "Writing '../data/preprocessData/emotion/eeg/sub-18/eeg/sub-18_task-emotion_events.json'...\n",
      "Writing '../data/preprocessData/emotion/eeg/dataset_description.json'...\n",
      "Writing '../data/preprocessData/emotion/eeg/sub-18/eeg/sub-18_task-emotion_eeg.json'...\n",
      "Writing '../data/preprocessData/emotion/eeg/sub-18/eeg/sub-18_task-emotion_channels.tsv'...\n",
      "Copying data files to sub-18_task-emotion_eeg.vhdr\n"
     ]
    },
    {
     "name": "stderr",
     "output_type": "stream",
     "text": [
      "/Users/hyijie/Desktop/桌面文件夹/Lab/CPP_Multiverse_stage2/.venv/lib/python3.13/site-packages/mne/preprocessing/ica.py:2401: RuntimeWarning: divide by zero encountered in matmul\n",
      "  mixing = pca_components.T @ mixing\n",
      "/Users/hyijie/Desktop/桌面文件夹/Lab/CPP_Multiverse_stage2/.venv/lib/python3.13/site-packages/mne/preprocessing/ica.py:2401: RuntimeWarning: overflow encountered in matmul\n",
      "  mixing = pca_components.T @ mixing\n",
      "/Users/hyijie/Desktop/桌面文件夹/Lab/CPP_Multiverse_stage2/.venv/lib/python3.13/site-packages/mne/preprocessing/ica.py:2401: RuntimeWarning: invalid value encountered in matmul\n",
      "  mixing = pca_components.T @ mixing\n",
      "/var/folders/xc/16fqwx1n1gbfb77yd1bdg8mh0000gn/T/ipykernel_13251/3761815757.py:41: RuntimeWarning: Converting data files to BrainVision format\n",
      "  write_raw_bids(\n",
      "/var/folders/xc/16fqwx1n1gbfb77yd1bdg8mh0000gn/T/ipykernel_13251/3761815757.py:41: RuntimeWarning: Encountered data in \"int\" format. Converting to float32.\n",
      "  write_raw_bids(\n",
      "/Users/hyijie/Desktop/桌面文件夹/Lab/CPP_Multiverse_stage2/.venv/lib/python3.13/site-packages/pybv/io.py:682: UserWarning: Encountered unsupported non-voltage units: n/a\n",
      "Note that the BrainVision format specification supports only µV.\n",
      "  warn(msg)\n"
     ]
    },
    {
     "name": "stdout",
     "output_type": "stream",
     "text": [
      "Writing '../data/preprocessData/emotion/eeg/sub-18/sub-18_scans.tsv'...\n",
      "Wrote ../data/preprocessData/emotion/eeg/sub-18/sub-18_scans.tsv entry with eeg/sub-18_task-emotion_eeg.vhdr.\n"
     ]
    }
   ],
   "source": [
    "# drop some trials of behavior according to events\n",
    "sub_eeg_dir = [f'Emotion_sub{i}' for i in range(1,19)]\n",
    "sub_behavior_dir = [f'Emotion_decision_sub{i}' for i in range(1,19)]\n",
    "\n",
    "sub_excluded = []\n",
    "\n",
    "for sub_eeg, sub_behavior in zip(sub_eeg_dir, sub_behavior_dir):\n",
    "    #load eeg and behavior data\n",
    "    raw = mne.io.read_raw_cnt(os.path.join(ds_root, 'Rawdata', sub_eeg+'.cnt'))\n",
    "    behavior = pd.read_csv(os.path.join(ds_root, 'behavior', sub_behavior+'.dat'),header=None)\n",
    "\n",
    "    # format eeg data into BIDS format\n",
    "    raw.set_channel_types({'HEOG': 'eog',  \n",
    "                           'VEOG': 'eog',\n",
    "                           'A1': 'misc'}) \n",
    "    # resample\n",
    "    raw.resample(500, npad=\"auto\")\n",
    "    # filter\n",
    "    raw.filter(1, 30, fir_design='firwin', picks=['eeg'])  \n",
    "    # re-reference\n",
    "    raw.set_eeg_reference('average')\n",
    "    # ica remove artifact\n",
    "    ica = mne.preprocessing.ICA(n_components=30, random_state=97) # 这里用了30个成分\n",
    "    ica.fit(raw) \n",
    "    ica.exclude = []                                                                                       \n",
    "    eog_indices, eog_scores = ica.find_bads_eog(raw)                  \n",
    "    ica.exclude = eog_indices \n",
    "    ica.apply(raw) \n",
    "\n",
    "    events, event_id = mne.events_from_annotations(raw)\n",
    "\n",
    "    bids_root = dir_preprocess_eeg\n",
    "    bids_path = BIDSPath(\n",
    "        subject=sub_eeg.replace('Emotion_sub',''),\n",
    "        task='emotion',  \n",
    "        datatype='eeg',\n",
    "        root=bids_root\n",
    "    )\n",
    "\n",
    "    # 保存到 BIDS 格式\n",
    "    write_raw_bids(\n",
    "        raw=raw,\n",
    "        bids_path=bids_path,\n",
    "        events=events,\n",
    "        event_id=event_id,\n",
    "        overwrite=True,\n",
    "        allow_preload=True,\n",
    "        format='BrainVision'  # 保持 BrainVision 格式（.vhdr/.vmrk/.eeg）\n",
    "    )\n",
    "\n",
    "    # find specific trials which lack markers for response\n",
    "    # the logic: select stimuli onset and response makers first and find continious marker for stimuli onset\n",
    "    ## find events_id first because they are different among subjects\n",
    "    stim_event_key = None\n",
    "    event_keys = []\n",
    "    for key, value in event_id.items():\n",
    "        if '111' in key:  # '111' is marker for stimuli onset\n",
    "            stim_event_key = value\n",
    "        if '111' in key or '101' in key or '102' in key :  # '101' and '102' are response markers\n",
    "            event_keys.append(value)\n",
    "    \n",
    "    ## select all events on stimuli onset and response\n",
    "    events_select = events[np.isin(events[:, 2], event_keys)]\n",
    "\n",
    "    ## if the number of stimuli onset marker is different with bahevior data, we can not use the dataset\n",
    "    test4trial = np.sum(events_select[:, 2] == stim_event_key)\n",
    "    if test4trial != behavior.shape[0]:\n",
    "        sub_excluded.append(sub_eeg)\n",
    "        print(f\"Skipping subject {sub_eeg}: test4trial count ({test4trial}) is less than behavior rows ({behavior.shape[0]})\")\n",
    "        continue \n",
    "    \n",
    "    ## index useless trials\n",
    "    stim_index = np.where(events_select[:,2] == stim_event_key)[0]\n",
    "    data_lacked = []\n",
    "    for i in range(events_select.shape[0] - 1):\n",
    "        if events_select[i,2] == stim_event_key and events_select[i+1,2] == stim_event_key:\n",
    "            first_index = i\n",
    "            rank = np.sum(stim_index <= first_index)\n",
    "            data_lacked.append(rank)\n",
    "    \n",
    "    ## get dropped behavior data\n",
    "    behavior_drop = behavior.drop(data_lacked, axis=0).reset_index(drop=True)\n",
    "    behavior_drop.to_csv(os.path.join(dir_preprocess_behavior,sub_eeg+'.csv'), header=False, index=False)\n",
    "\n",
    "\n",
    "sub_excluded = pd.DataFrame(sub_excluded)\n",
    "sub_excluded.to_csv(os.path.join(dir_preprocess_behavior,'sub_excluded.csv'), header=False, index=False)\n"
   ]
  },
  {
   "cell_type": "code",
   "execution_count": null,
   "id": "7be72fa2",
   "metadata": {},
   "outputs": [],
   "source": []
  }
 ],
 "metadata": {
  "kernelspec": {
   "display_name": ".venv",
   "language": "python",
   "name": "python3"
  },
  "language_info": {
   "codemirror_mode": {
    "name": "ipython",
    "version": 3
   },
   "file_extension": ".py",
   "mimetype": "text/x-python",
   "name": "python",
   "nbconvert_exporter": "python",
   "pygments_lexer": "ipython3",
   "version": "3.13.3"
  }
 },
 "nbformat": 4,
 "nbformat_minor": 5
}
