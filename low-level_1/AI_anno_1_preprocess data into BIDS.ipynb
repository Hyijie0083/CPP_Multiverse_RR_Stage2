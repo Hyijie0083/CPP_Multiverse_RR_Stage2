{
 "cells": [
  {
   "cell_type": "code",
   "execution_count": 1,
   "id": "f60e7b07",
   "metadata": {},
   "outputs": [],
   "source": [
    "import numpy as np\n",
    "import pandas as pd\n",
    "import os\n",
    "import scipy\n",
    "import mne \n",
    "\n",
    "from mne_bids import write_raw_bids, BIDSPath, make_dataset_description"
   ]
  },
  {
   "cell_type": "markdown",
   "id": "30f4e5f6",
   "metadata": {},
   "source": [
    "# Data available and basic information of dataset\n",
    "The dataset is publicly available at https://doi.org/10.6084/m9.figshare.c.5006684 and consists of two subsets:\n",
    "\n",
    "- **Adult Subjects**: EEG and behavioral data from 20 adult participants, labeled as Axxx (e.g., A001 for subject 1).\n",
    "\n",
    "- **Child Subjects**: Data from 96 child participants, labeled as Cxxx.\n",
    "\n",
    "This notebook processes the adult subset (Axxx) for conversion into the Brain Imaging Data Structure (BIDS) format.\n"
   ]
  },
  {
   "cell_type": "markdown",
   "id": "5dc8da56",
   "metadata": {},
   "source": [
    "# Features of this published dataset\n",
    "The dataset, stored in '.mat' files, has been preprocessed by the authors to include:\n",
    "\n",
    "- **Quality Control**: Trials flagged as erroneous were marked using the GoodTrial variable (0 for bad, 1 for good).\n",
    "- **Preprocessing Steps**: Techniques such as Reliable Components Analysis (RCA) were applied. For details, see the authors' scripts at https://osf.io/fkjt6/.\n",
    "- **Data Structure**: The .mat files use a nested structure, which we unpack using scipy.io.loadmat and indexing to extract data as NumPy ndarray objects.\n",
    "- **Variables**:\n",
    "    - **Core Variables**: EEG signals and event triggers (e.g., stimulus onsets, responses) for further analysis.\n",
    "    - **Intermediate Variables**: Metrics like electrooculogram (EOG) data and bad electrode flags from the authors' preprocessing.\n"
   ]
  },
  {
   "cell_type": "markdown",
   "id": "0411a961",
   "metadata": {},
   "source": [
    "\n",
    "# Preprocessing Rationale\n",
    "The '.mat' format is not directly compatible with MNE-Python. Converting the dataset to BIDS format ensures compatibility, enhances reproducibility, and facilitates integration with other neuroimaging tools. This notebook focuses on **transforming the raw data into BIDS format**.\n"
   ]
  },
  {
   "cell_type": "markdown",
   "id": "8b026932",
   "metadata": {},
   "source": [
    "\n",
    "# Preprocessing Workflow\n",
    "The preprocessing pipeline is divided into two main steps:\n",
    "\n",
    "## 1. Path Configuration\n",
    "- **Input Directory**: Define ***ds_root*** as the location of raw '.mat' files to streamline data loading.\n",
    "- **Filename Structure**: Use ***fn_first*** and ***fn_last*** to construct subject-specific filenames (e.g., Formatted_A001.3_40_preproc.mat).\n",
    "- **Output Directory**: Create a ***preprocessData*** folder to store BIDS-compliant output files if it does not exist.\n",
    "\n",
    "## 2. Conversion to BIDS Format\n",
    "For each subject (A001 to A020):\n",
    "\n",
    "1.**Behavioral Data Filtering**:\n",
    "- Load behavioral data from ***behaviorData_low_1_raw.csv*** and filter for the current subject.\n",
    "- Adjust trial indices (subtract 1) to align with zero-based Python indexing.\n",
    "- Retain trials marked as valid (***GoodTrial == 1***) and those with non-missing response triggers, as subsequent analyses are response-locked.\n",
    "\n",
    "2.**EEG Data Preparation**:\n",
    "- Load EEG data from '.mat' files and concatenate trial segments into a 2D array of shape (n_channels, n_timepoints).\n",
    "- Convert EEG amplitudes from volts to microvolts (µV) by multiplying by 1e6, per BIDS standards.\n",
    "\n",
    "3.**Event Trigger Processing**:\n",
    "- Extract triggers and event triggers (e.g., fixation, stimulus, response) from the '.mat' file.\n",
    "- Filter triggers to include only valid trials with response events.\n",
    "- Transform per-trial triggers into a continuous timeline by adding trial start offsets.\n",
    "- Format triggers into a (n_events, 3) array for BIDS:\n",
    "    - Column 1: Timestamps (sample indices, adjusted for Python’s zero-based indexing).\n",
    "    - Column 2: Duration (set to 0, as it is not used in this analysis).\n",
    "    - Column 3: Event IDs (e.g., 1=fixation, 5=response).\n",
    "\n",
    "4.**Channel Information**:\n",
    "- No official channel map was provided. A reference paper comparing 10-20 and HydroCel systems identified channels like **Cpz (55th)**, **Cp1 (37th)**, and **Cp2 (87th)**. For simplicity, we created a custom channelName.csv labeling channels as E1, E2, etc.\n",
    "- Load channel names from this CSV for MNE compatibility.\n",
    "\n",
    "5.**BIDS Export**:\n",
    "- Create an MNE ***RawArray*** object with a sampling rate of 500 Hz and EEG channel types.\n",
    "- Use ***mne_bids.write_raw_bids*** to save data in BrainVision format, including events and metadata.\n",
    "- Generate a dataset description using ***make_dataset_description*** to complete the BIDS structure.\n",
    "\n",
    "6.**Behavioral Data Output**:\n",
    "- Combine filtered behavioral data across subjects into a single DataFrame.\n",
    "- Save as ***behaviorData_low_1_final_test.csv*** with full columns and as ***behaviorData_low_1_final.csv*** with selected columns (subj, coherence, RT, accuracy, keypress)."
   ]
  },
  {
   "cell_type": "code",
   "execution_count": 2,
   "id": "76d021c0",
   "metadata": {},
   "outputs": [],
   "source": [
    "# set different paths to load and save data\n",
    "ds_root='/volumes/hyijie_psy/CPP/data_low-level_1/data' # path for raw data\n",
    "tgt_dir='..'\n",
    "# set file name to load data \n",
    "fn_first='Formatted_'\n",
    "fn_last='.3_40_preproc'\n",
    "\n",
    "# make folders to save result\n",
    "preprocessData=os.path.join(tgt_dir,'data/preprocessData')\n",
    "if not os.path.exists(preprocessData):\n",
    "    os.makedirs(preprocessData)\n"
   ]
  },
  {
   "cell_type": "code",
   "execution_count": null,
   "id": "7e8b5a1c",
   "metadata": {},
   "outputs": [
    {
     "name": "stdout",
     "output_type": "stream",
     "text": [
      "Creating RawArray with float64 data, n_channels=128, n_times=491753\n",
      "    Range : 0 ... 491752 =      0.000 ...   983.504 secs\n",
      "Ready.\n",
      "Writing '../data/preprocessData/participants.tsv'...\n",
      "Writing '../data/preprocessData/participants.json'...\n",
      "Used Annotations descriptions: [np.str_('boil'), np.str_('fixation'), np.str_('offser'), np.str_('photodiode'), np.str_('response'), np.str_('stimulus')]\n",
      "Writing '../data/preprocessData/sub-A001/eeg/sub-A001_task-randomDot_events.tsv'...\n",
      "Writing '../data/preprocessData/sub-A001/eeg/sub-A001_task-randomDot_events.json'...\n",
      "Writing '../data/preprocessData/dataset_description.json'...\n",
      "Writing '../data/preprocessData/sub-A001/eeg/sub-A001_task-randomDot_eeg.json'...\n",
      "Found no extension for raw file, assuming \"BTi\" format and appending extension .pdf\n",
      "Writing '../data/preprocessData/sub-A001/eeg/sub-A001_task-randomDot_channels.tsv'...\n",
      "Copying data files to sub-A001_task-randomDot_eeg.vhdr\n"
     ]
    },
    {
     "name": "stderr",
     "output_type": "stream",
     "text": [
      "/var/folders/xc/16fqwx1n1gbfb77yd1bdg8mh0000gn/T/ipykernel_3337/2620168588.py:84: RuntimeWarning: Converting data files to BrainVision format\n",
      "  write_raw_bids(\n",
      "/var/folders/xc/16fqwx1n1gbfb77yd1bdg8mh0000gn/T/ipykernel_3337/2620168588.py:84: RuntimeWarning: Encountered data in \"double\" format. Converting to float32.\n",
      "  write_raw_bids(\n"
     ]
    },
    {
     "name": "stdout",
     "output_type": "stream",
     "text": [
      "Writing '../data/preprocessData/sub-A001/sub-A001_scans.tsv'...\n",
      "Wrote ../data/preprocessData/sub-A001/sub-A001_scans.tsv entry with eeg/sub-A001_task-randomDot_eeg.vhdr.\n",
      "Writing '../data/preprocessData/dataset_description.json'...\n",
      "Creating RawArray with float64 data, n_channels=128, n_times=461226\n",
      "    Range : 0 ... 461225 =      0.000 ...   922.450 secs\n",
      "Ready.\n",
      "Writing '../data/preprocessData/participants.tsv'...\n",
      "Writing '../data/preprocessData/participants.json'...\n",
      "Used Annotations descriptions: [np.str_('boil'), np.str_('fixation'), np.str_('offser'), np.str_('photodiode'), np.str_('response'), np.str_('stimulus')]\n",
      "Writing '../data/preprocessData/sub-A002/eeg/sub-A002_task-randomDot_events.tsv'...\n",
      "Writing '../data/preprocessData/sub-A002/eeg/sub-A002_task-randomDot_events.json'...\n",
      "Writing '../data/preprocessData/dataset_description.json'...\n",
      "Writing '../data/preprocessData/sub-A002/eeg/sub-A002_task-randomDot_eeg.json'...\n",
      "Found no extension for raw file, assuming \"BTi\" format and appending extension .pdf\n",
      "Writing '../data/preprocessData/sub-A002/eeg/sub-A002_task-randomDot_channels.tsv'...\n",
      "Copying data files to sub-A002_task-randomDot_eeg.vhdr\n"
     ]
    },
    {
     "name": "stderr",
     "output_type": "stream",
     "text": [
      "/var/folders/xc/16fqwx1n1gbfb77yd1bdg8mh0000gn/T/ipykernel_3337/2620168588.py:84: RuntimeWarning: Converting data files to BrainVision format\n",
      "  write_raw_bids(\n",
      "/var/folders/xc/16fqwx1n1gbfb77yd1bdg8mh0000gn/T/ipykernel_3337/2620168588.py:84: RuntimeWarning: Encountered data in \"double\" format. Converting to float32.\n",
      "  write_raw_bids(\n"
     ]
    },
    {
     "name": "stdout",
     "output_type": "stream",
     "text": [
      "Writing '../data/preprocessData/sub-A002/sub-A002_scans.tsv'...\n",
      "Wrote ../data/preprocessData/sub-A002/sub-A002_scans.tsv entry with eeg/sub-A002_task-randomDot_eeg.vhdr.\n",
      "Writing '../data/preprocessData/dataset_description.json'...\n",
      "Creating RawArray with float64 data, n_channels=128, n_times=449384\n",
      "    Range : 0 ... 449383 =      0.000 ...   898.766 secs\n",
      "Ready.\n",
      "Writing '../data/preprocessData/participants.tsv'...\n",
      "Writing '../data/preprocessData/participants.json'...\n",
      "Used Annotations descriptions: [np.str_('boil'), np.str_('fixation'), np.str_('offser'), np.str_('photodiode'), np.str_('response'), np.str_('stimulus')]\n",
      "Writing '../data/preprocessData/sub-A003/eeg/sub-A003_task-randomDot_events.tsv'...\n",
      "Writing '../data/preprocessData/sub-A003/eeg/sub-A003_task-randomDot_events.json'...\n",
      "Writing '../data/preprocessData/dataset_description.json'...\n",
      "Writing '../data/preprocessData/sub-A003/eeg/sub-A003_task-randomDot_eeg.json'...\n",
      "Found no extension for raw file, assuming \"BTi\" format and appending extension .pdf\n",
      "Writing '../data/preprocessData/sub-A003/eeg/sub-A003_task-randomDot_channels.tsv'...\n",
      "Copying data files to sub-A003_task-randomDot_eeg.vhdr\n"
     ]
    },
    {
     "name": "stderr",
     "output_type": "stream",
     "text": [
      "/var/folders/xc/16fqwx1n1gbfb77yd1bdg8mh0000gn/T/ipykernel_3337/2620168588.py:84: RuntimeWarning: Converting data files to BrainVision format\n",
      "  write_raw_bids(\n",
      "/var/folders/xc/16fqwx1n1gbfb77yd1bdg8mh0000gn/T/ipykernel_3337/2620168588.py:84: RuntimeWarning: Encountered data in \"double\" format. Converting to float32.\n",
      "  write_raw_bids(\n"
     ]
    },
    {
     "name": "stdout",
     "output_type": "stream",
     "text": [
      "Writing '../data/preprocessData/sub-A003/sub-A003_scans.tsv'...\n",
      "Wrote ../data/preprocessData/sub-A003/sub-A003_scans.tsv entry with eeg/sub-A003_task-randomDot_eeg.vhdr.\n",
      "Writing '../data/preprocessData/dataset_description.json'...\n",
      "Creating RawArray with float64 data, n_channels=128, n_times=456058\n",
      "    Range : 0 ... 456057 =      0.000 ...   912.114 secs\n",
      "Ready.\n",
      "Writing '../data/preprocessData/participants.tsv'...\n",
      "Writing '../data/preprocessData/participants.json'...\n",
      "Used Annotations descriptions: [np.str_('boil'), np.str_('fixation'), np.str_('offser'), np.str_('photodiode'), np.str_('response'), np.str_('stimulus')]\n",
      "Writing '../data/preprocessData/sub-A004/eeg/sub-A004_task-randomDot_events.tsv'...\n",
      "Writing '../data/preprocessData/sub-A004/eeg/sub-A004_task-randomDot_events.json'...\n",
      "Writing '../data/preprocessData/dataset_description.json'...\n",
      "Writing '../data/preprocessData/sub-A004/eeg/sub-A004_task-randomDot_eeg.json'...\n",
      "Found no extension for raw file, assuming \"BTi\" format and appending extension .pdf\n",
      "Writing '../data/preprocessData/sub-A004/eeg/sub-A004_task-randomDot_channels.tsv'...\n",
      "Copying data files to sub-A004_task-randomDot_eeg.vhdr\n"
     ]
    },
    {
     "name": "stderr",
     "output_type": "stream",
     "text": [
      "/var/folders/xc/16fqwx1n1gbfb77yd1bdg8mh0000gn/T/ipykernel_3337/2620168588.py:84: RuntimeWarning: Converting data files to BrainVision format\n",
      "  write_raw_bids(\n",
      "/var/folders/xc/16fqwx1n1gbfb77yd1bdg8mh0000gn/T/ipykernel_3337/2620168588.py:84: RuntimeWarning: Encountered data in \"double\" format. Converting to float32.\n",
      "  write_raw_bids(\n"
     ]
    },
    {
     "name": "stdout",
     "output_type": "stream",
     "text": [
      "Writing '../data/preprocessData/sub-A004/sub-A004_scans.tsv'...\n",
      "Wrote ../data/preprocessData/sub-A004/sub-A004_scans.tsv entry with eeg/sub-A004_task-randomDot_eeg.vhdr.\n",
      "Writing '../data/preprocessData/dataset_description.json'...\n",
      "Creating RawArray with float64 data, n_channels=128, n_times=438489\n",
      "    Range : 0 ... 438488 =      0.000 ...   876.976 secs\n",
      "Ready.\n",
      "Writing '../data/preprocessData/participants.tsv'...\n",
      "Writing '../data/preprocessData/participants.json'...\n",
      "Used Annotations descriptions: [np.str_('boil'), np.str_('fixation'), np.str_('offser'), np.str_('photodiode'), np.str_('response'), np.str_('stimulus')]\n",
      "Writing '../data/preprocessData/sub-A005/eeg/sub-A005_task-randomDot_events.tsv'...\n",
      "Writing '../data/preprocessData/sub-A005/eeg/sub-A005_task-randomDot_events.json'...\n",
      "Writing '../data/preprocessData/dataset_description.json'...\n",
      "Writing '../data/preprocessData/sub-A005/eeg/sub-A005_task-randomDot_eeg.json'...\n",
      "Found no extension for raw file, assuming \"BTi\" format and appending extension .pdf\n",
      "Writing '../data/preprocessData/sub-A005/eeg/sub-A005_task-randomDot_channels.tsv'...\n",
      "Copying data files to sub-A005_task-randomDot_eeg.vhdr\n"
     ]
    },
    {
     "name": "stderr",
     "output_type": "stream",
     "text": [
      "/var/folders/xc/16fqwx1n1gbfb77yd1bdg8mh0000gn/T/ipykernel_3337/2620168588.py:84: RuntimeWarning: Converting data files to BrainVision format\n",
      "  write_raw_bids(\n",
      "/var/folders/xc/16fqwx1n1gbfb77yd1bdg8mh0000gn/T/ipykernel_3337/2620168588.py:84: RuntimeWarning: Encountered data in \"double\" format. Converting to float32.\n",
      "  write_raw_bids(\n"
     ]
    },
    {
     "name": "stdout",
     "output_type": "stream",
     "text": [
      "Writing '../data/preprocessData/sub-A005/sub-A005_scans.tsv'...\n",
      "Wrote ../data/preprocessData/sub-A005/sub-A005_scans.tsv entry with eeg/sub-A005_task-randomDot_eeg.vhdr.\n",
      "Writing '../data/preprocessData/dataset_description.json'...\n",
      "Creating RawArray with float64 data, n_channels=128, n_times=498464\n",
      "    Range : 0 ... 498463 =      0.000 ...   996.926 secs\n",
      "Ready.\n",
      "Writing '../data/preprocessData/participants.tsv'...\n",
      "Writing '../data/preprocessData/participants.json'...\n",
      "Used Annotations descriptions: [np.str_('boil'), np.str_('fixation'), np.str_('offser'), np.str_('photodiode'), np.str_('response'), np.str_('stimulus')]\n",
      "Writing '../data/preprocessData/sub-A006/eeg/sub-A006_task-randomDot_events.tsv'...\n",
      "Writing '../data/preprocessData/sub-A006/eeg/sub-A006_task-randomDot_events.json'...\n",
      "Writing '../data/preprocessData/dataset_description.json'...\n",
      "Writing '../data/preprocessData/sub-A006/eeg/sub-A006_task-randomDot_eeg.json'...\n",
      "Found no extension for raw file, assuming \"BTi\" format and appending extension .pdf\n",
      "Writing '../data/preprocessData/sub-A006/eeg/sub-A006_task-randomDot_channels.tsv'...\n",
      "Copying data files to sub-A006_task-randomDot_eeg.vhdr\n"
     ]
    },
    {
     "name": "stderr",
     "output_type": "stream",
     "text": [
      "/var/folders/xc/16fqwx1n1gbfb77yd1bdg8mh0000gn/T/ipykernel_3337/2620168588.py:84: RuntimeWarning: Converting data files to BrainVision format\n",
      "  write_raw_bids(\n",
      "/var/folders/xc/16fqwx1n1gbfb77yd1bdg8mh0000gn/T/ipykernel_3337/2620168588.py:84: RuntimeWarning: Encountered data in \"double\" format. Converting to float32.\n",
      "  write_raw_bids(\n"
     ]
    },
    {
     "name": "stdout",
     "output_type": "stream",
     "text": [
      "Writing '../data/preprocessData/sub-A006/sub-A006_scans.tsv'...\n",
      "Wrote ../data/preprocessData/sub-A006/sub-A006_scans.tsv entry with eeg/sub-A006_task-randomDot_eeg.vhdr.\n",
      "Writing '../data/preprocessData/dataset_description.json'...\n",
      "Creating RawArray with float64 data, n_channels=128, n_times=471979\n",
      "    Range : 0 ... 471978 =      0.000 ...   943.956 secs\n",
      "Ready.\n",
      "Writing '../data/preprocessData/participants.tsv'...\n",
      "Writing '../data/preprocessData/participants.json'...\n",
      "Used Annotations descriptions: [np.str_('boil'), np.str_('fixation'), np.str_('offser'), np.str_('photodiode'), np.str_('response'), np.str_('stimulus')]\n",
      "Writing '../data/preprocessData/sub-A007/eeg/sub-A007_task-randomDot_events.tsv'...\n",
      "Writing '../data/preprocessData/sub-A007/eeg/sub-A007_task-randomDot_events.json'...\n",
      "Writing '../data/preprocessData/dataset_description.json'...\n",
      "Writing '../data/preprocessData/sub-A007/eeg/sub-A007_task-randomDot_eeg.json'...\n",
      "Found no extension for raw file, assuming \"BTi\" format and appending extension .pdf\n",
      "Writing '../data/preprocessData/sub-A007/eeg/sub-A007_task-randomDot_channels.tsv'...\n",
      "Copying data files to sub-A007_task-randomDot_eeg.vhdr\n"
     ]
    },
    {
     "name": "stderr",
     "output_type": "stream",
     "text": [
      "/var/folders/xc/16fqwx1n1gbfb77yd1bdg8mh0000gn/T/ipykernel_3337/2620168588.py:84: RuntimeWarning: Converting data files to BrainVision format\n",
      "  write_raw_bids(\n",
      "/var/folders/xc/16fqwx1n1gbfb77yd1bdg8mh0000gn/T/ipykernel_3337/2620168588.py:84: RuntimeWarning: Encountered data in \"double\" format. Converting to float32.\n",
      "  write_raw_bids(\n"
     ]
    },
    {
     "name": "stdout",
     "output_type": "stream",
     "text": [
      "Writing '../data/preprocessData/sub-A007/sub-A007_scans.tsv'...\n",
      "Wrote ../data/preprocessData/sub-A007/sub-A007_scans.tsv entry with eeg/sub-A007_task-randomDot_eeg.vhdr.\n",
      "Writing '../data/preprocessData/dataset_description.json'...\n",
      "Creating RawArray with float64 data, n_channels=128, n_times=475293\n",
      "    Range : 0 ... 475292 =      0.000 ...   950.584 secs\n",
      "Ready.\n",
      "Writing '../data/preprocessData/participants.tsv'...\n",
      "Writing '../data/preprocessData/participants.json'...\n",
      "Used Annotations descriptions: [np.str_('boil'), np.str_('fixation'), np.str_('offser'), np.str_('photodiode'), np.str_('response'), np.str_('stimulus')]\n",
      "Writing '../data/preprocessData/sub-A008/eeg/sub-A008_task-randomDot_events.tsv'...\n",
      "Writing '../data/preprocessData/sub-A008/eeg/sub-A008_task-randomDot_events.json'...\n",
      "Writing '../data/preprocessData/dataset_description.json'...\n",
      "Writing '../data/preprocessData/sub-A008/eeg/sub-A008_task-randomDot_eeg.json'...\n",
      "Found no extension for raw file, assuming \"BTi\" format and appending extension .pdf\n",
      "Writing '../data/preprocessData/sub-A008/eeg/sub-A008_task-randomDot_channels.tsv'...\n",
      "Copying data files to sub-A008_task-randomDot_eeg.vhdr\n"
     ]
    },
    {
     "name": "stderr",
     "output_type": "stream",
     "text": [
      "/var/folders/xc/16fqwx1n1gbfb77yd1bdg8mh0000gn/T/ipykernel_3337/2620168588.py:84: RuntimeWarning: Converting data files to BrainVision format\n",
      "  write_raw_bids(\n",
      "/var/folders/xc/16fqwx1n1gbfb77yd1bdg8mh0000gn/T/ipykernel_3337/2620168588.py:84: RuntimeWarning: Encountered data in \"double\" format. Converting to float32.\n",
      "  write_raw_bids(\n"
     ]
    },
    {
     "name": "stdout",
     "output_type": "stream",
     "text": [
      "Writing '../data/preprocessData/sub-A008/sub-A008_scans.tsv'...\n",
      "Wrote ../data/preprocessData/sub-A008/sub-A008_scans.tsv entry with eeg/sub-A008_task-randomDot_eeg.vhdr.\n",
      "Writing '../data/preprocessData/dataset_description.json'...\n",
      "Creating RawArray with float64 data, n_channels=128, n_times=447978\n",
      "    Range : 0 ... 447977 =      0.000 ...   895.954 secs\n",
      "Ready.\n",
      "Writing '../data/preprocessData/participants.tsv'...\n",
      "Writing '../data/preprocessData/participants.json'...\n",
      "Used Annotations descriptions: [np.str_('boil'), np.str_('fixation'), np.str_('offser'), np.str_('photodiode'), np.str_('response'), np.str_('stimulus')]\n",
      "Writing '../data/preprocessData/sub-A009/eeg/sub-A009_task-randomDot_events.tsv'...\n",
      "Writing '../data/preprocessData/sub-A009/eeg/sub-A009_task-randomDot_events.json'...\n",
      "Writing '../data/preprocessData/dataset_description.json'...\n",
      "Writing '../data/preprocessData/sub-A009/eeg/sub-A009_task-randomDot_eeg.json'...\n",
      "Found no extension for raw file, assuming \"BTi\" format and appending extension .pdf\n",
      "Writing '../data/preprocessData/sub-A009/eeg/sub-A009_task-randomDot_channels.tsv'...\n",
      "Copying data files to sub-A009_task-randomDot_eeg.vhdr\n"
     ]
    },
    {
     "name": "stderr",
     "output_type": "stream",
     "text": [
      "/var/folders/xc/16fqwx1n1gbfb77yd1bdg8mh0000gn/T/ipykernel_3337/2620168588.py:84: RuntimeWarning: Converting data files to BrainVision format\n",
      "  write_raw_bids(\n",
      "/var/folders/xc/16fqwx1n1gbfb77yd1bdg8mh0000gn/T/ipykernel_3337/2620168588.py:84: RuntimeWarning: Encountered data in \"double\" format. Converting to float32.\n",
      "  write_raw_bids(\n"
     ]
    },
    {
     "name": "stdout",
     "output_type": "stream",
     "text": [
      "Writing '../data/preprocessData/sub-A009/sub-A009_scans.tsv'...\n",
      "Wrote ../data/preprocessData/sub-A009/sub-A009_scans.tsv entry with eeg/sub-A009_task-randomDot_eeg.vhdr.\n",
      "Writing '../data/preprocessData/dataset_description.json'...\n",
      "Creating RawArray with float64 data, n_channels=128, n_times=455350\n",
      "    Range : 0 ... 455349 =      0.000 ...   910.698 secs\n",
      "Ready.\n",
      "Writing '../data/preprocessData/participants.tsv'...\n",
      "Writing '../data/preprocessData/participants.json'...\n",
      "Used Annotations descriptions: [np.str_('boil'), np.str_('fixation'), np.str_('offser'), np.str_('photodiode'), np.str_('response'), np.str_('stimulus')]\n",
      "Writing '../data/preprocessData/sub-A010/eeg/sub-A010_task-randomDot_events.tsv'...\n",
      "Writing '../data/preprocessData/sub-A010/eeg/sub-A010_task-randomDot_events.json'...\n",
      "Writing '../data/preprocessData/dataset_description.json'...\n",
      "Writing '../data/preprocessData/sub-A010/eeg/sub-A010_task-randomDot_eeg.json'...\n",
      "Found no extension for raw file, assuming \"BTi\" format and appending extension .pdf\n",
      "Writing '../data/preprocessData/sub-A010/eeg/sub-A010_task-randomDot_channels.tsv'...\n",
      "Copying data files to sub-A010_task-randomDot_eeg.vhdr\n"
     ]
    },
    {
     "name": "stderr",
     "output_type": "stream",
     "text": [
      "/var/folders/xc/16fqwx1n1gbfb77yd1bdg8mh0000gn/T/ipykernel_3337/2620168588.py:84: RuntimeWarning: Converting data files to BrainVision format\n",
      "  write_raw_bids(\n",
      "/var/folders/xc/16fqwx1n1gbfb77yd1bdg8mh0000gn/T/ipykernel_3337/2620168588.py:84: RuntimeWarning: Encountered data in \"double\" format. Converting to float32.\n",
      "  write_raw_bids(\n"
     ]
    },
    {
     "name": "stdout",
     "output_type": "stream",
     "text": [
      "Writing '../data/preprocessData/sub-A010/sub-A010_scans.tsv'...\n",
      "Wrote ../data/preprocessData/sub-A010/sub-A010_scans.tsv entry with eeg/sub-A010_task-randomDot_eeg.vhdr.\n",
      "Writing '../data/preprocessData/dataset_description.json'...\n",
      "Creating RawArray with float64 data, n_channels=128, n_times=436412\n",
      "    Range : 0 ... 436411 =      0.000 ...   872.822 secs\n",
      "Ready.\n",
      "Writing '../data/preprocessData/participants.tsv'...\n",
      "Writing '../data/preprocessData/participants.json'...\n",
      "Used Annotations descriptions: [np.str_('boil'), np.str_('fixation'), np.str_('offser'), np.str_('photodiode'), np.str_('response'), np.str_('stimulus')]\n",
      "Writing '../data/preprocessData/sub-A011/eeg/sub-A011_task-randomDot_events.tsv'...\n",
      "Writing '../data/preprocessData/sub-A011/eeg/sub-A011_task-randomDot_events.json'...\n",
      "Writing '../data/preprocessData/dataset_description.json'...\n",
      "Writing '../data/preprocessData/sub-A011/eeg/sub-A011_task-randomDot_eeg.json'...\n",
      "Found no extension for raw file, assuming \"BTi\" format and appending extension .pdf\n",
      "Writing '../data/preprocessData/sub-A011/eeg/sub-A011_task-randomDot_channels.tsv'...\n",
      "Copying data files to sub-A011_task-randomDot_eeg.vhdr\n"
     ]
    },
    {
     "name": "stderr",
     "output_type": "stream",
     "text": [
      "/var/folders/xc/16fqwx1n1gbfb77yd1bdg8mh0000gn/T/ipykernel_3337/2620168588.py:84: RuntimeWarning: Converting data files to BrainVision format\n",
      "  write_raw_bids(\n",
      "/var/folders/xc/16fqwx1n1gbfb77yd1bdg8mh0000gn/T/ipykernel_3337/2620168588.py:84: RuntimeWarning: Encountered data in \"double\" format. Converting to float32.\n",
      "  write_raw_bids(\n"
     ]
    },
    {
     "name": "stdout",
     "output_type": "stream",
     "text": [
      "Writing '../data/preprocessData/sub-A011/sub-A011_scans.tsv'...\n",
      "Wrote ../data/preprocessData/sub-A011/sub-A011_scans.tsv entry with eeg/sub-A011_task-randomDot_eeg.vhdr.\n",
      "Writing '../data/preprocessData/dataset_description.json'...\n",
      "Creating RawArray with float64 data, n_channels=128, n_times=465449\n",
      "    Range : 0 ... 465448 =      0.000 ...   930.896 secs\n",
      "Ready.\n",
      "Writing '../data/preprocessData/participants.tsv'...\n",
      "Writing '../data/preprocessData/participants.json'...\n",
      "Used Annotations descriptions: [np.str_('boil'), np.str_('fixation'), np.str_('offser'), np.str_('photodiode'), np.str_('response'), np.str_('stimulus')]\n",
      "Writing '../data/preprocessData/sub-A012/eeg/sub-A012_task-randomDot_events.tsv'...\n",
      "Writing '../data/preprocessData/sub-A012/eeg/sub-A012_task-randomDot_events.json'...\n",
      "Writing '../data/preprocessData/dataset_description.json'...\n",
      "Writing '../data/preprocessData/sub-A012/eeg/sub-A012_task-randomDot_eeg.json'...\n",
      "Found no extension for raw file, assuming \"BTi\" format and appending extension .pdf\n",
      "Writing '../data/preprocessData/sub-A012/eeg/sub-A012_task-randomDot_channels.tsv'...\n",
      "Copying data files to sub-A012_task-randomDot_eeg.vhdr\n"
     ]
    },
    {
     "name": "stderr",
     "output_type": "stream",
     "text": [
      "/var/folders/xc/16fqwx1n1gbfb77yd1bdg8mh0000gn/T/ipykernel_3337/2620168588.py:84: RuntimeWarning: Converting data files to BrainVision format\n",
      "  write_raw_bids(\n",
      "/var/folders/xc/16fqwx1n1gbfb77yd1bdg8mh0000gn/T/ipykernel_3337/2620168588.py:84: RuntimeWarning: Encountered data in \"double\" format. Converting to float32.\n",
      "  write_raw_bids(\n"
     ]
    },
    {
     "name": "stdout",
     "output_type": "stream",
     "text": [
      "Writing '../data/preprocessData/sub-A012/sub-A012_scans.tsv'...\n",
      "Wrote ../data/preprocessData/sub-A012/sub-A012_scans.tsv entry with eeg/sub-A012_task-randomDot_eeg.vhdr.\n",
      "Writing '../data/preprocessData/dataset_description.json'...\n",
      "Creating RawArray with float64 data, n_channels=128, n_times=512778\n",
      "    Range : 0 ... 512777 =      0.000 ...  1025.554 secs\n",
      "Ready.\n",
      "Writing '../data/preprocessData/participants.tsv'...\n",
      "Writing '../data/preprocessData/participants.json'...\n",
      "Used Annotations descriptions: [np.str_('boil'), np.str_('fixation'), np.str_('offser'), np.str_('photodiode'), np.str_('response'), np.str_('stimulus')]\n",
      "Writing '../data/preprocessData/sub-A013/eeg/sub-A013_task-randomDot_events.tsv'...\n",
      "Writing '../data/preprocessData/sub-A013/eeg/sub-A013_task-randomDot_events.json'...\n",
      "Writing '../data/preprocessData/dataset_description.json'...\n",
      "Writing '../data/preprocessData/sub-A013/eeg/sub-A013_task-randomDot_eeg.json'...\n",
      "Found no extension for raw file, assuming \"BTi\" format and appending extension .pdf\n",
      "Writing '../data/preprocessData/sub-A013/eeg/sub-A013_task-randomDot_channels.tsv'...\n",
      "Copying data files to sub-A013_task-randomDot_eeg.vhdr\n"
     ]
    },
    {
     "name": "stderr",
     "output_type": "stream",
     "text": [
      "/var/folders/xc/16fqwx1n1gbfb77yd1bdg8mh0000gn/T/ipykernel_3337/2620168588.py:84: RuntimeWarning: Converting data files to BrainVision format\n",
      "  write_raw_bids(\n",
      "/var/folders/xc/16fqwx1n1gbfb77yd1bdg8mh0000gn/T/ipykernel_3337/2620168588.py:84: RuntimeWarning: Encountered data in \"double\" format. Converting to float32.\n",
      "  write_raw_bids(\n"
     ]
    },
    {
     "name": "stdout",
     "output_type": "stream",
     "text": [
      "Writing '../data/preprocessData/sub-A013/sub-A013_scans.tsv'...\n",
      "Wrote ../data/preprocessData/sub-A013/sub-A013_scans.tsv entry with eeg/sub-A013_task-randomDot_eeg.vhdr.\n",
      "Writing '../data/preprocessData/dataset_description.json'...\n",
      "Creating RawArray with float64 data, n_channels=128, n_times=420476\n",
      "    Range : 0 ... 420475 =      0.000 ...   840.950 secs\n",
      "Ready.\n",
      "Writing '../data/preprocessData/participants.tsv'...\n",
      "Writing '../data/preprocessData/participants.json'...\n",
      "Used Annotations descriptions: [np.str_('boil'), np.str_('fixation'), np.str_('offser'), np.str_('photodiode'), np.str_('response'), np.str_('stimulus')]\n",
      "Writing '../data/preprocessData/sub-A014/eeg/sub-A014_task-randomDot_events.tsv'...\n",
      "Writing '../data/preprocessData/sub-A014/eeg/sub-A014_task-randomDot_events.json'...\n",
      "Writing '../data/preprocessData/dataset_description.json'...\n",
      "Writing '../data/preprocessData/sub-A014/eeg/sub-A014_task-randomDot_eeg.json'...\n",
      "Found no extension for raw file, assuming \"BTi\" format and appending extension .pdf\n",
      "Writing '../data/preprocessData/sub-A014/eeg/sub-A014_task-randomDot_channels.tsv'...\n",
      "Copying data files to sub-A014_task-randomDot_eeg.vhdr\n"
     ]
    },
    {
     "name": "stderr",
     "output_type": "stream",
     "text": [
      "/var/folders/xc/16fqwx1n1gbfb77yd1bdg8mh0000gn/T/ipykernel_3337/2620168588.py:84: RuntimeWarning: Converting data files to BrainVision format\n",
      "  write_raw_bids(\n",
      "/var/folders/xc/16fqwx1n1gbfb77yd1bdg8mh0000gn/T/ipykernel_3337/2620168588.py:84: RuntimeWarning: Encountered data in \"double\" format. Converting to float32.\n",
      "  write_raw_bids(\n"
     ]
    },
    {
     "name": "stdout",
     "output_type": "stream",
     "text": [
      "Writing '../data/preprocessData/sub-A014/sub-A014_scans.tsv'...\n",
      "Wrote ../data/preprocessData/sub-A014/sub-A014_scans.tsv entry with eeg/sub-A014_task-randomDot_eeg.vhdr.\n",
      "Writing '../data/preprocessData/dataset_description.json'...\n",
      "Creating RawArray with float64 data, n_channels=128, n_times=484636\n",
      "    Range : 0 ... 484635 =      0.000 ...   969.270 secs\n",
      "Ready.\n",
      "Writing '../data/preprocessData/participants.tsv'...\n",
      "Writing '../data/preprocessData/participants.json'...\n",
      "Used Annotations descriptions: [np.str_('boil'), np.str_('fixation'), np.str_('offser'), np.str_('photodiode'), np.str_('response'), np.str_('stimulus')]\n",
      "Writing '../data/preprocessData/sub-A015/eeg/sub-A015_task-randomDot_events.tsv'...\n",
      "Writing '../data/preprocessData/sub-A015/eeg/sub-A015_task-randomDot_events.json'...\n",
      "Writing '../data/preprocessData/dataset_description.json'...\n",
      "Writing '../data/preprocessData/sub-A015/eeg/sub-A015_task-randomDot_eeg.json'...\n",
      "Found no extension for raw file, assuming \"BTi\" format and appending extension .pdf\n",
      "Writing '../data/preprocessData/sub-A015/eeg/sub-A015_task-randomDot_channels.tsv'...\n",
      "Copying data files to sub-A015_task-randomDot_eeg.vhdr\n"
     ]
    },
    {
     "name": "stderr",
     "output_type": "stream",
     "text": [
      "/var/folders/xc/16fqwx1n1gbfb77yd1bdg8mh0000gn/T/ipykernel_3337/2620168588.py:84: RuntimeWarning: Converting data files to BrainVision format\n",
      "  write_raw_bids(\n",
      "/var/folders/xc/16fqwx1n1gbfb77yd1bdg8mh0000gn/T/ipykernel_3337/2620168588.py:84: RuntimeWarning: Encountered data in \"double\" format. Converting to float32.\n",
      "  write_raw_bids(\n"
     ]
    },
    {
     "name": "stdout",
     "output_type": "stream",
     "text": [
      "Writing '../data/preprocessData/sub-A015/sub-A015_scans.tsv'...\n",
      "Wrote ../data/preprocessData/sub-A015/sub-A015_scans.tsv entry with eeg/sub-A015_task-randomDot_eeg.vhdr.\n",
      "Writing '../data/preprocessData/dataset_description.json'...\n",
      "Creating RawArray with float64 data, n_channels=128, n_times=442934\n",
      "    Range : 0 ... 442933 =      0.000 ...   885.866 secs\n",
      "Ready.\n",
      "Writing '../data/preprocessData/participants.tsv'...\n",
      "Writing '../data/preprocessData/participants.json'...\n",
      "Used Annotations descriptions: [np.str_('boil'), np.str_('fixation'), np.str_('offser'), np.str_('photodiode'), np.str_('response'), np.str_('stimulus')]\n",
      "Writing '../data/preprocessData/sub-A016/eeg/sub-A016_task-randomDot_events.tsv'...\n",
      "Writing '../data/preprocessData/sub-A016/eeg/sub-A016_task-randomDot_events.json'...\n",
      "Writing '../data/preprocessData/dataset_description.json'...\n",
      "Writing '../data/preprocessData/sub-A016/eeg/sub-A016_task-randomDot_eeg.json'...\n",
      "Found no extension for raw file, assuming \"BTi\" format and appending extension .pdf\n",
      "Writing '../data/preprocessData/sub-A016/eeg/sub-A016_task-randomDot_channels.tsv'...\n",
      "Copying data files to sub-A016_task-randomDot_eeg.vhdr\n"
     ]
    },
    {
     "name": "stderr",
     "output_type": "stream",
     "text": [
      "/var/folders/xc/16fqwx1n1gbfb77yd1bdg8mh0000gn/T/ipykernel_3337/2620168588.py:84: RuntimeWarning: Converting data files to BrainVision format\n",
      "  write_raw_bids(\n",
      "/var/folders/xc/16fqwx1n1gbfb77yd1bdg8mh0000gn/T/ipykernel_3337/2620168588.py:84: RuntimeWarning: Encountered data in \"double\" format. Converting to float32.\n",
      "  write_raw_bids(\n"
     ]
    },
    {
     "name": "stdout",
     "output_type": "stream",
     "text": [
      "Writing '../data/preprocessData/sub-A016/sub-A016_scans.tsv'...\n",
      "Wrote ../data/preprocessData/sub-A016/sub-A016_scans.tsv entry with eeg/sub-A016_task-randomDot_eeg.vhdr.\n",
      "Writing '../data/preprocessData/dataset_description.json'...\n",
      "Creating RawArray with float64 data, n_channels=128, n_times=467765\n",
      "    Range : 0 ... 467764 =      0.000 ...   935.528 secs\n",
      "Ready.\n",
      "Writing '../data/preprocessData/participants.tsv'...\n",
      "Writing '../data/preprocessData/participants.json'...\n",
      "Used Annotations descriptions: [np.str_('boil'), np.str_('fixation'), np.str_('offser'), np.str_('photodiode'), np.str_('response'), np.str_('stimulus')]\n",
      "Writing '../data/preprocessData/sub-A017/eeg/sub-A017_task-randomDot_events.tsv'...\n",
      "Writing '../data/preprocessData/sub-A017/eeg/sub-A017_task-randomDot_events.json'...\n",
      "Writing '../data/preprocessData/dataset_description.json'...\n",
      "Writing '../data/preprocessData/sub-A017/eeg/sub-A017_task-randomDot_eeg.json'...\n",
      "Found no extension for raw file, assuming \"BTi\" format and appending extension .pdf\n",
      "Writing '../data/preprocessData/sub-A017/eeg/sub-A017_task-randomDot_channels.tsv'...\n",
      "Copying data files to sub-A017_task-randomDot_eeg.vhdr\n"
     ]
    },
    {
     "name": "stderr",
     "output_type": "stream",
     "text": [
      "/var/folders/xc/16fqwx1n1gbfb77yd1bdg8mh0000gn/T/ipykernel_3337/2620168588.py:84: RuntimeWarning: Converting data files to BrainVision format\n",
      "  write_raw_bids(\n",
      "/var/folders/xc/16fqwx1n1gbfb77yd1bdg8mh0000gn/T/ipykernel_3337/2620168588.py:84: RuntimeWarning: Encountered data in \"double\" format. Converting to float32.\n",
      "  write_raw_bids(\n"
     ]
    },
    {
     "name": "stdout",
     "output_type": "stream",
     "text": [
      "Writing '../data/preprocessData/sub-A017/sub-A017_scans.tsv'...\n",
      "Wrote ../data/preprocessData/sub-A017/sub-A017_scans.tsv entry with eeg/sub-A017_task-randomDot_eeg.vhdr.\n",
      "Writing '../data/preprocessData/dataset_description.json'...\n",
      "Creating RawArray with float64 data, n_channels=128, n_times=445532\n",
      "    Range : 0 ... 445531 =      0.000 ...   891.062 secs\n",
      "Ready.\n",
      "Writing '../data/preprocessData/participants.tsv'...\n",
      "Writing '../data/preprocessData/participants.json'...\n",
      "Used Annotations descriptions: [np.str_('boil'), np.str_('fixation'), np.str_('offser'), np.str_('photodiode'), np.str_('response'), np.str_('stimulus')]\n",
      "Writing '../data/preprocessData/sub-A018/eeg/sub-A018_task-randomDot_events.tsv'...\n",
      "Writing '../data/preprocessData/sub-A018/eeg/sub-A018_task-randomDot_events.json'...\n",
      "Writing '../data/preprocessData/dataset_description.json'...\n",
      "Writing '../data/preprocessData/sub-A018/eeg/sub-A018_task-randomDot_eeg.json'...\n",
      "Found no extension for raw file, assuming \"BTi\" format and appending extension .pdf\n",
      "Writing '../data/preprocessData/sub-A018/eeg/sub-A018_task-randomDot_channels.tsv'...\n",
      "Copying data files to sub-A018_task-randomDot_eeg.vhdr\n"
     ]
    },
    {
     "name": "stderr",
     "output_type": "stream",
     "text": [
      "/var/folders/xc/16fqwx1n1gbfb77yd1bdg8mh0000gn/T/ipykernel_3337/2620168588.py:84: RuntimeWarning: Converting data files to BrainVision format\n",
      "  write_raw_bids(\n",
      "/var/folders/xc/16fqwx1n1gbfb77yd1bdg8mh0000gn/T/ipykernel_3337/2620168588.py:84: RuntimeWarning: Encountered data in \"double\" format. Converting to float32.\n",
      "  write_raw_bids(\n"
     ]
    },
    {
     "name": "stdout",
     "output_type": "stream",
     "text": [
      "Writing '../data/preprocessData/sub-A018/sub-A018_scans.tsv'...\n",
      "Wrote ../data/preprocessData/sub-A018/sub-A018_scans.tsv entry with eeg/sub-A018_task-randomDot_eeg.vhdr.\n",
      "Writing '../data/preprocessData/dataset_description.json'...\n",
      "Creating RawArray with float64 data, n_channels=128, n_times=455674\n",
      "    Range : 0 ... 455673 =      0.000 ...   911.346 secs\n",
      "Ready.\n",
      "Writing '../data/preprocessData/participants.tsv'...\n",
      "Writing '../data/preprocessData/participants.json'...\n",
      "Used Annotations descriptions: [np.str_('boil'), np.str_('fixation'), np.str_('offser'), np.str_('photodiode'), np.str_('response'), np.str_('stimulus')]\n",
      "Writing '../data/preprocessData/sub-A019/eeg/sub-A019_task-randomDot_events.tsv'...\n",
      "Writing '../data/preprocessData/sub-A019/eeg/sub-A019_task-randomDot_events.json'...\n",
      "Writing '../data/preprocessData/dataset_description.json'...\n",
      "Writing '../data/preprocessData/sub-A019/eeg/sub-A019_task-randomDot_eeg.json'...\n",
      "Found no extension for raw file, assuming \"BTi\" format and appending extension .pdf\n",
      "Writing '../data/preprocessData/sub-A019/eeg/sub-A019_task-randomDot_channels.tsv'...\n",
      "Copying data files to sub-A019_task-randomDot_eeg.vhdr\n"
     ]
    },
    {
     "name": "stderr",
     "output_type": "stream",
     "text": [
      "/var/folders/xc/16fqwx1n1gbfb77yd1bdg8mh0000gn/T/ipykernel_3337/2620168588.py:84: RuntimeWarning: Converting data files to BrainVision format\n",
      "  write_raw_bids(\n",
      "/var/folders/xc/16fqwx1n1gbfb77yd1bdg8mh0000gn/T/ipykernel_3337/2620168588.py:84: RuntimeWarning: Encountered data in \"double\" format. Converting to float32.\n",
      "  write_raw_bids(\n"
     ]
    },
    {
     "name": "stdout",
     "output_type": "stream",
     "text": [
      "Writing '../data/preprocessData/sub-A019/sub-A019_scans.tsv'...\n",
      "Wrote ../data/preprocessData/sub-A019/sub-A019_scans.tsv entry with eeg/sub-A019_task-randomDot_eeg.vhdr.\n",
      "Writing '../data/preprocessData/dataset_description.json'...\n",
      "Creating RawArray with float64 data, n_channels=128, n_times=432717\n",
      "    Range : 0 ... 432716 =      0.000 ...   865.432 secs\n",
      "Ready.\n",
      "Writing '../data/preprocessData/participants.tsv'...\n",
      "Writing '../data/preprocessData/participants.json'...\n",
      "Used Annotations descriptions: [np.str_('boil'), np.str_('fixation'), np.str_('offser'), np.str_('photodiode'), np.str_('response'), np.str_('stimulus')]\n",
      "Writing '../data/preprocessData/sub-A020/eeg/sub-A020_task-randomDot_events.tsv'...\n",
      "Writing '../data/preprocessData/sub-A020/eeg/sub-A020_task-randomDot_events.json'...\n",
      "Writing '../data/preprocessData/dataset_description.json'...\n",
      "Writing '../data/preprocessData/sub-A020/eeg/sub-A020_task-randomDot_eeg.json'...\n",
      "Found no extension for raw file, assuming \"BTi\" format and appending extension .pdf\n",
      "Writing '../data/preprocessData/sub-A020/eeg/sub-A020_task-randomDot_channels.tsv'...\n",
      "Copying data files to sub-A020_task-randomDot_eeg.vhdr\n"
     ]
    },
    {
     "name": "stderr",
     "output_type": "stream",
     "text": [
      "/var/folders/xc/16fqwx1n1gbfb77yd1bdg8mh0000gn/T/ipykernel_3337/2620168588.py:84: RuntimeWarning: Converting data files to BrainVision format\n",
      "  write_raw_bids(\n",
      "/var/folders/xc/16fqwx1n1gbfb77yd1bdg8mh0000gn/T/ipykernel_3337/2620168588.py:84: RuntimeWarning: Encountered data in \"double\" format. Converting to float32.\n",
      "  write_raw_bids(\n"
     ]
    },
    {
     "name": "stdout",
     "output_type": "stream",
     "text": [
      "Writing '../data/preprocessData/sub-A020/sub-A020_scans.tsv'...\n",
      "Wrote ../data/preprocessData/sub-A020/sub-A020_scans.tsv entry with eeg/sub-A020_task-randomDot_eeg.vhdr.\n",
      "Writing '../data/preprocessData/dataset_description.json'...\n"
     ]
    }
   ],
   "source": [
    "# Preprocess EEG and behavioral data for BIDS conversion\n",
    "\n",
    "# Load and filter behavioral data for adult subjects (starting with 'A')\n",
    "data_behavior = pd.read_csv('../data/behaviorData_low_1_raw.csv')\n",
    "data_behavior = data_behavior[data_behavior.iloc[:, 1].astype(str).str.startswith('A')]\n",
    "\n",
    "# Initialize a list to store filtered behavioral data for all subjects\n",
    "data_behavior_filter = []\n",
    "\n",
    "# Define subject IDs (A001 to A020)\n",
    "sub_dir=[f'A{i:03d}' for i in range(1,21)]\n",
    "\n",
    "# Process each subject\n",
    "for sub in sub_dir:\n",
    "    # Filter behavioral data for the current subject\n",
    "    data_behavior_perSubject = data_behavior[data_behavior.iloc[:,1] == sub]\n",
    "    # Adjust trial indices to zero-based for Python compatibility\n",
    "    data_behavior_perSubject.iloc[:, 2] = data_behavior_perSubject.iloc[:, 2] - 1\n",
    "    \n",
    "\n",
    "    # Load EEG data, triggers, and trial epoch indices from .mat file\n",
    "    raw = scipy.io.loadmat(os.path.join(ds_root,fn_first+sub+fn_last+'.mat'))\n",
    "    good_trials = raw['GoodTrial'][0][0][0].T # Binary array (1=good, 0=bad)\n",
    "    data_EEG = raw['X'] \n",
    "    data_trigger = raw['Onsets']['corrMatrix'][0,0] # Event timestamps\n",
    "    trialEpoch_id = raw['trialEpochIdx'] # Start/end indices for each trial\n",
    "    \n",
    "    # Step 1: Exclude bad trials based on GoodTrial\n",
    "    valid_trial = good_trials[:,0] == 1\n",
    "    valid_trial_index = np.where(valid_trial)[0] # Indices of good trials\n",
    "    data_trigger_goodTrial = data_trigger[valid_trial_index,:]\n",
    "    trialEpoch_id_goodTrial = trialEpoch_id[valid_trial_index,:]\n",
    "\n",
    "    # Filter behavioral data to match valid trials\n",
    "    data_behavior_perSubject_goodTrial = data_behavior_perSubject[data_behavior_perSubject.iloc[:, 2].isin(valid_trial_index)]\n",
    "    data_behavior_filter.append(data_behavior_perSubject_goodTrial)\n",
    "\n",
    "    # Step 2: Exclude trials missing response triggers (response-locked analysis)\n",
    "    valid_row = ~np.isnan(data_trigger_goodTrial[:,4]) # Check for non-NaN responses\n",
    "    index_validTrial = np.where(valid_row)[0]\n",
    "    data_trigger_dropNaN = data_trigger_goodTrial[index_validTrial,:]\n",
    "    trialEpoch_id_dropNaN = trialEpoch_id_goodTrial[index_validTrial,:]\n",
    "\n",
    "    # Prepare EEG data for BIDS: Concatenate trials and convert to microvolts\n",
    "    data_EEG_BIDS = np.concatenate(data_EEG[0], axis=1)\n",
    "    data_EEG_BIDS = data_EEG_BIDS * 1e6 # Shape: (n_channels, n_timepoints)\n",
    "    \n",
    "    # Transform triggers to continuous format for BIDS\n",
    "    data_trigger_continious = np.empty((data_trigger_dropNaN.shape[0],\n",
    "                                        data_trigger_dropNaN.shape[1]),\n",
    "                                        dtype = object)\n",
    "    for trial in range(0,data_trigger_dropNaN.shape[0]): \n",
    "        # Adjust trigger timestamps by trial start offset (subtract 1 for MATLAB-to-Python indexing)\n",
    "        data_trigger_continious[trial,:] = data_trigger_dropNaN[trial,:]+trialEpoch_id_dropNaN[trial,0]-1 \n",
    "    \n",
    "    # Reshape triggers into BIDS format: (n_events, 3)\n",
    "    trigger_row = data_trigger_continious.shape[0]\n",
    "    trigger_col = data_trigger_continious.shape[1]\n",
    "    data_trigger_BIDS = np.empty((trigger_row * trigger_col , 3), # must be 3 for BIDS\n",
    "                                 dtype = np.int32) # note that int32 is necessary\n",
    "    for trial in range(0,trigger_row): \n",
    "        # Column 1: Timestamps (adjusted for zero-based indexing)\n",
    "        data_trigger_BIDS[trial*trigger_col : (trial+1)*trigger_col , 0] = data_trigger_continious[trial,:]-1 \n",
    "\n",
    "        # Column 2: Duration (unused, set to 0)\n",
    "        data_trigger_BIDS[trial*trigger_col : (trial+1)*trigger_col , 1] = 0\n",
    "\n",
    "        # Column 3: Event IDs (1 to n_event_types)\n",
    "        data_trigger_BIDS[trial*trigger_col : (trial+1)*trigger_col , 2] = np.arange(1,trigger_col+1)\n",
    "\n",
    "    # Define sampling rate\n",
    "    samplingRate = 500\n",
    "    \n",
    "    # Load channel names from custom CSV (e.g., E1, E2, ...)\n",
    "    channel_info = pd.read_csv('../data/channelName.csv')\n",
    "    channel_info = channel_info.dropna()\n",
    "    channelName = channel_info['channel'].tolist()\n",
    "    \n",
    "    # Create MNE RawArray object for EEG data\n",
    "    info = mne.create_info(ch_names=channelName, sfreq=samplingRate, ch_types='eeg')\n",
    "    raw_mne = mne.io.RawArray(data_EEG_BIDS, info)\n",
    "\n",
    "    # Define BIDS path for the current subject\n",
    "    bids_path = BIDSPath(\n",
    "        subject=sub, \n",
    "        task='randomDot', \n",
    "        datatype='eeg',\n",
    "        root=preprocessData\n",
    "    )\n",
    "\n",
    "    # Export to BIDS format (BrainVision) with event annotations\n",
    "    write_raw_bids(\n",
    "        raw=raw_mne,\n",
    "        bids_path=bids_path,\n",
    "        events=data_trigger_BIDS,\n",
    "        event_id={'fixation':1,\n",
    "                  'boil':2,\n",
    "                  'photodiode':3,\n",
    "                  'stimulus':4, # Note: Timings corrected relative to photodiode signal\n",
    "                  'response':5, \n",
    "                  'offser':6}, \n",
    "        allow_preload=True,\n",
    "        format='BrainVision',\n",
    "        overwrite=True,\n",
    "        verbose=True\n",
    "    )\n",
    "\n",
    "    # Generate BIDS dataset description\n",
    "    make_dataset_description(\n",
    "    path=preprocessData,\n",
    "    name='LowLevel-randomDot',\n",
    "    dataset_type='raw',\n",
    "    overwrite=True\n",
    "    )\n",
    "\n",
    "# Combine and save filtered behavioral data\n",
    "data_behavior_filter_final = np.concatenate(data_behavior_filter, axis=0)\n",
    "data_behavior_filter_final = pd.DataFrame(data_behavior_filter_final)\n",
    "data_behavior_filter_final.columns = ['Pnumber', 'subj', 'trialno','group', 'age', 'sex', 'hands', 'devcond', 'coherence', 'motiondir', 'keypress', 'RT', 'accuracy'] \n",
    "\n",
    "# Save selected behavioral columns for analysis\n",
    "selected_columns = ['subj','coherence', 'RT', 'accuracy', 'keypress']\n",
    "data_behavior_selected = data_behavior_filter_final[selected_columns]\n",
    "data_behavior_selected.to_csv('../data/behaviorData_low_1_final.csv', index=False, header=True)\n",
    "\n"
   ]
  },
  {
   "cell_type": "code",
   "execution_count": null,
   "id": "edfec2a8",
   "metadata": {},
   "outputs": [],
   "source": []
  }
 ],
 "metadata": {
  "kernelspec": {
   "display_name": ".venv",
   "language": "python",
   "name": "python3"
  },
  "language_info": {
   "codemirror_mode": {
    "name": "ipython",
    "version": 3
   },
   "file_extension": ".py",
   "mimetype": "text/x-python",
   "name": "python",
   "nbconvert_exporter": "python",
   "pygments_lexer": "ipython3",
   "version": "3.13.3"
  }
 },
 "nbformat": 4,
 "nbformat_minor": 5
}
