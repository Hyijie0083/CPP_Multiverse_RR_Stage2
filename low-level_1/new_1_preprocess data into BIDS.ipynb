{
 "cells": [
  {
   "cell_type": "code",
   "execution_count": 1,
   "id": "f60e7b07",
   "metadata": {},
   "outputs": [],
   "source": [
    "import numpy as np\n",
    "import pandas as pd\n",
    "import os\n",
    "import scipy\n",
    "import mne \n",
    "\n",
    "from mne_bids import write_raw_bids, BIDSPath, make_dataset_description"
   ]
  },
  {
   "cell_type": "markdown",
   "id": "30f4e5f6",
   "metadata": {},
   "source": [
    "# Data available and basic information of dataset\n",
    "Data are available at 'https://doi.org/10.6084/m9.figshare.c.5006684', which inculdes two parts of dataset. \n",
    "\n",
    "The one is about data from 20 adults subjects, which were named as \"Axxx\"(x represents the index of subjects). The other is about data from 96 children subjects, which were named as \"Cxxx\".\n"
   ]
  },
  {
   "cell_type": "markdown",
   "id": "5dc8da56",
   "metadata": {},
   "source": [
    "\n",
    "# Features of this published dataset\n",
    "The data was preprocessed by authors including checking error trials according to several standards, reliable components analysis(RCA) et al. For details, see scripts in 'https://osf.io/fkjt6/'.\n",
    "\n",
    "The dataset was formated as '.mat' file whose data was stored in the nest pattern. We used 'scipy' and index for several times to untie the nest. Finally, we load data in the format of 'ndarray'. \n",
    "\n",
    "The dataset has two parts of variables. The one can be used to do further processing, such as triggers and EEG data. The other reflects various intermediate preprocessing steps by authors, such as EOG, BlockBadElectrodes et al.\n"
   ]
  },
  {
   "cell_type": "markdown",
   "id": "0411a961",
   "metadata": {},
   "source": [
    "\n",
    "# The logic of preprocess\n",
    "The published data were formated as '.mat' file, which can not be analysised using MNE. What's more, making the format of all of the datasets in this project into BIDS can ease analysis later. So, we decided to make format into BIDS first. \n"
   ]
  },
  {
   "cell_type": "markdown",
   "id": "8b026932",
   "metadata": {},
   "source": [
    "\n",
    "# The process of analysis\n",
    "1️⃣ Path setting: \n",
    "1) we set 'ds_root' for the location of loaded dataset, which will make data loading more easily. \n",
    "\n",
    "2) we set 'fn_*'for certain dataset because every dataset has a specific naming format for each subjects. Last, we check whether we have folder to save preprocessed results. If not, make a certain folder.\n",
    "\n",
    "2️⃣ Process data into BIDS: \n",
    "1) we excluded several trials for two reasons: 1) Author had defined the variable 'GoodTrial' which uses the value '0' and '1' to indicate the effect of trials. So we extract the trials whose value is '1'. 2) The variable 'trigger' implies the timestamps for some events during the experiment, like 'onsets', 'response'. We exclude another trials due to the lossing trigger for 'response' because the analysis later is response-locked analysis.\n",
    "\n",
    "2) we made EEG data into 2-dimension whose shape is (n_channels, n_timestamps). Note that the unit of EEG data should change into µV, which is standard format of BIDS. \n",
    "\n",
    "3) we prepare the information about triggers according to BIDS. For the 2-dimension format of EEG data, the timestamps of trigger should be continious. The shape of trigger in BIDS should be (n_trials, 3). The first columm represents timestamps. The second column can be set as '0' because this one will not be analysised. The third column represents trigger id which indicates the certain events of the trigger.\n",
    "\n",
    "4) we need to import channel name for each channel. However, for this dataset, we did not find a certain file to define for the channel name. After searching for the official website, we find a published paper which compared the difference between 10-10 and HydroCel. From this paper, we find the channel of Cpz, Cp1 and Cp2 in 55th, 37th and 87th respectively. But we just made channel name file by ourselves. All the channel named as 'Ex'(x represents the number of channel)\n",
    "\n",
    "5) we use certain functions in MNE to format the data into BIDS.\n"
   ]
  },
  {
   "cell_type": "code",
   "execution_count": 2,
   "id": "76d021c0",
   "metadata": {},
   "outputs": [],
   "source": [
    "# set different paths to load and save data\n",
    "ds_root='/volumes/hyijie_psy/CPP/data_low-level_1/data' # path for raw data\n",
    "tgt_dir='..'\n",
    "# set file name to load data \n",
    "fn_first='Formatted_'\n",
    "fn_last='.3_40_preproc'\n",
    "\n",
    "# make folders to save result\n",
    "preprocessData=os.path.join(tgt_dir,'data/preprocessData')\n",
    "if not os.path.exists(preprocessData):\n",
    "    os.makedirs(preprocessData)\n"
   ]
  },
  {
   "cell_type": "code",
   "execution_count": 4,
   "id": "7e8b5a1c",
   "metadata": {},
   "outputs": [
    {
     "name": "stdout",
     "output_type": "stream",
     "text": [
      "Creating RawArray with float64 data, n_channels=128, n_times=491753\n",
      "    Range : 0 ... 491752 =      0.000 ...   983.504 secs\n",
      "Ready.\n",
      "Writing '../data/preprocessData/participants.tsv'...\n",
      "Writing '../data/preprocessData/participants.json'...\n",
      "Used Annotations descriptions: [np.str_('boil'), np.str_('fixation'), np.str_('offser'), np.str_('photodiode'), np.str_('response'), np.str_('stimulus')]\n",
      "Writing '../data/preprocessData/sub-A001/eeg/sub-A001_task-randomDot_events.tsv'...\n",
      "Writing '../data/preprocessData/sub-A001/eeg/sub-A001_task-randomDot_events.json'...\n",
      "Writing '../data/preprocessData/dataset_description.json'...\n",
      "Writing '../data/preprocessData/sub-A001/eeg/sub-A001_task-randomDot_eeg.json'...\n",
      "Found no extension for raw file, assuming \"BTi\" format and appending extension .pdf\n",
      "Writing '../data/preprocessData/sub-A001/eeg/sub-A001_task-randomDot_channels.tsv'...\n",
      "Copying data files to sub-A001_task-randomDot_eeg.vhdr\n"
     ]
    },
    {
     "name": "stderr",
     "output_type": "stream",
     "text": [
      "/var/folders/xc/16fqwx1n1gbfb77yd1bdg8mh0000gn/T/ipykernel_3337/2620168588.py:84: RuntimeWarning: Converting data files to BrainVision format\n",
      "  write_raw_bids(\n",
      "/var/folders/xc/16fqwx1n1gbfb77yd1bdg8mh0000gn/T/ipykernel_3337/2620168588.py:84: RuntimeWarning: Encountered data in \"double\" format. Converting to float32.\n",
      "  write_raw_bids(\n"
     ]
    },
    {
     "name": "stdout",
     "output_type": "stream",
     "text": [
      "Writing '../data/preprocessData/sub-A001/sub-A001_scans.tsv'...\n",
      "Wrote ../data/preprocessData/sub-A001/sub-A001_scans.tsv entry with eeg/sub-A001_task-randomDot_eeg.vhdr.\n",
      "Writing '../data/preprocessData/dataset_description.json'...\n",
      "Creating RawArray with float64 data, n_channels=128, n_times=461226\n",
      "    Range : 0 ... 461225 =      0.000 ...   922.450 secs\n",
      "Ready.\n",
      "Writing '../data/preprocessData/participants.tsv'...\n",
      "Writing '../data/preprocessData/participants.json'...\n",
      "Used Annotations descriptions: [np.str_('boil'), np.str_('fixation'), np.str_('offser'), np.str_('photodiode'), np.str_('response'), np.str_('stimulus')]\n",
      "Writing '../data/preprocessData/sub-A002/eeg/sub-A002_task-randomDot_events.tsv'...\n",
      "Writing '../data/preprocessData/sub-A002/eeg/sub-A002_task-randomDot_events.json'...\n",
      "Writing '../data/preprocessData/dataset_description.json'...\n",
      "Writing '../data/preprocessData/sub-A002/eeg/sub-A002_task-randomDot_eeg.json'...\n",
      "Found no extension for raw file, assuming \"BTi\" format and appending extension .pdf\n",
      "Writing '../data/preprocessData/sub-A002/eeg/sub-A002_task-randomDot_channels.tsv'...\n",
      "Copying data files to sub-A002_task-randomDot_eeg.vhdr\n"
     ]
    },
    {
     "name": "stderr",
     "output_type": "stream",
     "text": [
      "/var/folders/xc/16fqwx1n1gbfb77yd1bdg8mh0000gn/T/ipykernel_3337/2620168588.py:84: RuntimeWarning: Converting data files to BrainVision format\n",
      "  write_raw_bids(\n",
      "/var/folders/xc/16fqwx1n1gbfb77yd1bdg8mh0000gn/T/ipykernel_3337/2620168588.py:84: RuntimeWarning: Encountered data in \"double\" format. Converting to float32.\n",
      "  write_raw_bids(\n"
     ]
    },
    {
     "name": "stdout",
     "output_type": "stream",
     "text": [
      "Writing '../data/preprocessData/sub-A002/sub-A002_scans.tsv'...\n",
      "Wrote ../data/preprocessData/sub-A002/sub-A002_scans.tsv entry with eeg/sub-A002_task-randomDot_eeg.vhdr.\n",
      "Writing '../data/preprocessData/dataset_description.json'...\n",
      "Creating RawArray with float64 data, n_channels=128, n_times=449384\n",
      "    Range : 0 ... 449383 =      0.000 ...   898.766 secs\n",
      "Ready.\n",
      "Writing '../data/preprocessData/participants.tsv'...\n",
      "Writing '../data/preprocessData/participants.json'...\n",
      "Used Annotations descriptions: [np.str_('boil'), np.str_('fixation'), np.str_('offser'), np.str_('photodiode'), np.str_('response'), np.str_('stimulus')]\n",
      "Writing '../data/preprocessData/sub-A003/eeg/sub-A003_task-randomDot_events.tsv'...\n",
      "Writing '../data/preprocessData/sub-A003/eeg/sub-A003_task-randomDot_events.json'...\n",
      "Writing '../data/preprocessData/dataset_description.json'...\n",
      "Writing '../data/preprocessData/sub-A003/eeg/sub-A003_task-randomDot_eeg.json'...\n",
      "Found no extension for raw file, assuming \"BTi\" format and appending extension .pdf\n",
      "Writing '../data/preprocessData/sub-A003/eeg/sub-A003_task-randomDot_channels.tsv'...\n",
      "Copying data files to sub-A003_task-randomDot_eeg.vhdr\n"
     ]
    },
    {
     "name": "stderr",
     "output_type": "stream",
     "text": [
      "/var/folders/xc/16fqwx1n1gbfb77yd1bdg8mh0000gn/T/ipykernel_3337/2620168588.py:84: RuntimeWarning: Converting data files to BrainVision format\n",
      "  write_raw_bids(\n",
      "/var/folders/xc/16fqwx1n1gbfb77yd1bdg8mh0000gn/T/ipykernel_3337/2620168588.py:84: RuntimeWarning: Encountered data in \"double\" format. Converting to float32.\n",
      "  write_raw_bids(\n"
     ]
    },
    {
     "name": "stdout",
     "output_type": "stream",
     "text": [
      "Writing '../data/preprocessData/sub-A003/sub-A003_scans.tsv'...\n",
      "Wrote ../data/preprocessData/sub-A003/sub-A003_scans.tsv entry with eeg/sub-A003_task-randomDot_eeg.vhdr.\n",
      "Writing '../data/preprocessData/dataset_description.json'...\n",
      "Creating RawArray with float64 data, n_channels=128, n_times=456058\n",
      "    Range : 0 ... 456057 =      0.000 ...   912.114 secs\n",
      "Ready.\n",
      "Writing '../data/preprocessData/participants.tsv'...\n",
      "Writing '../data/preprocessData/participants.json'...\n",
      "Used Annotations descriptions: [np.str_('boil'), np.str_('fixation'), np.str_('offser'), np.str_('photodiode'), np.str_('response'), np.str_('stimulus')]\n",
      "Writing '../data/preprocessData/sub-A004/eeg/sub-A004_task-randomDot_events.tsv'...\n",
      "Writing '../data/preprocessData/sub-A004/eeg/sub-A004_task-randomDot_events.json'...\n",
      "Writing '../data/preprocessData/dataset_description.json'...\n",
      "Writing '../data/preprocessData/sub-A004/eeg/sub-A004_task-randomDot_eeg.json'...\n",
      "Found no extension for raw file, assuming \"BTi\" format and appending extension .pdf\n",
      "Writing '../data/preprocessData/sub-A004/eeg/sub-A004_task-randomDot_channels.tsv'...\n",
      "Copying data files to sub-A004_task-randomDot_eeg.vhdr\n"
     ]
    },
    {
     "name": "stderr",
     "output_type": "stream",
     "text": [
      "/var/folders/xc/16fqwx1n1gbfb77yd1bdg8mh0000gn/T/ipykernel_3337/2620168588.py:84: RuntimeWarning: Converting data files to BrainVision format\n",
      "  write_raw_bids(\n",
      "/var/folders/xc/16fqwx1n1gbfb77yd1bdg8mh0000gn/T/ipykernel_3337/2620168588.py:84: RuntimeWarning: Encountered data in \"double\" format. Converting to float32.\n",
      "  write_raw_bids(\n"
     ]
    },
    {
     "name": "stdout",
     "output_type": "stream",
     "text": [
      "Writing '../data/preprocessData/sub-A004/sub-A004_scans.tsv'...\n",
      "Wrote ../data/preprocessData/sub-A004/sub-A004_scans.tsv entry with eeg/sub-A004_task-randomDot_eeg.vhdr.\n",
      "Writing '../data/preprocessData/dataset_description.json'...\n",
      "Creating RawArray with float64 data, n_channels=128, n_times=438489\n",
      "    Range : 0 ... 438488 =      0.000 ...   876.976 secs\n",
      "Ready.\n",
      "Writing '../data/preprocessData/participants.tsv'...\n",
      "Writing '../data/preprocessData/participants.json'...\n",
      "Used Annotations descriptions: [np.str_('boil'), np.str_('fixation'), np.str_('offser'), np.str_('photodiode'), np.str_('response'), np.str_('stimulus')]\n",
      "Writing '../data/preprocessData/sub-A005/eeg/sub-A005_task-randomDot_events.tsv'...\n",
      "Writing '../data/preprocessData/sub-A005/eeg/sub-A005_task-randomDot_events.json'...\n",
      "Writing '../data/preprocessData/dataset_description.json'...\n",
      "Writing '../data/preprocessData/sub-A005/eeg/sub-A005_task-randomDot_eeg.json'...\n",
      "Found no extension for raw file, assuming \"BTi\" format and appending extension .pdf\n",
      "Writing '../data/preprocessData/sub-A005/eeg/sub-A005_task-randomDot_channels.tsv'...\n",
      "Copying data files to sub-A005_task-randomDot_eeg.vhdr\n"
     ]
    },
    {
     "name": "stderr",
     "output_type": "stream",
     "text": [
      "/var/folders/xc/16fqwx1n1gbfb77yd1bdg8mh0000gn/T/ipykernel_3337/2620168588.py:84: RuntimeWarning: Converting data files to BrainVision format\n",
      "  write_raw_bids(\n",
      "/var/folders/xc/16fqwx1n1gbfb77yd1bdg8mh0000gn/T/ipykernel_3337/2620168588.py:84: RuntimeWarning: Encountered data in \"double\" format. Converting to float32.\n",
      "  write_raw_bids(\n"
     ]
    },
    {
     "name": "stdout",
     "output_type": "stream",
     "text": [
      "Writing '../data/preprocessData/sub-A005/sub-A005_scans.tsv'...\n",
      "Wrote ../data/preprocessData/sub-A005/sub-A005_scans.tsv entry with eeg/sub-A005_task-randomDot_eeg.vhdr.\n",
      "Writing '../data/preprocessData/dataset_description.json'...\n",
      "Creating RawArray with float64 data, n_channels=128, n_times=498464\n",
      "    Range : 0 ... 498463 =      0.000 ...   996.926 secs\n",
      "Ready.\n",
      "Writing '../data/preprocessData/participants.tsv'...\n",
      "Writing '../data/preprocessData/participants.json'...\n",
      "Used Annotations descriptions: [np.str_('boil'), np.str_('fixation'), np.str_('offser'), np.str_('photodiode'), np.str_('response'), np.str_('stimulus')]\n",
      "Writing '../data/preprocessData/sub-A006/eeg/sub-A006_task-randomDot_events.tsv'...\n",
      "Writing '../data/preprocessData/sub-A006/eeg/sub-A006_task-randomDot_events.json'...\n",
      "Writing '../data/preprocessData/dataset_description.json'...\n",
      "Writing '../data/preprocessData/sub-A006/eeg/sub-A006_task-randomDot_eeg.json'...\n",
      "Found no extension for raw file, assuming \"BTi\" format and appending extension .pdf\n",
      "Writing '../data/preprocessData/sub-A006/eeg/sub-A006_task-randomDot_channels.tsv'...\n",
      "Copying data files to sub-A006_task-randomDot_eeg.vhdr\n"
     ]
    },
    {
     "name": "stderr",
     "output_type": "stream",
     "text": [
      "/var/folders/xc/16fqwx1n1gbfb77yd1bdg8mh0000gn/T/ipykernel_3337/2620168588.py:84: RuntimeWarning: Converting data files to BrainVision format\n",
      "  write_raw_bids(\n",
      "/var/folders/xc/16fqwx1n1gbfb77yd1bdg8mh0000gn/T/ipykernel_3337/2620168588.py:84: RuntimeWarning: Encountered data in \"double\" format. Converting to float32.\n",
      "  write_raw_bids(\n"
     ]
    },
    {
     "name": "stdout",
     "output_type": "stream",
     "text": [
      "Writing '../data/preprocessData/sub-A006/sub-A006_scans.tsv'...\n",
      "Wrote ../data/preprocessData/sub-A006/sub-A006_scans.tsv entry with eeg/sub-A006_task-randomDot_eeg.vhdr.\n",
      "Writing '../data/preprocessData/dataset_description.json'...\n",
      "Creating RawArray with float64 data, n_channels=128, n_times=471979\n",
      "    Range : 0 ... 471978 =      0.000 ...   943.956 secs\n",
      "Ready.\n",
      "Writing '../data/preprocessData/participants.tsv'...\n",
      "Writing '../data/preprocessData/participants.json'...\n",
      "Used Annotations descriptions: [np.str_('boil'), np.str_('fixation'), np.str_('offser'), np.str_('photodiode'), np.str_('response'), np.str_('stimulus')]\n",
      "Writing '../data/preprocessData/sub-A007/eeg/sub-A007_task-randomDot_events.tsv'...\n",
      "Writing '../data/preprocessData/sub-A007/eeg/sub-A007_task-randomDot_events.json'...\n",
      "Writing '../data/preprocessData/dataset_description.json'...\n",
      "Writing '../data/preprocessData/sub-A007/eeg/sub-A007_task-randomDot_eeg.json'...\n",
      "Found no extension for raw file, assuming \"BTi\" format and appending extension .pdf\n",
      "Writing '../data/preprocessData/sub-A007/eeg/sub-A007_task-randomDot_channels.tsv'...\n",
      "Copying data files to sub-A007_task-randomDot_eeg.vhdr\n"
     ]
    },
    {
     "name": "stderr",
     "output_type": "stream",
     "text": [
      "/var/folders/xc/16fqwx1n1gbfb77yd1bdg8mh0000gn/T/ipykernel_3337/2620168588.py:84: RuntimeWarning: Converting data files to BrainVision format\n",
      "  write_raw_bids(\n",
      "/var/folders/xc/16fqwx1n1gbfb77yd1bdg8mh0000gn/T/ipykernel_3337/2620168588.py:84: RuntimeWarning: Encountered data in \"double\" format. Converting to float32.\n",
      "  write_raw_bids(\n"
     ]
    },
    {
     "name": "stdout",
     "output_type": "stream",
     "text": [
      "Writing '../data/preprocessData/sub-A007/sub-A007_scans.tsv'...\n",
      "Wrote ../data/preprocessData/sub-A007/sub-A007_scans.tsv entry with eeg/sub-A007_task-randomDot_eeg.vhdr.\n",
      "Writing '../data/preprocessData/dataset_description.json'...\n",
      "Creating RawArray with float64 data, n_channels=128, n_times=475293\n",
      "    Range : 0 ... 475292 =      0.000 ...   950.584 secs\n",
      "Ready.\n",
      "Writing '../data/preprocessData/participants.tsv'...\n",
      "Writing '../data/preprocessData/participants.json'...\n",
      "Used Annotations descriptions: [np.str_('boil'), np.str_('fixation'), np.str_('offser'), np.str_('photodiode'), np.str_('response'), np.str_('stimulus')]\n",
      "Writing '../data/preprocessData/sub-A008/eeg/sub-A008_task-randomDot_events.tsv'...\n",
      "Writing '../data/preprocessData/sub-A008/eeg/sub-A008_task-randomDot_events.json'...\n",
      "Writing '../data/preprocessData/dataset_description.json'...\n",
      "Writing '../data/preprocessData/sub-A008/eeg/sub-A008_task-randomDot_eeg.json'...\n",
      "Found no extension for raw file, assuming \"BTi\" format and appending extension .pdf\n",
      "Writing '../data/preprocessData/sub-A008/eeg/sub-A008_task-randomDot_channels.tsv'...\n",
      "Copying data files to sub-A008_task-randomDot_eeg.vhdr\n"
     ]
    },
    {
     "name": "stderr",
     "output_type": "stream",
     "text": [
      "/var/folders/xc/16fqwx1n1gbfb77yd1bdg8mh0000gn/T/ipykernel_3337/2620168588.py:84: RuntimeWarning: Converting data files to BrainVision format\n",
      "  write_raw_bids(\n",
      "/var/folders/xc/16fqwx1n1gbfb77yd1bdg8mh0000gn/T/ipykernel_3337/2620168588.py:84: RuntimeWarning: Encountered data in \"double\" format. Converting to float32.\n",
      "  write_raw_bids(\n"
     ]
    },
    {
     "name": "stdout",
     "output_type": "stream",
     "text": [
      "Writing '../data/preprocessData/sub-A008/sub-A008_scans.tsv'...\n",
      "Wrote ../data/preprocessData/sub-A008/sub-A008_scans.tsv entry with eeg/sub-A008_task-randomDot_eeg.vhdr.\n",
      "Writing '../data/preprocessData/dataset_description.json'...\n",
      "Creating RawArray with float64 data, n_channels=128, n_times=447978\n",
      "    Range : 0 ... 447977 =      0.000 ...   895.954 secs\n",
      "Ready.\n",
      "Writing '../data/preprocessData/participants.tsv'...\n",
      "Writing '../data/preprocessData/participants.json'...\n",
      "Used Annotations descriptions: [np.str_('boil'), np.str_('fixation'), np.str_('offser'), np.str_('photodiode'), np.str_('response'), np.str_('stimulus')]\n",
      "Writing '../data/preprocessData/sub-A009/eeg/sub-A009_task-randomDot_events.tsv'...\n",
      "Writing '../data/preprocessData/sub-A009/eeg/sub-A009_task-randomDot_events.json'...\n",
      "Writing '../data/preprocessData/dataset_description.json'...\n",
      "Writing '../data/preprocessData/sub-A009/eeg/sub-A009_task-randomDot_eeg.json'...\n",
      "Found no extension for raw file, assuming \"BTi\" format and appending extension .pdf\n",
      "Writing '../data/preprocessData/sub-A009/eeg/sub-A009_task-randomDot_channels.tsv'...\n",
      "Copying data files to sub-A009_task-randomDot_eeg.vhdr\n"
     ]
    },
    {
     "name": "stderr",
     "output_type": "stream",
     "text": [
      "/var/folders/xc/16fqwx1n1gbfb77yd1bdg8mh0000gn/T/ipykernel_3337/2620168588.py:84: RuntimeWarning: Converting data files to BrainVision format\n",
      "  write_raw_bids(\n",
      "/var/folders/xc/16fqwx1n1gbfb77yd1bdg8mh0000gn/T/ipykernel_3337/2620168588.py:84: RuntimeWarning: Encountered data in \"double\" format. Converting to float32.\n",
      "  write_raw_bids(\n"
     ]
    },
    {
     "name": "stdout",
     "output_type": "stream",
     "text": [
      "Writing '../data/preprocessData/sub-A009/sub-A009_scans.tsv'...\n",
      "Wrote ../data/preprocessData/sub-A009/sub-A009_scans.tsv entry with eeg/sub-A009_task-randomDot_eeg.vhdr.\n",
      "Writing '../data/preprocessData/dataset_description.json'...\n",
      "Creating RawArray with float64 data, n_channels=128, n_times=455350\n",
      "    Range : 0 ... 455349 =      0.000 ...   910.698 secs\n",
      "Ready.\n",
      "Writing '../data/preprocessData/participants.tsv'...\n",
      "Writing '../data/preprocessData/participants.json'...\n",
      "Used Annotations descriptions: [np.str_('boil'), np.str_('fixation'), np.str_('offser'), np.str_('photodiode'), np.str_('response'), np.str_('stimulus')]\n",
      "Writing '../data/preprocessData/sub-A010/eeg/sub-A010_task-randomDot_events.tsv'...\n",
      "Writing '../data/preprocessData/sub-A010/eeg/sub-A010_task-randomDot_events.json'...\n",
      "Writing '../data/preprocessData/dataset_description.json'...\n",
      "Writing '../data/preprocessData/sub-A010/eeg/sub-A010_task-randomDot_eeg.json'...\n",
      "Found no extension for raw file, assuming \"BTi\" format and appending extension .pdf\n",
      "Writing '../data/preprocessData/sub-A010/eeg/sub-A010_task-randomDot_channels.tsv'...\n",
      "Copying data files to sub-A010_task-randomDot_eeg.vhdr\n"
     ]
    },
    {
     "name": "stderr",
     "output_type": "stream",
     "text": [
      "/var/folders/xc/16fqwx1n1gbfb77yd1bdg8mh0000gn/T/ipykernel_3337/2620168588.py:84: RuntimeWarning: Converting data files to BrainVision format\n",
      "  write_raw_bids(\n",
      "/var/folders/xc/16fqwx1n1gbfb77yd1bdg8mh0000gn/T/ipykernel_3337/2620168588.py:84: RuntimeWarning: Encountered data in \"double\" format. Converting to float32.\n",
      "  write_raw_bids(\n"
     ]
    },
    {
     "name": "stdout",
     "output_type": "stream",
     "text": [
      "Writing '../data/preprocessData/sub-A010/sub-A010_scans.tsv'...\n",
      "Wrote ../data/preprocessData/sub-A010/sub-A010_scans.tsv entry with eeg/sub-A010_task-randomDot_eeg.vhdr.\n",
      "Writing '../data/preprocessData/dataset_description.json'...\n",
      "Creating RawArray with float64 data, n_channels=128, n_times=436412\n",
      "    Range : 0 ... 436411 =      0.000 ...   872.822 secs\n",
      "Ready.\n",
      "Writing '../data/preprocessData/participants.tsv'...\n",
      "Writing '../data/preprocessData/participants.json'...\n",
      "Used Annotations descriptions: [np.str_('boil'), np.str_('fixation'), np.str_('offser'), np.str_('photodiode'), np.str_('response'), np.str_('stimulus')]\n",
      "Writing '../data/preprocessData/sub-A011/eeg/sub-A011_task-randomDot_events.tsv'...\n",
      "Writing '../data/preprocessData/sub-A011/eeg/sub-A011_task-randomDot_events.json'...\n",
      "Writing '../data/preprocessData/dataset_description.json'...\n",
      "Writing '../data/preprocessData/sub-A011/eeg/sub-A011_task-randomDot_eeg.json'...\n",
      "Found no extension for raw file, assuming \"BTi\" format and appending extension .pdf\n",
      "Writing '../data/preprocessData/sub-A011/eeg/sub-A011_task-randomDot_channels.tsv'...\n",
      "Copying data files to sub-A011_task-randomDot_eeg.vhdr\n"
     ]
    },
    {
     "name": "stderr",
     "output_type": "stream",
     "text": [
      "/var/folders/xc/16fqwx1n1gbfb77yd1bdg8mh0000gn/T/ipykernel_3337/2620168588.py:84: RuntimeWarning: Converting data files to BrainVision format\n",
      "  write_raw_bids(\n",
      "/var/folders/xc/16fqwx1n1gbfb77yd1bdg8mh0000gn/T/ipykernel_3337/2620168588.py:84: RuntimeWarning: Encountered data in \"double\" format. Converting to float32.\n",
      "  write_raw_bids(\n"
     ]
    },
    {
     "name": "stdout",
     "output_type": "stream",
     "text": [
      "Writing '../data/preprocessData/sub-A011/sub-A011_scans.tsv'...\n",
      "Wrote ../data/preprocessData/sub-A011/sub-A011_scans.tsv entry with eeg/sub-A011_task-randomDot_eeg.vhdr.\n",
      "Writing '../data/preprocessData/dataset_description.json'...\n",
      "Creating RawArray with float64 data, n_channels=128, n_times=465449\n",
      "    Range : 0 ... 465448 =      0.000 ...   930.896 secs\n",
      "Ready.\n",
      "Writing '../data/preprocessData/participants.tsv'...\n",
      "Writing '../data/preprocessData/participants.json'...\n",
      "Used Annotations descriptions: [np.str_('boil'), np.str_('fixation'), np.str_('offser'), np.str_('photodiode'), np.str_('response'), np.str_('stimulus')]\n",
      "Writing '../data/preprocessData/sub-A012/eeg/sub-A012_task-randomDot_events.tsv'...\n",
      "Writing '../data/preprocessData/sub-A012/eeg/sub-A012_task-randomDot_events.json'...\n",
      "Writing '../data/preprocessData/dataset_description.json'...\n",
      "Writing '../data/preprocessData/sub-A012/eeg/sub-A012_task-randomDot_eeg.json'...\n",
      "Found no extension for raw file, assuming \"BTi\" format and appending extension .pdf\n",
      "Writing '../data/preprocessData/sub-A012/eeg/sub-A012_task-randomDot_channels.tsv'...\n",
      "Copying data files to sub-A012_task-randomDot_eeg.vhdr\n"
     ]
    },
    {
     "name": "stderr",
     "output_type": "stream",
     "text": [
      "/var/folders/xc/16fqwx1n1gbfb77yd1bdg8mh0000gn/T/ipykernel_3337/2620168588.py:84: RuntimeWarning: Converting data files to BrainVision format\n",
      "  write_raw_bids(\n",
      "/var/folders/xc/16fqwx1n1gbfb77yd1bdg8mh0000gn/T/ipykernel_3337/2620168588.py:84: RuntimeWarning: Encountered data in \"double\" format. Converting to float32.\n",
      "  write_raw_bids(\n"
     ]
    },
    {
     "name": "stdout",
     "output_type": "stream",
     "text": [
      "Writing '../data/preprocessData/sub-A012/sub-A012_scans.tsv'...\n",
      "Wrote ../data/preprocessData/sub-A012/sub-A012_scans.tsv entry with eeg/sub-A012_task-randomDot_eeg.vhdr.\n",
      "Writing '../data/preprocessData/dataset_description.json'...\n",
      "Creating RawArray with float64 data, n_channels=128, n_times=512778\n",
      "    Range : 0 ... 512777 =      0.000 ...  1025.554 secs\n",
      "Ready.\n",
      "Writing '../data/preprocessData/participants.tsv'...\n",
      "Writing '../data/preprocessData/participants.json'...\n",
      "Used Annotations descriptions: [np.str_('boil'), np.str_('fixation'), np.str_('offser'), np.str_('photodiode'), np.str_('response'), np.str_('stimulus')]\n",
      "Writing '../data/preprocessData/sub-A013/eeg/sub-A013_task-randomDot_events.tsv'...\n",
      "Writing '../data/preprocessData/sub-A013/eeg/sub-A013_task-randomDot_events.json'...\n",
      "Writing '../data/preprocessData/dataset_description.json'...\n",
      "Writing '../data/preprocessData/sub-A013/eeg/sub-A013_task-randomDot_eeg.json'...\n",
      "Found no extension for raw file, assuming \"BTi\" format and appending extension .pdf\n",
      "Writing '../data/preprocessData/sub-A013/eeg/sub-A013_task-randomDot_channels.tsv'...\n",
      "Copying data files to sub-A013_task-randomDot_eeg.vhdr\n"
     ]
    },
    {
     "name": "stderr",
     "output_type": "stream",
     "text": [
      "/var/folders/xc/16fqwx1n1gbfb77yd1bdg8mh0000gn/T/ipykernel_3337/2620168588.py:84: RuntimeWarning: Converting data files to BrainVision format\n",
      "  write_raw_bids(\n",
      "/var/folders/xc/16fqwx1n1gbfb77yd1bdg8mh0000gn/T/ipykernel_3337/2620168588.py:84: RuntimeWarning: Encountered data in \"double\" format. Converting to float32.\n",
      "  write_raw_bids(\n"
     ]
    },
    {
     "name": "stdout",
     "output_type": "stream",
     "text": [
      "Writing '../data/preprocessData/sub-A013/sub-A013_scans.tsv'...\n",
      "Wrote ../data/preprocessData/sub-A013/sub-A013_scans.tsv entry with eeg/sub-A013_task-randomDot_eeg.vhdr.\n",
      "Writing '../data/preprocessData/dataset_description.json'...\n",
      "Creating RawArray with float64 data, n_channels=128, n_times=420476\n",
      "    Range : 0 ... 420475 =      0.000 ...   840.950 secs\n",
      "Ready.\n",
      "Writing '../data/preprocessData/participants.tsv'...\n",
      "Writing '../data/preprocessData/participants.json'...\n",
      "Used Annotations descriptions: [np.str_('boil'), np.str_('fixation'), np.str_('offser'), np.str_('photodiode'), np.str_('response'), np.str_('stimulus')]\n",
      "Writing '../data/preprocessData/sub-A014/eeg/sub-A014_task-randomDot_events.tsv'...\n",
      "Writing '../data/preprocessData/sub-A014/eeg/sub-A014_task-randomDot_events.json'...\n",
      "Writing '../data/preprocessData/dataset_description.json'...\n",
      "Writing '../data/preprocessData/sub-A014/eeg/sub-A014_task-randomDot_eeg.json'...\n",
      "Found no extension for raw file, assuming \"BTi\" format and appending extension .pdf\n",
      "Writing '../data/preprocessData/sub-A014/eeg/sub-A014_task-randomDot_channels.tsv'...\n",
      "Copying data files to sub-A014_task-randomDot_eeg.vhdr\n"
     ]
    },
    {
     "name": "stderr",
     "output_type": "stream",
     "text": [
      "/var/folders/xc/16fqwx1n1gbfb77yd1bdg8mh0000gn/T/ipykernel_3337/2620168588.py:84: RuntimeWarning: Converting data files to BrainVision format\n",
      "  write_raw_bids(\n",
      "/var/folders/xc/16fqwx1n1gbfb77yd1bdg8mh0000gn/T/ipykernel_3337/2620168588.py:84: RuntimeWarning: Encountered data in \"double\" format. Converting to float32.\n",
      "  write_raw_bids(\n"
     ]
    },
    {
     "name": "stdout",
     "output_type": "stream",
     "text": [
      "Writing '../data/preprocessData/sub-A014/sub-A014_scans.tsv'...\n",
      "Wrote ../data/preprocessData/sub-A014/sub-A014_scans.tsv entry with eeg/sub-A014_task-randomDot_eeg.vhdr.\n",
      "Writing '../data/preprocessData/dataset_description.json'...\n",
      "Creating RawArray with float64 data, n_channels=128, n_times=484636\n",
      "    Range : 0 ... 484635 =      0.000 ...   969.270 secs\n",
      "Ready.\n",
      "Writing '../data/preprocessData/participants.tsv'...\n",
      "Writing '../data/preprocessData/participants.json'...\n",
      "Used Annotations descriptions: [np.str_('boil'), np.str_('fixation'), np.str_('offser'), np.str_('photodiode'), np.str_('response'), np.str_('stimulus')]\n",
      "Writing '../data/preprocessData/sub-A015/eeg/sub-A015_task-randomDot_events.tsv'...\n",
      "Writing '../data/preprocessData/sub-A015/eeg/sub-A015_task-randomDot_events.json'...\n",
      "Writing '../data/preprocessData/dataset_description.json'...\n",
      "Writing '../data/preprocessData/sub-A015/eeg/sub-A015_task-randomDot_eeg.json'...\n",
      "Found no extension for raw file, assuming \"BTi\" format and appending extension .pdf\n",
      "Writing '../data/preprocessData/sub-A015/eeg/sub-A015_task-randomDot_channels.tsv'...\n",
      "Copying data files to sub-A015_task-randomDot_eeg.vhdr\n"
     ]
    },
    {
     "name": "stderr",
     "output_type": "stream",
     "text": [
      "/var/folders/xc/16fqwx1n1gbfb77yd1bdg8mh0000gn/T/ipykernel_3337/2620168588.py:84: RuntimeWarning: Converting data files to BrainVision format\n",
      "  write_raw_bids(\n",
      "/var/folders/xc/16fqwx1n1gbfb77yd1bdg8mh0000gn/T/ipykernel_3337/2620168588.py:84: RuntimeWarning: Encountered data in \"double\" format. Converting to float32.\n",
      "  write_raw_bids(\n"
     ]
    },
    {
     "name": "stdout",
     "output_type": "stream",
     "text": [
      "Writing '../data/preprocessData/sub-A015/sub-A015_scans.tsv'...\n",
      "Wrote ../data/preprocessData/sub-A015/sub-A015_scans.tsv entry with eeg/sub-A015_task-randomDot_eeg.vhdr.\n",
      "Writing '../data/preprocessData/dataset_description.json'...\n",
      "Creating RawArray with float64 data, n_channels=128, n_times=442934\n",
      "    Range : 0 ... 442933 =      0.000 ...   885.866 secs\n",
      "Ready.\n",
      "Writing '../data/preprocessData/participants.tsv'...\n",
      "Writing '../data/preprocessData/participants.json'...\n",
      "Used Annotations descriptions: [np.str_('boil'), np.str_('fixation'), np.str_('offser'), np.str_('photodiode'), np.str_('response'), np.str_('stimulus')]\n",
      "Writing '../data/preprocessData/sub-A016/eeg/sub-A016_task-randomDot_events.tsv'...\n",
      "Writing '../data/preprocessData/sub-A016/eeg/sub-A016_task-randomDot_events.json'...\n",
      "Writing '../data/preprocessData/dataset_description.json'...\n",
      "Writing '../data/preprocessData/sub-A016/eeg/sub-A016_task-randomDot_eeg.json'...\n",
      "Found no extension for raw file, assuming \"BTi\" format and appending extension .pdf\n",
      "Writing '../data/preprocessData/sub-A016/eeg/sub-A016_task-randomDot_channels.tsv'...\n",
      "Copying data files to sub-A016_task-randomDot_eeg.vhdr\n"
     ]
    },
    {
     "name": "stderr",
     "output_type": "stream",
     "text": [
      "/var/folders/xc/16fqwx1n1gbfb77yd1bdg8mh0000gn/T/ipykernel_3337/2620168588.py:84: RuntimeWarning: Converting data files to BrainVision format\n",
      "  write_raw_bids(\n",
      "/var/folders/xc/16fqwx1n1gbfb77yd1bdg8mh0000gn/T/ipykernel_3337/2620168588.py:84: RuntimeWarning: Encountered data in \"double\" format. Converting to float32.\n",
      "  write_raw_bids(\n"
     ]
    },
    {
     "name": "stdout",
     "output_type": "stream",
     "text": [
      "Writing '../data/preprocessData/sub-A016/sub-A016_scans.tsv'...\n",
      "Wrote ../data/preprocessData/sub-A016/sub-A016_scans.tsv entry with eeg/sub-A016_task-randomDot_eeg.vhdr.\n",
      "Writing '../data/preprocessData/dataset_description.json'...\n",
      "Creating RawArray with float64 data, n_channels=128, n_times=467765\n",
      "    Range : 0 ... 467764 =      0.000 ...   935.528 secs\n",
      "Ready.\n",
      "Writing '../data/preprocessData/participants.tsv'...\n",
      "Writing '../data/preprocessData/participants.json'...\n",
      "Used Annotations descriptions: [np.str_('boil'), np.str_('fixation'), np.str_('offser'), np.str_('photodiode'), np.str_('response'), np.str_('stimulus')]\n",
      "Writing '../data/preprocessData/sub-A017/eeg/sub-A017_task-randomDot_events.tsv'...\n",
      "Writing '../data/preprocessData/sub-A017/eeg/sub-A017_task-randomDot_events.json'...\n",
      "Writing '../data/preprocessData/dataset_description.json'...\n",
      "Writing '../data/preprocessData/sub-A017/eeg/sub-A017_task-randomDot_eeg.json'...\n",
      "Found no extension for raw file, assuming \"BTi\" format and appending extension .pdf\n",
      "Writing '../data/preprocessData/sub-A017/eeg/sub-A017_task-randomDot_channels.tsv'...\n",
      "Copying data files to sub-A017_task-randomDot_eeg.vhdr\n"
     ]
    },
    {
     "name": "stderr",
     "output_type": "stream",
     "text": [
      "/var/folders/xc/16fqwx1n1gbfb77yd1bdg8mh0000gn/T/ipykernel_3337/2620168588.py:84: RuntimeWarning: Converting data files to BrainVision format\n",
      "  write_raw_bids(\n",
      "/var/folders/xc/16fqwx1n1gbfb77yd1bdg8mh0000gn/T/ipykernel_3337/2620168588.py:84: RuntimeWarning: Encountered data in \"double\" format. Converting to float32.\n",
      "  write_raw_bids(\n"
     ]
    },
    {
     "name": "stdout",
     "output_type": "stream",
     "text": [
      "Writing '../data/preprocessData/sub-A017/sub-A017_scans.tsv'...\n",
      "Wrote ../data/preprocessData/sub-A017/sub-A017_scans.tsv entry with eeg/sub-A017_task-randomDot_eeg.vhdr.\n",
      "Writing '../data/preprocessData/dataset_description.json'...\n",
      "Creating RawArray with float64 data, n_channels=128, n_times=445532\n",
      "    Range : 0 ... 445531 =      0.000 ...   891.062 secs\n",
      "Ready.\n",
      "Writing '../data/preprocessData/participants.tsv'...\n",
      "Writing '../data/preprocessData/participants.json'...\n",
      "Used Annotations descriptions: [np.str_('boil'), np.str_('fixation'), np.str_('offser'), np.str_('photodiode'), np.str_('response'), np.str_('stimulus')]\n",
      "Writing '../data/preprocessData/sub-A018/eeg/sub-A018_task-randomDot_events.tsv'...\n",
      "Writing '../data/preprocessData/sub-A018/eeg/sub-A018_task-randomDot_events.json'...\n",
      "Writing '../data/preprocessData/dataset_description.json'...\n",
      "Writing '../data/preprocessData/sub-A018/eeg/sub-A018_task-randomDot_eeg.json'...\n",
      "Found no extension for raw file, assuming \"BTi\" format and appending extension .pdf\n",
      "Writing '../data/preprocessData/sub-A018/eeg/sub-A018_task-randomDot_channels.tsv'...\n",
      "Copying data files to sub-A018_task-randomDot_eeg.vhdr\n"
     ]
    },
    {
     "name": "stderr",
     "output_type": "stream",
     "text": [
      "/var/folders/xc/16fqwx1n1gbfb77yd1bdg8mh0000gn/T/ipykernel_3337/2620168588.py:84: RuntimeWarning: Converting data files to BrainVision format\n",
      "  write_raw_bids(\n",
      "/var/folders/xc/16fqwx1n1gbfb77yd1bdg8mh0000gn/T/ipykernel_3337/2620168588.py:84: RuntimeWarning: Encountered data in \"double\" format. Converting to float32.\n",
      "  write_raw_bids(\n"
     ]
    },
    {
     "name": "stdout",
     "output_type": "stream",
     "text": [
      "Writing '../data/preprocessData/sub-A018/sub-A018_scans.tsv'...\n",
      "Wrote ../data/preprocessData/sub-A018/sub-A018_scans.tsv entry with eeg/sub-A018_task-randomDot_eeg.vhdr.\n",
      "Writing '../data/preprocessData/dataset_description.json'...\n",
      "Creating RawArray with float64 data, n_channels=128, n_times=455674\n",
      "    Range : 0 ... 455673 =      0.000 ...   911.346 secs\n",
      "Ready.\n",
      "Writing '../data/preprocessData/participants.tsv'...\n",
      "Writing '../data/preprocessData/participants.json'...\n",
      "Used Annotations descriptions: [np.str_('boil'), np.str_('fixation'), np.str_('offser'), np.str_('photodiode'), np.str_('response'), np.str_('stimulus')]\n",
      "Writing '../data/preprocessData/sub-A019/eeg/sub-A019_task-randomDot_events.tsv'...\n",
      "Writing '../data/preprocessData/sub-A019/eeg/sub-A019_task-randomDot_events.json'...\n",
      "Writing '../data/preprocessData/dataset_description.json'...\n",
      "Writing '../data/preprocessData/sub-A019/eeg/sub-A019_task-randomDot_eeg.json'...\n",
      "Found no extension for raw file, assuming \"BTi\" format and appending extension .pdf\n",
      "Writing '../data/preprocessData/sub-A019/eeg/sub-A019_task-randomDot_channels.tsv'...\n",
      "Copying data files to sub-A019_task-randomDot_eeg.vhdr\n"
     ]
    },
    {
     "name": "stderr",
     "output_type": "stream",
     "text": [
      "/var/folders/xc/16fqwx1n1gbfb77yd1bdg8mh0000gn/T/ipykernel_3337/2620168588.py:84: RuntimeWarning: Converting data files to BrainVision format\n",
      "  write_raw_bids(\n",
      "/var/folders/xc/16fqwx1n1gbfb77yd1bdg8mh0000gn/T/ipykernel_3337/2620168588.py:84: RuntimeWarning: Encountered data in \"double\" format. Converting to float32.\n",
      "  write_raw_bids(\n"
     ]
    },
    {
     "name": "stdout",
     "output_type": "stream",
     "text": [
      "Writing '../data/preprocessData/sub-A019/sub-A019_scans.tsv'...\n",
      "Wrote ../data/preprocessData/sub-A019/sub-A019_scans.tsv entry with eeg/sub-A019_task-randomDot_eeg.vhdr.\n",
      "Writing '../data/preprocessData/dataset_description.json'...\n",
      "Creating RawArray with float64 data, n_channels=128, n_times=432717\n",
      "    Range : 0 ... 432716 =      0.000 ...   865.432 secs\n",
      "Ready.\n",
      "Writing '../data/preprocessData/participants.tsv'...\n",
      "Writing '../data/preprocessData/participants.json'...\n",
      "Used Annotations descriptions: [np.str_('boil'), np.str_('fixation'), np.str_('offser'), np.str_('photodiode'), np.str_('response'), np.str_('stimulus')]\n",
      "Writing '../data/preprocessData/sub-A020/eeg/sub-A020_task-randomDot_events.tsv'...\n",
      "Writing '../data/preprocessData/sub-A020/eeg/sub-A020_task-randomDot_events.json'...\n",
      "Writing '../data/preprocessData/dataset_description.json'...\n",
      "Writing '../data/preprocessData/sub-A020/eeg/sub-A020_task-randomDot_eeg.json'...\n",
      "Found no extension for raw file, assuming \"BTi\" format and appending extension .pdf\n",
      "Writing '../data/preprocessData/sub-A020/eeg/sub-A020_task-randomDot_channels.tsv'...\n",
      "Copying data files to sub-A020_task-randomDot_eeg.vhdr\n"
     ]
    },
    {
     "name": "stderr",
     "output_type": "stream",
     "text": [
      "/var/folders/xc/16fqwx1n1gbfb77yd1bdg8mh0000gn/T/ipykernel_3337/2620168588.py:84: RuntimeWarning: Converting data files to BrainVision format\n",
      "  write_raw_bids(\n",
      "/var/folders/xc/16fqwx1n1gbfb77yd1bdg8mh0000gn/T/ipykernel_3337/2620168588.py:84: RuntimeWarning: Encountered data in \"double\" format. Converting to float32.\n",
      "  write_raw_bids(\n"
     ]
    },
    {
     "name": "stdout",
     "output_type": "stream",
     "text": [
      "Writing '../data/preprocessData/sub-A020/sub-A020_scans.tsv'...\n",
      "Wrote ../data/preprocessData/sub-A020/sub-A020_scans.tsv entry with eeg/sub-A020_task-randomDot_eeg.vhdr.\n",
      "Writing '../data/preprocessData/dataset_description.json'...\n"
     ]
    }
   ],
   "source": [
    "# Preprocess the dataset and format it according to the BIDS\n",
    "\n",
    "#load original behavior data\n",
    "data_behavior = pd.read_csv('../data/behaviorData_low_1_raw.csv')\n",
    "data_behavior = data_behavior[data_behavior.iloc[:, 1].astype(str).str.startswith('A')]\n",
    "\n",
    "# prepare empty dataset for filtered data\n",
    "data_behavior_filter = []\n",
    "\n",
    "sub_dir=[f'A{i:03d}' for i in range(1,21)]\n",
    "for sub in sub_dir:\n",
    "\n",
    "    # load data for certain subjects\n",
    "    data_behavior_perSubject = data_behavior[data_behavior.iloc[:,1] == sub]\n",
    "    data_behavior_perSubject.iloc[:, 2] = data_behavior_perSubject.iloc[:, 2] - 1\n",
    "    \n",
    "\n",
    "    # load EEG data, corresponding triggers and length for each trial\n",
    "    raw = scipy.io.loadmat(os.path.join(ds_root,fn_first+sub+fn_last+'.mat'))\n",
    "    good_trials = raw['GoodTrial'][0][0][0].T\n",
    "    data_EEG = raw['X']\n",
    "    data_trigger = raw['Onsets']['corrMatrix'][0,0]\n",
    "    trialEpoch_id = raw['trialEpochIdx'] # this represents the start and end timestamps for each trial\n",
    "    \n",
    "    ## exclude trials in two steps: 1) exclude bad trials; 2)exculde missing trials\n",
    "    ## note that it is not necessary to remove eeg data because triggers were recorded in order\n",
    "    # exclude bad trials according to author's analysis\n",
    "    valid_trial = good_trials[:,0] == 1\n",
    "    valid_trial_index = np.where(valid_trial)[0] # python style\n",
    "    data_trigger_goodTrial = data_trigger[valid_trial_index,:]\n",
    "    trialEpoch_id_goodTrial = trialEpoch_id[valid_trial_index,:]\n",
    "\n",
    "    # filter behavior data according to good trials\n",
    "    data_behavior_perSubject_goodTrial = data_behavior_perSubject[data_behavior_perSubject.iloc[:, 2].isin(valid_trial_index)]\n",
    "    data_behavior_filter.append(data_behavior_perSubject_goodTrial)\n",
    "\n",
    "    # exclude trials without triggers for response\n",
    "    valid_row = ~np.isnan(data_trigger_goodTrial[:,4]) \n",
    "    index_validTrial = np.where(valid_row)[0]\n",
    "    data_trigger_dropNaN = data_trigger_goodTrial[index_validTrial,:]\n",
    "    trialEpoch_id_dropNaN = trialEpoch_id_goodTrial[index_validTrial,:]\n",
    "\n",
    "    ## prepare for BIDS\n",
    "    # combine eeg data into 2 dimensions. In addition, BIDS need µV as unit\n",
    "    data_EEG_BIDS = np.concatenate(data_EEG[0], axis=1)\n",
    "    data_EEG_BIDS = data_EEG_BIDS * 1e6 \n",
    "    \n",
    "    # make the trigger into continuous format and perform transposition\n",
    "    # note: it is necessary to transfer trigger as continious format first\n",
    "    data_trigger_continious = np.empty((data_trigger_dropNaN.shape[0],\n",
    "                                        data_trigger_dropNaN.shape[1]),\n",
    "                                        dtype = object)\n",
    "    for trial in range(0,data_trigger_dropNaN.shape[0]): \n",
    "        data_trigger_continious[trial,:] = data_trigger_dropNaN[trial,:]+trialEpoch_id_dropNaN[trial,0]-1 # the reason for '-1' is for specific data format\n",
    "    \n",
    "    trigger_row = data_trigger_continious.shape[0]\n",
    "    trigger_col = data_trigger_continious.shape[1]\n",
    "    data_trigger_BIDS = np.empty((trigger_row * trigger_col , 3), # must be 3 for BIDS\n",
    "                                 dtype = np.int32) # note that int32 is necessary\n",
    "    for trial in range(0,trigger_row): \n",
    "        data_trigger_BIDS[trial*trigger_col : (trial+1)*trigger_col , 0] = data_trigger_continious[trial,:]-1 # note that, data format in matlab differs from that in python. That's why we minus 1 here\n",
    "        data_trigger_BIDS[trial*trigger_col : (trial+1)*trigger_col , 1] = 0\n",
    "        data_trigger_BIDS[trial*trigger_col : (trial+1)*trigger_col , 2] = np.arange(1,trigger_col+1)\n",
    "\n",
    "    # sampling rate \n",
    "    samplingRate = 500\n",
    "    \n",
    "    # channel name, such as 'E1', 'E2' et al.\n",
    "    channel_info = pd.read_csv('../data/channelName.csv')\n",
    "    channel_info = channel_info.dropna()\n",
    "    channelName = channel_info['channel'].tolist()\n",
    "    \n",
    "    # use mne_bids to save data \n",
    "    info = mne.create_info(ch_names=channelName, sfreq=samplingRate, ch_types='eeg')\n",
    "    raw_mne = mne.io.RawArray(data_EEG_BIDS, info)\n",
    "\n",
    "    bids_path = BIDSPath(\n",
    "        subject=sub, \n",
    "        task='randomDot', \n",
    "        datatype='eeg',\n",
    "        root=preprocessData\n",
    "    )\n",
    "\n",
    "    write_raw_bids(\n",
    "        raw=raw_mne,\n",
    "        bids_path=bids_path,\n",
    "        events=data_trigger_BIDS,\n",
    "        event_id={'fixation':1,\n",
    "                  'boil':2,\n",
    "                  'photodiode':3,\n",
    "                  'stimulus':4, # note that the timings were corrected relative to the photodiode signal, so column 3 = column 4\n",
    "                  'response':5, \n",
    "                  'offser':6}, \n",
    "        allow_preload=True,\n",
    "        format='BrainVision',\n",
    "        overwrite=True,\n",
    "        verbose=True\n",
    "    )\n",
    "\n",
    "    make_dataset_description(\n",
    "    path=preprocessData,\n",
    "    name='LowLevel-randomDot',\n",
    "    dataset_type='raw',\n",
    "    overwrite=True\n",
    "    )\n",
    "\n",
    "data_behavior_filter_final = np.concatenate(data_behavior_filter, axis=0)\n",
    "data_behavior_filter_final = pd.DataFrame(data_behavior_filter_final)\n",
    "data_behavior_filter_final.columns = ['Pnumber', 'subj', 'trialno','group', 'age', 'sex', 'hands', 'devcond', 'coherence', 'motiondir', 'keypress', 'RT', 'accuracy'] \n",
    "data_behavior_filter_final.to_csv('../data/behaviorData_low_1_final_test.csv', index=False, header=True)\n",
    "\n",
    "selected_columns = ['subj','coherence', 'RT', 'accuracy', 'keypress']\n",
    "data_behavior_selected = data_behavior_filter_final[selected_columns]\n",
    "data_behavior_selected.to_csv('../data/behaviorData_low_1_final.csv', index=False, header=True)\n",
    "\n"
   ]
  },
  {
   "cell_type": "code",
   "execution_count": null,
   "id": "edfec2a8",
   "metadata": {},
   "outputs": [],
   "source": []
  }
 ],
 "metadata": {
  "kernelspec": {
   "display_name": ".venv",
   "language": "python",
   "name": "python3"
  },
  "language_info": {
   "codemirror_mode": {
    "name": "ipython",
    "version": 3
   },
   "file_extension": ".py",
   "mimetype": "text/x-python",
   "name": "python",
   "nbconvert_exporter": "python",
   "pygments_lexer": "ipython3",
   "version": "3.13.3"
  }
 },
 "nbformat": 4,
 "nbformat_minor": 5
}
