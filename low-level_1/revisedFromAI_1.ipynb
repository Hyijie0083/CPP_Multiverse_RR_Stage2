{
 "cells": [
  {
   "cell_type": "code",
   "execution_count": 18,
   "id": "8e7f02b5",
   "metadata": {},
   "outputs": [],
   "source": [
    "import os\n",
    "import numpy as np\n",
    "import pandas as pd\n",
    "import scipy.io\n",
    "import mne\n",
    "from mne_bids import BIDSPath, write_raw_bids, make_dataset_description\n",
    "import logging\n"
   ]
  },
  {
   "cell_type": "code",
   "execution_count": 19,
   "id": "2a56e6a0",
   "metadata": {},
   "outputs": [],
   "source": [
    "# =============================================================================\n",
    "# Configuration and Constants\n",
    "# =============================================================================\n",
    "\n",
    "# Set up logging: messages will include timestamp, log level, and message content\n",
    "logging.basicConfig(level=logging.INFO, format='%(asctime)s - %(levelname)s - %(message)s')\n",
    "logger = logging.getLogger(__name__)  # Logger named after current module \n",
    "\n",
    "# --- File and directory paths ---\n",
    "DS_ROOT = '/volumes/hyijie_psy/CPP/data_low-level_1/data'    # Root directory containing raw .mat EEG files\n",
    "FN_FIRST = 'Formatted_'                                      # Prefix of EEG .mat filename \n",
    "FN_LAST = '.3_40_preproc'                                    # Suffix of EEG .mat filename \n",
    "PREPROCESS_DATA_DIR = '../data/preprocessData/'              # Output directory for BIDS-formatted data\n",
    "CHANNEL_CSV = '../data/channelName.csv'                      # CSV file listing EEG channel names (e.g., E1, E2, ...)\n",
    "BEHAVIOR_RAW_CSV = '../data/behaviorData_low_1_raw.csv'      # Raw behavioral data input\n",
    "BEHAVIOR_FINAL_CSV = '../data/behaviorData_low_1_final.csv'  # Cleaned behavioral data output\n",
    "\n",
    "# --- Processing parameters ---\n",
    "SAMPLING_RATE = 500                      # EEG sampling rate in Hz\n",
    "RT_LOWER_BOUND = 0.2                     # Minimum valid reaction time (seconds)\n",
    "RT_OUTLIER_STD_MULTIPLIER = 3            # RT outliers defined as > mean + 3*std\n",
    "\n",
    "# --- BIDS event mapping ---\n",
    "# Maps integer event codes (1–6) to human-readable event names\n",
    "EVENT_ID_MAP = {\n",
    "    'fixation': 1,\n",
    "    'boil': 2,\n",
    "    'photodiode': 3,\n",
    "    'stimulus': 4,\n",
    "    'response': 5,\n",
    "    'offset': 6  \n",
    "}\n",
    "\n",
    "# --- Subject and column identifiers ---\n",
    "SUBJECT_IDS = [f'A{i:03d}' for i in range(1, 21)]  # Adult subject IDs: A001 to A020\n",
    "BEHAVIOR_ID_COL = 'subj'      # Column name in behavior CSV that contains subject ID\n",
    "TRIAL_NO_COL = 'trialno'      # Column name for trial number (1-based in raw data)\n"
   ]
  },
  {
   "cell_type": "code",
   "execution_count": null,
   "id": "eb1b3f34",
   "metadata": {},
   "outputs": [],
   "source": [
    "\n",
    "# =============================================================================\n",
    "# Helper Functions\n",
    "# =============================================================================\n",
    "\n",
    "def load_behavior_data(filepath: str) -> pd.DataFrame:\n",
    "    \"\"\"\n",
    "    Load raw behavioral data and filter to include only adult subjects (IDs starting with 'A').\n",
    "    \n",
    "    Parameters\n",
    "    ----------\n",
    "    filepath : str\n",
    "        Path to the raw behavioral CSV file.\n",
    "    \n",
    "    Returns\n",
    "    -------\n",
    "    pd.DataFrame\n",
    "        Filtered DataFrame containing only adult subjects.\n",
    "        If the expected subject ID column is missing, it assumes the second column (index 1)\n",
    "        contains subject IDs and renames it accordingly.\n",
    "    \"\"\"\n",
    "    df = pd.read_csv(filepath)\n",
    "    # Keep only rows where subject ID starts with 'A' (adults)\n",
    "    adults = df[df[BEHAVIOR_ID_COL].astype(str).str.startswith('A')].copy()\n",
    "    return adults\n",
    "\n",
    "\n",
    "def validate_trial_alignment(trigger_trials: np.ndarray, behavior_trials: np.ndarray, sub_id: str) -> bool:\n",
    "    \"\"\"\n",
    "    Check whether trial indices from EEG triggers and behavioral data are identical.\n",
    "    \n",
    "    This ensures that each trial in the behavioral log corresponds exactly to a trial in the EEG data.\n",
    "    \n",
    "    Parameters\n",
    "    ----------\n",
    "    trigger_trials : np.ndarray\n",
    "        Trial indices from EEG trigger data (after filtering invalid responses).\n",
    "    behavior_trials : np.ndarray\n",
    "        Trial indices from behavioral data (0-based).\n",
    "    sub_id : str\n",
    "        Subject ID for logging purposes.\n",
    "    \n",
    "    Returns\n",
    "    -------\n",
    "    bool\n",
    "        True if indices match exactly; False otherwise.\n",
    "    \"\"\"\n",
    "    if np.array_equal(trigger_trials, behavior_trials):\n",
    "        logger.info(f\"Subject {sub_id}: behavioral and EEG trial indices aligned.\")\n",
    "        return True\n",
    "    else:\n",
    "        logger.warning(f\"Subject {sub_id}: trial indices mismatch! Skipping.\")\n",
    "        return False\n",
    "\n",
    "\n",
    "def process_subject(sub_id: str, behavior_df: pd.DataFrame) -> tuple[pd.DataFrame, str]:\n",
    "    \"\"\"\n",
    "    Process a single subject: load EEG data, align with behavior, clean trials, and export to BIDS.\n",
    "    \n",
    "    Steps:\n",
    "    1. Filter behavioral data for the subject.\n",
    "    2. Load corresponding EEG .mat file.\n",
    "    3. Align trials between EEG and behavior (exclude trials with missing response triggers).\n",
    "    4. Keep only \"good\" trials (as marked in the .mat file).\n",
    "    5. Remove RT outliers.\n",
    "    6. Convert EEG to continuous microvolts and create MNE Raw object.\n",
    "    7. Generate BIDS-compatible event array.\n",
    "    8. Write BIDS dataset (BrainVision format).\n",
    "    \n",
    "    Parameters\n",
    "    ----------\n",
    "    sub_id : str\n",
    "        Subject ID (e.g., 'A001').\n",
    "    behavior_df : pd.DataFrame\n",
    "        Full behavioral dataset (adults only).\n",
    "    \n",
    "    Returns\n",
    "    -------\n",
    "    tuple[pd.DataFrame, str]\n",
    "        - Cleaned behavioral data for this subject (may be empty if all trials rejected).\n",
    "        - Subject ID (for logging or aggregation).\n",
    "    \"\"\"\n",
    "    try:\n",
    "        # === Step 1: Filter behavioral data for this subject ===\n",
    "        beh_sub = behavior_df[behavior_df[BEHAVIOR_ID_COL] == sub_id].copy()\n",
    "        if beh_sub.empty:\n",
    "            raise ValueError(\"No behavioral data found for this subject.\")\n",
    "\n",
    "        # Convert trial numbers from 1-based (MATLAB-style) to 0-based (Python-style)\n",
    "        beh_sub[TRIAL_NO_COL] = beh_sub[TRIAL_NO_COL] - 1\n",
    "\n",
    "        # === Step 2: Load EEG .mat file ===\n",
    "        mat_path = os.path.join(DS_ROOT, FN_FIRST + sub_id + FN_LAST + '.mat')\n",
    "        if not os.path.exists(mat_path):\n",
    "            raise FileNotFoundError(f\"EEG .mat file not found: {mat_path}\")\n",
    "\n",
    "        eeg_mat = scipy.io.loadmat(mat_path)\n",
    "        # Structure:\n",
    "        # - 'X': cell array of trials, each trial is (n_channels, n_timepoints)\n",
    "        # - 'GoodTrial': logical array indicating valid trials\n",
    "        # - 'Onsets.corrMatrix': trigger timestamps per trial (n_trials, n_events)\n",
    "        # - 'trialEpochIdx': start/end sample indices for each trial (n_trials, 2)\n",
    "        data_EEG = eeg_mat['X']\n",
    "        good_trials_arr = eeg_mat['GoodTrial'][0][0][0].T  # Shape: (n_trials,)\n",
    "        triggers = eeg_mat['Onsets']['corrMatrix'][0, 0]   # Shape: (n_trials, n_events)\n",
    "        trial_epoch_idx = eeg_mat['trialEpochIdx']         # Shape: (n_trials, 2)\n",
    "\n",
    "        # Convert arrays to DataFrames and add trial number column\n",
    "        good_trials = pd.DataFrame(good_trials_arr, columns=['is_good'])\n",
    "        triggers_df = pd.DataFrame(triggers)\n",
    "        trial_epoch_df = pd.DataFrame(trial_epoch_idx, columns=['start_idx', 'end_idx'])\n",
    "\n",
    "        for df in [good_trials, triggers_df, trial_epoch_df]:\n",
    "            df[TRIAL_NO_COL] = np.arange(len(df))  # Assign 0-based trial numbers\n",
    "\n",
    "        # === Step 3: Exclude trials with missing response triggers ===\n",
    "        valid_resp = ~triggers_df.iloc[:, 4].isna()\n",
    "        valid_trial_indices = np.where(valid_resp)[0]  # Indices of trials with valid response\n",
    "\n",
    "        beh_trial_indices = beh_sub[TRIAL_NO_COL].values\n",
    "        # Validate alignment between EEG and behavior after filtering\n",
    "        if not validate_trial_alignment(valid_trial_indices, beh_trial_indices, sub_id):\n",
    "            return pd.DataFrame(), sub_id\n",
    "\n",
    "        # Filter all data to include only valid-response trials\n",
    "        triggers_valid = triggers_df[triggers_df[TRIAL_NO_COL].isin(valid_trial_indices)]\n",
    "        trial_epoch_valid = trial_epoch_df[trial_epoch_df[TRIAL_NO_COL].isin(valid_trial_indices)]\n",
    "        good_trials_valid = good_trials[good_trials[TRIAL_NO_COL].isin(valid_trial_indices)]\n",
    "        beh_valid = beh_sub[beh_sub[TRIAL_NO_COL].isin(valid_trial_indices)]\n",
    "\n",
    "        # === Step 4: Keep only \"good\" trials (as marked in .mat file) ===\n",
    "        good_mask = good_trials_valid['is_good'] == 1\n",
    "        good_trialnos = good_trials_valid.loc[good_mask, TRIAL_NO_COL]\n",
    "        triggers_good = triggers_valid[triggers_valid[TRIAL_NO_COL].isin(good_trialnos)]\n",
    "        trial_epoch_good = trial_epoch_valid[trial_epoch_valid[TRIAL_NO_COL].isin(good_trialnos)]\n",
    "        beh_good = beh_valid[beh_valid[TRIAL_NO_COL].isin(good_trialnos)]\n",
    "\n",
    "        # Safety check: ensure alignment is preserved after good-trial filtering\n",
    "        assert np.array_equal(\n",
    "            triggers_good[TRIAL_NO_COL].values,\n",
    "            beh_good[TRIAL_NO_COL].values\n",
    "        ), f\"Post-good-trial alignment failed for {sub_id}\"\n",
    "\n",
    "        # === Step 5: Remove RT outliers ===\n",
    "        rt_mean = np.nanmean(beh_good['RT'])\n",
    "        rt_std = np.nanstd(beh_good['RT'])\n",
    "        rt_upper = rt_mean + RT_OUTLIER_STD_MULTIPLIER * rt_std\n",
    "\n",
    "        beh_clean = beh_good[\n",
    "            (beh_good['RT'] >= RT_LOWER_BOUND) &\n",
    "            (beh_good['RT'] <= rt_upper)\n",
    "        ].copy()\n",
    "\n",
    "        if beh_clean.empty:\n",
    "            logger.warning(f\"Subject {sub_id}: no valid trials after RT filtering.\")\n",
    "            return pd.DataFrame(), sub_id\n",
    "\n",
    "        clean_trialnos = beh_clean[TRIAL_NO_COL]\n",
    "        triggers_clean = triggers_good[triggers_good[TRIAL_NO_COL].isin(clean_trialnos)]\n",
    "        trial_epoch_clean = trial_epoch_good[trial_epoch_good[TRIAL_NO_COL].isin(clean_trialnos)]\n",
    "\n",
    "        # === Step 6: Prepare continuous EEG data for BIDS ===\n",
    "        # Concatenate all trials into one continuous array (n_channels, total_timepoints)\n",
    "        eeg_continuous = np.concatenate([trial for trial in data_EEG[0]], axis=1)\n",
    "        eeg_continuous_microvolts = eeg_continuous * 1e6  # Convert to microvolts (BIDS standard)\n",
    "\n",
    "        # Load channel names and validate count\n",
    "        channel_info = pd.read_csv(CHANNEL_CSV).dropna()\n",
    "        ch_names = channel_info['channel'].tolist()\n",
    "        if eeg_continuous_microvolts.shape[0] != len(ch_names):\n",
    "            raise ValueError(\n",
    "                f\"Channel count mismatch for {sub_id}: \"\n",
    "                f\"EEG has {eeg_continuous_microvolts.shape[0]} channels, \"\n",
    "                f\"but {len(ch_names)} names provided.\"\n",
    "            )\n",
    "\n",
    "        # Create MNE Info and Raw object\n",
    "        info = mne.create_info(ch_names=ch_names, sfreq=SAMPLING_RATE, ch_types='eeg')\n",
    "        raw = mne.io.RawArray(eeg_continuous_microvolts, info)\n",
    "\n",
    "        # === Step 7: Build BIDS event array ===\n",
    "        # Adjust trigger timestamps to global continuous time\n",
    "        offsets = trial_epoch_clean['start_idx'].values - 1  # MATLAB 1-based → Python 0-based\n",
    "        triggers_adj = triggers_clean.copy()\n",
    "        numeric_cols = [col for col in triggers_adj.columns if col != TRIAL_NO_COL]\n",
    "        # Add trial-specific offset to each trigger timestamp\n",
    "        triggers_adj[numeric_cols] = triggers_adj[numeric_cols].values + offsets[:, None]\n",
    "\n",
    "        # Flatten into BIDS event format: (n_events, 3) → [onset, duration, event_id]\n",
    "        onsets = []\n",
    "        unused = []\n",
    "        event_ids = []\n",
    "\n",
    "        for _, row in triggers_adj.iterrows():\n",
    "            trial_onsets = row[numeric_cols].values - 1  # Convert to 0-based sample index\n",
    "            n_events = len(trial_onsets)\n",
    "            onsets.extend(trial_onsets)\n",
    "            unused.extend([0] * n_events)  # Duration unused in most EEG analyses\n",
    "            event_ids.extend(range(1, n_events + 1))  # Event IDs: 1, 2, ..., n\n",
    "\n",
    "        events = np.column_stack([onsets, unused, event_ids]).astype(int)\n",
    "\n",
    "        # === Step 8: Write BIDS dataset ===\n",
    "        bids_path = BIDSPath(\n",
    "            subject=sub_id,\n",
    "            task='randomDot',\n",
    "            datatype='eeg',\n",
    "            root=PREPROCESS_DATA_DIR\n",
    "        )\n",
    "\n",
    "        write_raw_bids(\n",
    "            raw=raw,\n",
    "            bids_path=bids_path,\n",
    "            events=events,\n",
    "            event_id=EVENT_ID_MAP,\n",
    "            format='BrainVision',  # Common EEG format compatible with many tools\n",
    "            allow_preload=True,\n",
    "            overwrite=True,\n",
    "            verbose=False\n",
    "        )\n",
    "\n",
    "        logger.info(f\"Subject {sub_id}: BIDS conversion completed.\")\n",
    "        return beh_clean, sub_id\n",
    "\n",
    "    except Exception as e:\n",
    "        # Log full error traceback for debugging\n",
    "        logger.error(f\"Error processing subject {sub_id}: {e}\", exc_info=True)\n",
    "        return pd.DataFrame(), sub_id\n"
   ]
  },
  {
   "cell_type": "code",
   "execution_count": 21,
   "id": "72a08ca9",
   "metadata": {},
   "outputs": [
    {
     "name": "stderr",
     "output_type": "stream",
     "text": [
      "2025-10-28 18:42:54,966 - INFO - Subject A001: behavioral and EEG trial indices aligned.\n"
     ]
    },
    {
     "name": "stdout",
     "output_type": "stream",
     "text": [
      "Creating RawArray with float64 data, n_channels=128, n_times=491753\n",
      "    Range : 0 ... 491752 =      0.000 ...   983.504 secs\n",
      "Ready.\n"
     ]
    },
    {
     "name": "stderr",
     "output_type": "stream",
     "text": [
      "/var/folders/xc/16fqwx1n1gbfb77yd1bdg8mh0000gn/T/ipykernel_54875/2045212589.py:210: RuntimeWarning: Converting data files to BrainVision format\n",
      "  write_raw_bids(\n",
      "/var/folders/xc/16fqwx1n1gbfb77yd1bdg8mh0000gn/T/ipykernel_54875/2045212589.py:210: RuntimeWarning: Encountered data in \"double\" format. Converting to float32.\n",
      "  write_raw_bids(\n",
      "2025-10-28 18:42:56,296 - INFO - Subject A001: BIDS conversion completed.\n",
      "2025-10-28 18:42:57,402 - INFO - Subject A002: behavioral and EEG trial indices aligned.\n"
     ]
    },
    {
     "name": "stdout",
     "output_type": "stream",
     "text": [
      "Creating RawArray with float64 data, n_channels=128, n_times=461226\n",
      "    Range : 0 ... 461225 =      0.000 ...   922.450 secs\n",
      "Ready.\n"
     ]
    },
    {
     "name": "stderr",
     "output_type": "stream",
     "text": [
      "/var/folders/xc/16fqwx1n1gbfb77yd1bdg8mh0000gn/T/ipykernel_54875/2045212589.py:210: RuntimeWarning: Converting data files to BrainVision format\n",
      "  write_raw_bids(\n",
      "/var/folders/xc/16fqwx1n1gbfb77yd1bdg8mh0000gn/T/ipykernel_54875/2045212589.py:210: RuntimeWarning: Encountered data in \"double\" format. Converting to float32.\n",
      "  write_raw_bids(\n",
      "2025-10-28 18:42:58,735 - INFO - Subject A002: BIDS conversion completed.\n",
      "2025-10-28 18:42:59,869 - INFO - Subject A003: behavioral and EEG trial indices aligned.\n"
     ]
    },
    {
     "name": "stdout",
     "output_type": "stream",
     "text": [
      "Creating RawArray with float64 data, n_channels=128, n_times=449384\n",
      "    Range : 0 ... 449383 =      0.000 ...   898.766 secs\n",
      "Ready.\n"
     ]
    },
    {
     "name": "stderr",
     "output_type": "stream",
     "text": [
      "/var/folders/xc/16fqwx1n1gbfb77yd1bdg8mh0000gn/T/ipykernel_54875/2045212589.py:210: RuntimeWarning: Converting data files to BrainVision format\n",
      "  write_raw_bids(\n",
      "/var/folders/xc/16fqwx1n1gbfb77yd1bdg8mh0000gn/T/ipykernel_54875/2045212589.py:210: RuntimeWarning: Encountered data in \"double\" format. Converting to float32.\n",
      "  write_raw_bids(\n",
      "2025-10-28 18:43:01,025 - INFO - Subject A003: BIDS conversion completed.\n",
      "2025-10-28 18:43:02,053 - INFO - Subject A004: behavioral and EEG trial indices aligned.\n"
     ]
    },
    {
     "name": "stdout",
     "output_type": "stream",
     "text": [
      "Creating RawArray with float64 data, n_channels=128, n_times=456058\n",
      "    Range : 0 ... 456057 =      0.000 ...   912.114 secs\n",
      "Ready.\n"
     ]
    },
    {
     "name": "stderr",
     "output_type": "stream",
     "text": [
      "/var/folders/xc/16fqwx1n1gbfb77yd1bdg8mh0000gn/T/ipykernel_54875/2045212589.py:210: RuntimeWarning: Converting data files to BrainVision format\n",
      "  write_raw_bids(\n",
      "/var/folders/xc/16fqwx1n1gbfb77yd1bdg8mh0000gn/T/ipykernel_54875/2045212589.py:210: RuntimeWarning: Encountered data in \"double\" format. Converting to float32.\n",
      "  write_raw_bids(\n",
      "2025-10-28 18:43:03,084 - INFO - Subject A004: BIDS conversion completed.\n",
      "2025-10-28 18:43:04,093 - INFO - Subject A005: behavioral and EEG trial indices aligned.\n"
     ]
    },
    {
     "name": "stdout",
     "output_type": "stream",
     "text": [
      "Creating RawArray with float64 data, n_channels=128, n_times=438489\n",
      "    Range : 0 ... 438488 =      0.000 ...   876.976 secs\n",
      "Ready.\n"
     ]
    },
    {
     "name": "stderr",
     "output_type": "stream",
     "text": [
      "/var/folders/xc/16fqwx1n1gbfb77yd1bdg8mh0000gn/T/ipykernel_54875/2045212589.py:210: RuntimeWarning: Converting data files to BrainVision format\n",
      "  write_raw_bids(\n",
      "/var/folders/xc/16fqwx1n1gbfb77yd1bdg8mh0000gn/T/ipykernel_54875/2045212589.py:210: RuntimeWarning: Encountered data in \"double\" format. Converting to float32.\n",
      "  write_raw_bids(\n",
      "2025-10-28 18:43:05,055 - INFO - Subject A005: BIDS conversion completed.\n",
      "2025-10-28 18:43:06,186 - INFO - Subject A006: behavioral and EEG trial indices aligned.\n"
     ]
    },
    {
     "name": "stdout",
     "output_type": "stream",
     "text": [
      "Creating RawArray with float64 data, n_channels=128, n_times=498464\n",
      "    Range : 0 ... 498463 =      0.000 ...   996.926 secs\n",
      "Ready.\n"
     ]
    },
    {
     "name": "stderr",
     "output_type": "stream",
     "text": [
      "/var/folders/xc/16fqwx1n1gbfb77yd1bdg8mh0000gn/T/ipykernel_54875/2045212589.py:210: RuntimeWarning: Converting data files to BrainVision format\n",
      "  write_raw_bids(\n",
      "/var/folders/xc/16fqwx1n1gbfb77yd1bdg8mh0000gn/T/ipykernel_54875/2045212589.py:210: RuntimeWarning: Encountered data in \"double\" format. Converting to float32.\n",
      "  write_raw_bids(\n",
      "2025-10-28 18:43:07,402 - INFO - Subject A006: BIDS conversion completed.\n",
      "2025-10-28 18:43:08,490 - INFO - Subject A007: behavioral and EEG trial indices aligned.\n"
     ]
    },
    {
     "name": "stdout",
     "output_type": "stream",
     "text": [
      "Creating RawArray with float64 data, n_channels=128, n_times=471979\n",
      "    Range : 0 ... 471978 =      0.000 ...   943.956 secs\n",
      "Ready.\n"
     ]
    },
    {
     "name": "stderr",
     "output_type": "stream",
     "text": [
      "/var/folders/xc/16fqwx1n1gbfb77yd1bdg8mh0000gn/T/ipykernel_54875/2045212589.py:210: RuntimeWarning: Converting data files to BrainVision format\n",
      "  write_raw_bids(\n",
      "/var/folders/xc/16fqwx1n1gbfb77yd1bdg8mh0000gn/T/ipykernel_54875/2045212589.py:210: RuntimeWarning: Encountered data in \"double\" format. Converting to float32.\n",
      "  write_raw_bids(\n",
      "2025-10-28 18:43:09,569 - INFO - Subject A007: BIDS conversion completed.\n",
      "2025-10-28 18:43:10,603 - INFO - Subject A008: behavioral and EEG trial indices aligned.\n"
     ]
    },
    {
     "name": "stdout",
     "output_type": "stream",
     "text": [
      "Creating RawArray with float64 data, n_channels=128, n_times=475293\n",
      "    Range : 0 ... 475292 =      0.000 ...   950.584 secs\n",
      "Ready.\n"
     ]
    },
    {
     "name": "stderr",
     "output_type": "stream",
     "text": [
      "/var/folders/xc/16fqwx1n1gbfb77yd1bdg8mh0000gn/T/ipykernel_54875/2045212589.py:210: RuntimeWarning: Converting data files to BrainVision format\n",
      "  write_raw_bids(\n",
      "/var/folders/xc/16fqwx1n1gbfb77yd1bdg8mh0000gn/T/ipykernel_54875/2045212589.py:210: RuntimeWarning: Encountered data in \"double\" format. Converting to float32.\n",
      "  write_raw_bids(\n",
      "2025-10-28 18:43:11,696 - INFO - Subject A008: BIDS conversion completed.\n",
      "2025-10-28 18:43:12,704 - INFO - Subject A009: behavioral and EEG trial indices aligned.\n"
     ]
    },
    {
     "name": "stdout",
     "output_type": "stream",
     "text": [
      "Creating RawArray with float64 data, n_channels=128, n_times=447978\n",
      "    Range : 0 ... 447977 =      0.000 ...   895.954 secs\n",
      "Ready.\n"
     ]
    },
    {
     "name": "stderr",
     "output_type": "stream",
     "text": [
      "/var/folders/xc/16fqwx1n1gbfb77yd1bdg8mh0000gn/T/ipykernel_54875/2045212589.py:210: RuntimeWarning: Converting data files to BrainVision format\n",
      "  write_raw_bids(\n",
      "/var/folders/xc/16fqwx1n1gbfb77yd1bdg8mh0000gn/T/ipykernel_54875/2045212589.py:210: RuntimeWarning: Encountered data in \"double\" format. Converting to float32.\n",
      "  write_raw_bids(\n",
      "2025-10-28 18:43:13,575 - INFO - Subject A009: BIDS conversion completed.\n",
      "2025-10-28 18:43:14,606 - INFO - Subject A010: behavioral and EEG trial indices aligned.\n"
     ]
    },
    {
     "name": "stdout",
     "output_type": "stream",
     "text": [
      "Creating RawArray with float64 data, n_channels=128, n_times=455350\n",
      "    Range : 0 ... 455349 =      0.000 ...   910.698 secs\n",
      "Ready.\n"
     ]
    },
    {
     "name": "stderr",
     "output_type": "stream",
     "text": [
      "/var/folders/xc/16fqwx1n1gbfb77yd1bdg8mh0000gn/T/ipykernel_54875/2045212589.py:210: RuntimeWarning: Converting data files to BrainVision format\n",
      "  write_raw_bids(\n",
      "/var/folders/xc/16fqwx1n1gbfb77yd1bdg8mh0000gn/T/ipykernel_54875/2045212589.py:210: RuntimeWarning: Encountered data in \"double\" format. Converting to float32.\n",
      "  write_raw_bids(\n",
      "2025-10-28 18:43:15,613 - INFO - Subject A010: BIDS conversion completed.\n",
      "2025-10-28 18:43:16,632 - INFO - Subject A011: behavioral and EEG trial indices aligned.\n"
     ]
    },
    {
     "name": "stdout",
     "output_type": "stream",
     "text": [
      "Creating RawArray with float64 data, n_channels=128, n_times=436412\n",
      "    Range : 0 ... 436411 =      0.000 ...   872.822 secs\n",
      "Ready.\n"
     ]
    },
    {
     "name": "stderr",
     "output_type": "stream",
     "text": [
      "/var/folders/xc/16fqwx1n1gbfb77yd1bdg8mh0000gn/T/ipykernel_54875/2045212589.py:210: RuntimeWarning: Converting data files to BrainVision format\n",
      "  write_raw_bids(\n",
      "/var/folders/xc/16fqwx1n1gbfb77yd1bdg8mh0000gn/T/ipykernel_54875/2045212589.py:210: RuntimeWarning: Encountered data in \"double\" format. Converting to float32.\n",
      "  write_raw_bids(\n",
      "2025-10-28 18:43:17,618 - INFO - Subject A011: BIDS conversion completed.\n",
      "2025-10-28 18:43:18,685 - INFO - Subject A012: behavioral and EEG trial indices aligned.\n"
     ]
    },
    {
     "name": "stdout",
     "output_type": "stream",
     "text": [
      "Creating RawArray with float64 data, n_channels=128, n_times=465449\n",
      "    Range : 0 ... 465448 =      0.000 ...   930.896 secs\n",
      "Ready.\n"
     ]
    },
    {
     "name": "stderr",
     "output_type": "stream",
     "text": [
      "/var/folders/xc/16fqwx1n1gbfb77yd1bdg8mh0000gn/T/ipykernel_54875/2045212589.py:210: RuntimeWarning: Converting data files to BrainVision format\n",
      "  write_raw_bids(\n",
      "/var/folders/xc/16fqwx1n1gbfb77yd1bdg8mh0000gn/T/ipykernel_54875/2045212589.py:210: RuntimeWarning: Encountered data in \"double\" format. Converting to float32.\n",
      "  write_raw_bids(\n",
      "2025-10-28 18:43:19,703 - INFO - Subject A012: BIDS conversion completed.\n",
      "2025-10-28 18:43:20,894 - INFO - Subject A013: behavioral and EEG trial indices aligned.\n"
     ]
    },
    {
     "name": "stdout",
     "output_type": "stream",
     "text": [
      "Creating RawArray with float64 data, n_channels=128, n_times=512778\n",
      "    Range : 0 ... 512777 =      0.000 ...  1025.554 secs\n",
      "Ready.\n"
     ]
    },
    {
     "name": "stderr",
     "output_type": "stream",
     "text": [
      "/var/folders/xc/16fqwx1n1gbfb77yd1bdg8mh0000gn/T/ipykernel_54875/2045212589.py:210: RuntimeWarning: Converting data files to BrainVision format\n",
      "  write_raw_bids(\n",
      "/var/folders/xc/16fqwx1n1gbfb77yd1bdg8mh0000gn/T/ipykernel_54875/2045212589.py:210: RuntimeWarning: Encountered data in \"double\" format. Converting to float32.\n",
      "  write_raw_bids(\n",
      "2025-10-28 18:43:22,225 - INFO - Subject A013: BIDS conversion completed.\n",
      "2025-10-28 18:43:23,366 - INFO - Subject A014: behavioral and EEG trial indices aligned.\n"
     ]
    },
    {
     "name": "stdout",
     "output_type": "stream",
     "text": [
      "Creating RawArray with float64 data, n_channels=128, n_times=420476\n",
      "    Range : 0 ... 420475 =      0.000 ...   840.950 secs\n",
      "Ready.\n"
     ]
    },
    {
     "name": "stderr",
     "output_type": "stream",
     "text": [
      "/var/folders/xc/16fqwx1n1gbfb77yd1bdg8mh0000gn/T/ipykernel_54875/2045212589.py:210: RuntimeWarning: Converting data files to BrainVision format\n",
      "  write_raw_bids(\n",
      "/var/folders/xc/16fqwx1n1gbfb77yd1bdg8mh0000gn/T/ipykernel_54875/2045212589.py:210: RuntimeWarning: Encountered data in \"double\" format. Converting to float32.\n",
      "  write_raw_bids(\n",
      "2025-10-28 18:43:24,323 - INFO - Subject A014: BIDS conversion completed.\n",
      "2025-10-28 18:43:25,562 - INFO - Subject A015: behavioral and EEG trial indices aligned.\n"
     ]
    },
    {
     "name": "stdout",
     "output_type": "stream",
     "text": [
      "Creating RawArray with float64 data, n_channels=128, n_times=484636\n",
      "    Range : 0 ... 484635 =      0.000 ...   969.270 secs\n",
      "Ready.\n"
     ]
    },
    {
     "name": "stderr",
     "output_type": "stream",
     "text": [
      "/var/folders/xc/16fqwx1n1gbfb77yd1bdg8mh0000gn/T/ipykernel_54875/2045212589.py:210: RuntimeWarning: Converting data files to BrainVision format\n",
      "  write_raw_bids(\n",
      "/var/folders/xc/16fqwx1n1gbfb77yd1bdg8mh0000gn/T/ipykernel_54875/2045212589.py:210: RuntimeWarning: Encountered data in \"double\" format. Converting to float32.\n",
      "  write_raw_bids(\n",
      "2025-10-28 18:43:26,798 - INFO - Subject A015: BIDS conversion completed.\n",
      "2025-10-28 18:43:27,882 - INFO - Subject A016: behavioral and EEG trial indices aligned.\n"
     ]
    },
    {
     "name": "stdout",
     "output_type": "stream",
     "text": [
      "Creating RawArray with float64 data, n_channels=128, n_times=442934\n",
      "    Range : 0 ... 442933 =      0.000 ...   885.866 secs\n",
      "Ready.\n"
     ]
    },
    {
     "name": "stderr",
     "output_type": "stream",
     "text": [
      "/var/folders/xc/16fqwx1n1gbfb77yd1bdg8mh0000gn/T/ipykernel_54875/2045212589.py:210: RuntimeWarning: Converting data files to BrainVision format\n",
      "  write_raw_bids(\n",
      "/var/folders/xc/16fqwx1n1gbfb77yd1bdg8mh0000gn/T/ipykernel_54875/2045212589.py:210: RuntimeWarning: Encountered data in \"double\" format. Converting to float32.\n",
      "  write_raw_bids(\n",
      "2025-10-28 18:43:28,916 - INFO - Subject A016: BIDS conversion completed.\n",
      "2025-10-28 18:43:30,014 - INFO - Subject A017: behavioral and EEG trial indices aligned.\n"
     ]
    },
    {
     "name": "stdout",
     "output_type": "stream",
     "text": [
      "Creating RawArray with float64 data, n_channels=128, n_times=467765\n",
      "    Range : 0 ... 467764 =      0.000 ...   935.528 secs\n",
      "Ready.\n"
     ]
    },
    {
     "name": "stderr",
     "output_type": "stream",
     "text": [
      "/var/folders/xc/16fqwx1n1gbfb77yd1bdg8mh0000gn/T/ipykernel_54875/2045212589.py:210: RuntimeWarning: Converting data files to BrainVision format\n",
      "  write_raw_bids(\n",
      "/var/folders/xc/16fqwx1n1gbfb77yd1bdg8mh0000gn/T/ipykernel_54875/2045212589.py:210: RuntimeWarning: Encountered data in \"double\" format. Converting to float32.\n",
      "  write_raw_bids(\n",
      "2025-10-28 18:43:31,199 - INFO - Subject A017: BIDS conversion completed.\n",
      "2025-10-28 18:43:32,243 - INFO - Subject A018: behavioral and EEG trial indices aligned.\n"
     ]
    },
    {
     "name": "stdout",
     "output_type": "stream",
     "text": [
      "Creating RawArray with float64 data, n_channels=128, n_times=445532\n",
      "    Range : 0 ... 445531 =      0.000 ...   891.062 secs\n",
      "Ready.\n"
     ]
    },
    {
     "name": "stderr",
     "output_type": "stream",
     "text": [
      "/var/folders/xc/16fqwx1n1gbfb77yd1bdg8mh0000gn/T/ipykernel_54875/2045212589.py:210: RuntimeWarning: Converting data files to BrainVision format\n",
      "  write_raw_bids(\n",
      "/var/folders/xc/16fqwx1n1gbfb77yd1bdg8mh0000gn/T/ipykernel_54875/2045212589.py:210: RuntimeWarning: Encountered data in \"double\" format. Converting to float32.\n",
      "  write_raw_bids(\n",
      "2025-10-28 18:43:33,324 - INFO - Subject A018: BIDS conversion completed.\n",
      "2025-10-28 18:43:34,437 - INFO - Subject A019: behavioral and EEG trial indices aligned.\n"
     ]
    },
    {
     "name": "stdout",
     "output_type": "stream",
     "text": [
      "Creating RawArray with float64 data, n_channels=128, n_times=455674\n",
      "    Range : 0 ... 455673 =      0.000 ...   911.346 secs\n",
      "Ready.\n"
     ]
    },
    {
     "name": "stderr",
     "output_type": "stream",
     "text": [
      "/var/folders/xc/16fqwx1n1gbfb77yd1bdg8mh0000gn/T/ipykernel_54875/2045212589.py:210: RuntimeWarning: Converting data files to BrainVision format\n",
      "  write_raw_bids(\n",
      "/var/folders/xc/16fqwx1n1gbfb77yd1bdg8mh0000gn/T/ipykernel_54875/2045212589.py:210: RuntimeWarning: Encountered data in \"double\" format. Converting to float32.\n",
      "  write_raw_bids(\n",
      "2025-10-28 18:43:35,568 - INFO - Subject A019: BIDS conversion completed.\n",
      "2025-10-28 18:43:36,592 - INFO - Subject A020: behavioral and EEG trial indices aligned.\n"
     ]
    },
    {
     "name": "stdout",
     "output_type": "stream",
     "text": [
      "Creating RawArray with float64 data, n_channels=128, n_times=432717\n",
      "    Range : 0 ... 432716 =      0.000 ...   865.432 secs\n",
      "Ready.\n"
     ]
    },
    {
     "name": "stderr",
     "output_type": "stream",
     "text": [
      "/var/folders/xc/16fqwx1n1gbfb77yd1bdg8mh0000gn/T/ipykernel_54875/2045212589.py:210: RuntimeWarning: Converting data files to BrainVision format\n",
      "  write_raw_bids(\n",
      "/var/folders/xc/16fqwx1n1gbfb77yd1bdg8mh0000gn/T/ipykernel_54875/2045212589.py:210: RuntimeWarning: Encountered data in \"double\" format. Converting to float32.\n",
      "  write_raw_bids(\n",
      "2025-10-28 18:43:37,600 - INFO - Subject A020: BIDS conversion completed.\n",
      "2025-10-28 18:43:37,639 - INFO - Final behavioral data saved to ../data/behaviorData_low_1_final.csv\n"
     ]
    },
    {
     "name": "stdout",
     "output_type": "stream",
     "text": [
      "Writing '../data/preprocessData/dataset_description.json'...\n"
     ]
    },
    {
     "name": "stderr",
     "output_type": "stream",
     "text": [
      "2025-10-28 18:43:37,640 - INFO - BIDS dataset description created.\n"
     ]
    }
   ],
   "source": [
    "# =============================================================================\n",
    "# Main Execution Block\n",
    "# =============================================================================\n",
    "# This block runs only when the script is executed directly (not when imported).\n",
    "# It orchestrates the entire preprocessing pipeline.\n",
    "if __name__ == \"__main__\":\n",
    "    # Load and preprocess behavioral data once\n",
    "    behavior_raw = load_behavior_data(BEHAVIOR_RAW_CSV)\n",
    "    all_clean_behavior = []\n",
    "\n",
    "    # Process each subject sequentially\n",
    "    for sub in SUBJECT_IDS:\n",
    "        clean_beh, _ = process_subject(sub, behavior_raw)\n",
    "        if not clean_beh.empty:\n",
    "            all_clean_behavior.append(clean_beh)\n",
    "\n",
    "    # Aggregate and save cleaned behavioral data if any subjects succeeded\n",
    "    if all_clean_behavior:\n",
    "        final_df = pd.concat(all_clean_behavior, ignore_index=True)\n",
    "\n",
    "        # Save only the columns needed for downstream analysis\n",
    "        selected = final_df[['subj', 'coherence', 'RT', 'accuracy', 'keypress']]\n",
    "        selected.to_csv(BEHAVIOR_FINAL_CSV, index=False)\n",
    "        logger.info(f\"Final behavioral data saved to {BEHAVIOR_FINAL_CSV}\")\n",
    "\n",
    "        # Create BIDS dataset_description.json (required by BIDS specification)\n",
    "        make_dataset_description(\n",
    "            path=PREPROCESS_DATA_DIR,\n",
    "            name='LowLevel-randomDot',\n",
    "            dataset_type='raw',\n",
    "            overwrite=True\n",
    "        )\n",
    "        logger.info(\"BIDS dataset description created.\")\n",
    "    else:\n",
    "        logger.warning(\"No subjects processed successfully.\")"
   ]
  }
 ],
 "metadata": {
  "kernelspec": {
   "display_name": ".venv",
   "language": "python",
   "name": "python3"
  },
  "language_info": {
   "codemirror_mode": {
    "name": "ipython",
    "version": 3
   },
   "file_extension": ".py",
   "mimetype": "text/x-python",
   "name": "python",
   "nbconvert_exporter": "python",
   "pygments_lexer": "ipython3",
   "version": "3.13.3"
  }
 },
 "nbformat": 4,
 "nbformat_minor": 5
}
