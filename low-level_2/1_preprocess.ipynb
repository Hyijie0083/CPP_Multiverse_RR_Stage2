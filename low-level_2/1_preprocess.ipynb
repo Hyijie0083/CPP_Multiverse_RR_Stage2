{
 "cells": [
  {
   "cell_type": "code",
   "execution_count": 2,
   "id": "7f8492bd",
   "metadata": {},
   "outputs": [],
   "source": [
    "import sys\n",
    "import os\n",
    "import re\n",
    "import numpy as np\n",
    "import pandas as pd\n",
    "\n",
    "import mne\n",
    "from mne_bids import write_raw_bids, BIDSPath\n"
   ]
  },
  {
   "cell_type": "code",
   "execution_count": null,
   "id": "3f14d692",
   "metadata": {},
   "outputs": [],
   "source": [
    "# set different path to load and save data\n",
    "ds_root='../data'\n",
    "tgt_dir='..'\n",
    "\n",
    "dir_preprocess=os.path.join(tgt_dir,'data','preprocessData')\n",
    "if not os.path.exists(dir_preprocess):\n",
    "    os.makedirs(dir_preprocess)\n"
   ]
  },
  {
   "cell_type": "code",
   "execution_count": 4,
   "id": "f2fc16b1",
   "metadata": {},
   "outputs": [],
   "source": [
    "# BIDS format file name part labels\n",
    "BIDS_fn_label = []\n",
    "BIDS_fn_label.append('_task-dynamic')      # BIDS file name task label. format: [_task-<task_label>]\n",
    "BIDS_fn_label.append('_eeg')       "
   ]
  },
  {
   "cell_type": "code",
   "execution_count": null,
   "id": "f87fd523",
   "metadata": {},
   "outputs": [
    {
     "name": "stdout",
     "output_type": "stream",
     "text": [
      "Extracting parameters from ../data/sub-STSWD1117/eeg/sub-STSWD1117_task-dynamic_eeg.vhdr...\n",
      "Setting channel info structure...\n"
     ]
    },
    {
     "name": "stderr",
     "output_type": "stream",
     "text": [
      "/var/folders/xc/16fqwx1n1gbfb77yd1bdg8mh0000gn/T/ipykernel_79878/3415862983.py:3: RuntimeWarning: Online software filter detected. Using software filter settings and ignoring hardware values\n",
      "  raw=mne.io.read_raw_brainvision(os.path.join(ds_root,sub,'eeg',sub+BIDS_fn_label[0]+BIDS_fn_label[1]+'.vhdr'))\n",
      "/var/folders/xc/16fqwx1n1gbfb77yd1bdg8mh0000gn/T/ipykernel_79878/3415862983.py:3: RuntimeWarning: Channels contain different highpass filters. Lowest (weakest) filter setting (0.00 Hz) will be stored.\n",
      "  raw=mne.io.read_raw_brainvision(os.path.join(ds_root,sub,'eeg',sub+BIDS_fn_label[0]+BIDS_fn_label[1]+'.vhdr'))\n",
      "/var/folders/xc/16fqwx1n1gbfb77yd1bdg8mh0000gn/T/ipykernel_79878/3415862983.py:3: RuntimeWarning: Channels contain different lowpass filters. Highest (weakest) filter setting (500.00 Hz, Nyquist limit) will be stored.\n",
      "  raw=mne.io.read_raw_brainvision(os.path.join(ds_root,sub,'eeg',sub+BIDS_fn_label[0]+BIDS_fn_label[1]+'.vhdr'))\n"
     ]
    },
    {
     "name": "stdout",
     "output_type": "stream",
     "text": [
      "Filtering raw data in 1 contiguous segment\n",
      "Setting up band-pass filter from 1 - 30 Hz\n",
      "\n",
      "FIR filter parameters\n",
      "---------------------\n",
      "Designing a one-pass, zero-phase, non-causal bandpass filter:\n",
      "- Windowed time-domain design (firwin) method\n",
      "- Hamming window with 0.0194 passband ripple and 53 dB stopband attenuation\n",
      "- Lower passband edge: 1.00\n",
      "- Lower transition bandwidth: 1.00 Hz (-6 dB cutoff frequency: 0.50 Hz)\n",
      "- Upper passband edge: 30.00 Hz\n",
      "- Upper transition bandwidth: 7.50 Hz (-6 dB cutoff frequency: 33.75 Hz)\n",
      "- Filter length: 1651 samples (3.302 s)\n",
      "\n"
     ]
    },
    {
     "name": "stderr",
     "output_type": "stream",
     "text": [
      "[Parallel(n_jobs=1)]: Done  17 tasks      | elapsed:    0.3s\n"
     ]
    },
    {
     "name": "stdout",
     "output_type": "stream",
     "text": [
      "EEG channel type selected for re-referencing\n",
      "Applying average reference.\n",
      "Applying a custom ('EEG',) reference.\n"
     ]
    },
    {
     "name": "stderr",
     "output_type": "stream",
     "text": [
      "[Parallel(n_jobs=1)]: Done  62 out of  62 | elapsed:    1.2s finished\n"
     ]
    },
    {
     "name": "stdout",
     "output_type": "stream",
     "text": [
      "Fitting ICA to data using 62 channels (please be patient, this may take a while)\n",
      "Selecting by number: 50 components\n"
     ]
    },
    {
     "name": "stderr",
     "output_type": "stream",
     "text": [
      "/Users/hyijie/Desktop/Lab/CPP_Multiverse_stage2/.venv/lib/python3.13/site-packages/scipy/linalg/_basic.py:1622: RuntimeWarning: divide by zero encountered in matmul\n",
      "  B = (u @ vh[:rank]).conj().T\n",
      "/Users/hyijie/Desktop/Lab/CPP_Multiverse_stage2/.venv/lib/python3.13/site-packages/scipy/linalg/_basic.py:1622: RuntimeWarning: overflow encountered in matmul\n",
      "  B = (u @ vh[:rank]).conj().T\n",
      "/Users/hyijie/Desktop/Lab/CPP_Multiverse_stage2/.venv/lib/python3.13/site-packages/scipy/linalg/_basic.py:1622: RuntimeWarning: invalid value encountered in matmul\n",
      "  B = (u @ vh[:rank]).conj().T\n",
      "/Users/hyijie/Desktop/Lab/CPP_Multiverse_stage2/.venv/lib/python3.13/site-packages/mne/utils/linalg.py:243: RuntimeWarning: divide by zero encountered in matmul\n",
      "  return (u @ vh[:rank]).conj().T\n",
      "/Users/hyijie/Desktop/Lab/CPP_Multiverse_stage2/.venv/lib/python3.13/site-packages/mne/utils/linalg.py:243: RuntimeWarning: overflow encountered in matmul\n",
      "  return (u @ vh[:rank]).conj().T\n",
      "/Users/hyijie/Desktop/Lab/CPP_Multiverse_stage2/.venv/lib/python3.13/site-packages/mne/utils/linalg.py:243: RuntimeWarning: invalid value encountered in matmul\n",
      "  return (u @ vh[:rank]).conj().T\n"
     ]
    },
    {
     "name": "stdout",
     "output_type": "stream",
     "text": [
      "Fitting ICA took 33.7s.\n",
      "Using EOG channels: HEOGL, HEOGR\n",
      "... filtering ICA sources\n",
      "Setting up band-pass filter from 1 - 10 Hz\n",
      "\n",
      "FIR filter parameters\n",
      "---------------------\n",
      "Designing a two-pass forward and reverse, zero-phase, non-causal bandpass filter:\n",
      "- Windowed frequency-domain design (firwin2) method\n",
      "- Hann window\n",
      "- Lower passband edge: 1.00\n",
      "- Lower transition bandwidth: 0.50 Hz (-12 dB cutoff frequency: 0.75 Hz)\n",
      "- Upper passband edge: 10.00 Hz\n",
      "- Upper transition bandwidth: 0.50 Hz (-12 dB cutoff frequency: 10.25 Hz)\n",
      "- Filter length: 5000 samples (10.000 s)\n",
      "\n"
     ]
    },
    {
     "name": "stderr",
     "output_type": "stream",
     "text": [
      "[Parallel(n_jobs=1)]: Done  17 tasks      | elapsed:    0.3s\n"
     ]
    },
    {
     "name": "stdout",
     "output_type": "stream",
     "text": [
      "... filtering target\n",
      "Setting up band-pass filter from 1 - 10 Hz\n",
      "\n",
      "FIR filter parameters\n",
      "---------------------\n",
      "Designing a two-pass forward and reverse, zero-phase, non-causal bandpass filter:\n",
      "- Windowed frequency-domain design (firwin2) method\n",
      "- Hann window\n",
      "- Lower passband edge: 1.00\n",
      "- Lower transition bandwidth: 0.50 Hz (-12 dB cutoff frequency: 0.75 Hz)\n",
      "- Upper passband edge: 10.00 Hz\n",
      "- Upper transition bandwidth: 0.50 Hz (-12 dB cutoff frequency: 10.25 Hz)\n",
      "- Filter length: 5000 samples (10.000 s)\n",
      "\n"
     ]
    },
    {
     "name": "stderr",
     "output_type": "stream",
     "text": [
      "[Parallel(n_jobs=1)]: Done  50 out of  50 | elapsed:    1.0s finished\n",
      "[Parallel(n_jobs=1)]: Done   1 out of   1 | elapsed:    0.0s finished\n"
     ]
    },
    {
     "name": "stdout",
     "output_type": "stream",
     "text": [
      "... filtering ICA sources\n",
      "Setting up band-pass filter from 1 - 10 Hz\n",
      "\n",
      "FIR filter parameters\n",
      "---------------------\n",
      "Designing a two-pass forward and reverse, zero-phase, non-causal bandpass filter:\n",
      "- Windowed frequency-domain design (firwin2) method\n",
      "- Hann window\n",
      "- Lower passband edge: 1.00\n",
      "- Lower transition bandwidth: 0.50 Hz (-12 dB cutoff frequency: 0.75 Hz)\n",
      "- Upper passband edge: 10.00 Hz\n",
      "- Upper transition bandwidth: 0.50 Hz (-12 dB cutoff frequency: 10.25 Hz)\n",
      "- Filter length: 5000 samples (10.000 s)\n",
      "\n"
     ]
    },
    {
     "name": "stderr",
     "output_type": "stream",
     "text": [
      "[Parallel(n_jobs=1)]: Done  17 tasks      | elapsed:    0.3s\n"
     ]
    },
    {
     "name": "stdout",
     "output_type": "stream",
     "text": [
      "... filtering target\n",
      "Setting up band-pass filter from 1 - 10 Hz\n",
      "\n",
      "FIR filter parameters\n",
      "---------------------\n",
      "Designing a two-pass forward and reverse, zero-phase, non-causal bandpass filter:\n",
      "- Windowed frequency-domain design (firwin2) method\n",
      "- Hann window\n",
      "- Lower passband edge: 1.00\n",
      "- Lower transition bandwidth: 0.50 Hz (-12 dB cutoff frequency: 0.75 Hz)\n",
      "- Upper passband edge: 10.00 Hz\n",
      "- Upper transition bandwidth: 0.50 Hz (-12 dB cutoff frequency: 10.25 Hz)\n",
      "- Filter length: 5000 samples (10.000 s)\n",
      "\n"
     ]
    },
    {
     "name": "stderr",
     "output_type": "stream",
     "text": [
      "[Parallel(n_jobs=1)]: Done  50 out of  50 | elapsed:    1.0s finished\n",
      "[Parallel(n_jobs=1)]: Done   1 out of   1 | elapsed:    0.0s finished\n"
     ]
    },
    {
     "name": "stdout",
     "output_type": "stream",
     "text": [
      "Using threshold: 0.23 for CTPS ECG detection\n",
      "Using channel ECG to identify heart beats.\n",
      "Setting up band-pass filter from 8 - 16 Hz\n",
      "\n",
      "FIR filter parameters\n",
      "---------------------\n",
      "Designing a two-pass forward and reverse, zero-phase, non-causal bandpass filter:\n",
      "- Windowed frequency-domain design (firwin2) method\n",
      "- Hann window\n",
      "- Lower passband edge: 8.00\n",
      "- Lower transition bandwidth: 0.50 Hz (-12 dB cutoff frequency: 7.75 Hz)\n",
      "- Upper passband edge: 16.00 Hz\n",
      "- Upper transition bandwidth: 0.50 Hz (-12 dB cutoff frequency: 16.25 Hz)\n",
      "- Filter length: 5000 samples (10.000 s)\n",
      "\n",
      "Number of ECG events detected : 3683 (average pulse 67.92362357685593 / min.)\n",
      "Not setting metadata\n",
      "3683 matching events found\n",
      "No baseline correction applied\n",
      "Using data from preloaded Raw for 3683 events and 501 original time points ...\n",
      "1 bad epochs dropped\n",
      "Applying ICA to Raw instance\n",
      "    Transforming to ICA space (50 components)\n",
      "    Zeroing out 5 ICA components\n",
      "    Projecting back using 62 PCA components\n"
     ]
    },
    {
     "name": "stderr",
     "output_type": "stream",
     "text": [
      "/Users/hyijie/Desktop/Lab/CPP_Multiverse_stage2/.venv/lib/python3.13/site-packages/mne/preprocessing/ica.py:2401: RuntimeWarning: divide by zero encountered in matmul\n",
      "  mixing = pca_components.T @ mixing\n",
      "/Users/hyijie/Desktop/Lab/CPP_Multiverse_stage2/.venv/lib/python3.13/site-packages/mne/preprocessing/ica.py:2401: RuntimeWarning: overflow encountered in matmul\n",
      "  mixing = pca_components.T @ mixing\n",
      "/Users/hyijie/Desktop/Lab/CPP_Multiverse_stage2/.venv/lib/python3.13/site-packages/mne/preprocessing/ica.py:2401: RuntimeWarning: invalid value encountered in matmul\n",
      "  mixing = pca_components.T @ mixing\n"
     ]
    },
    {
     "name": "stdout",
     "output_type": "stream",
     "text": [
      "Writing '../data/preprocessData/participants.tsv'...\n",
      "Writing '../data/preprocessData/participants.json'...\n",
      "The provided raw data contains annotations, but you did not pass an \"event_id\" mapping from annotation descriptions to event codes. We will generate arbitrary event codes. To specify custom event codes, please pass \"event_id\".\n",
      "Used Annotations descriptions: [np.str_('Comment/actiCAP not connected'), np.str_('New Segment/'), np.str_('Stimulus/S  1'), np.str_('Stimulus/S  2'), np.str_('Stimulus/S  6'), np.str_('Stimulus/S  8'), np.str_('Stimulus/S 16'), np.str_('Stimulus/S 17'), np.str_('Stimulus/S 20'), np.str_('Stimulus/S 24'), np.str_('Stimulus/S 64'), np.str_('Stimulus/S 72'), np.str_('Stimulus/S 96'), np.str_('Stimulus/S128'), np.str_('Stimulus/S130'), np.str_('Stimulus/S224')]\n",
      "Writing '../data/preprocessData/sub-STSWD1117/eeg/sub-STSWD1117_task-MAAT_events.tsv'...\n",
      "Writing '../data/preprocessData/sub-STSWD1117/eeg/sub-STSWD1117_task-MAAT_events.json'...\n",
      "Writing '../data/preprocessData/dataset_description.json'...\n",
      "Writing '../data/preprocessData/sub-STSWD1117/eeg/sub-STSWD1117_task-MAAT_eeg.json'...\n",
      "Writing '../data/preprocessData/sub-STSWD1117/eeg/sub-STSWD1117_task-MAAT_channels.tsv'...\n",
      "Copying data files to sub-STSWD1117_task-MAAT_eeg.vhdr\n"
     ]
    },
    {
     "name": "stderr",
     "output_type": "stream",
     "text": [
      "/var/folders/xc/16fqwx1n1gbfb77yd1bdg8mh0000gn/T/ipykernel_79878/3415862983.py:36: RuntimeWarning: Converting data files to BrainVision format\n",
      "  write_raw_bids(\n",
      "/var/folders/xc/16fqwx1n1gbfb77yd1bdg8mh0000gn/T/ipykernel_79878/3415862983.py:36: RuntimeWarning: Encountered data in \"short\" format. Converting to float32.\n",
      "  write_raw_bids(\n"
     ]
    },
    {
     "name": "stdout",
     "output_type": "stream",
     "text": [
      "Writing '../data/preprocessData/sub-STSWD1117/sub-STSWD1117_scans.tsv'...\n",
      "Wrote ../data/preprocessData/sub-STSWD1117/sub-STSWD1117_scans.tsv entry with eeg/sub-STSWD1117_task-MAAT_eeg.vhdr.\n",
      "Extracting parameters from ../data/sub-STSWD1118/eeg/sub-STSWD1118_task-dynamic_eeg.vhdr...\n",
      "Setting channel info structure...\n"
     ]
    },
    {
     "name": "stderr",
     "output_type": "stream",
     "text": [
      "/var/folders/xc/16fqwx1n1gbfb77yd1bdg8mh0000gn/T/ipykernel_79878/3415862983.py:3: RuntimeWarning: Online software filter detected. Using software filter settings and ignoring hardware values\n",
      "  raw=mne.io.read_raw_brainvision(os.path.join(ds_root,sub,'eeg',sub+BIDS_fn_label[0]+BIDS_fn_label[1]+'.vhdr'))\n",
      "/var/folders/xc/16fqwx1n1gbfb77yd1bdg8mh0000gn/T/ipykernel_79878/3415862983.py:3: RuntimeWarning: Channels contain different highpass filters. Lowest (weakest) filter setting (0.00 Hz) will be stored.\n",
      "  raw=mne.io.read_raw_brainvision(os.path.join(ds_root,sub,'eeg',sub+BIDS_fn_label[0]+BIDS_fn_label[1]+'.vhdr'))\n",
      "/var/folders/xc/16fqwx1n1gbfb77yd1bdg8mh0000gn/T/ipykernel_79878/3415862983.py:3: RuntimeWarning: Channels contain different lowpass filters. Highest (weakest) filter setting (500.00 Hz, Nyquist limit) will be stored.\n",
      "  raw=mne.io.read_raw_brainvision(os.path.join(ds_root,sub,'eeg',sub+BIDS_fn_label[0]+BIDS_fn_label[1]+'.vhdr'))\n"
     ]
    },
    {
     "name": "stdout",
     "output_type": "stream",
     "text": [
      "Filtering raw data in 1 contiguous segment\n",
      "Setting up band-pass filter from 1 - 30 Hz\n",
      "\n",
      "FIR filter parameters\n",
      "---------------------\n",
      "Designing a one-pass, zero-phase, non-causal bandpass filter:\n",
      "- Windowed time-domain design (firwin) method\n",
      "- Hamming window with 0.0194 passband ripple and 53 dB stopband attenuation\n",
      "- Lower passband edge: 1.00\n",
      "- Lower transition bandwidth: 1.00 Hz (-6 dB cutoff frequency: 0.50 Hz)\n",
      "- Upper passband edge: 30.00 Hz\n",
      "- Upper transition bandwidth: 7.50 Hz (-6 dB cutoff frequency: 33.75 Hz)\n",
      "- Filter length: 1651 samples (3.302 s)\n",
      "\n"
     ]
    },
    {
     "name": "stderr",
     "output_type": "stream",
     "text": [
      "[Parallel(n_jobs=1)]: Done  17 tasks      | elapsed:    0.3s\n"
     ]
    },
    {
     "name": "stdout",
     "output_type": "stream",
     "text": [
      "EEG channel type selected for re-referencing\n",
      "Applying average reference.\n",
      "Applying a custom ('EEG',) reference.\n"
     ]
    },
    {
     "name": "stderr",
     "output_type": "stream",
     "text": [
      "[Parallel(n_jobs=1)]: Done  62 out of  62 | elapsed:    1.2s finished\n"
     ]
    },
    {
     "name": "stdout",
     "output_type": "stream",
     "text": [
      "Fitting ICA to data using 62 channels (please be patient, this may take a while)\n",
      "Selecting by number: 50 components\n"
     ]
    },
    {
     "name": "stderr",
     "output_type": "stream",
     "text": [
      "/Users/hyijie/Desktop/Lab/CPP_Multiverse_stage2/.venv/lib/python3.13/site-packages/scipy/linalg/_basic.py:1622: RuntimeWarning: divide by zero encountered in matmul\n",
      "  B = (u @ vh[:rank]).conj().T\n",
      "/Users/hyijie/Desktop/Lab/CPP_Multiverse_stage2/.venv/lib/python3.13/site-packages/scipy/linalg/_basic.py:1622: RuntimeWarning: overflow encountered in matmul\n",
      "  B = (u @ vh[:rank]).conj().T\n",
      "/Users/hyijie/Desktop/Lab/CPP_Multiverse_stage2/.venv/lib/python3.13/site-packages/scipy/linalg/_basic.py:1622: RuntimeWarning: invalid value encountered in matmul\n",
      "  B = (u @ vh[:rank]).conj().T\n",
      "/Users/hyijie/Desktop/Lab/CPP_Multiverse_stage2/.venv/lib/python3.13/site-packages/mne/utils/linalg.py:243: RuntimeWarning: divide by zero encountered in matmul\n",
      "  return (u @ vh[:rank]).conj().T\n",
      "/Users/hyijie/Desktop/Lab/CPP_Multiverse_stage2/.venv/lib/python3.13/site-packages/mne/utils/linalg.py:243: RuntimeWarning: overflow encountered in matmul\n",
      "  return (u @ vh[:rank]).conj().T\n",
      "/Users/hyijie/Desktop/Lab/CPP_Multiverse_stage2/.venv/lib/python3.13/site-packages/mne/utils/linalg.py:243: RuntimeWarning: invalid value encountered in matmul\n",
      "  return (u @ vh[:rank]).conj().T\n"
     ]
    },
    {
     "name": "stdout",
     "output_type": "stream",
     "text": [
      "Fitting ICA took 33.5s.\n",
      "Using EOG channels: HEOGL, HEOGR\n",
      "... filtering ICA sources\n",
      "Setting up band-pass filter from 1 - 10 Hz\n",
      "\n",
      "FIR filter parameters\n",
      "---------------------\n",
      "Designing a two-pass forward and reverse, zero-phase, non-causal bandpass filter:\n",
      "- Windowed frequency-domain design (firwin2) method\n",
      "- Hann window\n",
      "- Lower passband edge: 1.00\n",
      "- Lower transition bandwidth: 0.50 Hz (-12 dB cutoff frequency: 0.75 Hz)\n",
      "- Upper passband edge: 10.00 Hz\n",
      "- Upper transition bandwidth: 0.50 Hz (-12 dB cutoff frequency: 10.25 Hz)\n",
      "- Filter length: 5000 samples (10.000 s)\n",
      "\n"
     ]
    },
    {
     "name": "stderr",
     "output_type": "stream",
     "text": [
      "[Parallel(n_jobs=1)]: Done  17 tasks      | elapsed:    0.4s\n"
     ]
    },
    {
     "name": "stdout",
     "output_type": "stream",
     "text": [
      "... filtering target\n",
      "Setting up band-pass filter from 1 - 10 Hz\n",
      "\n",
      "FIR filter parameters\n",
      "---------------------\n",
      "Designing a two-pass forward and reverse, zero-phase, non-causal bandpass filter:\n",
      "- Windowed frequency-domain design (firwin2) method\n",
      "- Hann window\n",
      "- Lower passband edge: 1.00\n",
      "- Lower transition bandwidth: 0.50 Hz (-12 dB cutoff frequency: 0.75 Hz)\n",
      "- Upper passband edge: 10.00 Hz\n",
      "- Upper transition bandwidth: 0.50 Hz (-12 dB cutoff frequency: 10.25 Hz)\n",
      "- Filter length: 5000 samples (10.000 s)\n",
      "\n"
     ]
    },
    {
     "name": "stderr",
     "output_type": "stream",
     "text": [
      "[Parallel(n_jobs=1)]: Done  50 out of  50 | elapsed:    1.2s finished\n",
      "[Parallel(n_jobs=1)]: Done   1 out of   1 | elapsed:    0.0s finished\n"
     ]
    },
    {
     "name": "stdout",
     "output_type": "stream",
     "text": [
      "... filtering ICA sources\n",
      "Setting up band-pass filter from 1 - 10 Hz\n",
      "\n",
      "FIR filter parameters\n",
      "---------------------\n",
      "Designing a two-pass forward and reverse, zero-phase, non-causal bandpass filter:\n",
      "- Windowed frequency-domain design (firwin2) method\n",
      "- Hann window\n",
      "- Lower passband edge: 1.00\n",
      "- Lower transition bandwidth: 0.50 Hz (-12 dB cutoff frequency: 0.75 Hz)\n",
      "- Upper passband edge: 10.00 Hz\n",
      "- Upper transition bandwidth: 0.50 Hz (-12 dB cutoff frequency: 10.25 Hz)\n",
      "- Filter length: 5000 samples (10.000 s)\n",
      "\n"
     ]
    },
    {
     "name": "stderr",
     "output_type": "stream",
     "text": [
      "[Parallel(n_jobs=1)]: Done  17 tasks      | elapsed:    0.4s\n"
     ]
    },
    {
     "name": "stdout",
     "output_type": "stream",
     "text": [
      "... filtering target\n",
      "Setting up band-pass filter from 1 - 10 Hz\n",
      "\n",
      "FIR filter parameters\n",
      "---------------------\n",
      "Designing a two-pass forward and reverse, zero-phase, non-causal bandpass filter:\n",
      "- Windowed frequency-domain design (firwin2) method\n",
      "- Hann window\n",
      "- Lower passband edge: 1.00\n",
      "- Lower transition bandwidth: 0.50 Hz (-12 dB cutoff frequency: 0.75 Hz)\n",
      "- Upper passband edge: 10.00 Hz\n",
      "- Upper transition bandwidth: 0.50 Hz (-12 dB cutoff frequency: 10.25 Hz)\n",
      "- Filter length: 5000 samples (10.000 s)\n",
      "\n"
     ]
    },
    {
     "name": "stderr",
     "output_type": "stream",
     "text": [
      "[Parallel(n_jobs=1)]: Done  50 out of  50 | elapsed:    1.2s finished\n",
      "[Parallel(n_jobs=1)]: Done   1 out of   1 | elapsed:    0.0s finished\n"
     ]
    },
    {
     "name": "stdout",
     "output_type": "stream",
     "text": [
      "Using threshold: 0.23 for CTPS ECG detection\n",
      "Using channel ECG to identify heart beats.\n",
      "Setting up band-pass filter from 8 - 16 Hz\n",
      "\n",
      "FIR filter parameters\n",
      "---------------------\n",
      "Designing a two-pass forward and reverse, zero-phase, non-causal bandpass filter:\n",
      "- Windowed frequency-domain design (firwin2) method\n",
      "- Hann window\n",
      "- Lower passband edge: 8.00\n",
      "- Lower transition bandwidth: 0.50 Hz (-12 dB cutoff frequency: 7.75 Hz)\n",
      "- Upper passband edge: 16.00 Hz\n",
      "- Upper transition bandwidth: 0.50 Hz (-12 dB cutoff frequency: 16.25 Hz)\n",
      "- Filter length: 5000 samples (10.000 s)\n",
      "\n",
      "Number of ECG events detected : 4846 (average pulse 75.91169221772005 / min.)\n",
      "Not setting metadata\n",
      "4846 matching events found\n",
      "No baseline correction applied\n",
      "Using data from preloaded Raw for 4846 events and 501 original time points ...\n",
      "1 bad epochs dropped\n",
      "Applying ICA to Raw instance\n",
      "    Transforming to ICA space (50 components)\n",
      "    Zeroing out 4 ICA components\n",
      "    Projecting back using 62 PCA components\n"
     ]
    },
    {
     "name": "stderr",
     "output_type": "stream",
     "text": [
      "/Users/hyijie/Desktop/Lab/CPP_Multiverse_stage2/.venv/lib/python3.13/site-packages/mne/preprocessing/ica.py:2401: RuntimeWarning: divide by zero encountered in matmul\n",
      "  mixing = pca_components.T @ mixing\n",
      "/Users/hyijie/Desktop/Lab/CPP_Multiverse_stage2/.venv/lib/python3.13/site-packages/mne/preprocessing/ica.py:2401: RuntimeWarning: overflow encountered in matmul\n",
      "  mixing = pca_components.T @ mixing\n",
      "/Users/hyijie/Desktop/Lab/CPP_Multiverse_stage2/.venv/lib/python3.13/site-packages/mne/preprocessing/ica.py:2401: RuntimeWarning: invalid value encountered in matmul\n",
      "  mixing = pca_components.T @ mixing\n"
     ]
    },
    {
     "name": "stdout",
     "output_type": "stream",
     "text": [
      "Writing '../data/preprocessData/participants.tsv'...\n",
      "Writing '../data/preprocessData/participants.json'...\n",
      "The provided raw data contains annotations, but you did not pass an \"event_id\" mapping from annotation descriptions to event codes. We will generate arbitrary event codes. To specify custom event codes, please pass \"event_id\".\n",
      "Used Annotations descriptions: [np.str_('Comment/actiCAP not connected'), np.str_('New Segment/'), np.str_('Stimulus/S  1'), np.str_('Stimulus/S  2'), np.str_('Stimulus/S  6'), np.str_('Stimulus/S  8'), np.str_('Stimulus/S 16'), np.str_('Stimulus/S 17'), np.str_('Stimulus/S 20'), np.str_('Stimulus/S 24'), np.str_('Stimulus/S 64'), np.str_('Stimulus/S 72'), np.str_('Stimulus/S 96'), np.str_('Stimulus/S128'), np.str_('Stimulus/S130'), np.str_('Stimulus/S255')]\n",
      "Writing '../data/preprocessData/sub-STSWD1118/eeg/sub-STSWD1118_task-MAAT_events.tsv'...\n",
      "Writing '../data/preprocessData/sub-STSWD1118/eeg/sub-STSWD1118_task-MAAT_events.json'...\n",
      "Writing '../data/preprocessData/dataset_description.json'...\n",
      "Writing '../data/preprocessData/sub-STSWD1118/eeg/sub-STSWD1118_task-MAAT_eeg.json'...\n",
      "Writing '../data/preprocessData/sub-STSWD1118/eeg/sub-STSWD1118_task-MAAT_channels.tsv'...\n",
      "Copying data files to sub-STSWD1118_task-MAAT_eeg.vhdr\n"
     ]
    },
    {
     "name": "stderr",
     "output_type": "stream",
     "text": [
      "/var/folders/xc/16fqwx1n1gbfb77yd1bdg8mh0000gn/T/ipykernel_79878/3415862983.py:36: RuntimeWarning: Converting data files to BrainVision format\n",
      "  write_raw_bids(\n",
      "/var/folders/xc/16fqwx1n1gbfb77yd1bdg8mh0000gn/T/ipykernel_79878/3415862983.py:36: RuntimeWarning: Encountered data in \"short\" format. Converting to float32.\n",
      "  write_raw_bids(\n"
     ]
    },
    {
     "name": "stdout",
     "output_type": "stream",
     "text": [
      "Writing '../data/preprocessData/sub-STSWD1118/sub-STSWD1118_scans.tsv'...\n",
      "Wrote ../data/preprocessData/sub-STSWD1118/sub-STSWD1118_scans.tsv entry with eeg/sub-STSWD1118_task-MAAT_eeg.vhdr.\n"
     ]
    }
   ],
   "source": [
    "# preprocess EEG data\n",
    "sub_dir=[f'sub-STSWD{i}' for i in range(1117,1119)]\n",
    "for sub in sub_dir:\n",
    "    raw=mne.io.read_raw_brainvision(os.path.join(ds_root,sub,'eeg',sub+BIDS_fn_label[0]+BIDS_fn_label[1]+'.vhdr'))\n",
    "       \n",
    "    raw.set_channel_types({'ECG':'ecg',\n",
    "                           'HEOGL': 'eog',  \n",
    "                           'HEOGR': 'eog'})\n",
    "    \n",
    "    # resample\n",
    "    raw.resample(500, npad=\"auto\")\n",
    "    # filter\n",
    "    raw.filter(1, 30, fir_design='firwin', picks=['eeg'])  \n",
    "\n",
    "    # re-reference\n",
    "    raw.set_eeg_reference('average')\n",
    "\n",
    "    # ica remove artifact\n",
    "    ica = mne.preprocessing.ICA(n_components=50, random_state=97)\n",
    "    ica.fit(raw) \n",
    "    ica.exclude = []                                   \n",
    "    eog_indices, eog_scores = ica.find_bads_eog(raw)                                                         \n",
    "    ecg_indices, ecg_scores = ica.find_bads_ecg(raw, method='ctps')               \n",
    "    ica.exclude = eog_indices + ecg_indices \n",
    "    ica.apply(raw) \n",
    "\n",
    "    # save data as bids\n",
    "    bids_root = dir_preprocess\n",
    "    bids_path = BIDSPath(\n",
    "        subject=sub.replace('sub-',''),  # BIDS can not identify '-'\n",
    "        task='MAAT',  #  Multi-Attribute Attention Task \n",
    "        datatype='eeg',\n",
    "        root=bids_root\n",
    "    )\n",
    "\n",
    "    # 保存到 BIDS 格式\n",
    "    write_raw_bids(\n",
    "        raw=raw,\n",
    "        bids_path=bids_path,\n",
    "        overwrite=True,\n",
    "        allow_preload=True,\n",
    "        format='BrainVision'  # 保持 BrainVision 格式（.vhdr/.vmrk/.eeg）\n",
    "    )"
   ]
  }
 ],
 "metadata": {
  "kernelspec": {
   "display_name": ".venv",
   "language": "python",
   "name": "python3"
  },
  "language_info": {
   "codemirror_mode": {
    "name": "ipython",
    "version": 3
   },
   "file_extension": ".py",
   "mimetype": "text/x-python",
   "name": "python",
   "nbconvert_exporter": "python",
   "pygments_lexer": "ipython3",
   "version": "3.13.3"
  }
 },
 "nbformat": 4,
 "nbformat_minor": 5
}
