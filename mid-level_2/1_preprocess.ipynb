{
 "cells": [
  {
   "cell_type": "code",
   "execution_count": null,
   "id": "e5710ada",
   "metadata": {},
   "outputs": [],
   "source": [
    "import sys\n",
    "import os\n",
    "import re\n",
    "import numpy as np\n",
    "import pandas as pd\n",
    "import scipy\n",
    "\n",
    "import mne\n",
    "\n",
    "from extract_scalar import *"
   ]
  },
  {
   "cell_type": "code",
   "execution_count": null,
   "id": "008d71ca",
   "metadata": {},
   "outputs": [],
   "source": [
    "# set different path to load and save data\n",
    "ds_root='/volumes/hyijie_psy/CPP/data_mid-level_2/data_raw'\n",
    "tgt_dir='..'\n",
    "\n",
    "dir_preprocess_raw_mem=os.path.join(tgt_dir,'data','preprocessData','raw','mem')\n",
    "if not os.path.exists(dir_preprocess_raw_mem):\n",
    "    os.makedirs(dir_preprocess_raw_mem)\n",
    "\n",
    "dir_preprocess_raw_perc=os.path.join(tgt_dir,'data','preprocessData','raw','perc')\n",
    "if not os.path.exists(dir_preprocess_raw_perc):\n",
    "    os.makedirs(dir_preprocess_raw_perc)\n",
    "\n",
    "result_dir_joint_modeling_mem=os.path.join(tgt_dir,'results','joint-modeling_mem')\n",
    "if not os.path.exists(result_dir_joint_modeling_mem):\n",
    "    os.makedirs(result_dir_joint_modeling_mem)\n",
    "\n",
    "result_dir_joint_modeling_perc=os.path.join(tgt_dir,'results','joint-modeling_perc')\n",
    "if not os.path.exists(result_dir_joint_modeling_perc):\n",
    "    os.makedirs(result_dir_joint_modeling_perc)\n"
   ]
  },
  {
   "cell_type": "code",
   "execution_count": null,
   "id": "e28be9aa",
   "metadata": {},
   "outputs": [],
   "source": [
    "sampleRate = 500\n",
    "\n",
    "# memory data\n",
    "sub_dir = [f'ACC{i:03}' for i in range(14,37) ]\n",
    "for sub in sub_dir:\n",
    "    raw = scipy.io.loadmat(os.path.join(ds_root,sub,sub+'.mat'))\n",
    "    raw_stimuluLock = raw['trialdata'][0]['trial'][0]\n",
    "\n",
    "    behavior = scipy.io.loadmat(os.path.join(ds_root, sub ,'events.mat'))['events'][['mode', 'type', 'rt']]\n",
    "    behavior_df = pd.DataFrame({\n",
    "        'mode': [extract_scalar(x) for x in behavior['mode'][0]], \n",
    "        'type': [extract_scalar(x) for x in behavior['type'][0]],  \n",
    "        'rt': [extract_scalar(x) for x in behavior['rt'][0]]       \n",
    "    })\n",
    "\n",
    "    response_df = behavior_df[behavior_df['type'] == 'resp']\n",
    "    response_df = response_df.reset_index(drop=True)\n",
    "    response4mem = response_df[response_df['mode'] == 'mem']['rt']\n",
    "\n",
    "    data_responseLock_mem = np.empty((1,len(response4mem)), dtype=object) #保存为（1，试次数）\n",
    "\n",
    "    for i, (index, rt_value) in enumerate(response4mem.items()):\n",
    "        data_epoch = raw_stimuluLock[0,index][:, (-int(1.3*sampleRate)) :(-int(0.1*sampleRate-1))] #减1是左闭右闭\n",
    "        data_responseLock_mem[0,i] = data_epoch\n",
    "\n",
    "    # save eeg data\n",
    "    data_responseLock_mem_save={\n",
    "        \"data_responseLock_mem\":data_responseLock_mem\n",
    "    }\n",
    "    save_path=os.path.join(dir_preprocess_raw_mem,'responseLock_'+sub+'mem.mat')\n",
    "    scipy.io.savemat(save_path, data_responseLock_mem_save)           "
   ]
  },
  {
   "cell_type": "code",
   "execution_count": null,
   "id": "c0d24dae",
   "metadata": {},
   "outputs": [],
   "source": [
    "sampleRate = 500\n",
    "# perception data\n",
    "sub_dir = [f'ACC{i:03}' for i in range(14,37) ]\n",
    "for sub in sub_dir:\n",
    "    raw = scipy.io.loadmat(os.path.join(ds_root,sub,sub+'.mat'))\n",
    "    raw_stimuluLock = raw['trialdata'][0]['trial'][0]\n",
    "\n",
    "    behavior = scipy.io.loadmat(os.path.join(ds_root, sub ,'events.mat'))['events'][['mode', 'type', 'rt']]\n",
    "    behavior_df = pd.DataFrame({\n",
    "        'mode': [extract_scalar(x) for x in behavior['mode'][0]], \n",
    "        'type': [extract_scalar(x) for x in behavior['type'][0]],  \n",
    "        'rt': [extract_scalar(x) for x in behavior['rt'][0]]       \n",
    "    })\n",
    "\n",
    "    response_df = behavior_df[behavior_df['type'] == 'resp']\n",
    "    response_df = response_df.reset_index(drop=True)\n",
    "    response4perc = response_df[response_df['mode'] == 'perc']['rt']\n",
    "\n",
    "    data_responseLock_perc = np.empty((1,len(response4perc)), dtype=object) #保存为（1，试次数）\n",
    "\n",
    "    for i, (index, rt_value) in enumerate(response4perc.items()):\n",
    "        data_epoch = raw_stimuluLock[0,index][:, (-int(1.3*sampleRate)) :(-int(0.1*sampleRate-1))] #减1是左闭右闭\n",
    "        data_responseLock_perc[0,i] = data_epoch\n",
    "\n",
    "    # save eeg data\n",
    "    data_responseLock_perc_save={\n",
    "        \"data_responseLock_perc\":data_responseLock_perc\n",
    "    }\n",
    "    save_path=os.path.join(dir_preprocess_raw_perc,'responseLock_'+sub+'perc.mat')\n",
    "    scipy.io.savemat(save_path, data_responseLock_perc)     "
   ]
  },
  {
   "cell_type": "code",
   "execution_count": null,
   "id": "4d14931b",
   "metadata": {},
   "outputs": [],
   "source": []
  }
 ],
 "metadata": {
  "kernelspec": {
   "display_name": ".venv",
   "language": "python",
   "name": "python3"
  },
  "language_info": {
   "codemirror_mode": {
    "name": "ipython",
    "version": 3
   },
   "file_extension": ".py",
   "mimetype": "text/x-python",
   "name": "python",
   "nbconvert_exporter": "python",
   "pygments_lexer": "ipython3",
   "version": "3.13.3"
  }
 },
 "nbformat": 4,
 "nbformat_minor": 5
}
